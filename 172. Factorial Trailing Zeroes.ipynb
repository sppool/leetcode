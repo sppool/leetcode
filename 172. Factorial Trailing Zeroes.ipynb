{
 "cells": [
  {
   "cell_type": "markdown",
   "metadata": {},
   "source": [
    "### Factorial Trailing Zeroes"
   ]
  },
  {
   "cell_type": "raw",
   "metadata": {},
   "source": [
    "Given an integer n, return the number of trailing zeroes in n!.\n",
    "Example 1: # 階層數字 0 的數目!!\n",
    "Input: 3\n",
    "Output: 0\n",
    "Explanation: 3! = 6, no trailing zero.\n",
    "Example 2:\n",
    "Input: 5\n",
    "Output: 1\n",
    "Explanation: 5! = 120, one trailing zero.\n",
    "\n",
    "Note: Your solution should be in logarithmic time complexity."
   ]
  },
  {
   "cell_type": "code",
   "execution_count": 1,
   "metadata": {},
   "outputs": [],
   "source": [
    "class Solution:\n",
    "    def trailingZeroes(self, n): # 92.93%\n",
    "        \"\"\"\n",
    "        :type n: int\n",
    "        :rtype: int\n",
    "        \"\"\"\n",
    "        count = 0 # 計數 !!\n",
    "        ind = 1\n",
    "        while True:\n",
    "            if n // 10**ind: # 通過一個 10 (+1) 通過一個 100 (+1)(+1) 同時通過了 10...\n",
    "                count += n // 10**ind\n",
    "                ind += 1\n",
    "            else:\n",
    "                break\n",
    "        ind = 1\n",
    "        while True:\n",
    "            if n // 5**ind: # 通過一個 5 (+1) 通過一個 25 (+1)(+1) 同時通過了 5...\n",
    "                count += n // 5**ind\n",
    "                count-= n // 5**ind //2**ind # 通過 2次 5 同時通過 1次 10, 通過 2^2次 25 同時通過過 1次100...\n",
    "                ind += 1\n",
    "            else:\n",
    "                break\n",
    "        return count\n",
    "    \n",
    "###########################################################\n",
    "\n",
    "    def trailingZeroes2(self, n): # OverTime\n",
    "        out = 1\n",
    "        while n > 1:\n",
    "            out *= n\n",
    "            n -= 1\n",
    "        n_0 = 0\n",
    "        while out % (10**n_0) == 0:\n",
    "            n_0 += 1\n",
    "        return n_0-1\n",
    "        "
   ]
  },
  {
   "cell_type": "code",
   "execution_count": 2,
   "metadata": {},
   "outputs": [
    {
     "data": {
      "text/plain": [
       "7"
      ]
     },
     "execution_count": 2,
     "metadata": {},
     "output_type": "execute_result"
    }
   ],
   "source": [
    "n = 30\n",
    "ans = Solution()\n",
    "ans.trailingZeroes(n)"
   ]
  }
 ],
 "metadata": {
  "kernelspec": {
   "display_name": "Python 3",
   "language": "python",
   "name": "python3"
  },
  "language_info": {
   "codemirror_mode": {
    "name": "ipython",
    "version": 3
   },
   "file_extension": ".py",
   "mimetype": "text/x-python",
   "name": "python",
   "nbconvert_exporter": "python",
   "pygments_lexer": "ipython3",
   "version": "3.7.3"
  }
 },
 "nbformat": 4,
 "nbformat_minor": 2
}
