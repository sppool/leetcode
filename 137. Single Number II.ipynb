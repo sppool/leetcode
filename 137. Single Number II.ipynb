{
 "cells": [
  {
   "cell_type": "markdown",
   "metadata": {},
   "source": [
    "### Single Number II"
   ]
  },
  {
   "cell_type": "raw",
   "metadata": {},
   "source": [
    "Given a non-empty array of integers, every element appears three times except for one, which appears exactly once.\n",
    "Find that single one.\n",
    "Note: Your algorithm should have a linear runtime complexity. Could you implement it without using extra memory?\n",
    "\n",
    "Example 1: # 只有一個數是單獨的, 其他都是三個, 找出單獨的數\n",
    "Input: [2,2,3,2]\n",
    "Output: 3\n",
    "\n",
    "Example 2:\n",
    "Input: [0,1,0,1,0,1,99]\n",
    "Output: 99"
   ]
  },
  {
   "cell_type": "code",
   "execution_count": 1,
   "metadata": {},
   "outputs": [],
   "source": [
    "class Solution:\n",
    "    def singleNumber(self, nums): # 88.89%  字典法 同 (136. Single Number I)\n",
    "        \"\"\"\n",
    "        :type nums: List[int]\n",
    "        :rtype: int\n",
    "        \"\"\"\n",
    "        dic = {} # key:num, val:出現次數  字典法\n",
    "        for num in nums:\n",
    "            if num in dic:\n",
    "                dic[num] += 1\n",
    "            else:\n",
    "                dic[num] = 1\n",
    "        for num, n in dic.items(): # n: 出現次數\n",
    "            if n == 1:\n",
    "                return num        "
   ]
  },
  {
   "cell_type": "code",
   "execution_count": 2,
   "metadata": {},
   "outputs": [
    {
     "data": {
      "text/plain": [
       "99"
      ]
     },
     "execution_count": 2,
     "metadata": {},
     "output_type": "execute_result"
    }
   ],
   "source": [
    "nums = [0,1,0,1,0,1,99]\n",
    "ans = Solution()\n",
    "ans.singleNumber(nums)"
   ]
  }
 ],
 "metadata": {
  "kernelspec": {
   "display_name": "Python 3",
   "language": "python",
   "name": "python3"
  },
  "language_info": {
   "codemirror_mode": {
    "name": "ipython",
    "version": 3
   },
   "file_extension": ".py",
   "mimetype": "text/x-python",
   "name": "python",
   "nbconvert_exporter": "python",
   "pygments_lexer": "ipython3",
   "version": "3.7.3"
  }
 },
 "nbformat": 4,
 "nbformat_minor": 2
}
