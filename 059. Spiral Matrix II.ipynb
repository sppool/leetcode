{
 "cells": [
  {
   "cell_type": "markdown",
   "metadata": {},
   "source": [
    "### Spiral Matrix II"
   ]
  },
  {
   "cell_type": "raw",
   "metadata": {},
   "source": [
    "Given a positive integer n, generate a square matrix filled with elements from 1 to n2 in spiral order.\n",
    "\n",
    "Example:\n",
    "Input: 3\n",
    "Output:\n",
    "[[ 1, 2, 3 ],\n",
    " [ 8, 9, 4 ],\n",
    " [ 7, 6, 5 ]]"
   ]
  },
  {
   "cell_type": "code",
   "execution_count": 1,
   "metadata": {},
   "outputs": [],
   "source": [
    "class Solution:\n",
    "    def generateMatrix(self, n):\n",
    "        \"\"\"\n",
    "        :type n: int\n",
    "        :rtype: List[List[int]]\n",
    "        \"\"\"\n",
    "        matrix = [0] * n # 創建 zero matrix -> shape:(n, n)\n",
    "        for i in range(n):\n",
    "            matrix[i] = [0] * n\n",
    "        num = 1 # 要放的數字 初始化\n",
    "        l = 0 # col左極限\n",
    "        u = 1 # row上極限\n",
    "        r = d = n-1 # col右極限, row下極限\n",
    "        i = j = 0 #初始 axis index\n",
    "        while not (i == n//2 and j == (n - 1)//2): # 設定最終點(用推的)\n",
    "            while j < r:\n",
    "                matrix[i][j] = num\n",
    "                num += 1\n",
    "                j += 1\n",
    "            r -= 1\n",
    "            while i < d:\n",
    "                matrix[i][j] = num\n",
    "                num += 1\n",
    "                i += 1\n",
    "            d -= 1\n",
    "            while j > l:\n",
    "                matrix[i][j] = num\n",
    "                num += 1\n",
    "                j -= 1\n",
    "            l += 1\n",
    "            while i > u:\n",
    "                matrix[i][j] = num\n",
    "                num += 1\n",
    "                i -= 1\n",
    "            u += 1\n",
    "        matrix [n//2][(n - 1)//2] = num\n",
    "        \n",
    "        return matrix"
   ]
  },
  {
   "cell_type": "code",
   "execution_count": 2,
   "metadata": {},
   "outputs": [
    {
     "data": {
      "text/plain": [
       "[[1, 2, 3, 4, 5, 6, 7, 8, 9],\n",
       " [32, 33, 34, 35, 36, 37, 38, 39, 10],\n",
       " [31, 56, 57, 58, 59, 60, 61, 40, 11],\n",
       " [30, 55, 72, 73, 74, 75, 62, 41, 12],\n",
       " [29, 54, 71, 80, 81, 76, 63, 42, 13],\n",
       " [28, 53, 70, 79, 78, 77, 64, 43, 14],\n",
       " [27, 52, 69, 68, 67, 66, 65, 44, 15],\n",
       " [26, 51, 50, 49, 48, 47, 46, 45, 16],\n",
       " [25, 24, 23, 22, 21, 20, 19, 18, 17]]"
      ]
     },
     "execution_count": 2,
     "metadata": {},
     "output_type": "execute_result"
    }
   ],
   "source": [
    "n = 9\n",
    "ans = Solution()\n",
    "ans.generateMatrix(n)"
   ]
  }
 ],
 "metadata": {
  "kernelspec": {
   "display_name": "Python 3",
   "language": "python",
   "name": "python3"
  },
  "language_info": {
   "codemirror_mode": {
    "name": "ipython",
    "version": 3
   },
   "file_extension": ".py",
   "mimetype": "text/x-python",
   "name": "python",
   "nbconvert_exporter": "python",
   "pygments_lexer": "ipython3",
   "version": "3.7.3"
  }
 },
 "nbformat": 4,
 "nbformat_minor": 2
}
