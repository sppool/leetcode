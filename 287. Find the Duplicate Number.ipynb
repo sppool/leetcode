{
 "cells": [
  {
   "cell_type": "markdown",
   "metadata": {},
   "source": [
    "### Find the Duplicate Number"
   ]
  },
  {
   "cell_type": "raw",
   "metadata": {},
   "source": [
    "Given an array nums containing n + 1 integers where each integer is between 1 and n (inclusive), prove that at least one duplicate number must exist. Assume that there is only one duplicate number, find the duplicate one.\n",
    "Example 1:\n",
    "Input: [1,3,4,2,2]\n",
    "Output: 2\n",
    "Example 2:\n",
    "Input: [3,1,3,4,2]\n",
    "Output: 3\n",
    "\n",
    "Note:\n",
    "1. You must not modify the array (assume the array is read only).\n",
    "2. You must use only constant, O(1) extra space.\n",
    "3. Your runtime complexity should be less than O(n2).\n",
    "4. There is only one duplicate number in the array, but it could be repeated more than once."
   ]
  },
  {
   "cell_type": "code",
   "execution_count": 1,
   "metadata": {},
   "outputs": [],
   "source": [
    "class Solution:\n",
    "    def findDuplicate(self, nums): # 28.57%\n",
    "        \"\"\"\n",
    "        :type nums: List[int]\n",
    "        :rtype: int\n",
    "        \"\"\"\n",
    "        s = set()\n",
    "        for num in nums:\n",
    "            if num not in s:\n",
    "                s.add(num)\n",
    "            else:\n",
    "                return num"
   ]
  },
  {
   "cell_type": "code",
   "execution_count": 2,
   "metadata": {},
   "outputs": [
    {
     "data": {
      "text/plain": [
       "3"
      ]
     },
     "execution_count": 2,
     "metadata": {},
     "output_type": "execute_result"
    }
   ],
   "source": [
    "nums = [3,1,3,4,2]\n",
    "ans = Solution()\n",
    "ans.findDuplicate(nums)"
   ]
  }
 ],
 "metadata": {
  "kernelspec": {
   "display_name": "Python 3",
   "language": "python",
   "name": "python3"
  },
  "language_info": {
   "codemirror_mode": {
    "name": "ipython",
    "version": 3
   },
   "file_extension": ".py",
   "mimetype": "text/x-python",
   "name": "python",
   "nbconvert_exporter": "python",
   "pygments_lexer": "ipython3",
   "version": "3.7.3"
  }
 },
 "nbformat": 4,
 "nbformat_minor": 2
}
