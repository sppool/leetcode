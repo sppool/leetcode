{
 "cells": [
  {
   "cell_type": "markdown",
   "metadata": {},
   "source": [
    "### Two Sum II - Input array is sorted"
   ]
  },
  {
   "cell_type": "raw",
   "metadata": {},
   "source": [
    "Given an array of integers that is already sorted in ascending order, \n",
    "find two numbers such that they add up to a specific target number.\n",
    "The function twoSum should return indices of the two numbers such that they add up to the target, \n",
    "where index1 must be less than index2.\n",
    "Note:\n",
    "1. Your returned answers (both index1 and index2) are not zero-based.\n",
    "2. You may assume that each input would have exactly one solution and you may not use the same element twice.\n",
    "\n",
    "Example:\n",
    "Input: numbers = [2,7,11,15], target = 9 # numbers 有序沒有重複正整數!!\n",
    "Output: [1,2]\n",
    "Explanation: The sum of 2 and 7 is 9. Therefore index1 = 1, index2 = 2."
   ]
  },
  {
   "cell_type": "code",
   "execution_count": 1,
   "metadata": {},
   "outputs": [],
   "source": [
    "class Solution:\n",
    "    def twoSum(self, numbers, target):\n",
    "        \"\"\"\n",
    "        :type numbers: List[int]\n",
    "        :type target: int\n",
    "        :rtype: List[int]\n",
    "        \"\"\"\n",
    "        i, j = 0, len(numbers)-1\n",
    "        sum_ = numbers[i] + numbers[j]\n",
    "        while sum_ != target:\n",
    "            if sum_ < target:\n",
    "                i += 1\n",
    "            elif sum_ > target:\n",
    "                j -= 1\n",
    "            sum_ = numbers[i] + numbers[j]\n",
    "        return [i+1, j+1]"
   ]
  },
  {
   "cell_type": "code",
   "execution_count": 2,
   "metadata": {},
   "outputs": [
    {
     "data": {
      "text/plain": [
       "[1, 2]"
      ]
     },
     "execution_count": 2,
     "metadata": {},
     "output_type": "execute_result"
    }
   ],
   "source": [
    "numbers = [2,7,11,15]\n",
    "target = 9\n",
    "ans = Solution()\n",
    "ans.twoSum(numbers, target)"
   ]
  }
 ],
 "metadata": {
  "kernelspec": {
   "display_name": "Python 3",
   "language": "python",
   "name": "python3"
  },
  "language_info": {
   "codemirror_mode": {
    "name": "ipython",
    "version": 3
   },
   "file_extension": ".py",
   "mimetype": "text/x-python",
   "name": "python",
   "nbconvert_exporter": "python",
   "pygments_lexer": "ipython3",
   "version": "3.7.3"
  }
 },
 "nbformat": 4,
 "nbformat_minor": 2
}
