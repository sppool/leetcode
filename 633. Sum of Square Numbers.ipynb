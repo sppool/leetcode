{
 "cells": [
  {
   "cell_type": "markdown",
   "metadata": {},
   "source": [
    "### Sum of Square Numbers"
   ]
  },
  {
   "cell_type": "raw",
   "metadata": {},
   "source": [
    "Given a non-negative integer c, your task is to decide whether there're two integers a and b such that a^2 + b^2 = c.\n",
    "Example 1:\n",
    "Input: 5\n",
    "Output: True\n",
    "Explanation: 1 * 1 + 2 * 2 = 5\n",
    "Example 2:\n",
    "Input: 3\n",
    "Output: False"
   ]
  },
  {
   "cell_type": "code",
   "execution_count": 1,
   "metadata": {},
   "outputs": [],
   "source": [
    "import math\n",
    "\n",
    "class Solution(object):\n",
    "    def judgeSquareSum(self, c): # 64.26%\n",
    "        \"\"\"\n",
    "        :type c: int\n",
    "        :rtype: bool\n",
    "        \"\"\"\n",
    "        if c < 0:\n",
    "            return False\n",
    "        max_val = math.floor(math.sqrt(c))\n",
    "        for num in range(max_val, -1, -1):\n",
    "            test = math.sqrt(c - num**2)\n",
    "            if test == math.floor(test):\n",
    "                return True\n",
    "        return False"
   ]
  },
  {
   "cell_type": "code",
   "execution_count": 2,
   "metadata": {},
   "outputs": [
    {
     "data": {
      "text/plain": [
       "True"
      ]
     },
     "execution_count": 2,
     "metadata": {},
     "output_type": "execute_result"
    }
   ],
   "source": [
    "c = 1000000000\n",
    "ans = Solution()\n",
    "ans.judgeSquareSum(c)"
   ]
  },
  {
   "cell_type": "code",
   "execution_count": 3,
   "metadata": {},
   "outputs": [
    {
     "name": "stdout",
     "output_type": "stream",
     "text": [
      "10.9 µs ± 178 ns per loop (mean ± std. dev. of 7 runs, 100000 loops each)\n"
     ]
    }
   ],
   "source": [
    "%%timeit\n",
    "ans.judgeSquareSum(c)"
   ]
  },
  {
   "cell_type": "code",
   "execution_count": 4,
   "metadata": {},
   "outputs": [
    {
     "name": "stdout",
     "output_type": "stream",
     "text": [
      "16.1 µs ± 377 ns per loop (mean ± std. dev. of 7 runs, 100000 loops each)\n"
     ]
    }
   ],
   "source": [
    "%%timeit\n",
    "ans.judgeSquareSum2(c)"
   ]
  },
  {
   "cell_type": "raw",
   "metadata": {},
   "source": [
    "    def judgeSquareSum2(self, c): # 26.54%\n",
    "        max_val = int(math.sqrt(c))\n",
    "        for i in range(max_val, -1, -1):\n",
    "            if self.is_pow(c - i**2):\n",
    "                return True\n",
    "            else: pass\n",
    "        return False\n",
    "    \n",
    "    def is_pow(self, num):\n",
    "        if (math.sqrt(num)) - ((math.sqrt(num))//1) == 0:\n",
    "            return True\n",
    "        else: return False\n",
    "    \n",
    "############################################################### Over Time ###############################################################\n",
    "\n",
    "    def judgeSquareSum3(self, c):\n",
    "        max_val = int(c**0.5)\n",
    "        lst = [n for n in range(max_val+1)]\n",
    "        for a in lst:\n",
    "            for b in lst:\n",
    "                if a**2 + b**2 == c:\n",
    "                    return True\n",
    "                else: continue\n",
    "        return False"
   ]
  }
 ],
 "metadata": {
  "kernelspec": {
   "display_name": "Python 3",
   "language": "python",
   "name": "python3"
  },
  "language_info": {
   "codemirror_mode": {
    "name": "ipython",
    "version": 3
   },
   "file_extension": ".py",
   "mimetype": "text/x-python",
   "name": "python",
   "nbconvert_exporter": "python",
   "pygments_lexer": "ipython3",
   "version": "3.7.3"
  }
 },
 "nbformat": 4,
 "nbformat_minor": 2
}
