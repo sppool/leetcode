{
 "cells": [
  {
   "cell_type": "markdown",
   "metadata": {},
   "source": [
    "### Best Time to Buy and Sell Stock III"
   ]
  },
  {
   "cell_type": "raw",
   "metadata": {},
   "source": [
    "Say you have an array for which the ith element is the price of a given stock on day i.\n",
    "Design an algorithm to find the maximum profit. You may complete at most two transactions.\n",
    "Note: You may not engage in multiple transactions at the same time (i.e., you must sell the stock before you buy again).\n",
    "\n",
    "Example 1: # 只能兩次交易 找到最大利潤~\n",
    "Input: [3,3,5,0,0,3,1,4]\n",
    "Output: 6\n",
    "Explanation: Buy on day 4 (price = 0) and sell on day 6 (price = 3), profit = 3-0 = 3.\n",
    "             Then buy on day 7 (price = 1) and sell on day 8 (price = 4), profit = 4-1 = 3.\n",
    "Example 2:\n",
    "Input: [1,2,3,4,5]\n",
    "Output: 4\n",
    "Explanation: Buy on day 1 (price = 1) and sell on day 5 (price = 5), profit = 5-1 = 4.\n",
    "             Note that you cannot buy on day 1, buy on day 2 and sell them later, as you are\n",
    "             engaging multiple transactions at the same time. You must sell before buying again.\n",
    "Example 3:\n",
    "Input: [7,6,4,3,1]\n",
    "Output: 0\n",
    "Explanation: In this case, no transaction is done, i.e. max profit = 0."
   ]
  },
  {
   "cell_type": "code",
   "execution_count": 1,
   "metadata": {},
   "outputs": [],
   "source": [
    "class Solution:\n",
    "    def maxProfit(self, prices):\n",
    "        \"\"\"\n",
    "        :type prices: List[int]\n",
    "        :rtype: int\n",
    "        \"\"\"\n",
    "        if prices == []: # 沒資料的狀況\n",
    "            return 0\n",
    "        up = 0\n",
    "        down = 0\n",
    "        profit_lst = []\n",
    "\n",
    "        for i in range(1, len(prices)):\n",
    "            if prices[i] > prices[i-1]:\n",
    "                up += (prices[i]-prices[i-1])\n",
    "                if down != 0:\n",
    "                    profit_lst.append(down)\n",
    "                    down = 0\n",
    "            if prices[i] < prices[i-1]:\n",
    "                down += (prices[i]-prices[i-1])\n",
    "                if up != 0:\n",
    "                    profit_lst.append(up)\n",
    "                    up = 0\n",
    "        if up != 0:\n",
    "            profit_lst.append(up)\n",
    "        if down != 0:\n",
    "            profit_lst.append(down)\n",
    "        if profit_lst[0] < 0: # 開頭負值刪除\n",
    "            profit_lst.pop(0)\n",
    "        if len(profit_lst) % 2 == 0: # 數量轉乘奇數\n",
    "            profit_lst.append(-1)\n",
    "        # 波段抓取 (+ - + - .... +) 開頭結尾都是 + 正值  \n",
    "        \n",
    "############################################################\n",
    "\n",
    "        n = len(profit_lst)\n",
    "        if n == 0: # 空 list, 或是只有下跌\n",
    "            return 0\n",
    "        if n == 3: # 三個 抓兩頭正值\n",
    "            return profit_lst[0] + profit_lst[2]\n",
    "        new_lst = []           \n",
    "        \n",
    "        \n",
    "        return profit_lst"
   ]
  },
  {
   "cell_type": "code",
   "execution_count": 2,
   "metadata": {},
   "outputs": [
    {
     "data": {
      "text/plain": [
       "[2, -5, 5, -1, 4]"
      ]
     },
     "execution_count": 2,
     "metadata": {},
     "output_type": "execute_result"
    }
   ],
   "source": [
    "prices = [3,3,5,0,0,3,5,4,8]\n",
    "ans = Solution()\n",
    "ans.maxProfit(prices)"
   ]
  }
 ],
 "metadata": {
  "kernelspec": {
   "display_name": "Python 3",
   "language": "python",
   "name": "python3"
  },
  "language_info": {
   "codemirror_mode": {
    "name": "ipython",
    "version": 3
   },
   "file_extension": ".py",
   "mimetype": "text/x-python",
   "name": "python",
   "nbconvert_exporter": "python",
   "pygments_lexer": "ipython3",
   "version": "3.7.3"
  }
 },
 "nbformat": 4,
 "nbformat_minor": 2
}
