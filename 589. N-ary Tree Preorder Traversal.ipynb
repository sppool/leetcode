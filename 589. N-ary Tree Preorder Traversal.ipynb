{
 "cells": [
  {
   "cell_type": "markdown",
   "metadata": {},
   "source": [
    "### N-ary Tree Preorder Traversal"
   ]
  },
  {
   "cell_type": "raw",
   "metadata": {},
   "source": [
    "Given an n-ary tree, return the preorder traversal of its nodes' values.\n",
    "For example, given a 3-ary tree:\n",
    "Return its preorder traversal as: [1,3,5,6,2,4].\n",
    "Note: Recursive solution is trivial, could you do it iteratively?"
   ]
  },
  {
   "cell_type": "markdown",
   "metadata": {},
   "source": [
    "![Image of Yaktocat](https://assets.leetcode.com/uploads/2018/10/12/narytreeexample.png)"
   ]
  },
  {
   "cell_type": "code",
   "execution_count": 1,
   "metadata": {},
   "outputs": [],
   "source": [
    "class Node:\n",
    "    def __init__(self, val, children=None):\n",
    "        self.val = val\n",
    "        self.children = children # type(children) list(node1, node2...)  \n",
    "        \n",
    "class Solution: # 99.96%\n",
    "    def preorder(self, root):\n",
    "        if not root: return [] # root = None 初始\n",
    "        self.res = []\n",
    "        self.order(root)\n",
    "        return self.res\n",
    "    def order(self, root):\n",
    "        self.res.append(root.val)\n",
    "        if not root.children: return # 沒有小孩\n",
    "        for node in root.children:\n",
    "            self.order(node)"
   ]
  },
  {
   "cell_type": "code",
   "execution_count": 2,
   "metadata": {},
   "outputs": [
    {
     "data": {
      "text/plain": [
       "[1, 3, 5, 6, 2, 4]"
      ]
     },
     "execution_count": 2,
     "metadata": {},
     "output_type": "execute_result"
    }
   ],
   "source": [
    "root = Node(1, [Node(3, [Node(5), Node(6)]), Node(2), Node(4)])\n",
    "ans = Solution()\n",
    "ans.preorder(root)"
   ]
  }
 ],
 "metadata": {
  "kernelspec": {
   "display_name": "Python 3",
   "language": "python",
   "name": "python3"
  },
  "language_info": {
   "codemirror_mode": {
    "name": "ipython",
    "version": 3
   },
   "file_extension": ".py",
   "mimetype": "text/x-python",
   "name": "python",
   "nbconvert_exporter": "python",
   "pygments_lexer": "ipython3",
   "version": "3.7.3"
  }
 },
 "nbformat": 4,
 "nbformat_minor": 2
}
