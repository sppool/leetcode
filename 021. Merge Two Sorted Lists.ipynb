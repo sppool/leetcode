{
 "cells": [
  {
   "cell_type": "markdown",
   "metadata": {},
   "source": [
    "### Merge Two Sorted Lists"
   ]
  },
  {
   "cell_type": "raw",
   "metadata": {},
   "source": [
    "Merge two sorted linked lists and return it as a new list. The new list should be made by splicing together the nodes of the first two lists.\n",
    "Example:\n",
    "Input: 1->2->4, 1->3->4\n",
    "Output: 1->1->2->3->4->4"
   ]
  },
  {
   "cell_type": "code",
   "execution_count": 1,
   "metadata": {},
   "outputs": [],
   "source": [
    "class ListNode: # 條件鏈表\n",
    "    def __init__(self, x):\n",
    "        self.val = x\n",
    "        self.next = None\n",
    "        \n",
    "    def list2node(lst): # 生成鏈表\n",
    "        res = ListNode(lst[0])\n",
    "        var = res\n",
    "        for x in lst[1:]:\n",
    "            var.next = ListNode(x)\n",
    "            var = var.next\n",
    "        return res\n",
    "    def node2list(l): # 顯使鏈表\n",
    "        lst = []\n",
    "        node = l\n",
    "        while node != None:\n",
    "            lst.append(node.val)\n",
    "            node = node.next\n",
    "        return lst\n",
    "\n",
    "class Solution:\n",
    "    def mergeTwoLists(self, l1, l2): # 89.83%\n",
    "        if not l1: # l1 = None\n",
    "            return l2\n",
    "        if not l2: # l2 = Nome\n",
    "            return l1\n",
    "        if l1.val <= l2.val:\n",
    "            l1.next = self.mergeTwoLists(l1.next, l2)\n",
    "            return l1\n",
    "        else:\n",
    "            l2.next = self.mergeTwoLists(l1, l2.next)\n",
    "            return l2\n",
    "        \n",
    "    def mergeTwoLists2(self, l1, l2): # 51.92%\n",
    "        lst = self.node2list(l1) + self.node2list(l2)\n",
    "        if lst == []: # l1 = l2 = emtpy\n",
    "            return l1\n",
    "        lst.sort()\n",
    "        res = ListNode(lst[0])\n",
    "        var = res\n",
    "        for x in lst[1:]:\n",
    "            var.next = ListNode(x)\n",
    "            var = var.next\n",
    "        return res\n",
    "        \n",
    "    def node2list(self, l): # 作弊 提取出來 lst\n",
    "        lst = []\n",
    "        node = l\n",
    "        while node != None:\n",
    "            lst.append(node.val)\n",
    "            node = node.next\n",
    "        return lst"
   ]
  },
  {
   "cell_type": "code",
   "execution_count": 2,
   "metadata": {},
   "outputs": [],
   "source": [
    "l1 = ListNode.list2node([1, 2, 4])\n",
    "l2 = ListNode.list2node([1, 3, 4])"
   ]
  },
  {
   "cell_type": "code",
   "execution_count": 3,
   "metadata": {},
   "outputs": [
    {
     "data": {
      "text/plain": [
       "[1, 1, 2, 3, 4, 4]"
      ]
     },
     "execution_count": 3,
     "metadata": {},
     "output_type": "execute_result"
    }
   ],
   "source": [
    "ans = Solution()\n",
    "node = ans.mergeTwoLists(l1, l2)\n",
    "ListNode.node2list(node)"
   ]
  },
  {
   "cell_type": "code",
   "execution_count": 4,
   "metadata": {},
   "outputs": [
    {
     "name": "stdout",
     "output_type": "stream",
     "text": [
      "53 µs ± 1.88 µs per loop (mean ± std. dev. of 7 runs, 10000 loops each)\n"
     ]
    }
   ],
   "source": [
    "%%timeit\n",
    "l1 = ListNode.list2node([i for i in range(100) if i % 3 == 1])\n",
    "l2 = ListNode.list2node([i for i in range(100) if i % 2 == 1])\n",
    "ans.mergeTwoLists(l1, l2)"
   ]
  },
  {
   "cell_type": "code",
   "execution_count": 5,
   "metadata": {},
   "outputs": [
    {
     "name": "stdout",
     "output_type": "stream",
     "text": [
      "78 µs ± 3.71 µs per loop (mean ± std. dev. of 7 runs, 10000 loops each)\n"
     ]
    }
   ],
   "source": [
    "%%timeit\n",
    "l1 = ListNode.list2node([i for i in range(100) if i % 3 == 1])\n",
    "l2 = ListNode.list2node([i for i in range(100) if i % 2 == 1])\n",
    "ans.mergeTwoLists2(l1, l2)"
   ]
  },
  {
   "cell_type": "code",
   "execution_count": null,
   "metadata": {},
   "outputs": [],
   "source": [
    "hea"
   ]
  },
  {
   "cell_type": "code",
   "execution_count": null,
   "metadata": {},
   "outputs": [],
   "source": []
  }
 ],
 "metadata": {
  "kernelspec": {
   "display_name": "Python 3",
   "language": "python",
   "name": "python3"
  },
  "language_info": {
   "codemirror_mode": {
    "name": "ipython",
    "version": 3
   },
   "file_extension": ".py",
   "mimetype": "text/x-python",
   "name": "python",
   "nbconvert_exporter": "python",
   "pygments_lexer": "ipython3",
   "version": "3.7.3"
  }
 },
 "nbformat": 4,
 "nbformat_minor": 2
}
