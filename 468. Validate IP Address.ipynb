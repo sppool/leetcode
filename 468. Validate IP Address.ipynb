{
 "cells": [
  {
   "cell_type": "markdown",
   "metadata": {},
   "source": [
    "### Validate IP Address"
   ]
  },
  {
   "cell_type": "raw",
   "metadata": {},
   "source": [
    "Write a function to check whether an input string is a valid IPv4 address or IPv6 address or neither.\n",
    "IPv4 addresses are canonically represented in dot-decimal notation, which consists of four decimal numbers, each ranging from 0 to 255, separated by dots (\".\"), e.g.,172.16.254.1;\n",
    "\n",
    "Besides, leading zeros in the IPv4 is invalid. For example, the address 172.16.254.01 is invalid. # 不能0開頭\n",
    "\n",
    "IPv6 addresses are represented as eight groups of four hexadecimal digits, each group representing 16 bits. The groups are separated by colons (\":\"). For example, the address 2001:0db8:85a3:0000:0000:8a2e:0370:7334 is a valid one. Also, we could omit some leading zeros among four hexadecimal digits and some low-case characters in the address to upper-case ones, so 2001:db8:85a3:0:0:8A2E:0370:7334 is also a valid IPv6 address(Omit leading zeros and using upper cases).\n",
    "However, we don't replace a consecutive group of zero value with a single empty group using two consecutive colons (::) to pursue simplicity. For example, 2001:0db8:85a3::8A2E:0370:7334 is an invalid IPv6 address.\n",
    "\n",
    "Besides, extra leading zeros in the IPv6 is also invalid. For example, the address 02001:0db8:85a3:0000:0000:8a2e:0370:7334 is invalid.\n",
    "Note: You may assume there is no extra space or special characters in the input string. # 02001 五碼不可\n",
    "\n",
    "Example 1:\n",
    "Input: \"172.16.254.1\"\n",
    "Output: \"IPv4\"\n",
    "Explanation: This is a valid IPv4 address, return \"IPv4\".\n",
    "\n",
    "Example 2:\n",
    "Input: \"2001:0db8:85a3:0:0:8A2E:0370:7334\"\n",
    "Output: \"IPv6\"\n",
    "Explanation: This is a valid IPv6 address, return \"IPv6\".\n",
    "\n",
    "Example 3:\n",
    "Input: \"256.256.256.256\"\n",
    "Output: \"Neither\"\n",
    "Explanation: This is neither a IPv4 address nor a IPv6 address."
   ]
  },
  {
   "cell_type": "code",
   "execution_count": 1,
   "metadata": {},
   "outputs": [],
   "source": [
    "class Solution: # 85.30%\n",
    "    def validIPAddress(self, IP):\n",
    "        if self.cherk_ip4(IP):\n",
    "            return \"IPv4\"\n",
    "        else: pass\n",
    "        if self.cherk_ip6(IP):\n",
    "            return \"IPv6\"\n",
    "        else: pass\n",
    "        return \"Neither\"\n",
    "    \n",
    "    def cherk_ip4(self, IP):\n",
    "        ip4 = IP.split('.') # 分割字串\n",
    "        if len(ip4) == 4: pass # 字串數目 = 4\n",
    "        else: return False\n",
    "        for ip in ip4:\n",
    "            if ip.isdigit(): # 檢查是否數字\n",
    "                num = int(ip)\n",
    "                if str(num) == ip and 0 <= num <= 255: # 0開頭的的問題 和 數字範圍\n",
    "                    continue\n",
    "                else: return False\n",
    "            else: return False\n",
    "        return True\n",
    "    \n",
    "    def cherk_ip6(self, IP):\n",
    "        ip6 = IP.split(':') # 分割字串\n",
    "        if len(ip6) == 8: pass # 字串數目 = 8\n",
    "        else: return False\n",
    "        for ip in ip6:\n",
    "            if ip.isalnum() and 0 < len(ip) < 5: # 檢查是否數字和字母(空字串可以順便), and 字元數 1 ~ 4  注:(ip.isalnum( ) 可省略)\n",
    "                try: int('0x' + ip, 16) # 檢查是不是16進位  用 try 檢查可以執行16進位(0~9, a~f)\n",
    "                except: return False\n",
    "            else: return False\n",
    "        return True"
   ]
  },
  {
   "cell_type": "code",
   "execution_count": 2,
   "metadata": {},
   "outputs": [
    {
     "data": {
      "text/plain": [
       "'IPv4'"
      ]
     },
     "execution_count": 2,
     "metadata": {},
     "output_type": "execute_result"
    }
   ],
   "source": [
    "IP = \"172.16.254.1\"\n",
    "ans = Solution()\n",
    "ans.validIPAddress(IP)"
   ]
  }
 ],
 "metadata": {
  "kernelspec": {
   "display_name": "Python 3",
   "language": "python",
   "name": "python3"
  },
  "language_info": {
   "codemirror_mode": {
    "name": "ipython",
    "version": 3
   },
   "file_extension": ".py",
   "mimetype": "text/x-python",
   "name": "python",
   "nbconvert_exporter": "python",
   "pygments_lexer": "ipython3",
   "version": "3.7.3"
  }
 },
 "nbformat": 4,
 "nbformat_minor": 2
}
