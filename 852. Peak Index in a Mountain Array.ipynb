{
 "cells": [
  {
   "cell_type": "markdown",
   "metadata": {},
   "source": [
    "### Peak Index in a Mountain Array"
   ]
  },
  {
   "cell_type": "raw",
   "metadata": {},
   "source": [
    "Let's call an array A a mountain if the following properties hold:\n",
    "1. A.length >= 3\n",
    "2. There exists some 0 < i < A.length - 1 such that A[0] < A[1] < ... A[i-1] < A[i] > A[i+1] > ... > A[A.length - 1]\n",
    "Given an array that is definitely a mountain, return any i such that A[0] < A[1] < ... A[i-1] < A[i] > A[i+1] > ... > A[A.length - 1].\n",
    "Example 1:\n",
    "Input: [0,1,0]\n",
    "Output: 1\n",
    "Example 2:\n",
    "Input: [0,2,1,0]\n",
    "Output: 1\n",
    "\n",
    "Note:\n",
    "1. 3 <= A.length <= 10000\n",
    "2. 0 <= A[i] <= 10^6\n",
    "3. A is a mountain, as defined above."
   ]
  },
  {
   "cell_type": "code",
   "execution_count": 1,
   "metadata": {},
   "outputs": [],
   "source": [
    "class Solution:\n",
    "    def peakIndexInMountainArray(self, A):\n",
    "        \"\"\"\n",
    "        :type A: List[int]\n",
    "        :rtype: int\n",
    "        \"\"\"\n",
    "        lo, hi = 0, len(A)-1\n",
    "        while lo < hi:\n",
    "            if A[lo] < A[lo+1]:\n",
    "                lo += 1\n",
    "                continue\n",
    "            else:\n",
    "                return lo\n",
    "        \n",
    "        return lo\n",
    "        "
   ]
  },
  {
   "cell_type": "code",
   "execution_count": 2,
   "metadata": {},
   "outputs": [
    {
     "data": {
      "text/plain": [
       "1"
      ]
     },
     "execution_count": 2,
     "metadata": {},
     "output_type": "execute_result"
    }
   ],
   "source": [
    "A = [0,2,1,0]\n",
    "ans = Solution()\n",
    "ans.peakIndexInMountainArray(A)"
   ]
  }
 ],
 "metadata": {
  "kernelspec": {
   "display_name": "Python 3",
   "language": "python",
   "name": "python3"
  },
  "language_info": {
   "codemirror_mode": {
    "name": "ipython",
    "version": 3
   },
   "file_extension": ".py",
   "mimetype": "text/x-python",
   "name": "python",
   "nbconvert_exporter": "python",
   "pygments_lexer": "ipython3",
   "version": "3.7.3"
  }
 },
 "nbformat": 4,
 "nbformat_minor": 2
}
