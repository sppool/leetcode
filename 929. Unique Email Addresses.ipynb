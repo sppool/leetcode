{
 "cells": [
  {
   "cell_type": "markdown",
   "metadata": {},
   "source": [
    "### Unique Email Addresses"
   ]
  },
  {
   "cell_type": "raw",
   "metadata": {},
   "source": [
    "Every email consists of a local name and a domain name, separated by the @ sign.\n",
    "For example, in alice@leetcode.com, alice is the local name, and leetcode.com is the domain name.\n",
    "Besides lowercase letters, these emails may contain '.'s or '+'s.\n",
    "If you add periods ('.') between some characters in the local name part of an email address,\n",
    "mail sent there will be forwarded to the same address without dots in the local name.\n",
    "For example, \"alice.z@leetcode.com\" and \"alicez@leetcode.com\" forward to the same email address.\n",
    "(Note that this rule does not apply for domain names.)\n",
    "If you add a plus ('+') in the local name, everything after the first plus sign will be ignored. \n",
    "This allows certain emails to be filtered, for example m.y+name@email.com will be forwarded to my@email.com.\n",
    "(Again, this rule does not apply for domain names.)\n",
    "It is possible to use both of these rules at the same time.\n",
    "Given a list of emails, we send one email to each address in the list.  How many different addresses actually receive mails? \n",
    "\n",
    "Example 1:\n",
    "Input: [\"test.email+alex@leetcode.com\",\"test.e.mail+bob.cathy@leetcode.com\",\"testemail+david@lee.tcode.com\"]\n",
    "Output: 2\n",
    "Explanation: \"testemail@leetcode.com\" and \"testemail@lee.tcode.com\" actually receive mails\n",
    " \n",
    "Note:\n",
    "1 <= emails[i].length <= 100\n",
    "1 <= emails.length <= 100\n",
    "Each emails[i] contains exactly one '@' character."
   ]
  },
  {
   "cell_type": "code",
   "execution_count": 1,
   "metadata": {},
   "outputs": [],
   "source": [
    "class Solution(object):\n",
    "    def numUniqueEmails(self, emails):\n",
    "        \"\"\"\n",
    "        :type emails: List[str]\n",
    "        :rtype: int\n",
    "        \"\"\"\n",
    "        new_emails = []\n",
    "        for mail in emails:\n",
    "            [local, domain] = mail.split('@') # 分出 local name & domain name\n",
    "            local = local.split('+')[0] # 留下 + 以前的字串\n",
    "            local_lst = local.split('.') # 用 '.' 分散開的字串\n",
    "            local = ''\n",
    "            for x in local_lst: # local name 分散的字串合併\n",
    "                local += x\n",
    "            email = local + '@' + domain # 組合成email : local name + @ + domain name\n",
    "            if email not in new_emails:\n",
    "                new_emails.append(email)\n",
    "                \n",
    "        return len(new_emails)"
   ]
  },
  {
   "cell_type": "code",
   "execution_count": 2,
   "metadata": {},
   "outputs": [
    {
     "data": {
      "text/plain": [
       "2"
      ]
     },
     "execution_count": 2,
     "metadata": {},
     "output_type": "execute_result"
    }
   ],
   "source": [
    "emails = [\"test.email+alex@leetcode.com\",\"test.e.mail+bob.cathy@leetcode.com\",\"testemail+david@lee.tcode.com\"]\n",
    "ans = Solution()\n",
    "ans.numUniqueEmails(emails)"
   ]
  }
 ],
 "metadata": {
  "kernelspec": {
   "display_name": "Python 3",
   "language": "python",
   "name": "python3"
  },
  "language_info": {
   "codemirror_mode": {
    "name": "ipython",
    "version": 3
   },
   "file_extension": ".py",
   "mimetype": "text/x-python",
   "name": "python",
   "nbconvert_exporter": "python",
   "pygments_lexer": "ipython3",
   "version": "3.7.3"
  }
 },
 "nbformat": 4,
 "nbformat_minor": 2
}
