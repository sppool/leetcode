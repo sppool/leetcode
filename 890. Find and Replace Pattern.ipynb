{
 "cells": [
  {
   "cell_type": "markdown",
   "metadata": {},
   "source": [
    "### Find and Replace Pattern"
   ]
  },
  {
   "cell_type": "raw",
   "metadata": {},
   "source": [
    "You have a list of words and a pattern, and you want to know which words in words matches the pattern.\n",
    "A word matches the pattern if there exists a permutation of letters p so that after replacing every letter x in the pattern with p(x), \n",
    "we get the desired word.\n",
    "(Recall that a permutation of letters is a bijection from letters to letters: every letter maps to another letter, \n",
    "and no two letters map to the same letter.)\n",
    "\n",
    "Return a list of the words in words that match the given pattern. \n",
    "You may return the answer in any order.\n",
    "\n",
    "Example 1:\n",
    "Input: words = [\"abc\",\"deq\",\"mee\",\"aqq\",\"dkd\",\"ccc\"], pattern = \"abb\" # 找尋模式\n",
    "Output: [\"mee\",\"aqq\"]\n",
    "Explanation: \"mee\" matches the pattern because there is a permutation {a -> m, b -> e, ...}. \n",
    "\"ccc\" does not match the pattern because {a -> c, b -> c, ...} is not a permutation,\n",
    "since a and b map to the same letter.\n",
    " \n",
    "Note:\n",
    "1. 1 <= words.length <= 50\n",
    "2. 1 <= pattern.length = words[i].length <= 20"
   ]
  },
  {
   "cell_type": "code",
   "execution_count": 1,
   "metadata": {},
   "outputs": [],
   "source": [
    "class Solution(object):\n",
    "    def findAndReplacePattern(self, words, pattern):\n",
    "        \"\"\"\n",
    "        :type words: List[str]\n",
    "        :type pattern: str\n",
    "        :rtype: List[str]\n",
    "        \"\"\"\n",
    "        ans_lst = self.get_method(pattern)\n",
    "        lst = []\n",
    "        for ind, word in enumerate(words):\n",
    "            if self.get_method(word) == ans_lst:\n",
    "                lst.append(word)\n",
    "        return lst                    \n",
    "    \n",
    "    def get_method(self, word):\n",
    "        letter_set = ''\n",
    "        method = []\n",
    "        for x in word:\n",
    "            if x not in letter_set:\n",
    "                letter_set += x\n",
    "            method.append(letter_set.find(x))\n",
    "        return method"
   ]
  },
  {
   "cell_type": "code",
   "execution_count": 2,
   "metadata": {},
   "outputs": [
    {
     "data": {
      "text/plain": [
       "['mee', 'aqq']"
      ]
     },
     "execution_count": 2,
     "metadata": {},
     "output_type": "execute_result"
    }
   ],
   "source": [
    "words = [\"abc\",\"deq\",\"mee\",\"aqq\",\"dkd\",\"ccc\"]\n",
    "pattern = \"abb\"\n",
    "ans = Solution()\n",
    "ans.findAndReplacePattern(words, pattern)"
   ]
  }
 ],
 "metadata": {
  "kernelspec": {
   "display_name": "Python 3",
   "language": "python",
   "name": "python3"
  },
  "language_info": {
   "codemirror_mode": {
    "name": "ipython",
    "version": 3
   },
   "file_extension": ".py",
   "mimetype": "text/x-python",
   "name": "python",
   "nbconvert_exporter": "python",
   "pygments_lexer": "ipython3",
   "version": "3.7.3"
  }
 },
 "nbformat": 4,
 "nbformat_minor": 2
}
