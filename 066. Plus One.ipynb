{
 "cells": [
  {
   "cell_type": "markdown",
   "metadata": {},
   "source": [
    "### Plus One"
   ]
  },
  {
   "cell_type": "raw",
   "metadata": {},
   "source": [
    "sGiven a non-empty array of digits representing a non-negative integer, plus one to the integer.\n",
    "The digits are stored such that the most significant digit is at the head of the list, \n",
    "and each element in the array contain a single digit.\n",
    "You may assume the integer does not contain any leading zero, except the number 0 itself.\n",
    "\n",
    "Example 1:\n",
    "Input: [1,2,3]\n",
    "Output: [1,2,4]\n",
    "Explanation: The array represents the integer 123.\n",
    "\n",
    "Example 2:\n",
    "Input: [4,3,2,1]\n",
    "Output: [4,3,2,2]\n",
    "Explanation: The array represents the integer 4321."
   ]
  },
  {
   "cell_type": "code",
   "execution_count": 1,
   "metadata": {},
   "outputs": [],
   "source": [
    "class Solution:\n",
    "    def plusOne(self, digits): # 99.76%\n",
    "        \"\"\"\n",
    "        :type digits: List[int]\n",
    "        :rtype: List[int]\n",
    "        \"\"\"\n",
    "        def plus(nums, index):\n",
    "            if nums[index] == 9: # 9的時候要進位\n",
    "                nums[index] = 0\n",
    "                if - index == len(nums): # index退到最後一位, 補上一位\n",
    "                    digits.insert(0,0)\n",
    "                index -= 1\n",
    "                plus(nums, index) # 遞迴\n",
    "            else:\n",
    "                nums[index] += 1 # 普通不用進位狀況\n",
    "                \n",
    "# ---------------------func-up---------------------\n",
    "\n",
    "        index = -1\n",
    "        plus(digits, index)\n",
    "        return digits"
   ]
  },
  {
   "cell_type": "code",
   "execution_count": 2,
   "metadata": {},
   "outputs": [
    {
     "data": {
      "text/plain": [
       "[4, 3, 2, 2]"
      ]
     },
     "execution_count": 2,
     "metadata": {},
     "output_type": "execute_result"
    }
   ],
   "source": [
    "digits = [4,3,2,1]\n",
    "ans = Solution()\n",
    "ans.plusOne(digits)"
   ]
  }
 ],
 "metadata": {
  "kernelspec": {
   "display_name": "Python 3",
   "language": "python",
   "name": "python3"
  },
  "language_info": {
   "codemirror_mode": {
    "name": "ipython",
    "version": 3
   },
   "file_extension": ".py",
   "mimetype": "text/x-python",
   "name": "python",
   "nbconvert_exporter": "python",
   "pygments_lexer": "ipython3",
   "version": "3.7.3"
  }
 },
 "nbformat": 4,
 "nbformat_minor": 2
}
