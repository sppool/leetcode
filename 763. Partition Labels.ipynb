{
 "cells": [
  {
   "cell_type": "markdown",
   "metadata": {},
   "source": [
    "### Partition Labels"
   ]
  },
  {
   "cell_type": "raw",
   "metadata": {},
   "source": [
    "A string S of lowercase letters is given. We want to partition this string into as many parts as possible so that \n",
    "each letter appears in at most one part, and return a list of integers representing the size of these parts.\n",
    "Example 1:\n",
    "Input: S = \"ababcbacadefegdehijhklij\"\n",
    "Output: [9,7,8]\n",
    "Explanation:\n",
    "The partition is \"ababcbaca\", \"defegde\", \"hijhklij\".\n",
    "This is a partition so that each letter appears in at most one part.\n",
    "A partition like \"ababcbacadefegde\", \"hijhklij\" is incorrect, because it splits S into less parts.\n",
    "\n",
    "Note:\n",
    "1. S will have length in range [1, 500].\n",
    "2. S will consist of lowercase letters ('a' to 'z') only."
   ]
  },
  {
   "cell_type": "code",
   "execution_count": 1,
   "metadata": {},
   "outputs": [],
   "source": [
    "class Solution:\n",
    "    def partitionLabels(self, S): # 95.74%\n",
    "        \"\"\"\n",
    "        :type S: str\n",
    "        :rtype: List[int]\n",
    "        \"\"\"\n",
    "        dic = {} # 字母在 S_lst 的 index\n",
    "        S_lst = [] # 各別字母在 S 中的 index (因為dict, 沒有順序, 所以要用兩個序列來排列)\n",
    "        n = 0\n",
    "        for i, x in enumerate(S): # i:index, x:letter\n",
    "            if x not in dic:\n",
    "                dic[x] = n # letter:S_lst index\n",
    "                n += 1\n",
    "                S_lst.append([i])\n",
    "            else:\n",
    "                S_lst[dic[x]].append(i)\n",
    "                \n",
    "        lst = []\n",
    "        minval = S_lst[0][0]\n",
    "        maxval = S_lst[0][-1]\n",
    "        for val in S_lst:\n",
    "            if val[0] > maxval:\n",
    "                lst.append(maxval-minval+1)\n",
    "                minval = val[0]\n",
    "                maxval = val[-1]\n",
    "            elif val[-1] > maxval:\n",
    "                maxval = val[-1]\n",
    "            else:\n",
    "                continue\n",
    "                \n",
    "        lst.append(maxval-minval+1)                \n",
    "        return lst"
   ]
  },
  {
   "cell_type": "code",
   "execution_count": 2,
   "metadata": {},
   "outputs": [
    {
     "data": {
      "text/plain": [
       "[9, 7, 8]"
      ]
     },
     "execution_count": 2,
     "metadata": {},
     "output_type": "execute_result"
    }
   ],
   "source": [
    "S = \"ababcbacadefegdehijhklij\"\n",
    "ans = Solution()\n",
    "ans.partitionLabels(S)"
   ]
  }
 ],
 "metadata": {
  "kernelspec": {
   "display_name": "Python 3",
   "language": "python",
   "name": "python3"
  },
  "language_info": {
   "codemirror_mode": {
    "name": "ipython",
    "version": 3
   },
   "file_extension": ".py",
   "mimetype": "text/x-python",
   "name": "python",
   "nbconvert_exporter": "python",
   "pygments_lexer": "ipython3",
   "version": "3.7.3"
  }
 },
 "nbformat": 4,
 "nbformat_minor": 2
}
