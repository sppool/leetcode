{
 "cells": [
  {
   "cell_type": "markdown",
   "metadata": {},
   "source": [
    "### Valid Sudoku"
   ]
  },
  {
   "cell_type": "raw",
   "metadata": {},
   "source": [
    "Determine if a 9x9 Sudoku board is valid. Only the filled cells need to be validated according to the following rules:\n",
    "1.Each row must contain the digits 1-9 without repetition.\n",
    "2.Each column must contain the digits 1-9 without repetition.\n",
    "3.Each of the 9 3x3 sub-boxes of the grid must contain the digits 1-9 without repetition.\n",
    "\n",
    "The Sudoku board could be partially filled, where empty cells are filled with the character '.'.\n",
    "\n",
    "Example 1: 檢查是不是一個正確的數獨題目(可以玩)\n",
    "Input:\n",
    "[[\"5\",\"3\",\".\",\".\",\"7\",\".\",\".\",\".\",\".\"],\n",
    " [\"6\",\".\",\".\",\"1\",\"9\",\"5\",\".\",\".\",\".\"],\n",
    " [\".\",\"9\",\"8\",\".\",\".\",\".\",\".\",\"6\",\".\"],\n",
    " [\"8\",\".\",\".\",\".\",\"6\",\".\",\".\",\".\",\"3\"],\n",
    " [\"4\",\".\",\".\",\"8\",\".\",\"3\",\".\",\".\",\"1\"],\n",
    " [\"7\",\".\",\".\",\".\",\"2\",\".\",\".\",\".\",\"6\"],\n",
    " [\".\",\"6\",\".\",\".\",\".\",\".\",\"2\",\"8\",\".\"],\n",
    " [\".\",\".\",\".\",\"4\",\"1\",\"9\",\".\",\".\",\"5\"],\n",
    " [\".\",\".\",\".\",\".\",\"8\",\".\",\".\",\"7\",\"9\"]]\n",
    "Output: true\n",
    "\n",
    "Example 2:\n",
    "Input:\n",
    "[[\"8\",\"3\",\".\",\".\",\"7\",\".\",\".\",\".\",\".\"],\n",
    " [\"6\",\".\",\".\",\"1\",\"9\",\"5\",\".\",\".\",\".\"],\n",
    " [\".\",\"9\",\"8\",\".\",\".\",\".\",\".\",\"6\",\".\"],\n",
    " [\"8\",\".\",\".\",\".\",\"6\",\".\",\".\",\".\",\"3\"],\n",
    " [\"4\",\".\",\".\",\"8\",\".\",\"3\",\".\",\".\",\"1\"],\n",
    " [\"7\",\".\",\".\",\".\",\"2\",\".\",\".\",\".\",\"6\"],\n",
    " [\".\",\"6\",\".\",\".\",\".\",\".\",\"2\",\"8\",\".\"],\n",
    " [\".\",\".\",\".\",\"4\",\"1\",\"9\",\".\",\".\",\"5\"],\n",
    " [\".\",\".\",\".\",\".\",\"8\",\".\",\".\",\"7\",\"9\"]]\n",
    "Output: false\n",
    "\n",
    "Explanation: Same as Example 1, except with the 5 in the top left corner being \n",
    "    modified to 8. Since there are two 8's in the top left 3x3 sub-box, it is invalid.\n",
    "Note:\n",
    "A Sudoku board (partially filled) could be valid but is not necessarily solvable.\n",
    "Only the filled cells need to be validated according to the mentioned rules.\n",
    "The given board contain only digits 1-9 and the character '.'.\n",
    "The given board size is always 9x9."
   ]
  },
  {
   "cell_type": "markdown",
   "metadata": {},
   "source": [
    "https://upload.wikimedia.org/wikipedia/commons/thumb/f/ff/Sudoku-by-L2G-20050714.svg/250px-Sudoku-by-L2G-20050714.svg.png\n",
    "![Image of Yaktocat](https://upload.wikimedia.org/wikipedia/commons/thumb/f/ff/Sudoku-by-L2G-20050714.svg/250px-Sudoku-by-L2G-20050714.svg.png)\n",
    "A partially filled sudoku which is valid...\n"
   ]
  },
  {
   "cell_type": "code",
   "execution_count": 1,
   "metadata": {},
   "outputs": [],
   "source": [
    "class Solution:\n",
    "    def isValidSudoku(self, board): # 81.76%\n",
    "        \"\"\"\n",
    "        :type board: List[List[str]]\n",
    "        :rtype: bool\n",
    "        \"\"\"\n",
    "        def row_lst(Sudo, r): # 取得 row 元素集合\n",
    "            lst = []\n",
    "            for c in range(9):\n",
    "                if Sudo[r][c].isnumeric(): # isnumeric() 字串可以否轉成數字\n",
    "                    lst.append(Sudo[r][c])\n",
    "            return lst\n",
    "        \n",
    "        def col_lst(Sudo, c): # 取得 col 元素集合\n",
    "            lst = []\n",
    "            for r in range(9):\n",
    "                if Sudo[r][c].isnumeric():\n",
    "                    lst.append(Sudo[r][c])\n",
    "            return lst\n",
    "        \n",
    "        def cube_lst(Sudo, i, j): # 取得 3x3matrix 元素集合\n",
    "            i = i * 3\n",
    "            j = j * 3\n",
    "            lst = []\n",
    "            for i_ in range(i, i+3):\n",
    "                for j_ in range(j, j+3):\n",
    "                    if Sudo[i_][j_].isnumeric():\n",
    "                        lst.append(Sudo[i_][j_])\n",
    "            return lst\n",
    "        \n",
    "        for i in range(9):\n",
    "            rlst = row_lst(board, i)\n",
    "            clst = col_lst(board, i)\n",
    "            if len(rlst) != len(set(rlst)) or  len(clst) != len(set(clst)):\n",
    "                return False\n",
    "        \n",
    "        for i in range(3):\n",
    "            for j in range(3):\n",
    "                cblst = cube_lst(board, i, j)\n",
    "                if len(cblst) != len(set(cblst)):\n",
    "                    return False\n",
    "        return True"
   ]
  },
  {
   "cell_type": "code",
   "execution_count": 2,
   "metadata": {},
   "outputs": [
    {
     "data": {
      "text/plain": [
       "True"
      ]
     },
     "execution_count": 2,
     "metadata": {},
     "output_type": "execute_result"
    }
   ],
   "source": [
    "board = [[\"5\",\"3\",\".\",\".\",\"7\",\".\",\".\",\".\",\".\"],\n",
    "         [\"6\",\".\",\".\",\"1\",\"9\",\"5\",\".\",\".\",\".\"],\n",
    "         [\".\",\"9\",\"8\",\".\",\".\",\".\",\".\",\"6\",\".\"],\n",
    "         [\"8\",\".\",\".\",\".\",\"6\",\".\",\".\",\".\",\"3\"],\n",
    "         [\"4\",\".\",\".\",\"8\",\".\",\"3\",\".\",\".\",\"1\"],\n",
    "         [\"7\",\".\",\".\",\".\",\"2\",\".\",\".\",\".\",\"6\"],\n",
    "         [\".\",\"6\",\".\",\".\",\".\",\".\",\"2\",\"8\",\".\"],\n",
    "         [\".\",\".\",\".\",\"4\",\"1\",\"9\",\".\",\".\",\"5\"],\n",
    "         [\".\",\".\",\".\",\".\",\"8\",\".\",\".\",\"7\",\"9\"]]\n",
    "ans = Solution()\n",
    "ans.isValidSudoku(board)"
   ]
  }
 ],
 "metadata": {
  "kernelspec": {
   "display_name": "Python 3",
   "language": "python",
   "name": "python3"
  },
  "language_info": {
   "codemirror_mode": {
    "name": "ipython",
    "version": 3
   },
   "file_extension": ".py",
   "mimetype": "text/x-python",
   "name": "python",
   "nbconvert_exporter": "python",
   "pygments_lexer": "ipython3",
   "version": "3.7.3"
  }
 },
 "nbformat": 4,
 "nbformat_minor": 2
}
