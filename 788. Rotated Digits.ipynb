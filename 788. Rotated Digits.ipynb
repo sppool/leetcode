{
 "cells": [
  {
   "cell_type": "markdown",
   "metadata": {},
   "source": [
    "### Rotated Digits"
   ]
  },
  {
   "cell_type": "raw",
   "metadata": {},
   "source": [
    "X is a good number if after rotating each digit individually by 180 degrees, we get a valid number that is different from X.  \n",
    "Each digit must be rotated - we cannot choose to leave it alone.\n",
    "A number is valid if each digit remains a digit after rotation. 0, 1, and 8 rotate to themselves; 2 and 5 rotate to each other; \n",
    "6 and 9 rotate to each other, and the rest of the numbers do not rotate to any other number and become invalid.\n",
    "Now given a positive number N, how many numbers X from 1 to N are good?\n",
    "Example: # 數字物理上旋轉 2->5, 6->9, 1->1, 8->8, 0->0, N 以下有幾個選轉後還是數字, 且和原數字不同!!\n",
    "Input: 10\n",
    "Output: 4\n",
    "Explanation: \n",
    "There are four good numbers in the range [1, 10] : 2, 5, 6, 9.\n",
    "Note that 1 and 10 are not good numbers, since they remain unchanged after rotating.\n",
    "\n",
    "Note:\n",
    "N  will be in range [1, 10000]."
   ]
  },
  {
   "cell_type": "code",
   "execution_count": 1,
   "metadata": {},
   "outputs": [],
   "source": [
    "class Solution:\n",
    "    def rotatedDigits(self, N): # 58.20%\n",
    "        \"\"\"\n",
    "        :type N: int\n",
    "        :rtype: int\n",
    "        \"\"\"\n",
    "        ch_dic = {'0':'0', '1':'1', '2':'5', '5':'2', '6':'9', '8':'8', '9':'6'} # 可變化字典\n",
    "        n = 0\n",
    "        #lst = [] # 列出變化\n",
    "        for num in range(1, N+1):\n",
    "            s = str(num)\n",
    "            c_s = ''\n",
    "            for x in s:\n",
    "                if x in ch_dic:\n",
    "                    c_s += ch_dic[x]\n",
    "                else:\n",
    "                    break\n",
    "            if len(c_s) == len(s) and c_s != s:\n",
    "                #lst.append(num)\n",
    "                n += 1\n",
    "        return n\n",
    "                \n",
    "        "
   ]
  },
  {
   "cell_type": "code",
   "execution_count": 2,
   "metadata": {},
   "outputs": [
    {
     "data": {
      "text/plain": [
       "4"
      ]
     },
     "execution_count": 2,
     "metadata": {},
     "output_type": "execute_result"
    }
   ],
   "source": [
    "N = 10\n",
    "ans = Solution()\n",
    "ans.rotatedDigits(N)"
   ]
  }
 ],
 "metadata": {
  "kernelspec": {
   "display_name": "Python 3",
   "language": "python",
   "name": "python3"
  },
  "language_info": {
   "codemirror_mode": {
    "name": "ipython",
    "version": 3
   },
   "file_extension": ".py",
   "mimetype": "text/x-python",
   "name": "python",
   "nbconvert_exporter": "python",
   "pygments_lexer": "ipython3",
   "version": "3.7.3"
  }
 },
 "nbformat": 4,
 "nbformat_minor": 2
}
