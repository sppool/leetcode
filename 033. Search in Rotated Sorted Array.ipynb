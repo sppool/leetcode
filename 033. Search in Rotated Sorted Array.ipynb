{
 "cells": [
  {
   "cell_type": "markdown",
   "metadata": {},
   "source": [
    "### Search in Rotated Sorted Array"
   ]
  },
  {
   "cell_type": "raw",
   "metadata": {},
   "source": [
    "Suppose an array sorted in ascending order is rotated at some pivot unknown to you beforehand.\n",
    "(i.e., [0,1,2,4,5,6,7] might become [4,5,6,7,0,1,2]).\n",
    "You are given a target value to search. If found in the array return its index, otherwise return -1.\n",
    "You may assume no duplicate exists in the array.\n",
    "Your algorithm's runtime complexity must be in the order of O(log n).\n",
    "Example 1:\n",
    "Input: nums = [4,5,6,7,0,1,2], target = 0\n",
    "Output: 4\n",
    "Example 2:\n",
    "Input: nums = [4,5,6,7,0,1,2], target = 3\n",
    "Output: -1"
   ]
  },
  {
   "cell_type": "code",
   "execution_count": 1,
   "metadata": {},
   "outputs": [],
   "source": [
    "class Solution:\n",
    "    def search(self, nums, target): # 99.42%  bigO(log-n) nums數列大也速度極快\n",
    "        if not nums: return -1 # 空列表\n",
    "        i, j  = 0, len(nums)-1\n",
    "        mid = (i + j) // 2\n",
    "        if target == nums[i]: return i # 頭檢查\n",
    "        if target == nums[j]: return j # 尾檢查\n",
    "        while i != mid: # i + 1 = j \n",
    "            if nums[mid] == target:\n",
    "                return mid\n",
    "            if mid == i or mid == j: # 死迴圈\n",
    "                break\n",
    "            if nums[mid] > nums[i]:\n",
    "                if nums[i] < target < nums[mid]:\n",
    "                    j = mid\n",
    "                else: i = mid\n",
    "            else: # nums[mid] < nums[j]:\n",
    "                if nums[mid] < target < nums[j]:\n",
    "                    i = mid\n",
    "                else: j = mid\n",
    "            mid = (i + j) // 2\n",
    "        return -1\n",
    "    \n",
    "    def search2(self, nums, target): # 87.11%  但非 bigO(log-n)\n",
    "        if target not in nums:\n",
    "            return -1\n",
    "        if target >= nums[0]:\n",
    "            for ind, x in enumerate(nums):\n",
    "                if target <= x:\n",
    "                    if target < x: # target > x\n",
    "                        return -1\n",
    "                    else: return ind\n",
    "        else:\n",
    "            for ind, x in enumerate(nums[::-1]):\n",
    "                if target >= x:\n",
    "                    if target > x: # target > x\n",
    "                        return -1\n",
    "                    else: return (len(nums) - ind - 1)"
   ]
  },
  {
   "cell_type": "code",
   "execution_count": 2,
   "metadata": {},
   "outputs": [],
   "source": [
    "import random"
   ]
  },
  {
   "cell_type": "code",
   "execution_count": 3,
   "metadata": {},
   "outputs": [
    {
     "name": "stdout",
     "output_type": "stream",
     "text": [
      "target: 2555\n"
     ]
    },
    {
     "data": {
      "text/plain": [
       "6713"
      ]
     },
     "execution_count": 3,
     "metadata": {},
     "output_type": "execute_result"
    }
   ],
   "source": [
    "lst = [i for i in range(10000)]\n",
    "nums = lst[5842:]+lst[:5798]\n",
    "target = random.choice(lst)\n",
    "print('target:', target)\n",
    "ans = Solution()\n",
    "ans.search2(nums, target)"
   ]
  },
  {
   "cell_type": "code",
   "execution_count": 4,
   "metadata": {},
   "outputs": [
    {
     "name": "stdout",
     "output_type": "stream",
     "text": [
      "2.94 µs ± 32.1 ns per loop (mean ± std. dev. of 7 runs, 100000 loops each)\n"
     ]
    }
   ],
   "source": [
    "%%timeit\n",
    "ans.search(nums, target)"
   ]
  },
  {
   "cell_type": "code",
   "execution_count": 5,
   "metadata": {},
   "outputs": [
    {
     "name": "stdout",
     "output_type": "stream",
     "text": [
      "217 µs ± 6.95 µs per loop (mean ± std. dev. of 7 runs, 1000 loops each)\n"
     ]
    }
   ],
   "source": [
    "%%timeit\n",
    "ans.search2(nums, target)"
   ]
  }
 ],
 "metadata": {
  "kernelspec": {
   "display_name": "Python 3",
   "language": "python",
   "name": "python3"
  },
  "language_info": {
   "codemirror_mode": {
    "name": "ipython",
    "version": 3
   },
   "file_extension": ".py",
   "mimetype": "text/x-python",
   "name": "python",
   "nbconvert_exporter": "python",
   "pygments_lexer": "ipython3",
   "version": "3.7.3"
  }
 },
 "nbformat": 4,
 "nbformat_minor": 2
}
