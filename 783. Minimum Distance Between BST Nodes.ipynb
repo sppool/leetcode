{
 "cells": [
  {
   "cell_type": "markdown",
   "metadata": {},
   "source": [
    "### Minimum Distance Between BST Nodes"
   ]
  },
  {
   "cell_type": "raw",
   "metadata": {},
   "source": [
    "Given a Binary Search Tree (BST) with the root node root, return the minimum difference between the values of any two different nodes in the tree.\n",
    "Example :\n",
    "Input: root = [4,2,6,1,3,null,null]\n",
    "Output: 1\n",
    "Explanation:\n",
    "Note that root is a TreeNode object, not an array.\n",
    "The given tree [4,2,6,1,3,null,null] is represented by the following diagram:\n",
    "\n",
    "          4\n",
    "        /   \\\n",
    "      2      6\n",
    "     / \\    \n",
    "    1   3  \n",
    "\n",
    "while the minimum difference in this tree is 1, it occurs between node 1 and node 2, also between node 3 and node 2.\n",
    "Note:\n",
    "1. The size of the BST will be between 2 and 100.\n",
    "2. The BST is always valid, each node's value is an integer, and each node's value is different."
   ]
  },
  {
   "cell_type": "code",
   "execution_count": 1,
   "metadata": {},
   "outputs": [],
   "source": [
    "class TreeNode: # Binary Tree\n",
    "    def __init__ (self, x):\n",
    "        self.val = x\n",
    "        self.left = None\n",
    "        self.right = None   \n",
    "    def insert(self, left=None, right=None):\n",
    "        if left:\n",
    "            self.left = TreeNode(left)\n",
    "        if right:\n",
    "            self.right = TreeNode(right)\n",
    "            \n",
    "class Solution: # 92.51%\n",
    "    def minDiffInBST(self, root):\n",
    "        self.lst = []\n",
    "        self.order(root)\n",
    "        l = len(self.lst)\n",
    "        if l < 2:\n",
    "            return 0\n",
    "        self.lst.sort()\n",
    "        num = self.lst[1] - self.lst[0]\n",
    "        for ind in range(l-1):\n",
    "            num = min((num, self.lst[ind+1] - self.lst[ind]))\n",
    "        return num\n",
    "    def order(self, root):\n",
    "        if root:\n",
    "            self.lst.append(root.val)\n",
    "            self.order(root.left)\n",
    "            self.order(root.right)\n",
    "            "
   ]
  },
  {
   "cell_type": "code",
   "execution_count": 2,
   "metadata": {},
   "outputs": [],
   "source": [
    "root = TreeNode(4)\n",
    "root.insert(2, 6)\n",
    "root.left.insert(1, 3)\n",
    "ans = Solution()\n"
   ]
  },
  {
   "cell_type": "code",
   "execution_count": 3,
   "metadata": {},
   "outputs": [
    {
     "data": {
      "text/plain": [
       "1"
      ]
     },
     "execution_count": 3,
     "metadata": {},
     "output_type": "execute_result"
    }
   ],
   "source": [
    "ans.minDiffInBST(root)"
   ]
  }
 ],
 "metadata": {
  "kernelspec": {
   "display_name": "Python 3",
   "language": "python",
   "name": "python3"
  },
  "language_info": {
   "codemirror_mode": {
    "name": "ipython",
    "version": 3
   },
   "file_extension": ".py",
   "mimetype": "text/x-python",
   "name": "python",
   "nbconvert_exporter": "python",
   "pygments_lexer": "ipython3",
   "version": "3.7.3"
  }
 },
 "nbformat": 4,
 "nbformat_minor": 2
}
