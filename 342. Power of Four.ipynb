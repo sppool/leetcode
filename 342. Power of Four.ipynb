{
 "cells": [
  {
   "cell_type": "markdown",
   "metadata": {},
   "source": [
    "### Power of Four"
   ]
  },
  {
   "cell_type": "raw",
   "metadata": {},
   "source": [
    "Given an integer (signed 32 bits), write a function to check whether it is a power of 4.\n",
    "Example 1:\n",
    "Input: 16\n",
    "Output: true\n",
    "Example 2:\n",
    "Input: 5\n",
    "Output: false\n",
    "\n",
    "Follow up: Could you solve it without loops/recursion?"
   ]
  },
  {
   "cell_type": "code",
   "execution_count": 1,
   "metadata": {},
   "outputs": [],
   "source": [
    "class Solution:\n",
    "    def isPowerOfFour(self, num):\n",
    "        \"\"\"\n",
    "        :type num: int\n",
    "        :rtype: bool\n",
    "        \"\"\"\n",
    "        if num < 1:\n",
    "            return False\n",
    "        while num != 1:\n",
    "            if num % 4:\n",
    "                return False\n",
    "            num //= 4\n",
    "        return True\n",
    "        \n",
    "    def isPowerOfFour2(self, num): # 74.86%\n",
    "        if num > 0 and not num & num-1: # (num & num-1) 檢查是不是 2^n\n",
    "            return len(bin(num)) % 2 == 1\n",
    "        return False"
   ]
  },
  {
   "cell_type": "code",
   "execution_count": 2,
   "metadata": {},
   "outputs": [
    {
     "data": {
      "text/plain": [
       "True"
      ]
     },
     "execution_count": 2,
     "metadata": {},
     "output_type": "execute_result"
    }
   ],
   "source": [
    "num = 16\n",
    "ans = Solution()\n",
    "ans.isPowerOfFour(num)"
   ]
  }
 ],
 "metadata": {
  "kernelspec": {
   "display_name": "Python 3",
   "language": "python",
   "name": "python3"
  },
  "language_info": {
   "codemirror_mode": {
    "name": "ipython",
    "version": 3
   },
   "file_extension": ".py",
   "mimetype": "text/x-python",
   "name": "python",
   "nbconvert_exporter": "python",
   "pygments_lexer": "ipython3",
   "version": "3.7.3"
  }
 },
 "nbformat": 4,
 "nbformat_minor": 2
}
