{
 "cells": [
  {
   "cell_type": "markdown",
   "metadata": {},
   "source": [
    "### Valid Parentheses"
   ]
  },
  {
   "cell_type": "raw",
   "metadata": {},
   "source": [
    "Given a string containing just the characters '(', ')', '{', '}', '[' and ']', determine if the input string is valid.\n",
    "An input string is valid if:\n",
    "1. Open brackets must be closed by the same type of brackets.\n",
    "2. Open brackets must be closed in the correct order.\n",
    "\n",
    "Note that an empty string is also considered valid.\n",
    "Example 1:\n",
    "Input: \"()\"\n",
    "Output: true\n",
    "\n",
    "Example 2:\n",
    "Input: \"()[]{}\"\n",
    "Output: true\n",
    "\n",
    "Example 3:\n",
    "Input: \"(]\"\n",
    "Output: false\n",
    "\n",
    "Example 4:\n",
    "Input: \"([)]\"\n",
    "Output: false\n",
    "\n",
    "Example 5:\n",
    "Input: \"{[]}\"\n",
    "Output: true"
   ]
  },
  {
   "cell_type": "code",
   "execution_count": 1,
   "metadata": {},
   "outputs": [],
   "source": [
    "class Solution:\n",
    "    def isValid(self, s):\n",
    "        \"\"\"\n",
    "        :type s: str\n",
    "        :rtype: bool\n",
    "        \"\"\"\n",
    "        save = '()[]{}'\n",
    "        lst = ['()', '[]', '{}']\n",
    "        s_ = '' \n",
    "        for x in s: # s_ 擷取 s 中的括號字元\n",
    "            if x in save:\n",
    "                s_ += x\n",
    "        while ('()' in s_) or ('[]' in s_) or ('{}' in s_): # 有完整括號就刪掉! 可以完全消除 True\n",
    "            for x_ in lst:\n",
    "                num = s_.find(x_)\n",
    "                if num >= 0:\n",
    "                    s_ = s_[:num] + s_[num+2:]\n",
    "        if s_ == '':\n",
    "            return True\n",
    "        else:\n",
    "            return False\n",
    "        \n",
    "    def isValid2(self, s):\n",
    "        s_ = ''\n",
    "        save = '()[]{}'\n",
    "        for x in s:\n",
    "            if x in save:\n",
    "                s_ += x\n",
    "        s = s_\n",
    "        \n",
    "        while s != '':    \n",
    "            s_ = ''\n",
    "            for i in s:\n",
    "                s_ += i\n",
    "                if len(s_) >= 2 and s_[-2:] in ['()', '[]', '{}']:\n",
    "                    s_ = s_[:-2]   \n",
    "            if s_ == '':\n",
    "                return True\n",
    "                break\n",
    "            elif s_ == s:\n",
    "                return False\n",
    "                break\n",
    "            else:\n",
    "                s = s_\n",
    "                continue"
   ]
  },
  {
   "cell_type": "code",
   "execution_count": 2,
   "metadata": {},
   "outputs": [
    {
     "name": "stdout",
     "output_type": "stream",
     "text": [
      "False\n",
      "False\n"
     ]
    }
   ],
   "source": [
    "s = '({}{[] }))'\n",
    "ans = Solution()\n",
    "print(ans.isValid(s))\n",
    "print(ans.isValid2(s))"
   ]
  },
  {
   "cell_type": "code",
   "execution_count": 3,
   "metadata": {},
   "outputs": [
    {
     "name": "stdout",
     "output_type": "stream",
     "text": [
      "True\n",
      "True\n"
     ]
    }
   ],
   "source": [
    "s = \"()\"\n",
    "print(ans.isValid(s))\n",
    "print(ans.isValid2(s))"
   ]
  },
  {
   "cell_type": "code",
   "execution_count": 4,
   "metadata": {},
   "outputs": [
    {
     "name": "stdout",
     "output_type": "stream",
     "text": [
      "True\n",
      "True\n"
     ]
    }
   ],
   "source": [
    "s = \"()[]{}\"\n",
    "print(ans.isValid(s))\n",
    "print(ans.isValid2(s))"
   ]
  },
  {
   "cell_type": "code",
   "execution_count": 5,
   "metadata": {},
   "outputs": [
    {
     "name": "stdout",
     "output_type": "stream",
     "text": [
      "False\n",
      "False\n"
     ]
    }
   ],
   "source": [
    "s = \"(]\"\n",
    "print(ans.isValid(s))\n",
    "print(ans.isValid2(s))"
   ]
  },
  {
   "cell_type": "code",
   "execution_count": 6,
   "metadata": {},
   "outputs": [
    {
     "name": "stdout",
     "output_type": "stream",
     "text": [
      "False\n",
      "False\n"
     ]
    }
   ],
   "source": [
    "s = \"([)]\"\n",
    "print(ans.isValid(s))\n",
    "print(ans.isValid2(s))"
   ]
  },
  {
   "cell_type": "code",
   "execution_count": 7,
   "metadata": {},
   "outputs": [
    {
     "name": "stdout",
     "output_type": "stream",
     "text": [
      "True\n",
      "True\n"
     ]
    }
   ],
   "source": [
    "s = \"{[]}\"\n",
    "print(ans.isValid(s))\n",
    "print(ans.isValid2(s))"
   ]
  },
  {
   "cell_type": "code",
   "execution_count": 8,
   "metadata": {},
   "outputs": [
    {
     "name": "stdout",
     "output_type": "stream",
     "text": [
      "1.2 µs ± 38 ns per loop (mean ± std. dev. of 7 runs, 1000000 loops each)\n"
     ]
    }
   ],
   "source": [
    "%%timeit\n",
    "ans.isValid(s)"
   ]
  },
  {
   "cell_type": "code",
   "execution_count": 9,
   "metadata": {},
   "outputs": [
    {
     "name": "stdout",
     "output_type": "stream",
     "text": [
      "1.3 µs ± 26.3 ns per loop (mean ± std. dev. of 7 runs, 1000000 loops each)\n"
     ]
    }
   ],
   "source": [
    "%%timeit\n",
    "ans.isValid2(s)"
   ]
  }
 ],
 "metadata": {
  "kernelspec": {
   "display_name": "Python 3",
   "language": "python",
   "name": "python3"
  },
  "language_info": {
   "codemirror_mode": {
    "name": "ipython",
    "version": 3
   },
   "file_extension": ".py",
   "mimetype": "text/x-python",
   "name": "python",
   "nbconvert_exporter": "python",
   "pygments_lexer": "ipython3",
   "version": "3.7.3"
  }
 },
 "nbformat": 4,
 "nbformat_minor": 2
}
