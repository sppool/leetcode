{
 "cells": [
  {
   "cell_type": "markdown",
   "metadata": {},
   "source": [
    "### Rotate String"
   ]
  },
  {
   "cell_type": "raw",
   "metadata": {},
   "source": [
    "We are given two strings, A and B.\n",
    "A shift on A consists of taking string A and moving the leftmost character to the rightmost position. For example, \n",
    "if A = 'abcde', then it will be 'bcdea' after one shift on A. \n",
    "Return True if and only if A can become B after some number of shifts on A.\n",
    "Example 1:\n",
    "Input: A = 'abcde', B = 'cdeab'\n",
    "Output: true\n",
    "Example 2:\n",
    "Input: A = 'abcde', B = 'abced'\n",
    "Output: false\n",
    "\n",
    "Note:\n",
    "A and B will have length at most 100."
   ]
  },
  {
   "cell_type": "code",
   "execution_count": 1,
   "metadata": {},
   "outputs": [],
   "source": [
    "class Solution:\n",
    "    def rotateString(self, A, B):\n",
    "        \"\"\"\n",
    "        :type A: str\n",
    "        :type B: str\n",
    "        :rtype: bool\n",
    "        \"\"\"\n",
    "        if A == B:\n",
    "            return True\n",
    "        for i in range(1, len(A)):\n",
    "            if A[i:] + A[:i] == B:\n",
    "                return True\n",
    "        return False"
   ]
  },
  {
   "cell_type": "code",
   "execution_count": 2,
   "metadata": {},
   "outputs": [
    {
     "data": {
      "text/plain": [
       "True"
      ]
     },
     "execution_count": 2,
     "metadata": {},
     "output_type": "execute_result"
    }
   ],
   "source": [
    "A = 'abcde'\n",
    "B = 'cdeab'\n",
    "ans = Solution()\n",
    "ans.rotateString(A, B)"
   ]
  }
 ],
 "metadata": {
  "kernelspec": {
   "display_name": "Python 3",
   "language": "python",
   "name": "python3"
  },
  "language_info": {
   "codemirror_mode": {
    "name": "ipython",
    "version": 3
   },
   "file_extension": ".py",
   "mimetype": "text/x-python",
   "name": "python",
   "nbconvert_exporter": "python",
   "pygments_lexer": "ipython3",
   "version": "3.7.3"
  }
 },
 "nbformat": 4,
 "nbformat_minor": 2
}
