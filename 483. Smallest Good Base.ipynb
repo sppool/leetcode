{
 "cells": [
  {
   "cell_type": "markdown",
   "metadata": {},
   "source": [
    "### Smallest Good Base"
   ]
  },
  {
   "cell_type": "raw",
   "metadata": {},
   "source": [
    "For an integer n, we call k>=2 a good base of n, if all digits of n base k are 1.\n",
    "Now given a string representing n, you should return the smallest good base of n in string format. \n",
    "Example 1:\n",
    "Input: \"13\"\n",
    "Output: \"3\"\n",
    "Explanation: 13 base 3 is 111. # 3進位 的 111 是 13\n",
    "Example 2:\n",
    "Input: \"4681\"\n",
    "Output: \"8\"\n",
    "Explanation: 4681 base 8 is 11111. # 8進位 的 11111 是 4681\n",
    "Example 3:\n",
    "Input: \"1000000000000000000\"\n",
    "Output: \"999999999999999999\"\n",
    "Explanation: 1000000000000000000 base 999999999999999999 is 11. \n",
    "\n",
    "Note:\n",
    "1. The range of n is [3, 10^18].\n",
    "2. The string representing n is always valid and will not have leading zeros."
   ]
  },
  {
   "cell_type": "code",
   "execution_count": 1,
   "metadata": {},
   "outputs": [],
   "source": [
    "class Solution:\n",
    "    def smallestGoodBase(self, n): # 63.41%\n",
    "        \"\"\"\n",
    "        :type n: str\n",
    "        :rtype: str\n",
    "        \"\"\"\n",
    "        num = int(n) # 整數格式\n",
    "        base = {}\n",
    "        t = 2\n",
    "        while int(num**(1/t)) > 1: # 開 n根號  概念找 可能出現的單位\n",
    "            base[t] = int(num**(1/t)) # 轉整數\n",
    "            t += 1\n",
    "        for key, val in base.items():\n",
    "            if self.base_t1(val, key+1) == num:\n",
    "                return str(val)\n",
    "        return str(num-1) \n",
    "    \n",
    "    def base_t1(self, base, t): # k 進位的 t 個 1 (base**4 + base**3 + base**2 +  base**1 +  base**0) (t = 5)\n",
    "        output = 1 # base**0\n",
    "        i = 1 # ind 1開始 \n",
    "        while i < t:\n",
    "            output += base**i\n",
    "            i += 1\n",
    "        return output\n",
    "    "
   ]
  },
  {
   "cell_type": "code",
   "execution_count": 2,
   "metadata": {},
   "outputs": [
    {
     "data": {
      "text/plain": [
       "'999999999999999999'"
      ]
     },
     "execution_count": 2,
     "metadata": {},
     "output_type": "execute_result"
    }
   ],
   "source": [
    "n = \"1000000000000000000\"\n",
    "ans = Solution()\n",
    "ans.smallestGoodBase(n)"
   ]
  },
  {
   "cell_type": "code",
   "execution_count": 3,
   "metadata": {},
   "outputs": [
    {
     "name": "stdout",
     "output_type": "stream",
     "text": [
      "783 µs ± 26.6 µs per loop (mean ± std. dev. of 7 runs, 1000 loops each)\n"
     ]
    }
   ],
   "source": [
    "%%timeit\n",
    "ans.smallestGoodBase(n)"
   ]
  }
 ],
 "metadata": {
  "kernelspec": {
   "display_name": "Python 3",
   "language": "python",
   "name": "python3"
  },
  "language_info": {
   "codemirror_mode": {
    "name": "ipython",
    "version": 3
   },
   "file_extension": ".py",
   "mimetype": "text/x-python",
   "name": "python",
   "nbconvert_exporter": "python",
   "pygments_lexer": "ipython3",
   "version": "3.7.3"
  }
 },
 "nbformat": 4,
 "nbformat_minor": 2
}
