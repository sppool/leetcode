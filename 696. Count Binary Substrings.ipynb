{
 "cells": [
  {
   "cell_type": "markdown",
   "metadata": {},
   "source": [
    "### Count Binary Substrings"
   ]
  },
  {
   "cell_type": "raw",
   "metadata": {},
   "source": [
    "Give a string s, count the number of non-empty (contiguous) substrings that have the same number of 0's and 1's, \n",
    "and all the 0's and all the 1's in these substrings are grouped consecutively.\n",
    "Substrings that occur multiple times are counted the number of times they occur.\n",
    "Example 1: # 求 0, 1 有相同數量排列的子字串, 且 0 和 1 要連續排列!! \n",
    "Input: \"00110011\"\n",
    "Output: 6\n",
    "Explanation: There are 6 substrings that have equal number of consecutive 1's and 0's: \"0011\", \"01\", \"1100\", \"10\", \"0011\", \n",
    "and \"01\".\n",
    "Notice that some of these substrings repeat and are counted the number of times they occur.\n",
    "Also, \"00110011\" is not a valid substring because all the 0's (and 1's) are not grouped together.\n",
    "\n",
    "Example 2:\n",
    "Input: \"10101\"\n",
    "Output: 4\n",
    "Explanation: There are 4 substrings: \"10\", \"01\", \"10\", \"01\" that have equal number of consecutive 1's and 0's.\n",
    "\n",
    "Note:\n",
    "1. s.length will be between 1 and 50,000.\n",
    "2. s will only consist of \"0\" or \"1\" characters."
   ]
  },
  {
   "cell_type": "code",
   "execution_count": 1,
   "metadata": {},
   "outputs": [],
   "source": [
    "class Solution:\n",
    "    def countBinarySubstrings(self, s): # 87.34%\n",
    "        \"\"\"\n",
    "        :type s: str\n",
    "        :rtype: int\n",
    "        \"\"\"\n",
    "        lst = [] # 列出 連續 0, 1 的排列數量\n",
    "        n = 1\n",
    "        up_x = s[0]\n",
    "        for x in s[1:]:\n",
    "            if up_x == x:\n",
    "                n +=1 \n",
    "            else:\n",
    "                lst.append(n)\n",
    "                n = 1\n",
    "            up_x = x\n",
    "        lst.append(n) # 迴圈結束 加上最後一個\n",
    "        \n",
    "        ans = 0 # 抓取連續兩個, 求最小值!! \n",
    "        for i in range(len(lst)-1):\n",
    "            ans += min(lst[i], lst[i+1])\n",
    "            \n",
    "        return ans\n",
    "            "
   ]
  },
  {
   "cell_type": "code",
   "execution_count": 2,
   "metadata": {},
   "outputs": [
    {
     "data": {
      "text/plain": [
       "6"
      ]
     },
     "execution_count": 2,
     "metadata": {},
     "output_type": "execute_result"
    }
   ],
   "source": [
    "s = \"00110011\"\n",
    "ans = Solution()\n",
    "ans.countBinarySubstrings(s)"
   ]
  }
 ],
 "metadata": {
  "kernelspec": {
   "display_name": "Python 3",
   "language": "python",
   "name": "python3"
  },
  "language_info": {
   "codemirror_mode": {
    "name": "ipython",
    "version": 3
   },
   "file_extension": ".py",
   "mimetype": "text/x-python",
   "name": "python",
   "nbconvert_exporter": "python",
   "pygments_lexer": "ipython3",
   "version": "3.7.3"
  }
 },
 "nbformat": 4,
 "nbformat_minor": 2
}
