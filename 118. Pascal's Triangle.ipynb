{
 "cells": [
  {
   "cell_type": "markdown",
   "metadata": {},
   "source": [
    "### Pascal's Triangle"
   ]
  },
  {
   "cell_type": "raw",
   "metadata": {},
   "source": [
    "Given a non-negative integer numRows, generate the first numRows of Pascal's triangle.\n",
    "\n",
    "Example:\n",
    "Input: 5\n",
    "Output:\n",
    "[    [1],\n",
    "    [1,1],\n",
    "   [1,2,1],\n",
    "  [1,3,3,1],\n",
    " [1,4,6,4,1]]"
   ]
  },
  {
   "cell_type": "markdown",
   "metadata": {},
   "source": [
    "https://upload.wikimedia.org/wikipedia/commons/0/0d/PascalTriangleAnimated2.gif\n",
    "![Image of Yaktocat](https://upload.wikimedia.org/wikipedia/commons/0/0d/PascalTriangleAnimated2.gif)\n",
    "In Pascal's triangle, each number is the sum of the two numbers directly above it"
   ]
  },
  {
   "cell_type": "code",
   "execution_count": 1,
   "metadata": {},
   "outputs": [],
   "source": [
    "class Solution:\n",
    "    def generate(self, numRows): # 89.80%\n",
    "        \"\"\"\n",
    "        :type numRows: int\n",
    "        :rtype: List[List[int]]\n",
    "        \"\"\"\n",
    "        if numRows < 1:\n",
    "            return []\n",
    "        else:\n",
    "            pass\n",
    "        lst = []\n",
    "        lst.append([1])\n",
    "        while len(lst) != numRows:\n",
    "            n = len(lst)\n",
    "            newlst = [1] * (n + 1)\n",
    "            for i in range(n//2):  # 左半邊計算 右半邊複製貼上\n",
    "                newlst[i+1] = lst[-1][i] + lst[-1][i+1]\n",
    "            newlst[(n+1)//2:] = newlst[:(n+1)-(n+1)//2][::-1]\n",
    "            lst.append(newlst)\n",
    "        return lst\n",
    "    \n",
    "#############################################################################################        \n",
    "\n",
    "    def generate2(self, numRows):\n",
    "        lst = []\n",
    "        for i in range(numRows):\n",
    "            lst.append(self.generate_numRows(i+1))\n",
    "        return lst\n",
    "    \n",
    "    def generate_numRows(self, num): # 遞迴生成\n",
    "        if num == 1:\n",
    "            return [1] \n",
    "        elif num == 2:\n",
    "            return [1, 1]\n",
    "        else:\n",
    "            newlst = [1] * num\n",
    "            lst = self.generate_numRows(num-1)\n",
    "            for i in range(num-2):\n",
    "                newlst[i+1] = lst[i] + lst[i+1]\n",
    "            return newlst\n",
    "        "
   ]
  },
  {
   "cell_type": "code",
   "execution_count": 2,
   "metadata": {},
   "outputs": [
    {
     "data": {
      "text/plain": [
       "[[1], [1, 1], [1, 2, 1], [1, 3, 3, 1], [1, 4, 6, 4, 1]]"
      ]
     },
     "execution_count": 2,
     "metadata": {},
     "output_type": "execute_result"
    }
   ],
   "source": [
    "numRows = 5\n",
    "ans = Solution()\n",
    "ans.generate(numRows)"
   ]
  },
  {
   "cell_type": "code",
   "execution_count": 3,
   "metadata": {},
   "outputs": [],
   "source": [
    "numRows = 75"
   ]
  },
  {
   "cell_type": "code",
   "execution_count": 4,
   "metadata": {},
   "outputs": [
    {
     "name": "stdout",
     "output_type": "stream",
     "text": [
      "625 µs ± 12.6 µs per loop (mean ± std. dev. of 7 runs, 1000 loops each)\n"
     ]
    }
   ],
   "source": [
    "%%timeit\n",
    "ans.generate(numRows)"
   ]
  },
  {
   "cell_type": "code",
   "execution_count": 5,
   "metadata": {},
   "outputs": [
    {
     "name": "stdout",
     "output_type": "stream",
     "text": [
      "19.6 ms ± 737 µs per loop (mean ± std. dev. of 7 runs, 10 loops each)\n"
     ]
    }
   ],
   "source": [
    "%%timeit # 每 row 都遞迴生成 慢!!\n",
    "ans.generate2(numRows)"
   ]
  },
  {
   "cell_type": "code",
   "execution_count": 6,
   "metadata": {},
   "outputs": [
    {
     "name": "stdout",
     "output_type": "stream",
     "text": [
      "758 µs ± 7.01 µs per loop (mean ± std. dev. of 7 runs, 1000 loops each)\n"
     ]
    }
   ],
   "source": [
    "%%timeit # 最後一 row 都遞迴生成 等於生成一整個網格~  還要慢一點點\n",
    "ans.generate_numRows(numRows)"
   ]
  }
 ],
 "metadata": {
  "kernelspec": {
   "display_name": "Python 3",
   "language": "python",
   "name": "python3"
  },
  "language_info": {
   "codemirror_mode": {
    "name": "ipython",
    "version": 3
   },
   "file_extension": ".py",
   "mimetype": "text/x-python",
   "name": "python",
   "nbconvert_exporter": "python",
   "pygments_lexer": "ipython3",
   "version": "3.7.3"
  }
 },
 "nbformat": 4,
 "nbformat_minor": 2
}
