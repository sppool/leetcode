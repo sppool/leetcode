{
 "cells": [
  {
   "cell_type": "markdown",
   "metadata": {},
   "source": [
    "### K-th Smallest in Lexicographical Order"
   ]
  },
  {
   "cell_type": "raw",
   "metadata": {},
   "source": [
    "Given integers n and k, find the lexicographically k-th smallest integer in the range from 1 to n.\n",
    "Note: 1 ≤ k ≤ n ≤ 10^9.\n",
    "Example:\n",
    "Input:\n",
    "n: 13   k: 2\n",
    "Output:\n",
    "10\n",
    "\n",
    "Explanation: 字典排序 \n",
    "The lexicographical order is [1, 10, 11, 12, 13, 2, 3, 4, 5, 6, 7, 8, 9], so the second smallest number is 10."
   ]
  },
  {
   "cell_type": "code",
   "execution_count": 1,
   "metadata": {},
   "outputs": [],
   "source": [
    "class Solution:\n",
    "    def findKthNumber(self, n, k): # 55.88%\n",
    "        \"\"\"\n",
    "        :type n: int\n",
    "        :type k: int\n",
    "        :rtype: int\n",
    "        \"\"\"\n",
    "        self.lst = []\n",
    "        self.get_1st(n, k, 9) # 第一輪只有9位數(1~9)\n",
    "        num = 0\n",
    "        r = len(self.lst)\n",
    "        for ind, val in enumerate(self.lst):\n",
    "            num += (val*10**(r-1-ind))\n",
    "        return num\n",
    "    \n",
    "    def get_1st(self, n, k, digit): # 選出第一位數字\n",
    "        r = 0 # 10^r\n",
    "        num_lst = [0] * digit #創造一個開頭的 list\n",
    "        while n!=0: # 把 n 照順序排入 num_lst\n",
    "            for ind in range(len(num_lst)):\n",
    "                if n >= 10**r:\n",
    "                    num_lst[ind] += 10**r\n",
    "                    n -= 10**r\n",
    "                else:\n",
    "                    num_lst[ind] += n\n",
    "                    n -= n\n",
    "            r += 1\n",
    "            \n",
    "        ind = 0\n",
    "        while k > num_lst[ind]:\n",
    "            k -= num_lst[ind]\n",
    "            ind += 1\n",
    "        if digit == 10: # 位數有幾位ind不同\n",
    "            k_1st = ind # K-th 的第一位數字(開頭數字)\n",
    "        else:\n",
    "            k_1st = ind + 1 # K-th 的第一位數字(開頭數字)\n",
    "        \n",
    "        self.lst.append(k_1st)\n",
    "        n = num_lst[ind] - 1\n",
    "        k -= 1\n",
    "        \n",
    "        if k == 0:\n",
    "            return\n",
    "        self.get_1st(n, k, 10)\n",
    "        \n",
    "############################################## 以下暴力法 ##############################################\n",
    "    \n",
    "    def findKthNumber1(self, n, k): # OverMemory 列出表 (1/10)\n",
    "        digit_n = len(str(n)) # 位數\n",
    "        base = 0\n",
    "        ind = 0\n",
    "        while ind < digit_n-1:\n",
    "            base += 10**(ind)\n",
    "            ind +=1\n",
    "        num_lst = [base] * 9 # 初始化 每個數字開頭數量\n",
    "        num_end = n // 10**(digit_n-1) # n 的開頭\n",
    "        remainder = (n % 10**(digit_n-1)) + 1\n",
    "        for i in range(num_end):\n",
    "            if i + 1 == num_end:\n",
    "                num_lst[i] += remainder\n",
    "            else:\n",
    "                num_lst[i] += 10**(digit_n-1)\n",
    "        ind = 0\n",
    "        while k > num_lst[ind]:\n",
    "            k -= num_lst[ind]\n",
    "            ind += 1\n",
    "        k_1st = ind + 1 # K-th 的第一位數字(開頭數字)\n",
    "\n",
    "        lst = [] # 第一位數字的列表 生產開頭列表\n",
    "        for i in range(digit_n): # 合併 下面兩個迴圈 一次跑完\n",
    "            lst += list(range(k_1st*10**digit_n + (i + 1), (k_1st+1)*10**digit_n + (i + 1), 10**(digit_n-i)))\n",
    "            lst = lst[0:num_lst[ind]]\n",
    "        lst.sort()\n",
    "        num = lst[k-1]\n",
    "        return num//10**(digit_n - num%10 + 1)\n",
    "    \n",
    "    def findKthNumber2(self, n, k): # OverTime 列出表 (1/1)\n",
    "        digit_n = len(str(n))\n",
    "        lst = []\n",
    "        for x in range(1,n+1):\n",
    "            dn = len(str(x)) # 原來的位數\n",
    "            lst.append(x * 10**(digit_n - dn + 1) + dn) # 補到最大位數多一位數(多的位數補上原本位數)\n",
    "        lst.sort()\n",
    "        num = lst[k-1]\n",
    "        return num//10**(digit_n - num%10 + 1)\n"
   ]
  },
  {
   "cell_type": "code",
   "execution_count": 2,
   "metadata": {},
   "outputs": [
    {
     "data": {
      "text/plain": [
       "138377349"
      ]
     },
     "execution_count": 2,
     "metadata": {},
     "output_type": "execute_result"
    }
   ],
   "source": [
    "n = 804289384\n",
    "k = 42641503\n",
    "ans = Solution()\n",
    "ans.findKthNumber(n, k)"
   ]
  },
  {
   "cell_type": "code",
   "execution_count": 3,
   "metadata": {},
   "outputs": [
    {
     "name": "stdout",
     "output_type": "stream",
     "text": [
      "387 µs ± 7.39 µs per loop (mean ± std. dev. of 7 runs, 1000 loops each)\n"
     ]
    }
   ],
   "source": [
    "%%timeit\n",
    "ans.findKthNumber(n, k)"
   ]
  },
  {
   "cell_type": "code",
   "execution_count": 4,
   "metadata": {},
   "outputs": [
    {
     "name": "stdout",
     "output_type": "stream",
     "text": [
      "10.2 s ± 418 ms per loop (mean ± std. dev. of 7 runs, 1 loop each)\n"
     ]
    }
   ],
   "source": [
    "%%timeit\n",
    "ans.findKthNumber1(n, k)"
   ]
  }
 ],
 "metadata": {
  "kernelspec": {
   "display_name": "Python 3",
   "language": "python",
   "name": "python3"
  },
  "language_info": {
   "codemirror_mode": {
    "name": "ipython",
    "version": 3
   },
   "file_extension": ".py",
   "mimetype": "text/x-python",
   "name": "python",
   "nbconvert_exporter": "python",
   "pygments_lexer": "ipython3",
   "version": "3.7.3"
  }
 },
 "nbformat": 4,
 "nbformat_minor": 2
}
