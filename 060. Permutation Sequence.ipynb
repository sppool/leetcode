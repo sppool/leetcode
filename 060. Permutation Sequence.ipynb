{
 "cells": [
  {
   "cell_type": "markdown",
   "metadata": {},
   "source": [
    "### Permutation Sequence"
   ]
  },
  {
   "cell_type": "raw",
   "metadata": {},
   "source": [
    "The set [1,2,3,...,n] contains a total of n! unique permutations.\n",
    "By listing and labeling all of the permutations in order, we get the following sequence for n = 3:\n",
    "\n",
    "1. \"123\"\n",
    "2. \"132\"\n",
    "3. \"213\"\n",
    "4. \"231\"\n",
    "5. \"312\"\n",
    "6. \"321\"\n",
    "Given n and k, return the kth permutation sequence.\n",
    "Note:\n",
    "Given n will be between 1 and 9 inclusive.\n",
    "Given k will be between 1 and n! inclusive.\n",
    "\n",
    "Example 1:\n",
    "Input: n = 3, k = 3\n",
    "Output: \"213\"\n",
    "\n",
    "Example 2:\n",
    "Input: n = 4, k = 9\n",
    "Output: \"2314\""
   ]
  },
  {
   "cell_type": "code",
   "execution_count": 1,
   "metadata": {},
   "outputs": [],
   "source": [
    "class Solution:\n",
    "    def getPermutation(self, n, k): # n:element number\n",
    "        \"\"\"\n",
    "        :type n: int\n",
    "        :type k: int\n",
    "        :rtype: str\n",
    "        \"\"\"\n",
    "        lst = list(range(1, n+1)) # sort list 小到大\n",
    "        output = ''\n",
    "        k = k-1\n",
    "        num = self.factorial_func(n-1)\n",
    "        while n >= 1:\n",
    "            n -= 1\n",
    "            ind = k // num\n",
    "            k %= self.factorial_func(n)\n",
    "            output += str(lst.pop(ind))\n",
    "            if n == 0:\n",
    "                pass\n",
    "            else:\n",
    "                num = num // n\n",
    "        return output\n",
    "        \n",
    "    def factorial_func(self, n): # n*(n-1)*(n-2)*...*1\n",
    "        num = 1\n",
    "        while n > 1:\n",
    "            num *= n\n",
    "            n -= 1\n",
    "        return num"
   ]
  },
  {
   "cell_type": "code",
   "execution_count": 2,
   "metadata": {},
   "outputs": [
    {
     "data": {
      "text/plain": [
       "'2314'"
      ]
     },
     "execution_count": 2,
     "metadata": {},
     "output_type": "execute_result"
    }
   ],
   "source": [
    "n = 4\n",
    "k = 9\n",
    "ans = Solution()\n",
    "ans.getPermutation(n, k)"
   ]
  }
 ],
 "metadata": {
  "kernelspec": {
   "display_name": "Python 3",
   "language": "python",
   "name": "python3"
  },
  "language_info": {
   "codemirror_mode": {
    "name": "ipython",
    "version": 3
   },
   "file_extension": ".py",
   "mimetype": "text/x-python",
   "name": "python",
   "nbconvert_exporter": "python",
   "pygments_lexer": "ipython3",
   "version": "3.7.3"
  }
 },
 "nbformat": 4,
 "nbformat_minor": 2
}
