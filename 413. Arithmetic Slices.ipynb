{
 "cells": [
  {
   "cell_type": "markdown",
   "metadata": {},
   "source": [
    "### Arithmetic Slices"
   ]
  },
  {
   "cell_type": "raw",
   "metadata": {},
   "source": [
    "A sequence of number is called arithmetic if it consists of at least three elements and if the difference \n",
    "between any two consecutive elements is the same.\n",
    "For example, these are arithmetic sequence:\n",
    "1, 3, 5, 7, 9\n",
    "7, 7, 7, 7\n",
    "3, -1, -5, -9\n",
    "The following sequence is not arithmetic.\n",
    "1, 1, 2, 5, 7\n",
    "A zero-indexed array A consisting of N numbers is given. A slice of that array is any pair of integers (P, Q) such that 0 <= P < Q < N.\n",
    "A slice (P, Q) of array A is called arithmetic if the sequence:\n",
    "A[P], A[p + 1], ..., A[Q - 1], A[Q] is arithmetic. In particular, this means that P + 1 < Q.\n",
    "The function should return the number of arithmetic slices in the array A.\n",
    "\n",
    "Example:\n",
    "A = [1, 2, 3, 4]\n",
    "return: 3, \n",
    "for 3 arithmetic slices in A: [1, 2, 3], [2, 3, 4] and [1, 2, 3, 4] itself."
   ]
  },
  {
   "cell_type": "code",
   "execution_count": 1,
   "metadata": {},
   "outputs": [],
   "source": [
    "class Solution:\n",
    "    def numberOfArithmeticSlices(self, A): # 94.95%\n",
    "        \"\"\"\n",
    "        :type A: List[int]\n",
    "        :rtype: int\n",
    "        \"\"\"\n",
    "        def n_(n):\n",
    "            return (n * (n-1))//2\n",
    "        \n",
    "        d_lst = []\n",
    "        for ind in range(len(A)-1):\n",
    "            d_lst.append(A[ind+1] - A[ind])\n",
    "        n = 0\n",
    "        same_d = 1\n",
    "        for ind in range(len(d_lst)-1):\n",
    "            if d_lst[ind] == d_lst[ind+1]:\n",
    "                same_d += 1\n",
    "            else:\n",
    "                if same_d > 1:\n",
    "                    n += n_(same_d)\n",
    "                same_d = 1\n",
    "        if same_d > 1:\n",
    "            n += n_(same_d)\n",
    "        return n"
   ]
  },
  {
   "cell_type": "code",
   "execution_count": 2,
   "metadata": {},
   "outputs": [
    {
     "data": {
      "text/plain": [
       "2"
      ]
     },
     "execution_count": 2,
     "metadata": {},
     "output_type": "execute_result"
    }
   ],
   "source": [
    "A = [1,2,3,8,9,10]\n",
    "ans = Solution()\n",
    "ans.numberOfArithmeticSlices(A)"
   ]
  }
 ],
 "metadata": {
  "kernelspec": {
   "display_name": "Python 3",
   "language": "python",
   "name": "python3"
  },
  "language_info": {
   "codemirror_mode": {
    "name": "ipython",
    "version": 3
   },
   "file_extension": ".py",
   "mimetype": "text/x-python",
   "name": "python",
   "nbconvert_exporter": "python",
   "pygments_lexer": "ipython3",
   "version": "3.7.3"
  }
 },
 "nbformat": 4,
 "nbformat_minor": 2
}
