{
 "cells": [
  {
   "cell_type": "markdown",
   "metadata": {},
   "source": [
    "### Shortest Completing Word"
   ]
  },
  {
   "cell_type": "raw",
   "metadata": {},
   "source": [
    "Find the minimum length word from a given dictionary words, which has all the letters from the string licensePlate. \n",
    "Such a word is said to complete the given string licensePlate\n",
    "Here, for letters we ignore case. For example, \"P\" on the licensePlate still matches \"p\" on the word.\n",
    "It is guaranteed an answer exists. If there are multiple answers, return the one that occurs first in the array.\n",
    "The license plate might have the same letter occurring multiple times. For example, given a licensePlate of \"PP\", \n",
    "the word \"pair\" does not complete the licensePlate, but the word \"supper\" does.\n",
    "Example 1:\n",
    "Input: licensePlate = \"1s3 PSt\", words = [\"step\", \"steps\", \"stripe\", \"stepple\"]\n",
    "Output: \"steps\"\n",
    "Explanation: The smallest length word that contains the letters \"S\", \"P\", \"S\", and \"T\".\n",
    "Note that the answer is not \"step\", because the letter \"s\" must occur in the word twice.\n",
    "Also note that we ignored case for the purposes of comparing whether a letter exists in the word.\n",
    "\n",
    "Example 2:\n",
    "Input: licensePlate = \"1s3 456\", words = [\"looks\", \"pest\", \"stew\", \"show\"]\n",
    "Output: \"pest\"\n",
    "Explanation: There are 3 smallest length words that contains the letters \"s\".\n",
    "We return the one that occurred first.\n",
    "\n",
    "Note:\n",
    "1. licensePlate will be a string with length in range [1, 7].\n",
    "2. licensePlate will contain digits, spaces, or letters (uppercase or lowercase).\n",
    "3. words will have a length in the range [10, 1000].\n",
    "4. Every words[i] will consist of lowercase letters, and have length in range [1, 15]."
   ]
  },
  {
   "cell_type": "code",
   "execution_count": 1,
   "metadata": {},
   "outputs": [],
   "source": [
    "class Solution:\n",
    "    def shortestCompletingWord(self, licensePlate, words): # 90.21%\n",
    "        \"\"\"\n",
    "        :type licensePlate: str\n",
    "        :type words: List[str]\n",
    "        :rtype: str\n",
    "        \"\"\"\n",
    "        letter = \"abcdefghijklmnopqrstuvwxyz\"\n",
    "        lic = licensePlate.lower() # 改小寫\n",
    "        lic_dic = {} # 建立 licensePlate 字母 字典\n",
    "        for x in lic:\n",
    "            if x in letter:\n",
    "                if x not in lic_dic:\n",
    "                    lic_dic[x] = 1\n",
    "                else:\n",
    "                    lic_dic[x] += 1\n",
    "        word_lst = [] # 符合資格的 word (list)\n",
    "        word_len = [] # 符合資格的 word 的長度 (list)\n",
    "        for word in words:\n",
    "            if self.dic_in_word(word, lic_dic):\n",
    "                word_lst.append(word)\n",
    "                word_len.append(len(word))\n",
    "        ind = word_len.index(min(word_len)) # 找到最短長度的 index\n",
    "        return word_lst[ind]\n",
    "        \n",
    "    def dic_in_word(self, word, dic): # 配合 word 和 dict 檢查是否符合!!\n",
    "        cheak = 0\n",
    "        for key, val in dic.items():\n",
    "            if key not in word:\n",
    "                break\n",
    "            if word.count(key) < val:\n",
    "                break\n",
    "            cheak += 1\n",
    "        if cheak == len(dic):\n",
    "            return True\n",
    "        else:\n",
    "            return False"
   ]
  },
  {
   "cell_type": "code",
   "execution_count": 2,
   "metadata": {},
   "outputs": [
    {
     "data": {
      "text/plain": [
       "'steps'"
      ]
     },
     "execution_count": 2,
     "metadata": {},
     "output_type": "execute_result"
    }
   ],
   "source": [
    "licensePlate = \"1s3 PSt\"\n",
    "words = [\"step\", \"steps\", \"stripe\", \"stepple\"]\n",
    "ans = Solution()\n",
    "ans.shortestCompletingWord(licensePlate, words)"
   ]
  },
  {
   "cell_type": "code",
   "execution_count": 3,
   "metadata": {},
   "outputs": [
    {
     "data": {
      "text/plain": [
       "'pest'"
      ]
     },
     "execution_count": 3,
     "metadata": {},
     "output_type": "execute_result"
    }
   ],
   "source": [
    "licensePlate = \"1s3 456\"\n",
    "words = [\"looks\", \"pest\", \"stew\", \"show\"]\n",
    "ans = Solution()\n",
    "ans.shortestCompletingWord(licensePlate, words)"
   ]
  },
  {
   "cell_type": "code",
   "execution_count": 4,
   "metadata": {},
   "outputs": [
    {
     "data": {
      "text/plain": [
       "'important'"
      ]
     },
     "execution_count": 4,
     "metadata": {},
     "output_type": "execute_result"
    }
   ],
   "source": [
    "licensePlate = \"AN87005\"\n",
    "words = [\"participant\",\"individual\",\"start\",\"exist\",\"above\",\"already\",\"easy\",\"attack\",\"player\",\"important\"]\n",
    "ans = Solution()\n",
    "ans.shortestCompletingWord(licensePlate, words)"
   ]
  }
 ],
 "metadata": {
  "kernelspec": {
   "display_name": "Python 3",
   "language": "python",
   "name": "python3"
  },
  "language_info": {
   "codemirror_mode": {
    "name": "ipython",
    "version": 3
   },
   "file_extension": ".py",
   "mimetype": "text/x-python",
   "name": "python",
   "nbconvert_exporter": "python",
   "pygments_lexer": "ipython3",
   "version": "3.7.3"
  }
 },
 "nbformat": 4,
 "nbformat_minor": 2
}
