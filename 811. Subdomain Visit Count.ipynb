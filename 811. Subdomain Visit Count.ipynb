{
 "cells": [
  {
   "cell_type": "markdown",
   "metadata": {},
   "source": [
    "### Subdomain Visit Count"
   ]
  },
  {
   "cell_type": "raw",
   "metadata": {},
   "source": [
    "A website domain like \"discuss.leetcode.com\" consists of various subdomains. At the top level, we have \"com\", at the next level,\n",
    "we have \"leetcode.com\", and at the lowest level, \"discuss.leetcode.com\". When we visit a domain like \"discuss.leetcode.com\",\n",
    "we will also visit the parent domains \"leetcode.com\" and \"com\" implicitly.\n",
    "Now, call a \"count-paired domain\" to be a count (representing the number of visits this domain received), followed by a space,\n",
    "followed by the address. An example of a count-paired domain might be \"9001 discuss.leetcode.com\".\n",
    "We are given a list cpdomains of count-paired domains. We would like a list of count-paired domains,\n",
    "(in the same format as the input, and in any order), that explicitly counts the number of visits to each subdomain.\n",
    "Example 1:\n",
    "Input: [\"9001 discuss.leetcode.com\"]\n",
    "Output: [\"9001 discuss.leetcode.com\", \"9001 leetcode.com\", \"9001 com\"]\n",
    "Explanation: \n",
    "We only have one website domain: \"discuss.leetcode.com\". As discussed above, the subdomain \"leetcode.com\" and \"com\" will also be visited. So they will all be visited 9001 times.\n",
    "Example 2:\n",
    "Input: [\"900 google.mail.com\", \"50 yahoo.com\", \"1 intel.mail.com\", \"5 wiki.org\"]\n",
    "Output: [\"901 mail.com\",\"50 yahoo.com\",\"900 google.mail.com\",\"5 wiki.org\",\"5 org\",\"1 intel.mail.com\",\"951 com\"]\n",
    "Explanation: \n",
    "We will visit \"google.mail.com\" 900 times, \"yahoo.com\" 50 times, \"intel.mail.com\" once and \"wiki.org\" 5 times. For the subdomains, we will visit \"mail.com\" 900 + 1 = 901 times, \"com\" 900 + 50 + 1 = 951 times, and \"org\" 5 times.\n",
    "\n",
    "Notes:\n",
    "1. The length of cpdomains will not exceed 100. \n",
    "2. The length of each domain name will not exceed 100.\n",
    "3. Each address will have either 1 or 2 \".\" characters.\n",
    "4. The input count in any count-paired domain will not exceed 10000.\n",
    "5. The answer output can be returned in any order."
   ]
  },
  {
   "cell_type": "code",
   "execution_count": 1,
   "metadata": {},
   "outputs": [],
   "source": [
    "class Solution:\n",
    "    def subdomainVisits(self, cpdomains):\n",
    "        \"\"\"\n",
    "        :type cpdomains: List[str]\n",
    "        :rtype: List[str]\n",
    "        \"\"\"\n",
    "        url_dic = {}\n",
    "        for data in cpdomains:\n",
    "            num, url_lst = self.get_num_subweb(data)\n",
    "            for url in url_lst:\n",
    "                if url in url_dic:\n",
    "                    url_dic[url] += num\n",
    "                else:\n",
    "                    url_dic[url] = num\n",
    "        output = []\n",
    "        for url in url_dic:\n",
    "            output.append(str(url_dic[url]) + ' ' + url)\n",
    "        return output\n",
    "        \n",
    "    def get_num_subweb(self, data):\n",
    "        num, url = data.split(' ')\n",
    "        num = int(num)\n",
    "        lst = [url]\n",
    "        while url.find('.') != -1:\n",
    "            url = url[url.find('.') + 1:]\n",
    "            lst.append(url)\n",
    "        return num, lst\n",
    "        "
   ]
  },
  {
   "cell_type": "code",
   "execution_count": 2,
   "metadata": {},
   "outputs": [
    {
     "data": {
      "text/plain": [
       "['900 google.mail.com',\n",
       " '901 mail.com',\n",
       " '951 com',\n",
       " '50 yahoo.com',\n",
       " '1 intel.mail.com',\n",
       " '5 wiki.org',\n",
       " '5 org']"
      ]
     },
     "execution_count": 2,
     "metadata": {},
     "output_type": "execute_result"
    }
   ],
   "source": [
    "cpdomains = [\"900 google.mail.com\", \"50 yahoo.com\", \"1 intel.mail.com\", \"5 wiki.org\"]\n",
    "ans = Solution()\n",
    "ans.subdomainVisits(cpdomains)"
   ]
  }
 ],
 "metadata": {
  "kernelspec": {
   "display_name": "Python 3",
   "language": "python",
   "name": "python3"
  },
  "language_info": {
   "codemirror_mode": {
    "name": "ipython",
    "version": 3
   },
   "file_extension": ".py",
   "mimetype": "text/x-python",
   "name": "python",
   "nbconvert_exporter": "python",
   "pygments_lexer": "ipython3",
   "version": "3.7.3"
  }
 },
 "nbformat": 4,
 "nbformat_minor": 2
}
