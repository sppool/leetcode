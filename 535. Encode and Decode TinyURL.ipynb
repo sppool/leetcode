{
 "cells": [
  {
   "cell_type": "markdown",
   "metadata": {},
   "source": [
    "### Encode and Decode TinyURL"
   ]
  },
  {
   "cell_type": "raw",
   "metadata": {},
   "source": [
    "Note: This is a companion problem to the System Design problem: Design TinyURL.\n",
    "TinyURL is a URL shortening service where you enter a URL such as \"https://leetcode.com/problems/design-tinyurl\" and it returns a short URL such as \"http://tinyurl.com/4e9iAk\".\n",
    "\n",
    "Design the encode and decode methods for the TinyURL service. There is no restriction on how your encode/decode algorithm should work. You just need to ensure that a URL can be encoded to a tiny URL and the tiny URL can be decoded to the original URL."
   ]
  },
  {
   "cell_type": "code",
   "execution_count": 1,
   "metadata": {},
   "outputs": [],
   "source": [
    "import random\n",
    "class Codec: # 62.80%\n",
    "    def __init__(self):\n",
    "        self.URL_dic = {}\n",
    "        self.letter = 'abcdefghijklmnopqrstuvwxyz0123456789ABCDEFGHIJKLMNOPQRSTUVWXYZ'\n",
    "        \n",
    "    def encode(self, longUrl):\n",
    "        code = ''.join(random.sample(self.letter, 6))\n",
    "        self.URL_dic[code] = longUrl\n",
    "        return 'http://tinyurl.com/' + code\n",
    "        \n",
    "    def decode(self, shortUrl):\n",
    "        code = shortUrl[-6:]\n",
    "        return self.URL_dic[code]"
   ]
  },
  {
   "cell_type": "code",
   "execution_count": 2,
   "metadata": {},
   "outputs": [],
   "source": [
    "URL = \"https://leetcode.com/problems/design-tinyurl\"\n",
    "ans = Codec()"
   ]
  },
  {
   "cell_type": "code",
   "execution_count": 3,
   "metadata": {},
   "outputs": [
    {
     "name": "stdout",
     "output_type": "stream",
     "text": [
      "URL: https://leetcode.com/problems/design-tinyurl\n",
      "TinyURL: http://tinyurl.com/vsmceh\n",
      "O_URL: https://leetcode.com/problems/design-tinyurl\n"
     ]
    }
   ],
   "source": [
    "TinyURL = ans.encode(URL)\n",
    "O_URL = ans.decode(TinyURL)\n",
    "print('URL:', URL)\n",
    "print('TinyURL:', TinyURL)\n",
    "print('O_URL:', O_URL)"
   ]
  },
  {
   "cell_type": "code",
   "execution_count": 4,
   "metadata": {},
   "outputs": [
    {
     "data": {
      "text/plain": [
       "{'vsmceh': 'https://leetcode.com/problems/design-tinyurl'}"
      ]
     },
     "execution_count": 4,
     "metadata": {},
     "output_type": "execute_result"
    }
   ],
   "source": [
    "ans.URL_dic"
   ]
  }
 ],
 "metadata": {
  "kernelspec": {
   "display_name": "Python 3",
   "language": "python",
   "name": "python3"
  },
  "language_info": {
   "codemirror_mode": {
    "name": "ipython",
    "version": 3
   },
   "file_extension": ".py",
   "mimetype": "text/x-python",
   "name": "python",
   "nbconvert_exporter": "python",
   "pygments_lexer": "ipython3",
   "version": "3.7.3"
  }
 },
 "nbformat": 4,
 "nbformat_minor": 2
}
