{
 "cells": [
  {
   "cell_type": "markdown",
   "metadata": {},
   "source": [
    "### Hamming Distance"
   ]
  },
  {
   "cell_type": "raw",
   "metadata": {},
   "source": [
    "The Hamming distance between two integers is the number of positions at which the corresponding bits are different.\n",
    "Given two integers x and y, calculate the Hamming distance.\n",
    "Note: 0 ≤ x, y < 231.\n",
    "\n",
    "Example:\n",
    "Input: x = 1, y = 4\n",
    "Output: 2\n",
    "Explanation:\n",
    "1   (0 0 0 1)\n",
    "4   (0 1 0 0)\n",
    "       ↑  ↑\n",
    "The above arrows point to positions where the corresponding bits are different.'''"
   ]
  },
  {
   "cell_type": "code",
   "execution_count": 1,
   "metadata": {},
   "outputs": [],
   "source": [
    "class Solution:\n",
    "    def hammingDistance(self, x, y):\n",
    "        \"\"\"\n",
    "        :type x: int\n",
    "        :type y: int\n",
    "        :rtype: int\n",
    "        \"\"\"\n",
    "        bin_x = self.bin_(x, 32)\n",
    "        bin_y = self.bin_(y, 32)\n",
    "        \n",
    "        n = 0\n",
    "        for i in range(32):\n",
    "            if bin_x[i] != bin_y[i]:\n",
    "                n += 1\n",
    "        return n\n",
    "        \n",
    "    def bin_(self, x, num):\n",
    "        return bin(x)[2:].zfill(num)"
   ]
  },
  {
   "cell_type": "code",
   "execution_count": 2,
   "metadata": {},
   "outputs": [
    {
     "data": {
      "text/plain": [
       "2"
      ]
     },
     "execution_count": 2,
     "metadata": {},
     "output_type": "execute_result"
    }
   ],
   "source": [
    "x = 1\n",
    "y = 4\n",
    "ans = Solution()\n",
    "ans.hammingDistance(x, y)"
   ]
  }
 ],
 "metadata": {
  "kernelspec": {
   "display_name": "Python 3",
   "language": "python",
   "name": "python3"
  },
  "language_info": {
   "codemirror_mode": {
    "name": "ipython",
    "version": 3
   },
   "file_extension": ".py",
   "mimetype": "text/x-python",
   "name": "python",
   "nbconvert_exporter": "python",
   "pygments_lexer": "ipython3",
   "version": "3.7.3"
  }
 },
 "nbformat": 4,
 "nbformat_minor": 2
}
