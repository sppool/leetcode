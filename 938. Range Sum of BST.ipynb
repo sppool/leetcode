{
 "cells": [
  {
   "cell_type": "markdown",
   "metadata": {},
   "source": [
    "### Range Sum of BST"
   ]
  },
  {
   "cell_type": "raw",
   "metadata": {},
   "source": [
    "Given the root node of a binary search tree, return the sum of values of all nodes with value between L and R (inclusive).\n",
    "The binary search tree is guaranteed to have unique values.\n",
    "Example 1:\n",
    "Input: root = [10,5,15,3,7,null,18], L = 7, R = 15\n",
    "Output: 32\n",
    "Example 2:\n",
    "Input: root = [10,5,15,3,7,13,18,1,null,6], L = 6, R = 10\n",
    "Output: 23\n",
    "Note:\n",
    "1. The number of nodes in the tree is at most 10000.\n",
    "2. The final answer is guaranteed to be less than 2^31.\n",
    "\n",
    "binary search tree: 二元搜尋樹, 有特別排列的二元樹"
   ]
  },
  {
   "cell_type": "markdown",
   "metadata": {},
   "source": [
    "二元搜尋樹: https://zh.wikipedia.org/wiki/%E4%BA%8C%E5%85%83%E6%90%9C%E5%B0%8B%E6%A8%B9\n",
    "![Image of Yaktocat](https://upload.wikimedia.org/wikipedia/commons/d/da/Binary_search_tree.svg)"
   ]
  },
  {
   "cell_type": "code",
   "execution_count": 1,
   "metadata": {},
   "outputs": [],
   "source": [
    "class TreeNode: # Binary Tree\n",
    "    def __init__ (self, x):\n",
    "        self.val = x\n",
    "        self.left = None\n",
    "        self.right = None\n",
    "        \n",
    "    def insert(self, left=None, right=None):\n",
    "        if left:\n",
    "            self.left = TreeNode(left)\n",
    "        if right:\n",
    "            self.right = TreeNode(right)\n",
    "            \n",
    "class Solution: # 100%\n",
    "    def rangeSumBST(self, root, L, R):\n",
    "        self.num = 0\n",
    "        self.min = L\n",
    "        self.max = R\n",
    "        self.order(root)\n",
    "        return self.num\n",
    "    def order(self, root):\n",
    "        if root:\n",
    "            val = root.val\n",
    "            if self.min <= val <= self.max:\n",
    "                self.num += val\n",
    "                self.order(root.left)\n",
    "                self.order(root.right)\n",
    "            elif root.val < self.min:\n",
    "                self.order(root.right)\n",
    "            else: # root.val > self.max:\n",
    "                self.order(root.left)"
   ]
  },
  {
   "cell_type": "code",
   "execution_count": 2,
   "metadata": {},
   "outputs": [
    {
     "data": {
      "text/plain": [
       "32"
      ]
     },
     "execution_count": 2,
     "metadata": {},
     "output_type": "execute_result"
    }
   ],
   "source": [
    "root = TreeNode(10)\n",
    "root.insert(5, 15)\n",
    "root.left.insert(3, 7)\n",
    "root.right.insert(right = 18)\n",
    "L = 7\n",
    "R = 15\n",
    "ans = Solution()\n",
    "ans.rangeSumBST(root, L, R)"
   ]
  },
  {
   "cell_type": "code",
   "execution_count": 3,
   "metadata": {},
   "outputs": [
    {
     "name": "stdout",
     "output_type": "stream",
     "text": [
      "1.98 µs ± 55.9 ns per loop (mean ± std. dev. of 7 runs, 1000000 loops each)\n"
     ]
    }
   ],
   "source": [
    "%%timeit\n",
    "ans.rangeSumBST(root, L, R)"
   ]
  }
 ],
 "metadata": {
  "kernelspec": {
   "display_name": "Python 3",
   "language": "python",
   "name": "python3"
  },
  "language_info": {
   "codemirror_mode": {
    "name": "ipython",
    "version": 3
   },
   "file_extension": ".py",
   "mimetype": "text/x-python",
   "name": "python",
   "nbconvert_exporter": "python",
   "pygments_lexer": "ipython3",
   "version": "3.7.3"
  }
 },
 "nbformat": 4,
 "nbformat_minor": 2
}
