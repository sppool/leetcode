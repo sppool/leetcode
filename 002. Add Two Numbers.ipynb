{
 "cells": [
  {
   "cell_type": "markdown",
   "metadata": {},
   "source": [
    "### Add Two Numbers"
   ]
  },
  {
   "cell_type": "raw",
   "metadata": {},
   "source": [
    "You are given two non-empty linked lists representing two non-negative integers. The digits are stored in reverse order and each of their nodes contain a single digit. Add the two numbers and return it as a linked list.\n",
    "You may assume the two numbers do not contain any leading zero, except the number 0 itself.\n",
    "Example:\n",
    "Input: (2 -> 4 -> 3) + (5 -> 6 -> 4)\n",
    "Output: 7 -> 0 -> 8\n",
    "Explanation: 342 + 465 = 807."
   ]
  },
  {
   "cell_type": "code",
   "execution_count": 1,
   "metadata": {},
   "outputs": [],
   "source": [
    "class ListNode: # 條件鏈表\n",
    "    def __init__(self, x):\n",
    "        self.val = x\n",
    "        self.next = None\n",
    "        \n",
    "    def list2node(lst): # 生成鏈表\n",
    "        res = ListNode(lst[0])\n",
    "        var = res\n",
    "        for x in lst[1:]:\n",
    "            var.next = ListNode(x)\n",
    "            var = var.next\n",
    "        return res\n",
    "    def node2list(l): # 顯使鏈表\n",
    "        lst = []\n",
    "        node = l\n",
    "        while node != None:\n",
    "            lst.append(node.val)\n",
    "            node = node.next\n",
    "        return lst\n",
    "\n",
    "class Solution:\n",
    "    def addTwoNumbers(self, l1, l2): # 80.68%\n",
    "        num = self.node2num(l1) + self.node2num(l2)\n",
    "        print(num)\n",
    "        s = len(str(num))\n",
    "        n = 0\n",
    "        node = ListNode(0)\n",
    "        v = node\n",
    "        for x in str(num)[::-1]: # 倒過來\n",
    "            v.val = int(x)\n",
    "            n += 1\n",
    "            if n == s:\n",
    "                break\n",
    "            v.next = ListNode(0)\n",
    "            v = v.next\n",
    "        return node\n",
    "    \n",
    "    def node2num(self, l): # 作弊 提取出來 \" + \"\n",
    "        num = 0\n",
    "        n = 1\n",
    "        node = l\n",
    "        while node != None:\n",
    "            num += node.val*n\n",
    "            n *= 10\n",
    "            node = node.next\n",
    "        return num\n",
    "    \n",
    "    def addTwoNumbers1(self, l1, l2): # 克服 L1, l2 位數不同 相加困難!!\n",
    "        node1, node2 = l1, l2\n",
    "        plus_one = 0\n",
    "        node =  ListNode(0)\n",
    "        var = node\n",
    "        while node1 != None and node2 != None:\n",
    "            num = (node1.val + node2.val)\n",
    "            var.val += (num % 10)\n",
    "            var.next = ListNode(num // 10)\n",
    "            v = var\n",
    "            var = var.next\n",
    "            node1, node2 = node1.next, node2.next\n",
    "        if var.val == 0:\n",
    "            v.next = None\n",
    "        return node"
   ]
  },
  {
   "cell_type": "code",
   "execution_count": 2,
   "metadata": {},
   "outputs": [
    {
     "name": "stdout",
     "output_type": "stream",
     "text": [
      "807\n"
     ]
    }
   ],
   "source": [
    "l1 = ListNode.list2node([2, 4, 3])\n",
    "l2 = ListNode.list2node([5, 6, 4])\n",
    "ans = Solution()\n",
    "node = ans.addTwoNumbers(l1, l2)"
   ]
  },
  {
   "cell_type": "code",
   "execution_count": 3,
   "metadata": {},
   "outputs": [
    {
     "data": {
      "text/plain": [
       "[7, 0, 8]"
      ]
     },
     "execution_count": 3,
     "metadata": {},
     "output_type": "execute_result"
    }
   ],
   "source": [
    "ListNode.node2list(node)"
   ]
  }
 ],
 "metadata": {
  "kernelspec": {
   "display_name": "Python 3",
   "language": "python",
   "name": "python3"
  },
  "language_info": {
   "codemirror_mode": {
    "name": "ipython",
    "version": 3
   },
   "file_extension": ".py",
   "mimetype": "text/x-python",
   "name": "python",
   "nbconvert_exporter": "python",
   "pygments_lexer": "ipython3",
   "version": "3.7.3"
  }
 },
 "nbformat": 4,
 "nbformat_minor": 2
}
