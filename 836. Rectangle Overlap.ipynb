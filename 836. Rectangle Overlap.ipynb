{
 "cells": [
  {
   "cell_type": "markdown",
   "metadata": {},
   "source": [
    "### Rectangle Overlap"
   ]
  },
  {
   "cell_type": "raw",
   "metadata": {},
   "source": [
    "A rectangle is represented as a list [x1, y1, x2, y2], where (x1, y1) are the coordinates of its bottom-left corner,\n",
    "and (x2, y2) are the coordinates of its top-right corner.\n",
    "Two rectangles overlap if the area of their intersection is positive.\n",
    "To be clear, two rectangles that only touch at the corner or edges do not overlap.\n",
    "Given two (axis-aligned) rectangles, return whether they overlap.\n",
    "Example 1:\n",
    "Input: rec1 = [0,0,2,2], rec2 = [1,1,3,3]\n",
    "Output: true \n",
    "Example 2:\n",
    "Input: rec1 = [0,0,1,1], rec2 = [1,0,2,1]\n",
    "Output: false\n",
    "    \n",
    "Notes:\n",
    "1. Both rectangles rec1 and rec2 are lists of 4 integers.\n",
    "2. All coordinates in rectangles will be between -10^9 and 10^9."
   ]
  },
  {
   "cell_type": "code",
   "execution_count": 1,
   "metadata": {},
   "outputs": [],
   "source": [
    "class Solution:\n",
    "    def isRectangleOverlap(self, rec1, rec2):\n",
    "        \"\"\"\n",
    "        :type rec1: List[int]\n",
    "        :type rec2: List[int]\n",
    "        :rtype: bool\n",
    "        \"\"\"\n",
    "        bool_ = not (rec2[0] >=rec1[2] or rec2[1] >=rec1[3] or rec2[2] <=rec1[0] or rec2[3] <=rec1[1])\n",
    "        return bool_\n",
    "        "
   ]
  },
  {
   "cell_type": "code",
   "execution_count": 2,
   "metadata": {},
   "outputs": [
    {
     "data": {
      "text/plain": [
       "True"
      ]
     },
     "execution_count": 2,
     "metadata": {},
     "output_type": "execute_result"
    }
   ],
   "source": [
    "rec1 = [7,8,13,15]\n",
    "rec2 = [10,8,12,20]\n",
    "ans = Solution()\n",
    "ans.isRectangleOverlap(rec1, rec2)"
   ]
  }
 ],
 "metadata": {
  "kernelspec": {
   "display_name": "Python 3",
   "language": "python",
   "name": "python3"
  },
  "language_info": {
   "codemirror_mode": {
    "name": "ipython",
    "version": 3
   },
   "file_extension": ".py",
   "mimetype": "text/x-python",
   "name": "python",
   "nbconvert_exporter": "python",
   "pygments_lexer": "ipython3",
   "version": "3.7.3"
  }
 },
 "nbformat": 4,
 "nbformat_minor": 2
}
