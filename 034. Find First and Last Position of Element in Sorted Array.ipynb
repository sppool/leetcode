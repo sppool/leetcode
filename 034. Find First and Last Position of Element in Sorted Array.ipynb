{
 "cells": [
  {
   "cell_type": "markdown",
   "metadata": {},
   "source": [
    "### Find First and Last Position of Element in Sorted Array"
   ]
  },
  {
   "cell_type": "raw",
   "metadata": {},
   "source": [
    "Given an array of integers nums sorted in ascending order, find the starting and ending position of a given target value.\n",
    "Your algorithm's runtime complexity must be in the order of O(log n).\n",
    "If the target is not found in the array, return [-1, -1].\n",
    "\n",
    "Example 1:\n",
    "Input: nums = [5,7,7,8,8,10], target = 8\n",
    "Output: [3,4]\n",
    "Example 2:\n",
    "Input: nums = [5,7,7,8,8,10], target = 6\n",
    "Output: [-1,-1]"
   ]
  },
  {
   "cell_type": "code",
   "execution_count": 1,
   "metadata": {},
   "outputs": [],
   "source": [
    "class Solution: # 87.35%\n",
    "    def searchRange(self, nums, target): # 87.35%\n",
    "        for ind, val in enumerate(nums):\n",
    "            if val == target:\n",
    "                i = ind\n",
    "                break\n",
    "            else: pass\n",
    "        try: i # 沒有找到 target\n",
    "        except:\n",
    "            return [-1, -1]\n",
    "        if not nums[i+1:]:\n",
    "            return [i, i]\n",
    "        if nums[-1] == target:\n",
    "            return [i, len(nums) - 1]\n",
    "        for ind, val in enumerate(nums[i+1:]):\n",
    "            if val != target:\n",
    "                j = i + ind\n",
    "                break\n",
    "            else: pass\n",
    "        return [i, j]\n",
    "\n",
    "    def searchRange2(self, nums, target): # 35.71%\n",
    "        l = len(nums)\n",
    "        for ind, val in enumerate(nums):\n",
    "            if val == target:\n",
    "                i = ind\n",
    "                break\n",
    "            else: pass \n",
    "        try: i # 沒有找到 target\n",
    "        except:\n",
    "            return [-1, -1]        \n",
    "        for ind, val in enumerate(nums[i:][::-1]):\n",
    "            if val == target:\n",
    "                j = l - 1 - ind\n",
    "                break\n",
    "            else: pass         \n",
    "        return [i, j]"
   ]
  },
  {
   "cell_type": "code",
   "execution_count": 2,
   "metadata": {},
   "outputs": [
    {
     "data": {
      "text/plain": [
       "[-1, -1]"
      ]
     },
     "execution_count": 2,
     "metadata": {},
     "output_type": "execute_result"
    }
   ],
   "source": [
    "nums = [5,7,7,8,8,10]\n",
    "target = 55\n",
    "ans = Solution()\n",
    "ans.searchRange(nums, target)"
   ]
  },
  {
   "cell_type": "code",
   "execution_count": 3,
   "metadata": {},
   "outputs": [
    {
     "name": "stdout",
     "output_type": "stream",
     "text": [
      "852 ns ± 44.8 ns per loop (mean ± std. dev. of 7 runs, 1000000 loops each)\n"
     ]
    }
   ],
   "source": [
    "%%timeit\n",
    "ans.searchRange(nums, target)"
   ]
  },
  {
   "cell_type": "code",
   "execution_count": 4,
   "metadata": {},
   "outputs": [
    {
     "name": "stdout",
     "output_type": "stream",
     "text": [
      "956 ns ± 51.6 ns per loop (mean ± std. dev. of 7 runs, 1000000 loops each)\n"
     ]
    }
   ],
   "source": [
    "%%timeit\n",
    "ans.searchRange2(nums, target)"
   ]
  }
 ],
 "metadata": {
  "kernelspec": {
   "display_name": "Python 3",
   "language": "python",
   "name": "python3"
  },
  "language_info": {
   "codemirror_mode": {
    "name": "ipython",
    "version": 3
   },
   "file_extension": ".py",
   "mimetype": "text/x-python",
   "name": "python",
   "nbconvert_exporter": "python",
   "pygments_lexer": "ipython3",
   "version": "3.7.3"
  }
 },
 "nbformat": 4,
 "nbformat_minor": 2
}
