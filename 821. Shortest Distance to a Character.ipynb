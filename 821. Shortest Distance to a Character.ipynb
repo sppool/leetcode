{
 "cells": [
  {
   "cell_type": "markdown",
   "metadata": {},
   "source": [
    "### Shortest Distance to a Character"
   ]
  },
  {
   "cell_type": "raw",
   "metadata": {},
   "source": [
    "Given a string S and a character C, return an array of integers representing the shortest distance from the character C \n",
    "in the string.\n",
    "Example 1: # S 的每個字元離字元 C 的距離!!\n",
    "Input: S = \"loveleetcode\", C = 'e'\n",
    "Output: [3, 2, 1, 0, 1, 0, 0, 1, 2, 2, 1, 0]\n",
    " \n",
    "Note:\n",
    "1. S string length is in [1, 10000].\n",
    "2. C is a single character, and guaranteed to be in string S.\n",
    "3. All letters in S and C are lowercase."
   ]
  },
  {
   "cell_type": "code",
   "execution_count": 1,
   "metadata": {},
   "outputs": [],
   "source": [
    "class Solution:\n",
    "    def shortestToChar(self, S, C): # 61.20%\n",
    "        \"\"\"\n",
    "        :type S: str\n",
    "        :type C: str\n",
    "        :rtype: List[int]\n",
    "        \"\"\"\n",
    "        C_lst = []\n",
    "        for i, x in enumerate(S):\n",
    "            if x == C:\n",
    "                C_lst.append(i)\n",
    "        C_lst.append(C_lst[-1]) # 補上一位, 同最後一位, 免得爆掉index\n",
    "        lst = []\n",
    "        ind = 0\n",
    "        for i in range(len(S)):\n",
    "            if i == C_lst[ind]:\n",
    "                lst.append(0)\n",
    "                ind += 1\n",
    "            else:\n",
    "                lst.append(min(abs(C_lst[ind]-i), abs(i-C_lst[ind-1]))) # 在指定的字元 C 中取小的inedex差距\n",
    "        return lst\n",
    "        \n",
    "    def shortestToChar1(self, S, C): # 32.56%\n",
    "        C_lst = []\n",
    "        for i, x in enumerate(S):\n",
    "            if x == C:\n",
    "                C_lst.append(i)\n",
    "\n",
    "        lst = []\n",
    "        for i in range(len(S)):\n",
    "            Ci_lst = []\n",
    "            for C_i in C_lst:\n",
    "                Ci_lst.append(abs(C_i - i))\n",
    "            lst.append(min(Ci_lst))\n",
    "            \n",
    "        return lst"
   ]
  },
  {
   "cell_type": "code",
   "execution_count": 2,
   "metadata": {},
   "outputs": [
    {
     "data": {
      "text/plain": [
       "[3, 2, 1, 0, 1, 0, 0, 1, 2, 2, 1, 0]"
      ]
     },
     "execution_count": 2,
     "metadata": {},
     "output_type": "execute_result"
    }
   ],
   "source": [
    "S = \"loveleetcode\"\n",
    "C = 'e'\n",
    "ans = Solution()\n",
    "ans.shortestToChar(S, C)"
   ]
  }
 ],
 "metadata": {
  "kernelspec": {
   "display_name": "Python 3",
   "language": "python",
   "name": "python3"
  },
  "language_info": {
   "codemirror_mode": {
    "name": "ipython",
    "version": 3
   },
   "file_extension": ".py",
   "mimetype": "text/x-python",
   "name": "python",
   "nbconvert_exporter": "python",
   "pygments_lexer": "ipython3",
   "version": "3.7.3"
  }
 },
 "nbformat": 4,
 "nbformat_minor": 2
}
