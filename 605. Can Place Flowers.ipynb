{
 "cells": [
  {
   "cell_type": "markdown",
   "metadata": {},
   "source": [
    "### Can Place Flowers"
   ]
  },
  {
   "cell_type": "raw",
   "metadata": {},
   "source": [
    "Suppose you have a long flowerbed in which some of the plots are planted and some are not. However, flowers cannot be planted in adjacent plots - they would compete for water and both would die.\n",
    "Given a flowerbed (represented as an array containing 0 and 1, where 0 means empty and 1 means not empty), and a number n, return if n new flowers can be planted in it without violating the no-adjacent-flowers rule.\n",
    "Example 1:\n",
    "Input: flowerbed = [1,0,0,0,1], n = 1\n",
    "Output: True\n",
    "Example 2:\n",
    "Input: flowerbed = [1,0,0,0,1], n = 2\n",
    "Output: False\n",
    "Note:\n",
    "1. The input array won't violate no-adjacent-flowers rule.\n",
    "2. The input array size is in the range of [1, 20000].\n",
    "3. n is a non-negative integer which won't exceed the input array size."
   ]
  },
  {
   "cell_type": "code",
   "execution_count": 1,
   "metadata": {},
   "outputs": [],
   "source": [
    "import math # math.ceil( ) 無條件進位 int\n",
    "class Solution: # 96.68% \n",
    "    def canPlaceFlowers(self, flowerbed, n):\n",
    "        flowerbed.append(0) # 前後頭塞進一個 0\n",
    "        flowerbed.insert(0, 0)\n",
    "        z = 0\n",
    "        count = 0\n",
    "        for x in flowerbed:\n",
    "            if x == 0:\n",
    "                z += 1 # 連續0的數目\n",
    "            else: # x = 1\n",
    "                count += (math.ceil(z / 2) - 1) # {1:0, 2:0, 3:1, 4:1, 5:2, 6:2 .......}\n",
    "                z = 0\n",
    "        count += (math.ceil(z / 2) - 1) # 最後一回合一定是 0\n",
    "        return count >= n"
   ]
  },
  {
   "cell_type": "code",
   "execution_count": 2,
   "metadata": {},
   "outputs": [
    {
     "data": {
      "text/plain": [
       "True"
      ]
     },
     "execution_count": 2,
     "metadata": {},
     "output_type": "execute_result"
    }
   ],
   "source": [
    "flowerbed = [1,0,0,0,1]\n",
    "n = 1\n",
    "ans = Solution()\n",
    "ans.canPlaceFlowers(flowerbed, n)"
   ]
  }
 ],
 "metadata": {
  "kernelspec": {
   "display_name": "Python 3",
   "language": "python",
   "name": "python3"
  },
  "language_info": {
   "codemirror_mode": {
    "name": "ipython",
    "version": 3
   },
   "file_extension": ".py",
   "mimetype": "text/x-python",
   "name": "python",
   "nbconvert_exporter": "python",
   "pygments_lexer": "ipython3",
   "version": "3.7.3"
  }
 },
 "nbformat": 4,
 "nbformat_minor": 2
}
