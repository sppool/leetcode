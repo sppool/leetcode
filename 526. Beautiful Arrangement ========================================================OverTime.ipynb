{
 "cells": [
  {
   "cell_type": "markdown",
   "metadata": {},
   "source": [
    "### Beautiful Arrangement"
   ]
  },
  {
   "cell_type": "raw",
   "metadata": {},
   "source": [
    "Suppose you have N integers from 1 to N. We define a beautiful arrangement as an array that is constructed by these \n",
    "N numbers successfully if one of the following is true for the ith position (1 <= i <= N) in this array:\n",
    "The number at the ith position is divisible by i.\n",
    "i is divisible by the number at the ith position.\n",
    "Now given N, how many beautiful arrangements can you construct?\n",
    "\n",
    "Example 1: # 輸出有幾個符合條件的排列!!\n",
    "Input: 2 \n",
    "Output: 2\n",
    "Explanation: \n",
    "The first beautiful arrangement is [1, 2]: # [1, 2], [2, 1] 都符合, 本身數字 和 位置(index+1)可互相整除!!\n",
    "Number at the 1st position (i=1) is 1, and 1 is divisible by i (i=1).\n",
    "Number at the 2nd position (i=2) is 2, and 2 is divisible by i (i=2).\n",
    "The second beautiful arrangement is [2, 1]:\n",
    "Number at the 1st position (i=1) is 2, and 2 is divisible by i (i=1).\n",
    "Number at the 2nd position (i=2) is 1, and i (i=2) is divisible by 1.\n",
    "\n",
    "Note: N is a positive integer and will not exceed 15. # N 不超過15"
   ]
  },
  {
   "cell_type": "code",
   "execution_count": 2,
   "metadata": {},
   "outputs": [],
   "source": [
    "class Solution:\n",
    "    def countArrangement(self, N): # OverTime\n",
    "        \"\"\"\n",
    "        :type N: int\n",
    "        :rtype: int\n",
    "        \"\"\"\n",
    "        \n",
    "        \n",
    "        \n",
    "        \n",
    "        \n",
    "########################################################################################################################\n",
    "\n",
    "    def countArrangement2(self, N): # OverTime\n",
    "        def run(ind, res_lst):\n",
    "            if ind > N:\n",
    "                #print('get~~~~~~~~~~~~~~~~~~~~~~~~~~~~~~~~')\n",
    "                self.n += 1\n",
    "                return\n",
    "            choice = sorted(list(set(res_lst) & self.dic[ind]))\n",
    "            if not choice:\n",
    "                #print('break')\n",
    "                return\n",
    "            for num in choice:\n",
    "                new_choice = res_lst[:]\n",
    "                #print('ind:', ind, 'num:', num, 'choice:', choice)\n",
    "                new_choice.remove(num)\n",
    "                run(ind+1, new_choice[:])\n",
    "                \n",
    "        self.dic = {1:{1, 2, 3, 4, 5, 6, 7, 8, 9, 10, 11, 12, 13, 14, 15}, 2:{1, 2, 4, 6, 8, 10, 12, 14},\n",
    "                    3:{1, 3, 6, 9, 12, 15}, 4:{1, 2, 4, 8, 12},5:{1, 5, 10, 15}, 6:{1, 2, 3, 6, 12}, 7:{1, 7, 14},\n",
    "                    8:{1, 2, 4, 8}, 9:{1, 3, 9}, 10:{1, 2, 5, 10}, 11:{1, 11}, 12:{1, 2, 3, 4, 6, 12}, 13:{1, 13},\n",
    "                    14:{1, 2, 7, 14}, 15:{1, 3, 5, 15}}\n",
    "        lst = list(range(1, N+1))\n",
    "        self.n = 0\n",
    "        run(1, lst)\n",
    "        return self.n"
   ]
  },
  {
   "cell_type": "code",
   "execution_count": 3,
   "metadata": {},
   "outputs": [
    {
     "data": {
      "text/plain": [
       "24679"
      ]
     },
     "execution_count": 3,
     "metadata": {},
     "output_type": "execute_result"
    }
   ],
   "source": [
    "N = 15\n",
    "ans = Solution()\n",
    "ans.countArrangement2(N)"
   ]
  },
  {
   "cell_type": "code",
   "execution_count": null,
   "metadata": {},
   "outputs": [],
   "source": []
  }
 ],
 "metadata": {
  "kernelspec": {
   "display_name": "Python 3",
   "language": "python",
   "name": "python3"
  },
  "language_info": {
   "codemirror_mode": {
    "name": "ipython",
    "version": 3
   },
   "file_extension": ".py",
   "mimetype": "text/x-python",
   "name": "python",
   "nbconvert_exporter": "python",
   "pygments_lexer": "ipython3",
   "version": "3.7.3"
  }
 },
 "nbformat": 4,
 "nbformat_minor": 2
}
