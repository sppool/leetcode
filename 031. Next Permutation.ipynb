{
 "cells": [
  {
   "cell_type": "markdown",
   "metadata": {},
   "source": [
    "### Next Permutation"
   ]
  },
  {
   "cell_type": "raw",
   "metadata": {},
   "source": [
    "Implement next permutation, which rearranges numbers into the lexicographically next greater permutation of numbers.\n",
    "If such arrangement is not possible, it must rearrange it as the lowest possible order (ie, sorted in ascending order).\n",
    "The replacement must be in-place and use only constant extra memory.\n",
    "Here are some examples. Inputs are in the left-hand column and its corresponding outputs are in the right-hand column.\n",
    "1,2,3 → 1,3,2\n",
    "3,2,1 → 1,2,3\n",
    "1,1,5 → 1,5,1\n",
    "\n",
    "下一個排序:這個元素排列的的下一個更大的值!!"
   ]
  },
  {
   "cell_type": "markdown",
   "metadata": {},
   "source": [
    "https://leetcode.com/media/original_images/31_Next_Permutation.gif\n",
    "![Image of Yaktocat](https://leetcode.com/media/original_images/31_Next_Permutation.gif)"
   ]
  },
  {
   "cell_type": "code",
   "execution_count": 1,
   "metadata": {},
   "outputs": [],
   "source": [
    "class Solution: # 98.98%\n",
    "    def nextPermutation(self, nums):\n",
    "        \"\"\"\n",
    "        :type nums: List[int]\n",
    "        :rtype: void Do not return anything, modify nums in-place instead.\n",
    "        \"\"\"\n",
    "        i = len(nums) - 1\n",
    "        while i > 0:\n",
    "            if nums[i-1] >= nums[i]:\n",
    "                i -= 1\n",
    "                #print('i:', i)\n",
    "            else:\n",
    "                break\n",
    "        if i == 0: \n",
    "            return nums[::-1]\n",
    "        else:\n",
    "            j = i\n",
    "            while j < len(nums): # find >= nums[i-1] index\n",
    "                #print('a(i, j):', (i, j))\n",
    "                if nums[i-1] < nums[j]:\n",
    "                    j += 1\n",
    "                else: # 找到 j\n",
    "                    break\n",
    "            #print('a(i, j):', (i, j)) \n",
    "            num_c = nums[i-1]\n",
    "            nums[i-1] = nums[j-1]\n",
    "            nums[j-1] = num_c          \n",
    "            nums[i:] = nums[i:][::-1]\n",
    "            return nums"
   ]
  },
  {
   "cell_type": "code",
   "execution_count": 2,
   "metadata": {},
   "outputs": [
    {
     "data": {
      "text/plain": [
       "[1, 5, 8, 5, 1, 3, 4, 6, 7]"
      ]
     },
     "execution_count": 2,
     "metadata": {},
     "output_type": "execute_result"
    }
   ],
   "source": [
    "nums = [1, 5, 8, 4, 7, 6, 5, 3, 1]\n",
    "ans = Solution()\n",
    "ans.nextPermutation(nums)"
   ]
  },
  {
   "cell_type": "code",
   "execution_count": 3,
   "metadata": {},
   "outputs": [
    {
     "data": {
      "text/plain": [
       "[1, 3, 2]"
      ]
     },
     "execution_count": 3,
     "metadata": {},
     "output_type": "execute_result"
    }
   ],
   "source": [
    "nums = [1,2,3]\n",
    "ans = Solution()\n",
    "ans.nextPermutation(nums)"
   ]
  }
 ],
 "metadata": {
  "kernelspec": {
   "display_name": "Python 3",
   "language": "python",
   "name": "python3"
  },
  "language_info": {
   "codemirror_mode": {
    "name": "ipython",
    "version": 3
   },
   "file_extension": ".py",
   "mimetype": "text/x-python",
   "name": "python",
   "nbconvert_exporter": "python",
   "pygments_lexer": "ipython3",
   "version": "3.7.3"
  }
 },
 "nbformat": 4,
 "nbformat_minor": 2
}
