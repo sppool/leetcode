{
 "cells": [
  {
   "cell_type": "raw",
   "metadata": {},
   "source": [
    "Given a matrix of m x n elements (m rows, n columns), return all elements of the matrix in spiral order.\n",
    "\n",
    "Example 1:\n",
    "Input:\n",
    "[[ 1, 2, 3 ],\n",
    " [ 4, 5, 6 ],\n",
    " [ 7, 8, 9 ]]\n",
    "Output: [1,2,3,6,9,8,7,4,5]\n",
    "\n",
    "Example 2:\n",
    "Input:\n",
    "[[1, 2, 3, 4],\n",
    " [5, 6, 7, 8],\n",
    " [9,10,11,12]]\n",
    "Output: [1,2,3,4,8,12,11,10,9,5,6,7]"
   ]
  },
  {
   "cell_type": "code",
   "execution_count": 1,
   "metadata": {},
   "outputs": [],
   "source": [
    "class Solution:\n",
    "    def spiralOrder(self, matrix): # 100%\n",
    "        \"\"\"\n",
    "        :type matrix: List[List[int]]\n",
    "        :rtype: List[int]\n",
    "        \"\"\"\n",
    "        if matrix == []:\n",
    "            return []\n",
    "        output = []\n",
    "        m = len(matrix)\n",
    "        n = len(matrix[0])\n",
    "        l = 0 # col左極限\n",
    "        u = 1 # row上極限\n",
    "        r = n - 1 # col右極限\n",
    "        d = m - 1 # row下極限\n",
    "        i = j = 0 #初始 axis index\n",
    "        output.append(matrix[i][j])\n",
    "        while True:\n",
    "            while j < r:\n",
    "                j += 1\n",
    "                output.append(matrix[i][j])\n",
    "            r -= 1\n",
    "            while i < d:\n",
    "                i += 1\n",
    "                output.append(matrix[i][j])\n",
    "            d -= 1\n",
    "            while j > l:\n",
    "                j -= 1\n",
    "                output.append(matrix[i][j])\n",
    "            l += 1\n",
    "            while i > u:\n",
    "                i -= 1\n",
    "                output.append(matrix[i][j])          \n",
    "            u += 1\n",
    "            if r < l and d < u:\n",
    "                break\n",
    "        \n",
    "        return output[:m*n]"
   ]
  },
  {
   "cell_type": "code",
   "execution_count": 2,
   "metadata": {},
   "outputs": [
    {
     "data": {
      "text/plain": [
       "[1, 2, 3, 4, 8, 12, 11, 10, 9, 5, 6, 7]"
      ]
     },
     "execution_count": 2,
     "metadata": {},
     "output_type": "execute_result"
    }
   ],
   "source": [
    "matrix = [[1, 2, 3, 4],\n",
    "          [5, 6, 7, 8],\n",
    "          [9,10,11,12]]\n",
    "ans = Solution()\n",
    "ans.spiralOrder(matrix)"
   ]
  }
 ],
 "metadata": {
  "kernelspec": {
   "display_name": "Python 3",
   "language": "python",
   "name": "python3"
  },
  "language_info": {
   "codemirror_mode": {
    "name": "ipython",
    "version": 3
   },
   "file_extension": ".py",
   "mimetype": "text/x-python",
   "name": "python",
   "nbconvert_exporter": "python",
   "pygments_lexer": "ipython3",
   "version": "3.7.3"
  }
 },
 "nbformat": 4,
 "nbformat_minor": 2
}
