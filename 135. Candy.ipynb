{
 "cells": [
  {
   "cell_type": "markdown",
   "metadata": {},
   "source": [
    "### Candy"
   ]
  },
  {
   "cell_type": "raw",
   "metadata": {},
   "source": [
    "There are N children standing in a line. Each child is assigned a rating value.\n",
    "You are giving candies to these children subjected to the following requirements:\n",
    "Each child must have at least one candy.\n",
    "Children with a higher rating get more candies than their neighbors.\n",
    "What is the minimum candies you must give?\n",
    "Example 1:\n",
    "Input: [1,0,2]\n",
    "Output: 5\n",
    "Explanation: \n",
    "You can allocate to the first, second and third child with 2, 1, 2 candies respectively.\n",
    "Example 2:\n",
    "Input: [1,2,2]\n",
    "Output: 4\n",
    "Explanation: \n",
    "You can allocate to the first, second and third child with 1, 2, 1 candies respectively.\n",
    "The third child gets 1 candy because it satisfies the above two conditions."
   ]
  },
  {
   "cell_type": "markdown",
   "metadata": {},
   "source": [
    "https://leetcode.com/problems/candy/Figures/135_Candy_Constant_Space.PNG\n",
    "![Image of Yaktocat](https://leetcode.com/problems/candy/Figures/135_Candy_Constant_Space.PNG)\n",
    "https://leetcode.com/problems/candy/Figures/135_Candy_Two_Pass.gif\n",
    "![Image of Yaktocat](https://leetcode.com/problems/candy/Figures/135_Candy_Two_Pass.gif)"
   ]
  },
  {
   "cell_type": "code",
   "execution_count": 1,
   "metadata": {},
   "outputs": [],
   "source": [
    "class Solution:\n",
    "    def candy(self, ratings): # 37.25% \n",
    "        \"\"\"\n",
    "        :type ratings: List[int]\n",
    "        :rtype: int\n",
    "        \"\"\"\n",
    "        l = len(ratings)\n",
    "        L2R = [1]\n",
    "        R2L = [1]\n",
    "        for i in range(1, l):\n",
    "            if ratings[i] <= ratings[i-1]:\n",
    "                L2R.append(1)\n",
    "            else: # ratings[i] > ratings[i-1]\n",
    "                L2R.append(L2R[-1] + 1)\n",
    "        for i in range(l-2, -1, -1):\n",
    "            if ratings[i] <= ratings[i+1]:\n",
    "                R2L.append(1)\n",
    "            else: # ratings[i] > ratings[i+1]\n",
    "                R2L.append(R2L[-1] + 1)\n",
    "        R2L = R2L[::-1]\n",
    "        \n",
    "        sum_candy = 0\n",
    "        for nums in zip(L2R, R2L):\n",
    "            sum_candy += max(nums)\n",
    "        return sum_candy"
   ]
  },
  {
   "cell_type": "code",
   "execution_count": 2,
   "metadata": {},
   "outputs": [
    {
     "data": {
      "text/plain": [
       "4"
      ]
     },
     "execution_count": 2,
     "metadata": {},
     "output_type": "execute_result"
    }
   ],
   "source": [
    "ratings = [1,2,2]\n",
    "ans = Solution()\n",
    "ans.candy(ratings)"
   ]
  },
  {
   "cell_type": "raw",
   "metadata": {},
   "source": [
    "    def candy2(self, ratings): # Pass Too Slow 0%\n",
    "        test = ''\n",
    "        for ind in range(len(ratings)-1):\n",
    "            if ratings[ind] < ratings[ind+1]: # 只有這三種可能\n",
    "                test += 'a' # add (+)\n",
    "            elif ratings[ind] > ratings[ind+1]:\n",
    "                test += 's' # subtract (-)\n",
    "            else: # ratings[ind] == ratings[ind+1]:\n",
    "                test += 'e' # equal (=)\n",
    "        lst = []\n",
    "        for s in test.split('e'):\n",
    "            if not s:\n",
    "                lst.append(1)\n",
    "            else:\n",
    "                l = [1]\n",
    "                for x in s:\n",
    "                    if x == 'a':\n",
    "                        l.append(l[-1]+1)\n",
    "                    else:\n",
    "                        l.append(l[-1]-1)\n",
    "                if min(l) == 1:\n",
    "                    pass\n",
    "                else:\n",
    "                    d = min(l) - 1\n",
    "                    ind = 0\n",
    "                    while ind != len(l):\n",
    "                        l[ind] -= d\n",
    "                        ind += 1\n",
    "                while True:\n",
    "                    arr = l.copy()\n",
    "                    if l[0] < l[1]:\n",
    "                        l[0] = 1\n",
    "                    if l[0] > l[1]:\n",
    "                        l[0] = l[1] + 1\n",
    "                    if l[-2] > l[-1]:\n",
    "                        l[-1] = 1\n",
    "                    if l[-2] < l[-1]:\n",
    "                        l[-1] = l[-2] + 1 \n",
    "                    for ind in range(1, len(l)-1):\n",
    "                        if l[ind] > l[ind-1] and l[ind] > l[ind+1]:\n",
    "                            l[ind] = (max([l[ind+1], l[ind-1]]) + 1)\n",
    "                        elif l[ind] < l[ind-1] and l[ind] < l[ind+1]:\n",
    "                            l[ind] = 1\n",
    "                        else:\n",
    "                            l[ind] = (min([l[ind+1], l[ind-1]]) + 1)\n",
    "                    if arr == l:\n",
    "                        break\n",
    "                lst.extend(l)\n",
    "        return sum(lst)\n",
    "        \n",
    "    def candy3(self, ratings): # Over Time\n",
    "        l = len(ratings)\n",
    "        if l < 2:\n",
    "            return l\n",
    "        lst = []\n",
    "        for i in range(1, l-1): # lst:[0:大於兩邊, 1:最低的位置, -1:左邊 + 1, -2:右邊 + 1]\n",
    "            if ratings[i-1] < ratings[i] > ratings[i+1]:\n",
    "                lst.append(0)\n",
    "            elif ratings[i-1] >= ratings[i] <= ratings[i+1]:\n",
    "                lst.append(1)\n",
    "            elif ratings[i+1] >= ratings[i]:\n",
    "                lst.append(-1)\n",
    "            elif ratings[i-1] >= ratings[i]:\n",
    "                lst.append(-2)     \n",
    "        if ratings[0] <= ratings[1]:\n",
    "            lst.insert(0, 1)\n",
    "        else: lst.insert(0, -2)\n",
    "        if ratings[-1] <= ratings[-2]:\n",
    "            lst.append(1)\n",
    "        else: lst.append(-1)\n",
    "        \n",
    "        while min(lst) <= 0: # 把確定的加上\n",
    "            for i, val in enumerate(lst):\n",
    "                if val > 0:\n",
    "                    pass\n",
    "                elif val == -1 and lst[i-1] > 0:\n",
    "                    lst[i] = lst[i-1] + 1\n",
    "                elif val == -2 and lst[i+1] > 0:\n",
    "                    lst[i] = lst[i+1] + 1\n",
    "                elif val == 0 and lst[i-1] > 0 and lst[i+1] > 0:\n",
    "                    lst[i] = max(lst[i-1], lst[i+1]) + 1\n",
    "        return sum(lst)\n",
    "    "
   ]
  }
 ],
 "metadata": {
  "kernelspec": {
   "display_name": "Python 3",
   "language": "python",
   "name": "python3"
  },
  "language_info": {
   "codemirror_mode": {
    "name": "ipython",
    "version": 3
   },
   "file_extension": ".py",
   "mimetype": "text/x-python",
   "name": "python",
   "nbconvert_exporter": "python",
   "pygments_lexer": "ipython3",
   "version": "3.7.3"
  }
 },
 "nbformat": 4,
 "nbformat_minor": 2
}
