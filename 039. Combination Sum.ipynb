{
 "cells": [
  {
   "cell_type": "markdown",
   "metadata": {},
   "source": [
    "### Combination Sum"
   ]
  },
  {
   "cell_type": "raw",
   "metadata": {},
   "source": [
    "Given a set of candidate numbers (candidates) (without duplicates) and a target number (target),\n",
    "find all unique combinations in candidates where the candidate numbers sums to target.\n",
    "The same repeated number may be chosen from candidates unlimited number of times.\n",
    "\n",
    "Note:\n",
    "All numbers (including target) will be positive integers.\n",
    "The solution set must not contain duplicate combinations.\n",
    "\n",
    "Example 1: # cadidates 不重複 40. 可重複\n",
    "Input: candidates = [2,3,6,7], target = 7,\n",
    "A solution set is:\n",
    "[[7],\n",
    " [2,2,3]]\n",
    "\n",
    "Example 2:\n",
    "Input: candidates = [2,3,5], target = 8,\n",
    "A solution set is:\n",
    "[[2,2,2,2],\n",
    " [2,3,3],\n",
    " [3,5]]"
   ]
  },
  {
   "cell_type": "code",
   "execution_count": 1,
   "metadata": {},
   "outputs": [],
   "source": [
    "class Solution: # 90.10%\n",
    "    def combinationSum(self, candidates, target):\n",
    "        \"\"\"\n",
    "        :type candidates: List[int]\n",
    "        :type target: int\n",
    "        :rtype: List[List[int]]\n",
    "        \"\"\"\n",
    "        self.resList = []\n",
    "        candidates.sort() # 排序 小到大\n",
    "        self.dfs(candidates, [], target, 0)\n",
    "        return self.resList\n",
    "    \n",
    "    def dfs(self, candidates, sublist, target, last): # last 取的 element 的 minmun value\n",
    "        if target == 0:\n",
    "            self.resList.append(sublist[:]) # 用索引加入這個sublist當下的值 非這個變數  sublist 會持續改變\n",
    "            return # 當成了中斷使用!!\n",
    "        elif target < candidates[0]:\n",
    "            return # 當成了中斷使用!!\n",
    "        else: pass\n",
    "        for n in candidates:\n",
    "            if n < last: # 取 n 值 介於 last(大於上個) ~ target\n",
    "                continue\n",
    "            else: pass\n",
    "            if n > target: # element 從小到大\n",
    "                return # 當成了中斷使用!!\n",
    "            else: pass\n",
    "            sublist.append(n)\n",
    "            self.dfs(candidates, sublist, target - n, n) #一值跑遞迴跑到 target = 0 or target < minmum element\n",
    "            sublist.pop() # 保持空列表 [] 下一個for迴圈才能放新的 n\n"
   ]
  },
  {
   "cell_type": "code",
   "execution_count": 2,
   "metadata": {},
   "outputs": [
    {
     "data": {
      "text/plain": [
       "[[2, 2, 2, 2], [2, 3, 3], [2, 6]]"
      ]
     },
     "execution_count": 2,
     "metadata": {},
     "output_type": "execute_result"
    }
   ],
   "source": [
    "candidates = [2,3,6,7]\n",
    "target = 8\n",
    "ans = Solution()\n",
    "ans.combinationSum(candidates, target)"
   ]
  },
  {
   "cell_type": "raw",
   "metadata": {},
   "source": [
    "dfs([2,3,6,7],[], 8, 0)\n",
    "  |\n",
    "  |-->dfs([2,3,6,7],[2], 6, 2)-->dfs([2,3,6,7],[2,2], 4, 2)-->dfs([2,3,6,7],[2,2,2], 2, 2)-->dfs([2,3,6,7],[2,2,2], 0, 2)-->O\n",
    "  |      |\n",
    "  |      |-->dfs([2,3,6,7],[2,3], 3, 3)-->dfs([2,3,6,7],[2,3], 0, 3)---> m\n",
    "  |      |-->dfs([2,3,6,7],[2,6], 0, 6)--> O\n",
    "  |\n",
    "  |-->dfs([2,3,6,7],[3], 5, 3)--> dfs([2,3,6,7],[3,3], 2, 3)-->X \n",
    "  |\n",
    "  |-->dfs([2,3,6,7],[6], 2, 6)--> X                                \n",
    "  |-->dfs([2,3,6,7],[7], 1, 7)--> X"
   ]
  }
 ],
 "metadata": {
  "kernelspec": {
   "display_name": "Python 3",
   "language": "python",
   "name": "python3"
  },
  "language_info": {
   "codemirror_mode": {
    "name": "ipython",
    "version": 3
   },
   "file_extension": ".py",
   "mimetype": "text/x-python",
   "name": "python",
   "nbconvert_exporter": "python",
   "pygments_lexer": "ipython3",
   "version": "3.7.3"
  }
 },
 "nbformat": 4,
 "nbformat_minor": 2
}
