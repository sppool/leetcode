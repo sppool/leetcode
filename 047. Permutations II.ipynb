{
 "cells": [
  {
   "cell_type": "markdown",
   "metadata": {},
   "source": [
    "### Permutations II"
   ]
  },
  {
   "cell_type": "raw",
   "metadata": {},
   "source": [
    "Given a collection of numbers that might contain duplicates, return all possible unique permutations.\n",
    "Example:\n",
    "Input: [1,1,2]\n",
    "Output:\n",
    "[[1,1,2],\n",
    " [1,2,1],\n",
    " [2,1,1]]"
   ]
  },
  {
   "cell_type": "code",
   "execution_count": 1,
   "metadata": {},
   "outputs": [],
   "source": [
    "class Solution:\n",
    "    def permuteUnique(self, nums): # 97.75%\n",
    "        \"\"\"\n",
    "        :type nums: List[int]\n",
    "        :rtype: List[List[int]]\n",
    "        \"\"\"\n",
    "        def Pn(c_lst, sublst, dic):\n",
    "            if not c_lst: # nums == []\n",
    "                lst.append(sublst)  # 需要copy(), 複製存入!! 不然這個sublst 後面操作會改變!\n",
    "            else:\n",
    "                for num in c_lst[:]:\n",
    "                    dic_ = dic.copy() # 複製一份當作遞迴新可選擇的數字字典\n",
    "                    new_lst = c_lst[:] # 複製一份當作遞迴新可選擇的數字集合\n",
    "                    sublst += [num]\n",
    "                    dic_[num] -= 1\n",
    "                    if dic_[num] == 0:\n",
    "                        new_lst.remove(num)\n",
    "                    Pn(new_lst, sublst[:], dic_)# 或是這裡 copy(), 也可以用索引[:](複製一份)\n",
    "                    sublst.pop() # 讓 for 迴圈下一輪 有空位 (回歸sublst)\n",
    "        dic = {}\n",
    "        for num in nums:\n",
    "            if num not in dic:\n",
    "                dic[num] = 1\n",
    "            else:\n",
    "                dic[num] += 1\n",
    "        init_lst = sorted(list(set(nums))) # 初始化, 可選擇元素\n",
    "        lst = []\n",
    "        Pn(init_lst, [], dic)\n",
    "        return lst\n",
    "    \n",
    "################################################################################################\n",
    "    \n",
    "    def permuteUnique2(self, nums): # 6.82% 超慢... (使用46. code, 全排列在篩選重複排列)\n",
    "        def Pn(nums, sublst):\n",
    "            if not nums: # nums == []\n",
    "                lst.append(sublst)  # 需要copy(), 複製存入!! 不然這個sublst 後面操作會改變!\n",
    "            else:\n",
    "                for i in range(len(nums)):\n",
    "                    sublst += [nums[i]]\n",
    "                    new_nums = nums[0:i] + nums[i+1:]\n",
    "                    Pn(new_nums, sublst[:]) # 或是這裡 copy(), 也可以用索引[:]!\n",
    "                    sublst.pop() # 讓 for 迴圈下一輪 有空位             \n",
    "        lst = []\n",
    "        Pn(nums, [])\n",
    "        output = []\n",
    "        for l in lst:\n",
    "            if l not in output:\n",
    "                output.append(l)\n",
    "        return output"
   ]
  },
  {
   "cell_type": "code",
   "execution_count": 2,
   "metadata": {},
   "outputs": [
    {
     "data": {
      "text/plain": [
       "[[1, 1, 2, 2, 3],\n",
       " [1, 1, 2, 3, 2],\n",
       " [1, 1, 3, 2, 2],\n",
       " [1, 2, 1, 2, 3],\n",
       " [1, 2, 1, 3, 2],\n",
       " [1, 2, 2, 1, 3],\n",
       " [1, 2, 2, 3, 1],\n",
       " [1, 2, 3, 1, 2],\n",
       " [1, 2, 3, 2, 1],\n",
       " [1, 3, 1, 2, 2],\n",
       " [1, 3, 2, 1, 2],\n",
       " [1, 3, 2, 2, 1],\n",
       " [2, 1, 1, 2, 3],\n",
       " [2, 1, 1, 3, 2],\n",
       " [2, 1, 2, 1, 3],\n",
       " [2, 1, 2, 3, 1],\n",
       " [2, 1, 3, 1, 2],\n",
       " [2, 1, 3, 2, 1],\n",
       " [2, 2, 1, 1, 3],\n",
       " [2, 2, 1, 3, 1],\n",
       " [2, 2, 3, 1, 1],\n",
       " [2, 3, 1, 1, 2],\n",
       " [2, 3, 1, 2, 1],\n",
       " [2, 3, 2, 1, 1],\n",
       " [3, 1, 1, 2, 2],\n",
       " [3, 1, 2, 1, 2],\n",
       " [3, 1, 2, 2, 1],\n",
       " [3, 2, 1, 1, 2],\n",
       " [3, 2, 1, 2, 1],\n",
       " [3, 2, 2, 1, 1]]"
      ]
     },
     "execution_count": 2,
     "metadata": {},
     "output_type": "execute_result"
    }
   ],
   "source": [
    "nums = [1,2,3,1,2]\n",
    "ans = Solution()\n",
    "ans.permuteUnique(nums)"
   ]
  }
 ],
 "metadata": {
  "kernelspec": {
   "display_name": "Python 3",
   "language": "python",
   "name": "python3"
  },
  "language_info": {
   "codemirror_mode": {
    "name": "ipython",
    "version": 3
   },
   "file_extension": ".py",
   "mimetype": "text/x-python",
   "name": "python",
   "nbconvert_exporter": "python",
   "pygments_lexer": "ipython3",
   "version": "3.7.3"
  }
 },
 "nbformat": 4,
 "nbformat_minor": 2
}
