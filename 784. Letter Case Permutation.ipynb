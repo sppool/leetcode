{
 "cells": [
  {
   "cell_type": "markdown",
   "metadata": {},
   "source": [
    "### Letter Case Permutation"
   ]
  },
  {
   "cell_type": "raw",
   "metadata": {},
   "source": [
    "Given a string S, we can transform every letter individually to be lowercase or uppercase to create another string.  \n",
    "Return a list of all possible strings we could create.\n",
    "Examples:\n",
    "Input: S = \"a1b2\"\n",
    "Output: [\"a1b2\", \"a1B2\", \"A1b2\", \"A1B2\"]\n",
    "\n",
    "Input: S = \"3z4\"\n",
    "Output: [\"3z4\", \"3Z4\"]\n",
    "\n",
    "Input: S = \"12345\"\n",
    "Output: [\"12345\"]\n",
    "\n",
    "Note:\n",
    "1. S will be a string with length between 1 and 12.\n",
    "2. S will consist only of letters or digits."
   ]
  },
  {
   "cell_type": "code",
   "execution_count": 1,
   "metadata": {},
   "outputs": [],
   "source": [
    "class Solution:\n",
    "    def letterCasePermutation(self, S): # 16.61%\n",
    "        \"\"\"\n",
    "        :type S: str\n",
    "        :rtype: List[str]\n",
    "        \"\"\"\n",
    "        letter_lst = 'abcdefghijklmnopqrstuvwxyzABCDEFGHIJKLMNOPQRSTUVWXYZ'\n",
    "        n = 0\n",
    "        for x in S:\n",
    "            if x in letter_lst:\n",
    "                n += 1\n",
    "        if n == 0:\n",
    "            return [S]\n",
    "        \n",
    "        code_lst = []\n",
    "        for i in range(2**n):\n",
    "            code_lst.append(bin(i)[2:].zfill(n))\n",
    "            \n",
    "        output = []       \n",
    "        for code in code_lst:\n",
    "            s = ''\n",
    "            i = 0\n",
    "            for x in S:\n",
    "                if x in letter_lst:\n",
    "                    if int(code[i]):\n",
    "                        s += x.upper()\n",
    "                    else:\n",
    "                        s += x.lower()\n",
    "                    i += 1\n",
    "                else:\n",
    "                    s += x                    \n",
    "            output.append(s)\n",
    "        return output"
   ]
  },
  {
   "cell_type": "code",
   "execution_count": 2,
   "metadata": {},
   "outputs": [
    {
     "data": {
      "text/plain": [
       "['abc', 'abC', 'aBc', 'aBC', 'Abc', 'AbC', 'ABc', 'ABC']"
      ]
     },
     "execution_count": 2,
     "metadata": {},
     "output_type": "execute_result"
    }
   ],
   "source": [
    "S = \"abc\"\n",
    "ans = Solution()\n",
    "ans.letterCasePermutation(S)"
   ]
  }
 ],
 "metadata": {
  "kernelspec": {
   "display_name": "Python 3",
   "language": "python",
   "name": "python3"
  },
  "language_info": {
   "codemirror_mode": {
    "name": "ipython",
    "version": 3
   },
   "file_extension": ".py",
   "mimetype": "text/x-python",
   "name": "python",
   "nbconvert_exporter": "python",
   "pygments_lexer": "ipython3",
   "version": "3.7.3"
  }
 },
 "nbformat": 4,
 "nbformat_minor": 2
}
