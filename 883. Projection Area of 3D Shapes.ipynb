{
 "cells": [
  {
   "cell_type": "markdown",
   "metadata": {},
   "source": [
    "### Projection Area of 3D Shapes"
   ]
  },
  {
   "cell_type": "code",
   "execution_count": null,
   "metadata": {},
   "outputs": [],
   "source": [
    "On a N * N grid, we place some 1 * 1 * 1 cubes that are axis-aligned with the x, y, and z axes.\n",
    "Each value v = grid[i][j] represents a tower of v cubes placed on top of grid cell (i, j).\n",
    "Now we view the projection of these cubes onto the xy, yz, and zx planes.\n",
    "A projection is like a shadow, that maps our 3 dimensional figure to a 2 dimensional plane. \n",
    "Here, we are viewing the \"shadow\" when looking at the cubes from the top, the front, and the side.\n",
    "Return the total area of all three projections.\n",
    "Example 1:\n",
    "Input: [[2]]\n",
    "Output: 5\n",
    "Example 2:\n",
    "Input: [[1,2],[3,4]]\n",
    "Output: 17\n",
    "Explanation: \n",
    "Here are the three projections (\"shadows\") of the shape made with each axis-aligned plane.\n",
    "Example 3:\n",
    "Input: [[1,0],[0,2]] # 0 在上視圖投影也不算\n",
    "Output: 8\n",
    "Example 4:\n",
    "Input: [[1,1,1],[1,0,1],[1,1,1]]\n",
    "Output: 14\n",
    "Example 5:\n",
    "Input: [[2,2,2],[2,1,2],[2,2,2]]\n",
    "Output: 21\n",
    "\n",
    "Note:\n",
    "1. 1 <= grid.length = grid[0].length <= 50\n",
    "2. 0 <= grid[i][j] <= 50"
   ]
  },
  {
   "cell_type": "markdown",
   "metadata": {},
   "source": [
    "https://s3-lc-upload.s3.amazonaws.com/uploads/2018/08/02/shadow.png\n",
    "\n",
    "Example 2: 4 + 6 + 7  -->  return 17\n",
    "![Image of Yaktocat](https://s3-lc-upload.s3.amazonaws.com/uploads/2018/08/02/shadow.png)"
   ]
  },
  {
   "cell_type": "code",
   "execution_count": 1,
   "metadata": {},
   "outputs": [],
   "source": [
    "class Solution:\n",
    "    def projectionArea(self, grid):\n",
    "        \"\"\"\n",
    "        :type grid: List[List[int]]\n",
    "        :rtype: int\n",
    "        \"\"\"\n",
    "        top = self.Top_View(grid)\n",
    "        front = self.Front_View(grid)\n",
    "        right = self.Right_View(grid)\n",
    "        \n",
    "        return top + front + right\n",
    "        \n",
    "    def Top_View(self, grid):\n",
    "        n = 0\n",
    "        for i in range(len(grid)):\n",
    "            for j in range(len(grid[0])):\n",
    "                if grid[i][j] > 0:\n",
    "                    n += 1\n",
    "        return n\n",
    "                           \n",
    "    def Front_View(self, grid):\n",
    "        n = 0\n",
    "        for j in range(len(grid[0])):\n",
    "            lst = []\n",
    "            for i in range(len(grid)):\n",
    "                lst.append(grid[i][j])\n",
    "            n += max(lst)\n",
    "        return n\n",
    "                           \n",
    "    def Right_View(self, grid):\n",
    "        n = 0\n",
    "        for lst in grid:\n",
    "            n += max(lst)\n",
    "        return n\n"
   ]
  },
  {
   "cell_type": "code",
   "execution_count": 2,
   "metadata": {},
   "outputs": [
    {
     "data": {
      "text/plain": [
       "14"
      ]
     },
     "execution_count": 2,
     "metadata": {},
     "output_type": "execute_result"
    }
   ],
   "source": [
    "grid = [[1,1,1],[1,0,1],[1,1,1]]\n",
    "ans = Solution()\n",
    "ans.projectionArea(grid)"
   ]
  }
 ],
 "metadata": {
  "kernelspec": {
   "display_name": "Python 3",
   "language": "python",
   "name": "python3"
  },
  "language_info": {
   "codemirror_mode": {
    "name": "ipython",
    "version": 3
   },
   "file_extension": ".py",
   "mimetype": "text/x-python",
   "name": "python",
   "nbconvert_exporter": "python",
   "pygments_lexer": "ipython3",
   "version": "3.7.3"
  }
 },
 "nbformat": 4,
 "nbformat_minor": 2
}
