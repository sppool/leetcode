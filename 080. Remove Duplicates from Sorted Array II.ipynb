{
 "cells": [
  {
   "cell_type": "markdown",
   "metadata": {},
   "source": [
    "### Remove Duplicates from Sorted Array II"
   ]
  },
  {
   "cell_type": "raw",
   "metadata": {},
   "source": [
    "Given a sorted array nums, remove the duplicates in-place such that duplicates appeared at most twice and return the new length.\n",
    "Do not allocate extra space for another array, you must do this by modifying the input array in-place with O(1) extra memory.\n",
    "\n",
    "Example 1:\n",
    "Given nums = [1,1,1,2,2,3],\n",
    "Your function should return length = 5, with the first five elements of nums being 1, 1, 2, 2 and 3 respectively.\n",
    "It doesn't matter what you leave beyond the returned length.\n",
    "\n",
    "Example 2:\n",
    "Given nums = [0,0,1,1,1,1,2,3,3],\n",
    "Your function should return length = 7, with the first seven elements of nums being modified to 0, 0, 1, 1, 2, 3 and 3 respectively.\n",
    "It doesn't matter what values are set beyond the returned length.\n",
    "\n",
    "Clarification:\n",
    "Confused why the returned value is an integer but your answer is an array?\n",
    "Note that the input array is passed in by reference, which means modification to the input array will be known to the caller as well.\n",
    "Internally you can think of this:"
   ]
  },
  {
   "cell_type": "code",
   "execution_count": 1,
   "metadata": {},
   "outputs": [],
   "source": [
    "class Solution: #  95.26%\n",
    "    def removeDuplicates(self, nums):\n",
    "        dic = {}\n",
    "        l = len(nums)\n",
    "        n = 0\n",
    "        while n < l:\n",
    "            if nums[n] in dic:\n",
    "                if dic[nums[n]] == 2:\n",
    "                    del nums[n]\n",
    "                    l -= 1\n",
    "                else:\n",
    "                    dic[nums[n]] += 1\n",
    "                    n += 1\n",
    "            else:\n",
    "                dic[nums[n]] = 1\n",
    "                n += 1\n",
    "        return len(nums)       "
   ]
  },
  {
   "cell_type": "code",
   "execution_count": 2,
   "metadata": {},
   "outputs": [
    {
     "name": "stdout",
     "output_type": "stream",
     "text": [
      "7\n",
      "[0, 0, 1, 1, 2, 3, 3]\n"
     ]
    }
   ],
   "source": [
    "nums = [0,0,1,1,1,1,2,3,3]\n",
    "ans = Solution()\n",
    "print(ans.removeDuplicates(nums))\n",
    "print(nums)"
   ]
  }
 ],
 "metadata": {
  "kernelspec": {
   "display_name": "Python 3",
   "language": "python",
   "name": "python3"
  },
  "language_info": {
   "codemirror_mode": {
    "name": "ipython",
    "version": 3
   },
   "file_extension": ".py",
   "mimetype": "text/x-python",
   "name": "python",
   "nbconvert_exporter": "python",
   "pygments_lexer": "ipython3",
   "version": "3.7.3"
  }
 },
 "nbformat": 4,
 "nbformat_minor": 2
}
