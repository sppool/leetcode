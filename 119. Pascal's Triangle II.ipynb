{
 "cells": [
  {
   "cell_type": "markdown",
   "metadata": {},
   "source": [
    "### Pascal's Triangle II"
   ]
  },
  {
   "cell_type": "raw",
   "metadata": {},
   "source": [
    "Given a non-negative index k where k ≤ 33, return the kth index row of the Pascal's triangle.\n",
    "Note that the row index starts from 0.\n",
    "In Pascal's triangle, each number is the sum of the two numbers directly above it.\n",
    "Example:\n",
    "Input: 3\n",
    "Output: [1,3,3,1]\n",
    "\n",
    "Follow up:\n",
    "Could you optimize your algorithm to use only O(k) extra space?"
   ]
  },
  {
   "cell_type": "markdown",
   "metadata": {},
   "source": [
    "https://upload.wikimedia.org/wikipedia/commons/0/0d/PascalTriangleAnimated2.gif\n",
    "![Image of Yaktocat](https://upload.wikimedia.org/wikipedia/commons/0/0d/PascalTriangleAnimated2.gif)\n",
    "In Pascal's triangle, each number is the sum of the two numbers directly above it"
   ]
  },
  {
   "cell_type": "code",
   "execution_count": 1,
   "metadata": {},
   "outputs": [],
   "source": [
    "class Solution:\n",
    "    def getRow(self, rowIndex): # 50.05%\n",
    "        \"\"\"\n",
    "        :type rowIndex: int\n",
    "        :rtype: List[int]\n",
    "        \"\"\"\n",
    "        if rowIndex == 0:\n",
    "            return [1] \n",
    "        elif rowIndex == 1:\n",
    "            return [1, 1]\n",
    "        else:\n",
    "            newlst = [1] * (rowIndex+1)\n",
    "            lst = self.getRow(rowIndex-1)\n",
    "            \n",
    "            for i in range(rowIndex//2):\n",
    "                newlst[i+1] = lst[i] + lst[i+1]\n",
    "            newlst[(rowIndex+1)//2:] = newlst[:(rowIndex+1)-(rowIndex+1)//2][::-1]\n",
    "            return newlst\n",
    "        "
   ]
  },
  {
   "cell_type": "code",
   "execution_count": 2,
   "metadata": {},
   "outputs": [
    {
     "data": {
      "text/plain": [
       "[1, 5, 10, 10, 5, 1]"
      ]
     },
     "execution_count": 2,
     "metadata": {},
     "output_type": "execute_result"
    }
   ],
   "source": [
    "rowIndex = 5\n",
    "ans = Solution()\n",
    "ans.getRow(rowIndex)"
   ]
  }
 ],
 "metadata": {
  "kernelspec": {
   "display_name": "Python 3",
   "language": "python",
   "name": "python3"
  },
  "language_info": {
   "codemirror_mode": {
    "name": "ipython",
    "version": 3
   },
   "file_extension": ".py",
   "mimetype": "text/x-python",
   "name": "python",
   "nbconvert_exporter": "python",
   "pygments_lexer": "ipython3",
   "version": "3.7.3"
  }
 },
 "nbformat": 4,
 "nbformat_minor": 2
}
