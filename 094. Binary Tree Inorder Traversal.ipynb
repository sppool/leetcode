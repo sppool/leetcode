{
 "cells": [
  {
   "cell_type": "markdown",
   "metadata": {},
   "source": [
    "### Binary Tree Inorder Traversal"
   ]
  },
  {
   "cell_type": "raw",
   "metadata": {},
   "source": [
    "Given a binary tree, return the inorder traversal of its nodes' values.\n",
    "Example:\n",
    "Input: [1,null,2,3]\n",
    "   1\n",
    "    \\\n",
    "     2\n",
    "    /\n",
    "   3\n",
    "Output: [1,3,2]\n",
    "Follow up: Recursive solution is trivial, could you do it iteratively? 要求使用迭代法(Iteration)"
   ]
  },
  {
   "cell_type": "markdown",
   "metadata": {},
   "source": [
    "https://leetcode.com/problems/binary-tree-inorder-traversal/solution/"
   ]
  },
  {
   "cell_type": "code",
   "execution_count": 1,
   "metadata": {},
   "outputs": [],
   "source": [
    "class TreeNode: # Binary Tree\n",
    "    def __init__ (self, x):\n",
    "        self.val = x\n",
    "        self.left = None\n",
    "        self.right = None    \n",
    "    def insert(self, left=None, right=None):\n",
    "        if left:\n",
    "            self.left = TreeNode(left)\n",
    "        if right:\n",
    "            self.right = TreeNode(right)\n",
    "            \n",
    "class Solution: # 87.21%\n",
    "    def inorderTraversal(self, root):\n",
    "        if not root: return []  \n",
    "        res = []\n",
    "        tree_lst = []\n",
    "        node = root\n",
    "        while True:\n",
    "            if node.left:\n",
    "                tree_lst.append(node)\n",
    "                node = node.left\n",
    "                tree_lst[-1].left = None\n",
    "            else: # node.left = None\n",
    "                res.append(node.val)\n",
    "                if node.right:\n",
    "                    tree_lst.append(node.right)\n",
    "                    node.right = None\n",
    "                    node = tree_lst[-1]\n",
    "                else: # node.right = None\n",
    "                    if not len(tree_lst):\n",
    "                        break\n",
    "                    else: node = tree_lst[-1]\n",
    "                tree_lst.pop()\n",
    "        return res"
   ]
  },
  {
   "cell_type": "code",
   "execution_count": 2,
   "metadata": {},
   "outputs": [
    {
     "data": {
      "text/plain": [
       "[4, 2, 5, 1, 6, 3]"
      ]
     },
     "execution_count": 2,
     "metadata": {},
     "output_type": "execute_result"
    }
   ],
   "source": [
    "root = TreeNode(1)\n",
    "root.insert(2, 3)\n",
    "root.left.insert(4, 5)\n",
    "root.right.insert(6)\n",
    "ans = Solution()\n",
    "ans.inorderTraversal(root)"
   ]
  },
  {
   "cell_type": "code",
   "execution_count": null,
   "metadata": {},
   "outputs": [],
   "source": []
  }
 ],
 "metadata": {
  "kernelspec": {
   "display_name": "Python 3",
   "language": "python",
   "name": "python3"
  },
  "language_info": {
   "codemirror_mode": {
    "name": "ipython",
    "version": 3
   },
   "file_extension": ".py",
   "mimetype": "text/x-python",
   "name": "python",
   "nbconvert_exporter": "python",
   "pygments_lexer": "ipython3",
   "version": "3.7.3"
  }
 },
 "nbformat": 4,
 "nbformat_minor": 2
}
