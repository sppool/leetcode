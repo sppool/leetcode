{
 "cells": [
  {
   "cell_type": "markdown",
   "metadata": {},
   "source": [
    "### Rabbits in Forest"
   ]
  },
  {
   "cell_type": "raw",
   "metadata": {},
   "source": [
    "In a forest, each rabbit has some color. Some subset of rabbits (possibly all of them) tell you how many other \n",
    "rabbits have the same color as them. Those answers are placed in an array.\n",
    "Return the minimum number of rabbits that could be in the forest. #兔子回答你 有幾隻和我相同顏色的兔子 求兔子最少的數量？\n",
    "Examples:\n",
    "Input: answers = [1, 1, 2] #兩個回答1的視為同顏色\n",
    "Output: 5\n",
    "Explanation:\n",
    "The two rabbits that answered \"1\" could both be the same color, say red.\n",
    "The rabbit than answered \"2\" can't be red or the answers would be inconsistent.\n",
    "Say the rabbit that answered \"2\" was blue.\n",
    "Then there should be 2 other blue rabbits in the forest that didn't answer into the array.\n",
    "The smallest possible number of rabbits in the forest is therefore 5: 3 that answered plus 2 that didn't.\n",
    "\n",
    "Input: answers = [10, 10, 10]\n",
    "Output: 11\n",
    "\n",
    "Input: answers = []\n",
    "Output: 0\n",
    "\n",
    "Note:\n",
    "1. answers will have length at most 1000.\n",
    "2. Each answers[i] will be an integer in the range [0, 999]."
   ]
  },
  {
   "cell_type": "code",
   "execution_count": 1,
   "metadata": {},
   "outputs": [],
   "source": [
    "class Solution:\n",
    "    def numRabbits(self, answers): # pass\n",
    "        \"\"\"\n",
    "        :type answers: List[int]\n",
    "        :rtype: int\n",
    "        \"\"\"\n",
    "        dic = {}\n",
    "        for ans in answers:\n",
    "            if (ans + 1) in dic:\n",
    "                dic[ans + 1] += 1\n",
    "            else:\n",
    "                dic[ans + 1] = 1\n",
    "        n = 0\n",
    "        for ans, num in dic.items():\n",
    "            if num % ans == 0:\n",
    "                n_ = ans * num // ans\n",
    "            else:\n",
    "                n_ = ans * ((num // ans) + 1)\n",
    "            n += n_\n",
    "        return n"
   ]
  },
  {
   "cell_type": "code",
   "execution_count": 2,
   "metadata": {},
   "outputs": [
    {
     "data": {
      "text/plain": [
       "11"
      ]
     },
     "execution_count": 2,
     "metadata": {},
     "output_type": "execute_result"
    }
   ],
   "source": [
    "answers = [10, 10, 10]\n",
    "ans = Solution()\n",
    "ans.numRabbits(answers)"
   ]
  }
 ],
 "metadata": {
  "kernelspec": {
   "display_name": "Python 3",
   "language": "python",
   "name": "python3"
  },
  "language_info": {
   "codemirror_mode": {
    "name": "ipython",
    "version": 3
   },
   "file_extension": ".py",
   "mimetype": "text/x-python",
   "name": "python",
   "nbconvert_exporter": "python",
   "pygments_lexer": "ipython3",
   "version": "3.7.3"
  }
 },
 "nbformat": 4,
 "nbformat_minor": 2
}
