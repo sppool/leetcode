{
 "cells": [
  {
   "cell_type": "markdown",
   "metadata": {},
   "source": [
    "### Increasing Order Search Tree"
   ]
  },
  {
   "cell_type": "raw",
   "metadata": {},
   "source": [
    "Given a tree, rearrange the tree in in-order so that the leftmost node in the tree is now the root of the tree, and every node has no left child and only 1 right child.\n",
    "Example 1:\n",
    "Input: [5,3,6,2,4,null,8,1,null,null,null,7,9]\n",
    "       5\n",
    "      / \\\n",
    "    3    6\n",
    "   / \\    \\\n",
    "  2   4    8\n",
    " /        / \\ \n",
    "1        7   9\n",
    "\n",
    "Output: [1,null,2,null,3,null,4,null,5,null,6,null,7,null,8,null,9]\n",
    " 1\n",
    "  \\\n",
    "   2\n",
    "    \\\n",
    "     3\n",
    "      \\\n",
    "       4\n",
    "        \\\n",
    "         5\n",
    "          \\\n",
    "           6\n",
    "            \\\n",
    "             7\n",
    "              \\\n",
    "               8\n",
    "                \\\n",
    "                 9  \n",
    "Note:\n",
    "1. The number of nodes in the given tree will be between 1 and 100.\n",
    "2. Each node will have a unique integer value from 0 to 1000.\n"
   ]
  },
  {
   "cell_type": "code",
   "execution_count": 1,
   "metadata": {},
   "outputs": [],
   "source": [
    "class TreeNode: # Binary Tree\n",
    "    def __init__ (self, x):\n",
    "        self.val = x\n",
    "        self.left = None\n",
    "        self.right = None\n",
    "        self.lst = []      \n",
    "    def insert(self, left=None, right=None):\n",
    "        if left:\n",
    "            self.left = TreeNode(left)\n",
    "        if right:\n",
    "            self.right = TreeNode(right)\n",
    "    def order(self, root, restart=1):\n",
    "        if restart:\n",
    "            self.lst = []\n",
    "        if root:\n",
    "            self.lst.append(root.val)\n",
    "            self.order(root.left, 0)\n",
    "            self.order(root.right, 0)\n",
    "\n",
    "class Solution: # 96.82%\n",
    "    def increasingBST(self, root: TreeNode) -> TreeNode:\n",
    "        if not root: return root\n",
    "        self.lst = []\n",
    "        self.order(root)\n",
    "        if len(self.lst) == 1: return root\n",
    "        root = TreeNode(self.lst[0])\n",
    "        node = root\n",
    "        for val in self.lst[1:]:\n",
    "            node.right = TreeNode(val)\n",
    "            node = node.right\n",
    "        return root\n",
    "    def order(self, root):\n",
    "        if root:\n",
    "            self.order(root.left)\n",
    "            self.lst.append(root.val)\n",
    "            self.order(root.right)"
   ]
  },
  {
   "cell_type": "code",
   "execution_count": 2,
   "metadata": {},
   "outputs": [
    {
     "data": {
      "text/plain": [
       "[1, 2, 3, 4, 5, 6, 7, 8, 9]"
      ]
     },
     "execution_count": 2,
     "metadata": {},
     "output_type": "execute_result"
    }
   ],
   "source": [
    "root = TreeNode(5)\n",
    "root.insert(3, 6)\n",
    "root.left.insert(2, 4)\n",
    "root.right.insert(None, 8)\n",
    "root.left.left.insert(1)\n",
    "root.right.right.insert(7, 9)\n",
    "ans = Solution()\n",
    "ans.increasingBST(root)\n",
    "ans.lst"
   ]
  }
 ],
 "metadata": {
  "kernelspec": {
   "display_name": "Python 3",
   "language": "python",
   "name": "python3"
  },
  "language_info": {
   "codemirror_mode": {
    "name": "ipython",
    "version": 3
   },
   "file_extension": ".py",
   "mimetype": "text/x-python",
   "name": "python",
   "nbconvert_exporter": "python",
   "pygments_lexer": "ipython3",
   "version": "3.7.1"
  }
 },
 "nbformat": 4,
 "nbformat_minor": 2
}
