{
 "cells": [
  {
   "cell_type": "markdown",
   "metadata": {},
   "source": [
    "### ZigZag Conversion"
   ]
  },
  {
   "cell_type": "raw",
   "metadata": {},
   "source": [
    "The string \"PAYPALISHIRING\" is written in a zigzag pattern on a given number of rows like this:\n",
    "(you may want to display this pattern in a fixed font for better legibility)\n",
    "And then read line by line: \"PAHNAPLSIIGYIR\"\n",
    "Write the code that will take a string and make this conversion given a number of rows:\n",
    "string convert(string s, int numRows);\n",
    "\n",
    "Example 1:\n",
    "Input: s = \"PAYPALISHIRING\", numRows = 3\n",
    "Output: \"PAHNAPLSIIGYIR\"\n",
    "Explanation:    \n",
    "P   A   H   N\n",
    "A P L S I I G\n",
    "Y   I   R\n",
    "\n",
    "Example 2:\n",
    "Input: s = \"PAYPALISHIRING\", numRows = 4\n",
    "Output: \"PINALSIGYAHRPI\"\n",
    "Explanation:\n",
    "P     I    N\n",
    "A   L S  I G\n",
    "Y A   H R\n",
    "P     I"
   ]
  },
  {
   "cell_type": "code",
   "execution_count": 1,
   "metadata": {},
   "outputs": [],
   "source": [
    "class Solution:\n",
    "    def convert(self, s, numRows):\n",
    "        \"\"\"\n",
    "        :type s: str\n",
    "        :type numRows: int\n",
    "        :rtype: str\n",
    "        \"\"\"\n",
    "        if numRows < 2:\n",
    "            return s\n",
    "        \n",
    "        elif numRows == 2:\n",
    "            return s[::2] + s[1::2]\n",
    "        \n",
    "        else:\n",
    "            num_medRows = numRows - 2\n",
    "            step = (num_medRows * 2) + 2\n",
    "            stRow = s[::step]\n",
    "            enRow = s[step//2::step]\n",
    "            \n",
    "            lst = []\n",
    "            for i in range(num_medRows):\n",
    "                ss = (s[i+1::step] + s[step-(i+1)::step])\n",
    "                n = (len(ss) + 1)//2\n",
    "                newss=''\n",
    "                for i_ in range(n):\n",
    "                    newss += ss[i_::n]\n",
    "                lst.append(newss)\n",
    "            medRows = ''\n",
    "            for i in range(len(lst)):\n",
    "                medRows += lst[i]\n",
    "            \n",
    "            return stRow + medRows +enRow\n",
    "            "
   ]
  },
  {
   "cell_type": "code",
   "execution_count": 2,
   "metadata": {},
   "outputs": [
    {
     "data": {
      "text/plain": [
       "'PYAIHRNAPLSIIG'"
      ]
     },
     "execution_count": 2,
     "metadata": {},
     "output_type": "execute_result"
    }
   ],
   "source": [
    "s = \"PAYPALISHIRING\"\n",
    "numRows = 2\n",
    "ans = Solution()\n",
    "ans.convert(s, numRows)"
   ]
  },
  {
   "cell_type": "code",
   "execution_count": 3,
   "metadata": {},
   "outputs": [
    {
     "data": {
      "text/plain": [
       "'PINALSIGYAHRPI'"
      ]
     },
     "execution_count": 3,
     "metadata": {},
     "output_type": "execute_result"
    }
   ],
   "source": [
    "numRows = 4\n",
    "ans.convert(s, numRows)"
   ]
  }
 ],
 "metadata": {
  "kernelspec": {
   "display_name": "Python 3",
   "language": "python",
   "name": "python3"
  },
  "language_info": {
   "codemirror_mode": {
    "name": "ipython",
    "version": 3
   },
   "file_extension": ".py",
   "mimetype": "text/x-python",
   "name": "python",
   "nbconvert_exporter": "python",
   "pygments_lexer": "ipython3",
   "version": "3.7.3"
  }
 },
 "nbformat": 4,
 "nbformat_minor": 2
}
