{
 "cells": [
  {
   "cell_type": "markdown",
   "metadata": {},
   "source": [
    "### Pancake Sorting"
   ]
  },
  {
   "cell_type": "raw",
   "metadata": {},
   "source": [
    "Given an array A, we can perform a pancake flip: We choose some positive integer k <= A.length, then reverse the order of the first k elements of A.  We want to perform zero or more pancake flips (doing them one after another in succession) to sort the array A.\n",
    "Return the k-values corresponding to a sequence of pancake flips that sort A.  Any valid answer that sorts the array within 10 * A.length flips will be judged as correct.\n",
    "\n",
    "Example 1:\n",
    "Input: [3,2,4,1]\n",
    "Output: [4,2,4,3]\n",
    "Explanation: \n",
    "We perform 4 pancake flips, with k values 4, 2, 4, and 3.\n",
    "Starting state: A = [3, 2, 4, 1]\n",
    "After 1st flip (k=4): A = [1, 4, 2, 3]\n",
    "After 2nd flip (k=2): A = [4, 1, 2, 3]\n",
    "After 3rd flip (k=4): A = [3, 2, 1, 4]\n",
    "After 4th flip (k=3): A = [1, 2, 3, 4], which is sorted. \n",
    "\n",
    "Example 2:\n",
    "Input: [1,2,3]\n",
    "Output: []\n",
    "Explanation: The input is already sorted, so there is no need to flip anything.\n",
    "Note that other answers, such as [3, 3], would also be accepted.\n",
    " \n",
    "Note:\n",
    "1. 1 <= A.length <= 100\n",
    "2. A[i] is a permutation of [1, 2, ..., A.length]"
   ]
  },
  {
   "cell_type": "code",
   "execution_count": 1,
   "metadata": {},
   "outputs": [],
   "source": [
    "class Solution: # 39.55%\n",
    "    def pancakeSort(self, A):\n",
    "        l = len(A)\n",
    "        res = []\n",
    "        while l != 1:\n",
    "            num = A.index(l)+1\n",
    "            if num == 0: pass\n",
    "            else:\n",
    "                A[0:num] = A[0:num][::-1]\n",
    "                res.append(num)\n",
    "            A[0:l] = A[0:l][::-1]\n",
    "            res.append(l)\n",
    "            l -= 1\n",
    "        return res"
   ]
  },
  {
   "cell_type": "code",
   "execution_count": 2,
   "metadata": {},
   "outputs": [
    {
     "data": {
      "text/plain": [
       "[3, 4, 2, 3, 1, 2]"
      ]
     },
     "execution_count": 2,
     "metadata": {},
     "output_type": "execute_result"
    }
   ],
   "source": [
    "A = [3, 2, 4, 1]\n",
    "ans = Solution()\n",
    "ans.pancakeSort(A)"
   ]
  },
  {
   "cell_type": "code",
   "execution_count": null,
   "metadata": {},
   "outputs": [],
   "source": []
  }
 ],
 "metadata": {
  "kernelspec": {
   "display_name": "Python 3",
   "language": "python",
   "name": "python3"
  },
  "language_info": {
   "codemirror_mode": {
    "name": "ipython",
    "version": 3
   },
   "file_extension": ".py",
   "mimetype": "text/x-python",
   "name": "python",
   "nbconvert_exporter": "python",
   "pygments_lexer": "ipython3",
   "version": "3.7.3"
  }
 },
 "nbformat": 4,
 "nbformat_minor": 2
}
