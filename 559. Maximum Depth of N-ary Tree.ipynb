{
 "cells": [
  {
   "cell_type": "markdown",
   "metadata": {},
   "source": [
    "### Maximum Depth of N-ary Tree"
   ]
  },
  {
   "cell_type": "raw",
   "metadata": {},
   "source": [
    "Given a n-ary tree, find its maximum depth.\n",
    "The maximum depth is the number of nodes along the longest path from the root node down to the farthest leaf node.\n",
    "For example, given a 3-ary tree:\n",
    "We should return its max depth, which is 3.\n",
    "Note:\n",
    "1. The depth of the tree is at most 1000.\n",
    "2. The total number of nodes is at most 5000."
   ]
  },
  {
   "cell_type": "markdown",
   "metadata": {},
   "source": [
    "![Image of Yaktocat](https://assets.leetcode.com/uploads/2018/10/12/narytreeexample.png)"
   ]
  },
  {
   "cell_type": "code",
   "execution_count": 1,
   "metadata": {},
   "outputs": [],
   "source": [
    "class Node:\n",
    "    def __init__(self, val, children=None):\n",
    "        self.val = val\n",
    "        self.children = children # type(children) list(node1, node2...)  \n",
    "        \n",
    "class Solution: # 94.71% \n",
    "    def maxDepth(self, root):\n",
    "        if not root: \n",
    "            return 0 # root = None 初始\n",
    "        elif not root.children: # root.children = None or [ ]\n",
    "            return 1\n",
    "        else:\n",
    "            return 1 + max(map(self.maxDepth, root.children)) # map(func_name, list[func參數]), map 輸出迭代器(生成器 同range())"
   ]
  },
  {
   "cell_type": "code",
   "execution_count": 2,
   "metadata": {},
   "outputs": [
    {
     "data": {
      "text/plain": [
       "3"
      ]
     },
     "execution_count": 2,
     "metadata": {},
     "output_type": "execute_result"
    }
   ],
   "source": [
    "root = Node(1, [Node(3, [Node(5), Node(6)]), Node(2), Node(4)])\n",
    "ans = Solution()\n",
    "ans.maxDepth(root)"
   ]
  }
 ],
 "metadata": {
  "kernelspec": {
   "display_name": "Python 3",
   "language": "python",
   "name": "python3"
  },
  "language_info": {
   "codemirror_mode": {
    "name": "ipython",
    "version": 3
   },
   "file_extension": ".py",
   "mimetype": "text/x-python",
   "name": "python",
   "nbconvert_exporter": "python",
   "pygments_lexer": "ipython3",
   "version": "3.7.3"
  }
 },
 "nbformat": 4,
 "nbformat_minor": 2
}
