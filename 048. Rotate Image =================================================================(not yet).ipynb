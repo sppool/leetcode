{
 "cells": [
  {
   "cell_type": "markdown",
   "metadata": {},
   "source": [
    "### Rotate Image"
   ]
  },
  {
   "cell_type": "raw",
   "metadata": {},
   "source": [
    "You are given an n x n 2D matrix representing an image.\n",
    "Rotate the image by 90 degrees (clockwise).\n",
    "\n",
    "Note: You have to rotate the image in-place, which means you have to modify the input 2D matrix directly. DO NOT allocate another 2D matrix and do the rotation.\n",
    "\n",
    "Example 1:\n",
    "Given input matrix = \n",
    "[[1,2,3],\n",
    " [4,5,6],\n",
    " [7,8,9]]\n",
    "rotate the input matrix in-place such that it becomes:\n",
    "[[7,4,1],\n",
    " [8,5,2],\n",
    " [9,6,3]]\n",
    "\n",
    "Example 2:\n",
    "Given input matrix =\n",
    "[[ 5, 1, 9,11],\n",
    " [ 2, 4, 8,10],\n",
    " [13, 3, 6, 7],\n",
    " [15,14,12,16]] \n",
    "rotate the input matrix in-place such that it becomes:\n",
    "[[15,13, 2, 5],\n",
    " [14, 3, 4, 1],\n",
    " [12, 6, 8, 9],\n",
    " [16, 7,10,11]]"
   ]
  },
  {
   "cell_type": "code",
   "execution_count": 1,
   "metadata": {},
   "outputs": [],
   "source": [
    "class Solution: # 75.11%\n",
    "    def rotate(self, matrix):\n",
    "        \"\"\"\n",
    "        Do not return anything, modify matrix in-place instead.\n",
    "        \"\"\"\n",
    "        n = len(matrix)\n",
    "        for i in range(n-1): # 轉置矩陣\n",
    "            j = i + 1\n",
    "            while j < n:\n",
    "                ij = matrix[i][j]\n",
    "                ji = matrix[j][i]\n",
    "                matrix[i][j] = ji\n",
    "                matrix[j][i] = ij\n",
    "                j += 1\n",
    "        for i in range(n): # 鏡像矩陣\n",
    "            matrix[i] = matrix[i][::-1]\n",
    "            \n",
    "        return matrix\n",
    "            "
   ]
  },
  {
   "cell_type": "code",
   "execution_count": 2,
   "metadata": {},
   "outputs": [
    {
     "data": {
      "text/plain": [
       "[[7, 4, 1], [8, 5, 2], [9, 6, 3]]"
      ]
     },
     "execution_count": 2,
     "metadata": {},
     "output_type": "execute_result"
    }
   ],
   "source": [
    "matrix = [[1,2,3],[4,5,6],[7,8,9]]\n",
    "ans = Solution()\n",
    "ans.rotate(matrix)"
   ]
  }
 ],
 "metadata": {
  "kernelspec": {
   "display_name": "Python 3",
   "language": "python",
   "name": "python3"
  },
  "language_info": {
   "codemirror_mode": {
    "name": "ipython",
    "version": 3
   },
   "file_extension": ".py",
   "mimetype": "text/x-python",
   "name": "python",
   "nbconvert_exporter": "python",
   "pygments_lexer": "ipython3",
   "version": "3.7.3"
  }
 },
 "nbformat": 4,
 "nbformat_minor": 2
}
