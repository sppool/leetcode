{
 "cells": [
  {
   "cell_type": "markdown",
   "metadata": {},
   "source": [
    "### Reorder Log Files"
   ]
  },
  {
   "cell_type": "raw",
   "metadata": {},
   "source": [
    "You have an array of logs.  Each log is a space delimited string of words.\n",
    "For each log, the first word in each log is an alphanumeric identifier.  Then, either:\n",
    "1. Each word after the identifier will consist only of lowercase letters, or;\n",
    "2. Each word after the identifier will consist only of digits.\n",
    "We will call these two varieties of logs letter-logs and digit-logs.  It is guaranteed that each log has at least one word after its identifier.\n",
    "Reorder the logs so that all of the letter-logs come before any digit-log.  \n",
    "The letter-logs are ordered lexicographically ignoring identifier, with the identifier used in case of ties.  \n",
    "The digit-logs should be put in their original order.\n",
    "Return the final order of the logs.\n",
    "\n",
    "Example 1: # 字串第一位是辨識符 第二位是要排序的(分成字母和數字 字母在前數字在後) 字母要要按照 英文字母排列順序依據(a~z)\n",
    "Input: [\"a1 9 2 3 1\",\"g1 act car\",\"zo4 4 7\",\"ab1 off key dog\",\"a8 act zoo\"]\n",
    "Output: [\"g1 act car\",\"a8 act zoo\",\"ab1 off key dog\",\"a1 9 2 3 1\",\"zo4 4 7\"]\n",
    "\n",
    "Note:\n",
    "1. 0 <= logs.length <= 100\n",
    "2. 3 <= logs[i].length <= 100\n",
    "3. logs[i] is guaranteed to have an identifier, and a word after the identifier."
   ]
  },
  {
   "cell_type": "code",
   "execution_count": 1,
   "metadata": {},
   "outputs": [],
   "source": [
    "class Solution:\n",
    "    def reorderLogFiles(self, logs): # 99.89%\n",
    "        \"\"\"\n",
    "        :type logs: List[str]\n",
    "        :rtype: List[str]\n",
    "        \"\"\"\n",
    "        l_lst = {} # 字母字串, 字典形式 key 是順序依據, val 是字串本身\n",
    "        n_lst = [] # 數字字串\n",
    "        for s in logs: # 分辨數字和字母並分類各list dict\n",
    "            if s[s.find(' ')+1].isnumeric(): # 字串第二個開頭的是數字還是字母\n",
    "                n_lst.append(s)\n",
    "            else:\n",
    "                key = s[s.find(' ')+1:]\n",
    "                l_lst[key] = s\n",
    "        output = []\n",
    "        for key in sorted(l_lst): # 讓 key 排序輸出!!!\n",
    "            output.append(l_lst[key])\n",
    "        output += n_lst # 補上數字字串list\n",
    "        \n",
    "        return output\n",
    "        "
   ]
  },
  {
   "cell_type": "code",
   "execution_count": 2,
   "metadata": {},
   "outputs": [
    {
     "data": {
      "text/plain": [
       "['g1 act car', 'a8 act zoo', 'ab1 off key dog', 'a1 9 2 3 1', 'zo4 4 7']"
      ]
     },
     "execution_count": 2,
     "metadata": {},
     "output_type": "execute_result"
    }
   ],
   "source": [
    "logs = [\"a1 9 2 3 1\",\"g1 act car\",\"zo4 4 7\",\"ab1 off key dog\",\"a8 act zoo\"]\n",
    "ans = Solution()\n",
    "ans.reorderLogFiles(logs)"
   ]
  }
 ],
 "metadata": {
  "kernelspec": {
   "display_name": "Python 3",
   "language": "python",
   "name": "python3"
  },
  "language_info": {
   "codemirror_mode": {
    "name": "ipython",
    "version": 3
   },
   "file_extension": ".py",
   "mimetype": "text/x-python",
   "name": "python",
   "nbconvert_exporter": "python",
   "pygments_lexer": "ipython3",
   "version": "3.7.3"
  }
 },
 "nbformat": 4,
 "nbformat_minor": 2
}
