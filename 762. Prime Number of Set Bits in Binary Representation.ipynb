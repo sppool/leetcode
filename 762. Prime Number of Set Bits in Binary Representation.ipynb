{
 "cells": [
  {
   "cell_type": "markdown",
   "metadata": {},
   "source": [
    "### Prime Number of Set Bits in Binary Representation"
   ]
  },
  {
   "cell_type": "raw",
   "metadata": {},
   "source": [
    "Given two integers L and R, find the count of numbers in the range [L, R] (inclusive) having a prime number of set bits \n",
    "in their binary representation.\n",
    "(Recall that the number of set bits an integer has is the number of 1s present when written in binary. For example, \n",
    "21 written in binary is 10101 which has 3 set bits. Also, 1 is not a prime.)\n",
    "Example 1:\n",
    "Input: L = 6, R = 10\n",
    "Output: 4\n",
    "Explanation:\n",
    "6 -> 110 (2 set bits, 2 is prime) # 二進位法 1的數目是不是質數! \n",
    "7 -> 111 (3 set bits, 3 is prime)\n",
    "9 -> 1001 (2 set bits , 2 is prime)\n",
    "10->1010 (2 set bits , 2 is prime)\n",
    "Example 2:\n",
    "Input: L = 10, R = 15\n",
    "Output: 5\n",
    "Explanation:\n",
    "10 -> 1010 (2 set bits, 2 is prime)\n",
    "11 -> 1011 (3 set bits, 3 is prime)\n",
    "12 -> 1100 (2 set bits, 2 is prime)\n",
    "13 -> 1101 (3 set bits, 3 is prime)\n",
    "14 -> 1110 (3 set bits, 3 is prime)\n",
    "15 -> 1111 (4 set bits, 4 is not prime)\n",
    "\n",
    "Note:\n",
    "1. L, R will be integers L <= R in the range [1, 10^6].\n",
    "2. R - L will be at most 10000."
   ]
  },
  {
   "cell_type": "code",
   "execution_count": 1,
   "metadata": {},
   "outputs": [],
   "source": [
    "class Solution:\n",
    "    def countPrimeSetBits(self, L, R): # 79.45%\n",
    "        \"\"\"\n",
    "        :type L: int\n",
    "        :type R: int\n",
    "        :rtype: int\n",
    "        \"\"\"\n",
    "        \n",
    "        # 一行碼 : return sum(bin(i).count(\"1\") in {2, 3, 5, 7, 11, 13, 17, 19} for i in range(L, R + 1)) # 整合以下!!\n",
    "        \n",
    "        prime = {2, 3, 5, 7, 11, 13, 17, 19} # 題目指定 max R = 10^6 二進位 20 位數!!取 20以下的質數就可以了\n",
    "        n = 0\n",
    "        for num in range(L, R+1):\n",
    "            s_bit = bin(num)[2:].count('1')\n",
    "            if s_bit in prime:\n",
    "                n += 1\n",
    "        return n"
   ]
  },
  {
   "cell_type": "code",
   "execution_count": 2,
   "metadata": {},
   "outputs": [
    {
     "data": {
      "text/plain": [
       "4"
      ]
     },
     "execution_count": 2,
     "metadata": {},
     "output_type": "execute_result"
    }
   ],
   "source": [
    "L = 6\n",
    "R = 10\n",
    "ans = Solution()\n",
    "ans.countPrimeSetBits(L, R)"
   ]
  }
 ],
 "metadata": {
  "kernelspec": {
   "display_name": "Python 3",
   "language": "python",
   "name": "python3"
  },
  "language_info": {
   "codemirror_mode": {
    "name": "ipython",
    "version": 3
   },
   "file_extension": ".py",
   "mimetype": "text/x-python",
   "name": "python",
   "nbconvert_exporter": "python",
   "pygments_lexer": "ipython3",
   "version": "3.7.3"
  }
 },
 "nbformat": 4,
 "nbformat_minor": 2
}
