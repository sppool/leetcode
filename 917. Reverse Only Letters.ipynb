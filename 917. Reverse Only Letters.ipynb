{
 "cells": [
  {
   "cell_type": "markdown",
   "metadata": {},
   "source": [
    "### Reverse Only Letters"
   ]
  },
  {
   "cell_type": "raw",
   "metadata": {},
   "source": [
    "Given a string S, return the \"reversed\" string where all characters that are not a letter stay in the same place, \n",
    "and all letters reverse their positions.\n",
    "\n",
    "Example 1:\n",
    "Input: \"ab-cd\"\n",
    "Output: \"dc-ba\"\n",
    "\n",
    "Example 2:\n",
    "Input: \"a-bC-dEf-ghIj\"\n",
    "Output: \"j-Ih-gfE-dCba\"\n",
    "\n",
    "Example 3:\n",
    "Input: \"Test1ng-Leet=code-Q!\"\n",
    "Output: \"Qedo1ct-eeLg=ntse-T!\"\n",
    " \n",
    "Note:\n",
    "S.length <= 100\n",
    "33 <= S[i].ASCIIcode <= 122 \n",
    "S doesn't contain \\ or \""
   ]
  },
  {
   "cell_type": "code",
   "execution_count": 1,
   "metadata": {},
   "outputs": [],
   "source": [
    "class Solution:\n",
    "    def reverseOnlyLetters(self, S):\n",
    "        \"\"\"\n",
    "        :type S: str\n",
    "        :rtype: str\n",
    "        \"\"\"\n",
    "        letters = 'abcdefghijklmnopqrstuvwxyzABCDEFGHIJKLMNOPQRSTUVWXYZ'\n",
    "        lst = []\n",
    "        for x in S:\n",
    "            if x in letters:\n",
    "                lst.append(x)\n",
    "        S_ = ''\n",
    "        for x in S:\n",
    "            if x in letters:\n",
    "                S_ += lst.pop()\n",
    "            else:\n",
    "                S_ += x\n",
    "        return S_"
   ]
  },
  {
   "cell_type": "code",
   "execution_count": 2,
   "metadata": {},
   "outputs": [
    {
     "data": {
      "text/plain": [
       "'Qedo1ct-eeLg=ntse-T!'"
      ]
     },
     "execution_count": 2,
     "metadata": {},
     "output_type": "execute_result"
    }
   ],
   "source": [
    "S = \"Test1ng-Leet=code-Q!\"\n",
    "ans = Solution()\n",
    "ans.reverseOnlyLetters(S)"
   ]
  }
 ],
 "metadata": {
  "kernelspec": {
   "display_name": "Python 3",
   "language": "python",
   "name": "python3"
  },
  "language_info": {
   "codemirror_mode": {
    "name": "ipython",
    "version": 3
   },
   "file_extension": ".py",
   "mimetype": "text/x-python",
   "name": "python",
   "nbconvert_exporter": "python",
   "pygments_lexer": "ipython3",
   "version": "3.7.3"
  }
 },
 "nbformat": 4,
 "nbformat_minor": 2
}
