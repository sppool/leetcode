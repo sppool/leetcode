{
 "cells": [
  {
   "cell_type": "markdown",
   "metadata": {},
   "source": [
    "### Transpose Matrix"
   ]
  },
  {
   "cell_type": "raw",
   "metadata": {},
   "source": [
    "Given a matrix A, return the transpose of A.\n",
    "The transpose of a matrix is the matrix flipped over it's main diagonal, switching the row and column indices of the matrix.\n",
    "\n",
    "Example 1:\n",
    "Input: [[1,2,3],[4,5,6],[7,8,9]]\n",
    "Output: [[1,4,7],[2,5,8],[3,6,9]]\n",
    "Example 2:\n",
    "Input: [[1,2,3],[4,5,6]]\n",
    "Output: [[1,4],[2,5],[3,6]]\n",
    "\n",
    "Note:\n",
    "1 <= A.length <= 1000\n",
    "1 <= A[0].length <= 1000"
   ]
  },
  {
   "cell_type": "code",
   "execution_count": 1,
   "metadata": {},
   "outputs": [],
   "source": [
    "class Solution:\n",
    "    def transpose(self, A):\n",
    "        \"\"\"\n",
    "        :type A: List[List[int]]\n",
    "        :rtype: List[List[int]]\n",
    "        \"\"\"\n",
    "        i_ = len(A)\n",
    "        j_ = len(A[0])\n",
    "        lst = [[0] * i_ for i in range(j_)]\n",
    "        for i in range(len(A)):\n",
    "            for j in range(len(A[0])):\n",
    "                lst[j][i] = A[i][j]\n",
    "        return lst\n",
    "                "
   ]
  },
  {
   "cell_type": "code",
   "execution_count": 2,
   "metadata": {},
   "outputs": [
    {
     "data": {
      "text/plain": [
       "[[1, 4, 7], [2, 5, 8], [3, 6, 9]]"
      ]
     },
     "execution_count": 2,
     "metadata": {},
     "output_type": "execute_result"
    }
   ],
   "source": [
    "A = [[1,2,3],[4,5,6],[7,8,9]]\n",
    "ans = Solution()\n",
    "ans.transpose(A)"
   ]
  }
 ],
 "metadata": {
  "kernelspec": {
   "display_name": "Python 3",
   "language": "python",
   "name": "python3"
  },
  "language_info": {
   "codemirror_mode": {
    "name": "ipython",
    "version": 3
   },
   "file_extension": ".py",
   "mimetype": "text/x-python",
   "name": "python",
   "nbconvert_exporter": "python",
   "pygments_lexer": "ipython3",
   "version": "3.7.3"
  }
 },
 "nbformat": 4,
 "nbformat_minor": 2
}
