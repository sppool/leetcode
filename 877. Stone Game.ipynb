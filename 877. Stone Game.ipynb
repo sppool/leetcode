{
 "cells": [
  {
   "cell_type": "markdown",
   "metadata": {},
   "source": [
    "### Stone Game"
   ]
  },
  {
   "cell_type": "raw",
   "metadata": {},
   "source": [
    "Alex and Lee play a game with piles of stones.  There are an even number of piles arranged in a row, \n",
    "and each pile has a positive integer number of stones piles[i].\n",
    "The objective of the game is to end with the most stones.  The total number of stones is odd, so there are no ties.\n",
    "Alex and Lee take turns, with Alex starting first.  \n",
    "Each turn, a player takes the entire pile of stones from either the beginning or the end of the row.  \n",
    "This continues until there are no more piles left, at which point the person with the most stones wins.\n",
    "Assuming Alex and Lee play optimally, return True if and only if Alex wins the game.\n",
    "Example 1:\n",
    "Input: [5,3,4,5]\n",
    "Output: true\n",
    "Explanation: \n",
    "Alex starts first, and can only take the first 5 or the last 5.\n",
    "Say he takes the first 5, so that the row becomes [3, 4, 5].\n",
    "If Lee takes 3, then the board is [4, 5], and Alex takes 5 to win with 10 points.\n",
    "If Lee takes the last 5, then the board is [3, 4], and Alex takes 4 to win with 9 points.\n",
    "This demonstrated that taking the first 5 was a winning move for Alex, so we return true.\n",
    " \n",
    "Note:\n",
    "2 <= piles.length <= 500\n",
    "piles.length is even.\n",
    "1 <= piles[i] <= 500\n",
    "sum(piles) is odd."
   ]
  },
  {
   "cell_type": "code",
   "execution_count": 1,
   "metadata": {},
   "outputs": [],
   "source": [
    "class Solution:\n",
    "    def stoneGame(self, piles): # 100% 仔細研究 Alex 一定會贏 (先選一定會贏)!不需要嘗試寫規則~\n",
    "        \"\"\"\n",
    "        :type piles: List[int]\n",
    "        :rtype: bool\n",
    "        \"\"\"\n",
    "        return True\n"
   ]
  },
  {
   "cell_type": "code",
   "execution_count": 2,
   "metadata": {},
   "outputs": [
    {
     "data": {
      "text/plain": [
       "True"
      ]
     },
     "execution_count": 2,
     "metadata": {},
     "output_type": "execute_result"
    }
   ],
   "source": [
    "piles = [5,3,4,5]\n",
    "ans = Solution()\n",
    "ans.stoneGame(piles)"
   ]
  }
 ],
 "metadata": {
  "kernelspec": {
   "display_name": "Python 3",
   "language": "python",
   "name": "python3"
  },
  "language_info": {
   "codemirror_mode": {
    "name": "ipython",
    "version": 3
   },
   "file_extension": ".py",
   "mimetype": "text/x-python",
   "name": "python",
   "nbconvert_exporter": "python",
   "pygments_lexer": "ipython3",
   "version": "3.7.3"
  }
 },
 "nbformat": 4,
 "nbformat_minor": 2
}
