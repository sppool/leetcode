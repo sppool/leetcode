{
 "cells": [
  {
   "cell_type": "markdown",
   "metadata": {},
   "source": [
    "### Number of Lines To Write String"
   ]
  },
  {
   "cell_type": "raw",
   "metadata": {},
   "source": [
    "We are to write the letters of a given string S, from left to right into lines. Each line has maximum width 100 units, \n",
    "and if writing a letter would cause the width of the line to exceed 100 units, it is written on the next line. \n",
    "We are given an array widths, an array where widths[0] is the width of 'a', widths[1] is the width of 'b', ..., \n",
    "and widths[25] is the width of 'z'.\n",
    "Now answer two questions: how many lines have at least one character from S, and what is the width used by the last such line? \n",
    "Return your answer as an integer list of length 2.\n",
    "Example1 :\n",
    "Input: \n",
    "widths = [10,10,10,10,10,10,10,10,10,10,10,10,10,10,10,10,10,10,10,10,10,10,10,10,10,10]\n",
    "S = \"abcdefghijklmnopqrstuvwxyz\"\n",
    "Output: [3, 60]\n",
    "Explanation: \n",
    "All letters have the same length of 10. To write all 26 letters,\n",
    "we need two full lines and one line with 60 units.\n",
    "Example2 :\n",
    "Input: \n",
    "widths = [4,10,10,10,10,10,10,10,10,10,10,10,10,10,10,10,10,10,10,10,10,10,10,10,10,10]\n",
    "S = \"bbbcccdddaaa\"\n",
    "Output: [2, 4]\n",
    "Explanation: \n",
    "All letters except 'a' have the same length of 10, and \n",
    "\"bbbcccdddaa\" will cover 9 * 10 + 2 * 4 = 98 units.\n",
    "For the last 'a', it is written on the second line because\n",
    "there is only 2 units left in the first line.\n",
    "So the answer is 2 lines, plus 4 units in the second line.\n",
    " \n",
    "Note:\n",
    "The length of S will be in the range [1, 1000].\n",
    "S will only contain lowercase letters.\n",
    "widths is an array of length 26.\n",
    "widths[i] will be in the range of [2, 10]."
   ]
  },
  {
   "cell_type": "code",
   "execution_count": 1,
   "metadata": {},
   "outputs": [],
   "source": [
    "class Solution:\n",
    "    def numberOfLines(self, widths, S):\n",
    "        \"\"\"\n",
    "        :type widths: List[int]\n",
    "        :type S: str\n",
    "        :rtype: List[int]\n",
    "        \"\"\"\n",
    "        letter_ind_dic = {}\n",
    "        for ind, x in enumerate(\"abcdefghijklmnopqrstuvwxyz\"):\n",
    "            letter_ind_dic[x] = ind\n",
    "        rows = 1\n",
    "        wid = 100\n",
    "        for x in S:\n",
    "            w = widths[letter_ind_dic[x]]\n",
    "            if wid >= w:\n",
    "                wid -= w\n",
    "            else:\n",
    "                rows += 1\n",
    "                wid = 100\n",
    "                wid -= w\n",
    "        return [rows, 100 - wid]"
   ]
  },
  {
   "cell_type": "code",
   "execution_count": 2,
   "metadata": {},
   "outputs": [
    {
     "data": {
      "text/plain": [
       "[2, 4]"
      ]
     },
     "execution_count": 2,
     "metadata": {},
     "output_type": "execute_result"
    }
   ],
   "source": [
    "widths = [4,10,10,10,10,10,10,10,10,10,10,10,10,10,10,10,10,10,10,10,10,10,10,10,10,10]\n",
    "S = \"bbbcccdddaaa\"\n",
    "ans = Solution()\n",
    "ans.numberOfLines(widths, S)"
   ]
  }
 ],
 "metadata": {
  "kernelspec": {
   "display_name": "Python 3",
   "language": "python",
   "name": "python3"
  },
  "language_info": {
   "codemirror_mode": {
    "name": "ipython",
    "version": 3
   },
   "file_extension": ".py",
   "mimetype": "text/x-python",
   "name": "python",
   "nbconvert_exporter": "python",
   "pygments_lexer": "ipython3",
   "version": "3.7.3"
  }
 },
 "nbformat": 4,
 "nbformat_minor": 2
}
