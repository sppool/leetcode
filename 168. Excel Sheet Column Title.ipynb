{
 "cells": [
  {
   "cell_type": "markdown",
   "metadata": {},
   "source": [
    "### Excel Sheet Column Title"
   ]
  },
  {
   "cell_type": "raw",
   "metadata": {},
   "source": [
    "Given a positive integer, return its corresponding column title as appear in an Excel sheet.\n",
    "For example:\n",
    "    1 -> A\n",
    "    2 -> B\n",
    "    3 -> C\n",
    "    ...\n",
    "    26 -> Z\n",
    "    27 -> AA\n",
    "    28 -> AB \n",
    "    ...\n",
    "Example 1:\n",
    "Input: 1\n",
    "Output: \"A\"\n",
    "\n",
    "Example 2:\n",
    "Input: 28\n",
    "Output: \"AB\"\n",
    "\n",
    "Example 3:\n",
    "Input: 701\n",
    "Output: \"ZY\""
   ]
  },
  {
   "cell_type": "code",
   "execution_count": 1,
   "metadata": {},
   "outputs": [],
   "source": [
    "class Solution:\n",
    "    def convertToTitle(self, n): # 100%\n",
    "        \"\"\"\n",
    "        :type n: int\n",
    "        :rtype: str\n",
    "        \"\"\"\n",
    "        ind = 1\n",
    "        x = 26**ind\n",
    "        while n - x > 0: # ind 有幾個字元\n",
    "            ind += 1\n",
    "            x += 26**ind\n",
    "        str_lst = 'ABCDEFGHIJKLMNOPQRSTUVWXYZ'\n",
    "        output = ''\n",
    "        n -= 1\n",
    "        for i in range(ind):\n",
    "            output += str_lst[(n) % 26**(i + 1) // 26**i]\n",
    "            n -= ((n) % 26**(i + 1)) + 1\n",
    "            \n",
    "        return output[::-1]"
   ]
  },
  {
   "cell_type": "code",
   "execution_count": 2,
   "metadata": {},
   "outputs": [
    {
     "data": {
      "text/plain": [
       "'ZY'"
      ]
     },
     "execution_count": 2,
     "metadata": {},
     "output_type": "execute_result"
    }
   ],
   "source": [
    "n = 701\n",
    "ans = Solution()\n",
    "ans.convertToTitle(n)"
   ]
  }
 ],
 "metadata": {
  "kernelspec": {
   "display_name": "Python 3",
   "language": "python",
   "name": "python3"
  },
  "language_info": {
   "codemirror_mode": {
    "name": "ipython",
    "version": 3
   },
   "file_extension": ".py",
   "mimetype": "text/x-python",
   "name": "python",
   "nbconvert_exporter": "python",
   "pygments_lexer": "ipython3",
   "version": "3.7.3"
  }
 },
 "nbformat": 4,
 "nbformat_minor": 2
}
