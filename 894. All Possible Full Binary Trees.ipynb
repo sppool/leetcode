{
 "cells": [
  {
   "cell_type": "markdown",
   "metadata": {},
   "source": [
    "### All Possible Full Binary Trees"
   ]
  },
  {
   "cell_type": "raw",
   "metadata": {},
   "source": [
    "A full binary tree is a binary tree where each node has exactly 0 or 2 children.\n",
    "Return a list of all possible full binary trees with N nodes.  Each element of the answer is the root node of one possible tree.\n",
    "Each node of each tree in the answer must have node.val = 0.\n",
    "You may return the final list of trees in any order.\n",
    "Example 1:\n",
    "Input: 7\n",
    "Output: [[0,0,0,null,null,0,0,null,null,0,0],[0,0,0,null,null,0,0,0,0],[0,0,0,0,0,0,0],[0,0,0,0,0,null,null,null,null,0,0],[0,0,0,0,0,null,null,0,0]]\n",
    "Note: 1 <= N <= 20"
   ]
  },
  {
   "cell_type": "markdown",
   "metadata": {},
   "source": [
    "Explanation:\n",
    "![Image of Yaktocat](https://s3-lc-upload.s3.amazonaws.com/uploads/2018/08/22/fivetrees.png)\n",
    "https://s3-lc-upload.s3.amazonaws.com/uploads/2018/08/22/fivetrees.png"
   ]
  },
  {
   "cell_type": "code",
   "execution_count": 1,
   "metadata": {},
   "outputs": [],
   "source": [
    "class TreeNode: # Binary Tree\n",
    "    def __init__ (self, x):\n",
    "        self.val = x\n",
    "        self.left = None\n",
    "        self.right = None\n",
    "        self.lst = []\n",
    "        \n",
    "    def order(self, root):\n",
    "        if root:\n",
    "            self.lst.append(root.val)\n",
    "            self.order(root.left)\n",
    "            self.order(root.right)\n",
    "        else:\n",
    "            self.lst.append(None)\n",
    "\n",
    "\"\"\"\n",
    "本題目要由下往上長(葉子到根), 最新的是根, 才可以加入list\n",
    "N       :| 0 | 1 | 2=[]|   3   |   4=[]   |     5     |    6=[]    |       7       |  node of num (odd)\n",
    "T       :| 0 | 0 |  X  |   1   |    X    |     2     |      X      |       3       |  full tree of num (3 node)    (2 * T)+1 = N\n",
    "left  x :| X | 0 | 0 1 | 0 1 2 | 0 1 2 3 | 0 1 2 3 4 | 0 1 2 3 4 5 | 0 1 2 3 4 5 6 |  root.left \n",
    "right y :| X | 0 | 1 0 | 2 1 0 | 3 2 1 0 | 4 3 2 1 0 | 5 4 3 2 1 0 | 6 5 4 3 2 1 0 |  root.right\n",
    "         | x | x | x x | x o x | x x x x | x o x o x | x x x x x x | x o x o x o x |  x = self.dic[even(0,2,4,6...d)] = []\n",
    "\"\"\"\n",
    "class Solution: # 73.40% 要過關 要改成 TreeNode(\"零\") \n",
    "    dic = {0: [], 1: [TreeNode(1)]} # 設成 calss 公用字典, 動用方法時可以建立新的keys\n",
    "    def allPossibleFBT(self, N):\n",
    "        if not N % 2: return [] # 沒有 偶數的full tree node number\n",
    "        if N not in self.dic:\n",
    "            lst = []\n",
    "            for x in range(1, N, 2):\n",
    "                y = N - 1 - x\n",
    "                for left in self.allPossibleFBT(x):\n",
    "                    for right in self.allPossibleFBT(y):\n",
    "                        root = TreeNode(N)\n",
    "                        root.left = left\n",
    "                        root.right = right\n",
    "                        lst.append(root)\n",
    "            self.dic[N] = lst\n",
    "        return self.dic[N]\n",
    "\n",
    "    def allPossibleFBT2(self, N):\n",
    "        if N not in self.dic:\n",
    "            lst = []\n",
    "            for x in range(N):\n",
    "                y = N - 1 - x # even = 0 + odd  dic[0]:[], 讓偶數都會產生[], 所以也可以不要加上一開始的偶數條件式!!\n",
    "                for left in self.allPossibleFBT2(x):\n",
    "                    for right in self.allPossibleFBT2(y):\n",
    "                        root = TreeNode(0)\n",
    "                        root.left = left\n",
    "                        root.right = right\n",
    "                        lst.append(root)\n",
    "            self.dic[N] = lst\n",
    "        return self.dic[N]"
   ]
  },
  {
   "cell_type": "code",
   "execution_count": 2,
   "metadata": {},
   "outputs": [
    {
     "data": {
      "text/plain": [
       "[<__main__.TreeNode at 0x7f3f94533898>,\n",
       " <__main__.TreeNode at 0x7f3f94533470>,\n",
       " <__main__.TreeNode at 0x7f3f94533ac8>,\n",
       " <__main__.TreeNode at 0x7f3f94533b00>,\n",
       " <__main__.TreeNode at 0x7f3f94533b38>]"
      ]
     },
     "execution_count": 2,
     "metadata": {},
     "output_type": "execute_result"
    }
   ],
   "source": [
    "ans = Solution()\n",
    "ans.allPossibleFBT(7)"
   ]
  },
  {
   "cell_type": "code",
   "execution_count": 3,
   "metadata": {},
   "outputs": [
    {
     "name": "stdout",
     "output_type": "stream",
     "text": [
      "[7, 1, None, None, 5, 1, None, None, 3, 1, None, None, 1, None, None]\n",
      "[7, 1, None, None, 5, 3, 1, None, None, 1, None, None, 1, None, None]\n",
      "[7, 3, 1, None, None, 1, None, None, 3, 1, None, None, 1, None, None]\n",
      "[7, 5, 1, None, None, 3, 1, None, None, 1, None, None, 1, None, None]\n",
      "[7, 5, 3, 1, None, None, 1, None, None, 1, None, None, 1, None, None]\n"
     ]
    }
   ],
   "source": [
    "for node in ans.dic[7]:\n",
    "    node.order(node)\n",
    "    print(node.lst)"
   ]
  }
 ],
 "metadata": {
  "kernelspec": {
   "display_name": "Python 3",
   "language": "python",
   "name": "python3"
  },
  "language_info": {
   "codemirror_mode": {
    "name": "ipython",
    "version": 3
   },
   "file_extension": ".py",
   "mimetype": "text/x-python",
   "name": "python",
   "nbconvert_exporter": "python",
   "pygments_lexer": "ipython3",
   "version": "3.7.3"
  }
 },
 "nbformat": 4,
 "nbformat_minor": 2
}
