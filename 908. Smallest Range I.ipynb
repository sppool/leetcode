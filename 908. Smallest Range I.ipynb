{
 "cells": [
  {
   "cell_type": "markdown",
   "metadata": {},
   "source": [
    "### Smallest Range I"
   ]
  },
  {
   "cell_type": "raw",
   "metadata": {},
   "source": [
    "Given an array A of integers, for each integer A[i] we may choose any x with -K <= x <= K, and add x to A[i].\n",
    "After this process, we have some array B.\n",
    "Return the smallest possible difference between the maximum value of B and the minimum value of B.\n",
    "\n",
    "Example 1:\n",
    "Input: A = [1], K = 0\n",
    "Output: 0\n",
    "Explanation: B = [1]\n",
    "\n",
    "Example 2:\n",
    "Input: A = [0,10], K = 2\n",
    "Output: 6\n",
    "Explanation: B = [2,8]\n",
    "\n",
    "Example 3:\n",
    "Input: A = [1,3,6], K = 3\n",
    "Output: 0\n",
    "Explanation: B = [3,3,3] or B = [4,4,4]\n",
    " \n",
    "Note:\n",
    "1 <= A.length <= 10000\n",
    "0 <= A[i] <= 10000\n",
    "0 <= K <= 10000"
   ]
  },
  {
   "cell_type": "code",
   "execution_count": 1,
   "metadata": {},
   "outputs": [],
   "source": [
    "class Solution:\n",
    "    def smallestRangeI(self, A, K):\n",
    "        \"\"\"\n",
    "        :type A: List[int]\n",
    "        :type K: int\n",
    "        :rtype: int\n",
    "        \"\"\"\n",
    "        if len(A) <= 1:\n",
    "            return 0\n",
    "        minimum = min(A)\n",
    "        maximun = max(A)\n",
    "        if (2 * K) > (maximun - minimum):\n",
    "            return 0\n",
    "        else:\n",
    "            return (maximun - minimum) - (2 * K)\n",
    "        "
   ]
  },
  {
   "cell_type": "code",
   "execution_count": 2,
   "metadata": {},
   "outputs": [
    {
     "data": {
      "text/plain": [
       "6"
      ]
     },
     "execution_count": 2,
     "metadata": {},
     "output_type": "execute_result"
    }
   ],
   "source": [
    "A = [0, 10]\n",
    "K = 2\n",
    "ans = Solution()\n",
    "ans.smallestRangeI(A, K)"
   ]
  },
  {
   "cell_type": "code",
   "execution_count": null,
   "metadata": {},
   "outputs": [],
   "source": []
  }
 ],
 "metadata": {
  "kernelspec": {
   "display_name": "Python 3",
   "language": "python",
   "name": "python3"
  },
  "language_info": {
   "codemirror_mode": {
    "name": "ipython",
    "version": 3
   },
   "file_extension": ".py",
   "mimetype": "text/x-python",
   "name": "python",
   "nbconvert_exporter": "python",
   "pygments_lexer": "ipython3",
   "version": "3.7.3"
  }
 },
 "nbformat": 4,
 "nbformat_minor": 2
}
