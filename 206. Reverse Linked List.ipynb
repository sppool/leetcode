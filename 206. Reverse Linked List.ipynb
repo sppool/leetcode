{
 "cells": [
  {
   "cell_type": "markdown",
   "metadata": {},
   "source": [
    "### Reverse Linked List"
   ]
  },
  {
   "cell_type": "raw",
   "metadata": {},
   "source": [
    "Reverse a singly linked list.\n",
    "Example:\n",
    "Input: 1->2->3->4->5->NULL\n",
    "Output: 5->4->3->2->1->NULL\n",
    "Follow up: A linked list can be reversed either iteratively or recursively. Could you implement both?"
   ]
  },
  {
   "cell_type": "code",
   "execution_count": 1,
   "metadata": {},
   "outputs": [],
   "source": [
    "class ListNode: # 條件鏈表\n",
    "    def __init__(self, x):\n",
    "        self.val = x\n",
    "        self.next = None\n",
    "        \n",
    "    def list2node(lst): # 生成鏈表\n",
    "        res = ListNode(lst[0])\n",
    "        var = res\n",
    "        for x in lst[1:]:\n",
    "            var.next = ListNode(x)\n",
    "            var = var.next\n",
    "        return res\n",
    "    def node2list(l): # 顯使鏈表\n",
    "        lst = []\n",
    "        node = l\n",
    "        while node != None:\n",
    "            lst.append(node.val)\n",
    "            node = node.next\n",
    "        return lst\n",
    "    \n",
    "class Solution: # 99.98%\n",
    "    def reverseList(self, head):\n",
    "        if not head: return head # empty node \n",
    "        if not head.next: return head # only one node\n",
    "        node1 = head # node1 -> node2 -> node3\n",
    "        node2 = node1.next\n",
    "        node1.next = None # None <- node1 | node2 -> node3\n",
    "        while node2.next: # node3 exist\n",
    "            node3 = node2.next\n",
    "            node2.next = node1 # None <- node1 <- node2 | node3\n",
    "            node1 = node2      # None <- value <- node1 | node2 -> node3(new) exost?\n",
    "            node2 = node3\n",
    "        node2.next = node1\n",
    "        return node2"
   ]
  },
  {
   "cell_type": "code",
   "execution_count": 2,
   "metadata": {},
   "outputs": [],
   "source": [
    "head = ListNode.list2node([i for i in range(1, 6)])\n",
    "ans = Solution()"
   ]
  },
  {
   "cell_type": "code",
   "execution_count": 3,
   "metadata": {},
   "outputs": [
    {
     "data": {
      "text/plain": [
       "[5, 4, 3, 2, 1]"
      ]
     },
     "execution_count": 3,
     "metadata": {},
     "output_type": "execute_result"
    }
   ],
   "source": [
    "ListNode.node2list(ans.reverseList(head))"
   ]
  }
 ],
 "metadata": {
  "kernelspec": {
   "display_name": "Python 3",
   "language": "python",
   "name": "python3"
  },
  "language_info": {
   "codemirror_mode": {
    "name": "ipython",
    "version": 3
   },
   "file_extension": ".py",
   "mimetype": "text/x-python",
   "name": "python",
   "nbconvert_exporter": "python",
   "pygments_lexer": "ipython3",
   "version": "3.7.3"
  }
 },
 "nbformat": 4,
 "nbformat_minor": 2
}
