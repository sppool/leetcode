{
 "cells": [
  {
   "cell_type": "markdown",
   "metadata": {},
   "source": [
    "### Island Perimeter"
   ]
  },
  {
   "cell_type": "raw",
   "metadata": {},
   "source": [
    "You are given a map in form of a two-dimensional integer grid where 1 represents land and 0 represents water.\n",
    "Grid cells are connected horizontally/vertically (not diagonally). The grid is completely surrounded by water,\n",
    "and there is exactly one island (i.e., one or more connected land cells).\n",
    "The island doesn't have \"lakes\" (water inside that isn't connected to the water around the island).\n",
    "One cell is a square with side length 1. The grid is rectangular, width and height don't exceed 100.\n",
    "Determine the perimeter of the island.\n",
    "Example:  # 邊的數目 = 4 * (1的數目) - 2 * (連接數/周圍相連)\n",
    "Input:\n",
    "[[0,1,0,0],\n",
    " [1,1,1,0],\n",
    " [0,1,0,0],\n",
    " [1,1,0,0]] \n",
    "Output: 16\n",
    "Explanation: The perimeter is the 16 yellow stripes in the image below: (找出黃色的邊)"
   ]
  },
  {
   "cell_type": "markdown",
   "metadata": {},
   "source": [
    "https://assets.leetcode.com/uploads/2018/10/12/island.png\n",
    "![Image of Yaktocat](https://assets.leetcode.com/uploads/2018/10/12/island.png)"
   ]
  },
  {
   "cell_type": "code",
   "execution_count": 1,
   "metadata": {},
   "outputs": [],
   "source": [
    "class Solution:\n",
    "    def islandPerimeter(self, grid):\n",
    "        \"\"\"\n",
    "        :type grid: List[List[int]]\n",
    "        :rtype: int\n",
    "        \"\"\"\n",
    "        side = 0\n",
    "        for lst in grid:\n",
    "            side += (4 * sum(lst))\n",
    "        Row_connect_num = self.row_connect_num(grid)\n",
    "        grid_T = self.arr_transpose(grid)\n",
    "        Col_connect_num = self.row_connect_num(grid_T)\n",
    "        num = side - (2 * (Row_connect_num + Col_connect_num))\n",
    "        return num\n",
    "        \n",
    "    def row_connect_num(self, grid): # row的連接數\n",
    "        i_ = len(grid)\n",
    "        j_ = len(grid[0])\n",
    "        n = 0\n",
    "        for i in range(i_):\n",
    "            for j in range(j_-1):\n",
    "                if grid[i][j] + grid[i][j+1] == 2:\n",
    "                    n += 1\n",
    "        return n\n",
    "\n",
    "    def arr_transpose(self, grid): # 矩陣翻轉\n",
    "        i_ = len(grid)\n",
    "        j_ = len(grid[0])\n",
    "        lst = [[0] * i_ for i in range(j_)]\n",
    "        for i in range(len(grid)):\n",
    "            for j in range(len(grid[0])):\n",
    "                lst[j][i] = grid[i][j]\n",
    "        return lst"
   ]
  },
  {
   "cell_type": "code",
   "execution_count": 2,
   "metadata": {},
   "outputs": [
    {
     "data": {
      "text/plain": [
       "16"
      ]
     },
     "execution_count": 2,
     "metadata": {},
     "output_type": "execute_result"
    }
   ],
   "source": [
    "grid = [[0,1,0,0], [1,1,1,0], [0,1,0,0], [1,1,0,0]]\n",
    "ans = Solution()\n",
    "ans.islandPerimeter(grid)"
   ]
  }
 ],
 "metadata": {
  "kernelspec": {
   "display_name": "Python 3",
   "language": "python",
   "name": "python3"
  },
  "language_info": {
   "codemirror_mode": {
    "name": "ipython",
    "version": 3
   },
   "file_extension": ".py",
   "mimetype": "text/x-python",
   "name": "python",
   "nbconvert_exporter": "python",
   "pygments_lexer": "ipython3",
   "version": "3.7.3"
  }
 },
 "nbformat": 4,
 "nbformat_minor": 2
}
