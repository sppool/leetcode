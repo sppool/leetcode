{
 "cells": [
  {
   "cell_type": "markdown",
   "metadata": {},
   "source": [
    "### Search Insert Position"
   ]
  },
  {
   "cell_type": "raw",
   "metadata": {},
   "source": [
    "Given a sorted array and a target value, return the index if the target is found.\n",
    "If not, return the index where it would be if it were inserted in order.\n",
    "You may assume no duplicates in the array.\n",
    "Example 1:\n",
    "Input: [1,3,5,6], 5\n",
    "Output: 2\n",
    "    \n",
    "Example 2:\n",
    "Input: [1,3,5,6], 2\n",
    "Output: 1\n",
    "    \n",
    "Example 3:\n",
    "Input: [1,3,5,6], 7\n",
    "Output: 4\n",
    "    \n",
    "Example 4:\n",
    "Input: [1,3,5,6], 0\n",
    "Output: 0"
   ]
  },
  {
   "cell_type": "code",
   "execution_count": 1,
   "metadata": {},
   "outputs": [],
   "source": [
    "class Solution: # 93.49%\n",
    "    def searchInsert(self, nums, target):\n",
    "        \"\"\"\n",
    "        :type nums: List[int]\n",
    "        :type target: int\n",
    "        :rtype: int\n",
    "        \"\"\"\n",
    "        if target in nums:\n",
    "            return nums.index(target)\n",
    "        nums.append(target)\n",
    "        nums.sort()\n",
    "        return nums.index(target)\n",
    "    \n",
    "    def searchInsert1(self, nums, target):\n",
    "        i = 0\n",
    "        l = len(nums)\n",
    "        if target <= nums[0]:\n",
    "            return 0\n",
    "        while i != l:\n",
    "            if nums[i-1] < target <= nums[i]:\n",
    "                return i\n",
    "            i+=1\n",
    "        return l\n",
    "    \n",
    "    def searchInsert2(self, nums, target):\n",
    "        if target in nums:\n",
    "            return nums.index(target)\n",
    "        else: pass\n",
    "        for i in range(len(nums)):\n",
    "            if target < nums[i]:\n",
    "                return(i)\n",
    "            else: pass\n",
    "        return len(nums)            "
   ]
  },
  {
   "cell_type": "code",
   "execution_count": 2,
   "metadata": {},
   "outputs": [
    {
     "data": {
      "text/plain": [
       "0"
      ]
     },
     "execution_count": 2,
     "metadata": {},
     "output_type": "execute_result"
    }
   ],
   "source": [
    "nums = [1,3,5,6]\n",
    "target = 0\n",
    "ans = Solution()\n",
    "ans.searchInsert(nums, target)"
   ]
  },
  {
   "cell_type": "code",
   "execution_count": 3,
   "metadata": {},
   "outputs": [
    {
     "data": {
      "text/plain": [
       "4"
      ]
     },
     "execution_count": 3,
     "metadata": {},
     "output_type": "execute_result"
    }
   ],
   "source": [
    "nums = [1,3,5,6]\n",
    "target = 7\n",
    "ans.searchInsert(nums, target)"
   ]
  },
  {
   "cell_type": "code",
   "execution_count": 4,
   "metadata": {},
   "outputs": [
    {
     "data": {
      "text/plain": [
       "2"
      ]
     },
     "execution_count": 4,
     "metadata": {},
     "output_type": "execute_result"
    }
   ],
   "source": [
    "nums = [1,3,5,6]\n",
    "target = 4\n",
    "ans.searchInsert(nums, target)"
   ]
  },
  {
   "cell_type": "code",
   "execution_count": 5,
   "metadata": {},
   "outputs": [
    {
     "name": "stdout",
     "output_type": "stream",
     "text": [
      "216 ns ± 2.56 ns per loop (mean ± std. dev. of 7 runs, 1000000 loops each)\n"
     ]
    }
   ],
   "source": [
    "%%timeit\n",
    "ans.searchInsert(nums, target)"
   ]
  },
  {
   "cell_type": "code",
   "execution_count": 6,
   "metadata": {},
   "outputs": [
    {
     "name": "stdout",
     "output_type": "stream",
     "text": [
      "486 ns ± 27.1 ns per loop (mean ± std. dev. of 7 runs, 1000000 loops each)\n"
     ]
    }
   ],
   "source": [
    "%%timeit\n",
    "ans.searchInsert1(nums, target)"
   ]
  },
  {
   "cell_type": "code",
   "execution_count": 7,
   "metadata": {},
   "outputs": [
    {
     "name": "stdout",
     "output_type": "stream",
     "text": [
      "252 ns ± 5.09 ns per loop (mean ± std. dev. of 7 runs, 1000000 loops each)\n"
     ]
    }
   ],
   "source": [
    "%%timeit\n",
    "ans.searchInsert2(nums, target)"
   ]
  }
 ],
 "metadata": {
  "kernelspec": {
   "display_name": "Python 3",
   "language": "python",
   "name": "python3"
  },
  "language_info": {
   "codemirror_mode": {
    "name": "ipython",
    "version": 3
   },
   "file_extension": ".py",
   "mimetype": "text/x-python",
   "name": "python",
   "nbconvert_exporter": "python",
   "pygments_lexer": "ipython3",
   "version": "3.7.3"
  }
 },
 "nbformat": 4,
 "nbformat_minor": 2
}
