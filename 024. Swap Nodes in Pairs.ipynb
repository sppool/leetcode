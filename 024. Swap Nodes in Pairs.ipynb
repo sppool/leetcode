{
 "cells": [
  {
   "cell_type": "markdown",
   "metadata": {},
   "source": [
    "### Swap Nodes in Pairs"
   ]
  },
  {
   "cell_type": "raw",
   "metadata": {},
   "source": [
    "Given a linked list, swap every two adjacent nodes and return its head.\n",
    "You may not modify the values in the list's nodes, only nodes itself may be changed.\n",
    "Example:\n",
    "Given 1->2->3->4, you should return the list as 2->1->4->3."
   ]
  },
  {
   "cell_type": "code",
   "execution_count": 1,
   "metadata": {},
   "outputs": [],
   "source": [
    "class ListNode: # 條件鏈表\n",
    "    def __init__(self, x):\n",
    "        self.val = x\n",
    "        self.next = None\n",
    "        \n",
    "    def list2node(lst): # 生成鏈表\n",
    "        res = ListNode(lst[0])\n",
    "        var = res\n",
    "        for x in lst[1:]:\n",
    "            var.next = ListNode(x)\n",
    "            var = var.next\n",
    "        return res\n",
    "    def node2list(l): # 顯使鏈表\n",
    "        lst = []\n",
    "        node = l\n",
    "        while node != None:\n",
    "            lst.append(node.val)\n",
    "            node = node.next\n",
    "        return lst\n",
    "\n",
    "class Solution: # 99.82%\n",
    "    def swapPairs(self, head):\n",
    "        if not head: return head # empty node\n",
    "        dic = {'odd':[], 'even':[]}\n",
    "        node = head\n",
    "        t = 1\n",
    "        while node != None:\n",
    "            if t % 2: dic['odd'].append(node)\n",
    "            else: dic['even'].append(node)\n",
    "            node = node.next\n",
    "            t += 1\n",
    "        ind = 0\n",
    "        if not dic['even']: return head # only one node\n",
    "        head = dic['even'][ind] # 兩個以上\n",
    "        l = len(dic['odd'])\n",
    "        while True:\n",
    "            dic['even'][ind].next = dic['odd'][ind]\n",
    "            try:\n",
    "                dic['odd'][ind].next = dic['even'][ind+1]\n",
    "            except:\n",
    "                if ind != l - 1:\n",
    "                    dic['odd'][ind].next = dic['odd'][ind+1]\n",
    "                    ind += 1\n",
    "                else: pass\n",
    "                break\n",
    "            ind += 1\n",
    "        dic['odd'][ind].next = None\n",
    "        return head"
   ]
  },
  {
   "cell_type": "code",
   "execution_count": 2,
   "metadata": {},
   "outputs": [
    {
     "data": {
      "text/plain": [
       "[2, 1, 4, 3, 6, 5, 8, 7, 10, 9]"
      ]
     },
     "execution_count": 2,
     "metadata": {},
     "output_type": "execute_result"
    }
   ],
   "source": [
    "head = ListNode.list2node([i+1 for i in range(10)])\n",
    "ans = Solution()\n",
    "ListNode.node2list(ans.swapPairs(head))"
   ]
  }
 ],
 "metadata": {
  "kernelspec": {
   "display_name": "Python 3",
   "language": "python",
   "name": "python3"
  },
  "language_info": {
   "codemirror_mode": {
    "name": "ipython",
    "version": 3
   },
   "file_extension": ".py",
   "mimetype": "text/x-python",
   "name": "python",
   "nbconvert_exporter": "python",
   "pygments_lexer": "ipython3",
   "version": "3.7.3"
  }
 },
 "nbformat": 4,
 "nbformat_minor": 2
}
