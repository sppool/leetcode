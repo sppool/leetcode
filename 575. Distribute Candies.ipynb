{
 "cells": [
  {
   "cell_type": "markdown",
   "metadata": {},
   "source": [
    "### Distribute Candies"
   ]
  },
  {
   "cell_type": "raw",
   "metadata": {},
   "source": [
    "Given an integer array with even length, where different numbers in this array represent different kinds of candies. \n",
    "Each number means one candy of the corresponding kind. \n",
    "You need to distribute these candies equally in number to brother and sister. \n",
    "Return the maximum number of kinds of candies the sister could gain.\n",
    "Example 1:\n",
    "Input: candies = [1,1,2,2,3,3]\n",
    "Output: 3\n",
    "Explanation:\n",
    "There are three different kinds of candies (1, 2 and 3), and two candies for each kind.\n",
    "Optimal distribution: The sister has candies [1,2,3] and the brother has candies [1,2,3], too. \n",
    "The sister has three different kinds of candies. \n",
    "Example 2:\n",
    "Input: candies = [1,1,2,3]\n",
    "Output: 2\n",
    "Explanation: For example, the sister has candies [2,3] and the brother has candies [1,1]. \n",
    "The sister has two different kinds of candies, the brother has only one kind of candies. \n",
    "\n",
    "Note:\n",
    "The length of the given array is in range [2, 10,000], and will be even.\n",
    "The number in given array is in range [-100,000, 100,000]."
   ]
  },
  {
   "cell_type": "code",
   "execution_count": 1,
   "metadata": {},
   "outputs": [],
   "source": [
    "class Solution:\n",
    "    def distributeCandies(self, candies):\n",
    "        \"\"\"\n",
    "        :type candies: List[int]\n",
    "        :rtype: int\n",
    "        \"\"\"\n",
    "        n = len(candies) // 2\n",
    "        if n > len(set(candies)):\n",
    "            return len(set(candies))\n",
    "        else:\n",
    "            return n"
   ]
  },
  {
   "cell_type": "code",
   "execution_count": 2,
   "metadata": {},
   "outputs": [
    {
     "data": {
      "text/plain": [
       "3"
      ]
     },
     "execution_count": 2,
     "metadata": {},
     "output_type": "execute_result"
    }
   ],
   "source": [
    "candies = [1,1,2,2,3,3]\n",
    "ans = Solution()\n",
    "ans.distributeCandies(candies)"
   ]
  }
 ],
 "metadata": {
  "kernelspec": {
   "display_name": "Python 3",
   "language": "python",
   "name": "python3"
  },
  "language_info": {
   "codemirror_mode": {
    "name": "ipython",
    "version": 3
   },
   "file_extension": ".py",
   "mimetype": "text/x-python",
   "name": "python",
   "nbconvert_exporter": "python",
   "pygments_lexer": "ipython3",
   "version": "3.7.3"
  }
 },
 "nbformat": 4,
 "nbformat_minor": 2
}
