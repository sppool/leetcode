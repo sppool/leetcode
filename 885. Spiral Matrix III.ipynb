{
 "cells": [
  {
   "cell_type": "markdown",
   "metadata": {},
   "source": [
    "### Spiral Matrix III"
   ]
  },
  {
   "cell_type": "raw",
   "metadata": {},
   "source": [
    "On a 2 dimensional grid with R rows and C columns, we start at (r0, c0) facing east.\n",
    "Here, the north-west corner of the grid is at the first row and column, and the south-east corner of the grid is at the last row and column.\n",
    "Now, we walk in a clockwise spiral shape to visit every position in this grid. \n",
    "Whenever we would move outside the boundary of the grid, we continue our walk outside the grid (but may return to the grid boundary later.) \n",
    "Eventually, we reach all R * C spaces of the grid.\n",
    "Return a list of coordinates representing the positions of the grid in the order they were visited.\n",
    "\n",
    "Example 1:\n",
    "Input: R = 1, C = 4, r0 = 0, c0 = 0\n",
    "Output: [[0,0],[0,1],[0,2],[0,3]]\n",
    "Example 2:\n",
    "Input: R = 5, C = 6, r0 = 1, c0 = 4\n",
    "Output: [[1,4],[1,5],[2,5],[2,4],[2,3],[1,3],[0,3],[0,4],[0,5],[3,5],[3,4],[3,3],[3,2],[2,2],[1,2],\n",
    "         [0,2],[4,5],[4,4],[4,3],[4,2],[4,1],[3,1],[2,1],[1,1],[0,1],[4,0],[3,0],[2,0],[1,0],[0,0]]\n",
    "Note:\n",
    "1. 1 <= R <= 100\n",
    "2. 1 <= C <= 100\n",
    "3. 0 <= r0 < R\n",
    "4. 0 <= c0 < C"
   ]
  },
  {
   "cell_type": "markdown",
   "metadata": {},
   "source": [
    "Example 1:\n",
    "![Image of Yaktocat](https://s3-lc-upload.s3.amazonaws.com/uploads/2018/08/24/example_1.png)\n",
    "https://s3-lc-upload.s3.amazonaws.com/uploads/2018/08/24/example_1.png\n",
    "\n",
    "\n",
    "Example 2:\n",
    "![Image of Yaktocat](https://s3-lc-upload.s3.amazonaws.com/uploads/2018/08/24/example_2.png)\n",
    "https://s3-lc-upload.s3.amazonaws.com/uploads/2018/08/24/example_2.png"
   ]
  },
  {
   "cell_type": "code",
   "execution_count": 1,
   "metadata": {},
   "outputs": [],
   "source": [
    "class Solution:\n",
    "    def spiralMatrixIII(self, R, C, r0, c0): # 100%\n",
    "        \"\"\"\n",
    "        :type R: int\n",
    "        :type C: int\n",
    "        :type r0: int\n",
    "        :type c0: int\n",
    "        :rtype: List[List[int]]\n",
    "        \"\"\"\n",
    "\n",
    "        lst = []\n",
    "        l = c0 - 1 # col左極限\n",
    "        u = r0 - 1 # row上極限\n",
    "        r = c0 + 1 # col右極限\n",
    "        d = r0 + 1 # row下極限\n",
    "        i = r0 #初始 i index\n",
    "        j = c0 #初始 j index\n",
    "        lst.append((i, j))\n",
    "        while True:\n",
    "            while j < r:\n",
    "                j += 1\n",
    "                if 0 <= j < C and 0 <= i < R:\n",
    "                    lst.append((i, j))\n",
    "            r += 1\n",
    "            while i < d:\n",
    "                i += 1\n",
    "                if 0 <= j < C and 0 <= i < R:\n",
    "                    lst.append((i, j))\n",
    "            d += 1\n",
    "            while j > l:\n",
    "                j -= 1\n",
    "                if 0 <= j < C and 0 <= i < R:\n",
    "                    lst.append((i, j))\n",
    "            l -= 1\n",
    "            while i > u:\n",
    "                i -= 1\n",
    "                if 0 <= j < C and 0 <= i < R:\n",
    "                    lst.append((i, j))\n",
    "            u -= 1\n",
    "            if len(lst) == R * C:\n",
    "                break\n",
    "\n",
    "        return lst\n",
    "                "
   ]
  },
  {
   "cell_type": "code",
   "execution_count": 2,
   "metadata": {},
   "outputs": [
    {
     "data": {
      "text/plain": [
       "[(1, 4),\n",
       " (1, 5),\n",
       " (2, 5),\n",
       " (2, 4),\n",
       " (2, 3),\n",
       " (1, 3),\n",
       " (0, 3),\n",
       " (0, 4),\n",
       " (0, 5),\n",
       " (3, 5),\n",
       " (3, 4),\n",
       " (3, 3),\n",
       " (3, 2),\n",
       " (2, 2),\n",
       " (1, 2),\n",
       " (0, 2),\n",
       " (4, 5),\n",
       " (4, 4),\n",
       " (4, 3),\n",
       " (4, 2),\n",
       " (4, 1),\n",
       " (3, 1),\n",
       " (2, 1),\n",
       " (1, 1),\n",
       " (0, 1),\n",
       " (5, 5),\n",
       " (5, 4),\n",
       " (5, 3),\n",
       " (5, 2),\n",
       " (5, 1),\n",
       " (5, 0),\n",
       " (4, 0),\n",
       " (3, 0),\n",
       " (2, 0),\n",
       " (1, 0),\n",
       " (0, 0)]"
      ]
     },
     "execution_count": 2,
     "metadata": {},
     "output_type": "execute_result"
    }
   ],
   "source": [
    "R = 6\n",
    "C = 6\n",
    "r0 = 1\n",
    "c0 = 4\n",
    "ans = Solution()\n",
    "ans.spiralMatrixIII(R, C, r0, c0)"
   ]
  }
 ],
 "metadata": {
  "kernelspec": {
   "display_name": "Python 3",
   "language": "python",
   "name": "python3"
  },
  "language_info": {
   "codemirror_mode": {
    "name": "ipython",
    "version": 3
   },
   "file_extension": ".py",
   "mimetype": "text/x-python",
   "name": "python",
   "nbconvert_exporter": "python",
   "pygments_lexer": "ipython3",
   "version": "3.7.3"
  }
 },
 "nbformat": 4,
 "nbformat_minor": 2
}
