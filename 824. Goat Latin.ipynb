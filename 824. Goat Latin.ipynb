{
 "cells": [
  {
   "cell_type": "markdown",
   "metadata": {},
   "source": [
    "### Goat Latin"
   ]
  },
  {
   "cell_type": "raw",
   "metadata": {},
   "source": [
    "# 山羊拉丁文!!\n",
    "A sentence S is given, composed of words separated by spaces. Each word consists of lowercase and uppercase letters only.\n",
    "We would like to convert the sentence to \"Goat Latin\" (a made-up language similar to Pig Latin.)\n",
    "The rules of Goat Latin are as follows:\n",
    "1. If a word begins with a vowel (a, e, i, o, or u), append \"ma\" to the end of the word.\n",
    "For example, the word 'apple' becomes 'applema'. # 母音開頭 > 原字串 + \"ma\"\n",
    "2. If a word begins with a consonant (i.e. not a vowel), remove the first letter and append it to the end, then add \"ma\".\n",
    "For example, the word \"goat\" becomes \"oatgma\". # 子音開頭 > 1st字元移到最後 + \"ma\"\n",
    "3. Add one letter 'a' to the end of each word per its word index in the sentence, starting with 1. # 依照第幾個字串 追加幾個'a'\n",
    "For example, the first word gets \"a\" added to the end, the second word gets \"aa\" added to the end and so on.\n",
    "\n",
    "Return the final sentence representing the conversion from S to Goat Latin. \n",
    "Example 1:\n",
    "Input: \"I speak Goat Latin\"\n",
    "Output: \"Imaa peaksmaaa oatGmaaaa atinLmaaaaa\"\n",
    "Example 2:\n",
    "Input: \"The quick brown fox jumped over the lazy dog\"\n",
    "Output: \"heTmaa uickqmaaa rownbmaaaa oxfmaaaaa umpedjmaaaaaa overmaaaaaaa hetmaaaaaaaa azylmaaaaaaaaa ogdmaaaaaaaaaa\" \n",
    "\n",
    "Notes:\n",
    "1. S contains only uppercase, lowercase and spaces. Exactly one space between each word.\n",
    "2. 1 <= S.length <= 150."
   ]
  },
  {
   "cell_type": "code",
   "execution_count": 1,
   "metadata": {},
   "outputs": [],
   "source": [
    "class Solution(object):\n",
    "    def toGoatLatin(self, S): # 97.82%\n",
    "        \"\"\"\n",
    "        :type S: str\n",
    "        :rtype: str\n",
    "        \"\"\"\n",
    "        vowel_set = set('aeiouAEIOU')\n",
    "        output = ''\n",
    "        S = S.split(' ')\n",
    "        for i, s in enumerate(S):\n",
    "            if s[0] in vowel_set: # 母音\n",
    "                new_s = s + 'ma'\n",
    "            else: # 子音\n",
    "                new_s = s[1:] + s[0] + 'ma'\n",
    "            output += new_s + ('a' * (i+1)) # +'aa'\n",
    "            output += ' ' \n",
    "        return output[:-1] # 刪除最後一個' '"
   ]
  },
  {
   "cell_type": "code",
   "execution_count": 2,
   "metadata": {},
   "outputs": [
    {
     "data": {
      "text/plain": [
       "'heTmaa uickqmaaa rownbmaaaa oxfmaaaaa umpedjmaaaaaa overmaaaaaaa hetmaaaaaaaa azylmaaaaaaaaa ogdmaaaaaaaaaa'"
      ]
     },
     "execution_count": 2,
     "metadata": {},
     "output_type": "execute_result"
    }
   ],
   "source": [
    "S = \"The quick brown fox jumped over the lazy dog\"\n",
    "ans = Solution()\n",
    "ans.toGoatLatin(S)"
   ]
  }
 ],
 "metadata": {
  "kernelspec": {
   "display_name": "Python 3",
   "language": "python",
   "name": "python3"
  },
  "language_info": {
   "codemirror_mode": {
    "name": "ipython",
    "version": 3
   },
   "file_extension": ".py",
   "mimetype": "text/x-python",
   "name": "python",
   "nbconvert_exporter": "python",
   "pygments_lexer": "ipython3",
   "version": "3.7.3"
  }
 },
 "nbformat": 4,
 "nbformat_minor": 2
}
