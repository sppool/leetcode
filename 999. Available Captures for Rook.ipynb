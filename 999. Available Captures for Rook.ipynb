{
 "cells": [
  {
   "cell_type": "markdown",
   "metadata": {},
   "source": [
    "### Available Captures for Rook"
   ]
  },
  {
   "cell_type": "raw",
   "metadata": {},
   "source": [
    "On an 8 x 8 chessboard, there is one white rook.  There also may be empty squares, white bishops, and black pawns.  \n",
    "These are given as characters 'R', '.', 'B', and 'p' respectively. Uppercase characters represent white pieces, \n",
    "and lowercase characters represent black pieces.\n",
    "The rook moves as in the rules of Chess: it chooses one of four cardinal directions (north, east, west, and south), \n",
    "then moves in that direction until it chooses to stop, reaches the edge of the board, \n",
    "or captures an opposite colored pawn by moving to the same square it occupies.  \n",
    "Also, rooks cannot move into the same square as other friendly bishops.\n",
    "\n",
    "Return the number of pawns the rook can capture in one move.\n",
    "\n",
    "Example 1:\n",
    "Input: [[\".\",\".\",\".\",\".\",\".\",\".\",\".\",\".\"],[\".\",\".\",\".\",\"p\",\".\",\".\",\".\",\".\"],[\".\",\".\",\".\",\"R\",\".\",\".\",\".\",\"p\"],[\".\",\".\",\".\",\".\",\".\",\".\",\".\",\".\"],[\".\",\".\",\".\",\".\",\".\",\".\",\".\",\".\"],[\".\",\".\",\".\",\"p\",\".\",\".\",\".\",\".\"],[\".\",\".\",\".\",\".\",\".\",\".\",\".\",\".\"],[\".\",\".\",\".\",\".\",\".\",\".\",\".\",\".\"]]\n",
    "Output: 3\n",
    "Explanation: \n",
    "In this example the rook is able to capture all the pawns.\n",
    "\n",
    "Example 2:\n",
    "Input: [[\".\",\".\",\".\",\".\",\".\",\".\",\".\",\".\"],[\".\",\"p\",\"p\",\"p\",\"p\",\"p\",\".\",\".\"],[\".\",\"p\",\"p\",\"B\",\"p\",\"p\",\".\",\".\"],[\".\",\"p\",\"B\",\"R\",\"B\",\"p\",\".\",\".\"],[\".\",\"p\",\"p\",\"B\",\"p\",\"p\",\".\",\".\"],[\".\",\"p\",\"p\",\"p\",\"p\",\"p\",\".\",\".\"],[\".\",\".\",\".\",\".\",\".\",\".\",\".\",\".\"],[\".\",\".\",\".\",\".\",\".\",\".\",\".\",\".\"]]\n",
    "Output: 0\n",
    "Explanation: \n",
    "Bishops are blocking the rook to capture any pawn.\n",
    "\n",
    "Example 3:\n",
    "Input: [[\".\",\".\",\".\",\".\",\".\",\".\",\".\",\".\"],[\".\",\".\",\".\",\"p\",\".\",\".\",\".\",\".\"],[\".\",\".\",\".\",\"p\",\".\",\".\",\".\",\".\"],[\"p\",\"p\",\".\",\"R\",\".\",\"p\",\"B\",\".\"],[\".\",\".\",\".\",\".\",\".\",\".\",\".\",\".\"],[\".\",\".\",\".\",\"B\",\".\",\".\",\".\",\".\"],[\".\",\".\",\".\",\"p\",\".\",\".\",\".\",\".\"],[\".\",\".\",\".\",\".\",\".\",\".\",\".\",\".\"]]\n",
    "Output: 3\n",
    "Explanation: \n",
    "The rook can capture the pawns at positions b5, d6 and f5.\n",
    " \n",
    "Note:\n",
    "board.length == board[i].length == 8\n",
    "board[i][j] is either 'R', '.', 'B', or 'p'\n",
    "There is exactly one cell with board[i][j] == 'R'"
   ]
  },
  {
   "cell_type": "markdown",
   "metadata": {},
   "source": [
    "Example 1: https://assets.leetcode.com/uploads/2019/02/20/1253_example_1_improved.PNG\n",
    "![Image of Yaktocat](https://assets.leetcode.com/uploads/2019/02/20/1253_example_1_improved.PNG)\n",
    "\n",
    "Example 2: https://assets.leetcode.com/uploads/2019/02/19/1253_example_2_improved.PNG\n",
    "![Image of Yaktocat](https://assets.leetcode.com/uploads/2019/02/19/1253_example_2_improved.PNG)\n",
    "\n",
    "Example 3: https://assets.leetcode.com/uploads/2019/02/20/1253_example_3_improved.PNG\n",
    "![Image of Yaktocat](https://assets.leetcode.com/uploads/2019/02/20/1253_example_3_improved.PNG)"
   ]
  },
  {
   "cell_type": "code",
   "execution_count": 1,
   "metadata": {},
   "outputs": [],
   "source": [
    "class Solution: #99.85%\n",
    "    def numRookCaptures(self, board):\n",
    "        for i in range(8):\n",
    "            for j in range(8):\n",
    "                if board[i][j] == 'R':\n",
    "                    break\n",
    "            if board[i][j] == 'R':\n",
    "                break\n",
    "        n = 0\n",
    "        up = i\n",
    "        down = 7 - i\n",
    "        left = j\n",
    "        right = 7 - j\n",
    "        step = 0\n",
    "        while up-step:\n",
    "            step += 1\n",
    "            if board[i-step][j] == '.':\n",
    "                continue\n",
    "            elif board[i-step][j] == 'p':\n",
    "                n += 1\n",
    "                break\n",
    "            else:\n",
    "                break\n",
    "        step = 0\n",
    "        while down-step:\n",
    "            step += 1\n",
    "            if board[i+step][j] == '.':\n",
    "                continue\n",
    "            elif board[i+step][j] == 'p':\n",
    "                n += 1\n",
    "                break\n",
    "            else:\n",
    "                break\n",
    "        step = 0\n",
    "        while left-step:\n",
    "            step += 1\n",
    "            if board[i][j-step] == '.':\n",
    "                continue\n",
    "            elif board[i][j-step] == 'p':\n",
    "                n += 1\n",
    "                break\n",
    "            else:\n",
    "                break\n",
    "        step = 0\n",
    "        while right-step:\n",
    "            step += 1\n",
    "            if board[i][j+step] == '.':\n",
    "                continue\n",
    "            elif board[i][j+step] == 'p':\n",
    "                n += 1\n",
    "                break\n",
    "            else:\n",
    "                break \n",
    "        return n\n",
    "                \n",
    "        "
   ]
  },
  {
   "cell_type": "code",
   "execution_count": 2,
   "metadata": {},
   "outputs": [
    {
     "data": {
      "text/plain": [
       "3"
      ]
     },
     "execution_count": 2,
     "metadata": {},
     "output_type": "execute_result"
    }
   ],
   "source": [
    "board = [[\".\",\".\",\".\",\".\",\".\",\".\",\".\",\".\"],[\".\",\".\",\".\",\"p\",\".\",\".\",\".\",\".\"],[\".\",\".\",\".\",\"p\",\".\",\".\",\".\",\".\"],[\"p\",\"p\",\".\",\"R\",\".\",\"p\",\"B\",\".\"],[\".\",\".\",\".\",\".\",\".\",\".\",\".\",\".\"],[\".\",\".\",\".\",\"B\",\".\",\".\",\".\",\".\"],[\".\",\".\",\".\",\"p\",\".\",\".\",\".\",\".\"],[\".\",\".\",\".\",\".\",\".\",\".\",\".\",\".\"]]\n",
    "ans = Solution()\n",
    "ans.numRookCaptures(board)\n"
   ]
  }
 ],
 "metadata": {
  "kernelspec": {
   "display_name": "Python 3",
   "language": "python",
   "name": "python3"
  },
  "language_info": {
   "codemirror_mode": {
    "name": "ipython",
    "version": 3
   },
   "file_extension": ".py",
   "mimetype": "text/x-python",
   "name": "python",
   "nbconvert_exporter": "python",
   "pygments_lexer": "ipython3",
   "version": "3.7.3"
  }
 },
 "nbformat": 4,
 "nbformat_minor": 2
}
