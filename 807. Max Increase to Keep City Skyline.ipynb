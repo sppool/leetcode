{
 "cells": [
  {
   "cell_type": "markdown",
   "metadata": {},
   "source": [
    "### Max Increase to Keep City Skyline"
   ]
  },
  {
   "cell_type": "raw",
   "metadata": {},
   "source": [
    "In a 2 dimensional array grid, each value grid[i][j] represents the height of a building located there.\n",
    "We are allowed to increase the height of any number of buildings,\n",
    "by any amount (the amounts can be different for different buildings). Height 0 is considered to be a building as well. \n",
    "At the end, the \"skyline\" when viewed from all four directions of the grid, i.e. top, bottom, left, and right,\n",
    "must be the same as the skyline of the original grid.\n",
    "A city's skyline is the outer contour of the rectangles formed by all the buildings when viewed from a distance.\n",
    "See the following example.\n",
    "What is the maximum total sum that the height of the buildings can be increased?\n",
    "\n",
    "Example:\n",
    "Input: grid = [[3,0,8,4],[2,4,5,7],[9,2,6,3],[0,3,1,0]]\n",
    "Output: 35\n",
    "Explanation: \n",
    "The grid is:\n",
    "[[3, 0, 8, 4], \n",
    " [2, 4, 5, 7],\n",
    " [9, 2, 6, 3],\n",
    " [0, 3, 1, 0]]\n",
    "The skyline viewed from top or bottom is: [9, 4, 8, 7]\n",
    "The skyline viewed from left or right is: [8, 7, 9, 3]\n",
    "The grid after increasing the height of buildings without affecting skylines is:\n",
    "gridNew = [[8, 4, 8, 7],\n",
    "           [7, 4, 7, 7],\n",
    "           [9, 4, 8, 7],\n",
    "           [3, 3, 3, 3]]\n",
    "Notes:\n",
    "1. 1 < grid.length = grid[0].length <= 50.\n",
    "2. All heights grid[i][j] are in the range [0, 100].\n",
    "3. All buildings in grid[i][j] occupy the entire grid cell: that is, they are a 1 x 1 x grid[i][j] rectangular prism."
   ]
  },
  {
   "cell_type": "code",
   "execution_count": 1,
   "metadata": {},
   "outputs": [],
   "source": [
    "class Solution:\n",
    "    def maxIncreaseKeepingSkyline(self, grid):\n",
    "        \"\"\"\n",
    "        :type grid: List[List[int]]\n",
    "        :rtype: int\n",
    "          ___w___\n",
    "         |\n",
    "        h|\n",
    "         |\n",
    "         \n",
    "        \"\"\"\n",
    "        h = len(grid)\n",
    "        w = len(grid[0])\n",
    "        w_h = [] # w 視角最高\n",
    "        h_h = [] # h 視角最高\n",
    "        for i in range(h):\n",
    "            h_h.append(max(grid[i]))\n",
    "        for j in range(w):\n",
    "            lst = []\n",
    "            for i in range(h):\n",
    "                lst.append(grid[i][j])\n",
    "            w_h.append(max(lst))\n",
    "        val = 0\n",
    "        for j in range(w):\n",
    "            for i in range(h):\n",
    "                val += min([h_h[i], w_h[j]]) - grid[i][j]\n",
    "        return val\n",
    "        "
   ]
  },
  {
   "cell_type": "code",
   "execution_count": 2,
   "metadata": {},
   "outputs": [
    {
     "data": {
      "text/plain": [
       "35"
      ]
     },
     "execution_count": 2,
     "metadata": {},
     "output_type": "execute_result"
    }
   ],
   "source": [
    "grid = [[3,0,8,4],[2,4,5,7],[9,2,6,3],[0,3,1,0]]\n",
    "ans = Solution()\n",
    "ans.maxIncreaseKeepingSkyline(grid)"
   ]
  }
 ],
 "metadata": {
  "kernelspec": {
   "display_name": "Python 3",
   "language": "python",
   "name": "python3"
  },
  "language_info": {
   "codemirror_mode": {
    "name": "ipython",
    "version": 3
   },
   "file_extension": ".py",
   "mimetype": "text/x-python",
   "name": "python",
   "nbconvert_exporter": "python",
   "pygments_lexer": "ipython3",
   "version": "3.7.3"
  }
 },
 "nbformat": 4,
 "nbformat_minor": 2
}
