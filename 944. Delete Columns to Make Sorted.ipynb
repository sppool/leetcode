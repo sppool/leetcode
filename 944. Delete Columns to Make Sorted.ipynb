{
 "cells": [
  {
   "cell_type": "markdown",
   "metadata": {},
   "source": [
    "### Delete Columns to Make Sorted"
   ]
  },
  {
   "cell_type": "raw",
   "metadata": {},
   "source": [
    "We are given an array A of N lowercase letter strings, all of the same length.\n",
    "Now, we may choose any set of deletion indices, and for each string, we delete all the characters in those indices.  \n",
    "The remaining rows of strings form columns when read north to south.\n",
    "For example, if we have an array A = [\"abcdef\",\"uvwxyz\"] and deletion indices {0, 2, 3}, \n",
    "then the final array after deletions is [\"bef\",\"vyz\"], and the remaining columns of A are [\"b\",\"v\"], [\"e\",\"y\"], and [\"f\",\"z\"].  \n",
    "(Formally, the c-th column is [A[0][c], A[1][c], ..., A[A.length-1][c]].)\n",
    "Suppose we chose a set of deletion indices D such that after deletions, \n",
    "each remaining column in A is in non-decreasing sorted order.\n",
    "Return the minimum possible value of D.length.\n",
    "\n",
    "Example 1: # 刪除 非遞增的 col, 總共刪除多少col\n",
    "Input: [\"cba\",\"daf\",\"ghi\"]\n",
    "Output: 1\n",
    "Explanation: \n",
    "After choosing D = {1}, each column [\"c\",\"d\",\"g\"] and [\"a\",\"f\",\"i\"] are in non-decreasing sorted order.\n",
    "If we chose D = {}, then a column [\"b\",\"a\",\"h\"] would not be in non-decreasing sorted order.\n",
    "\n",
    "Example 2:\n",
    "Input: [\"a\",\"b\"]\n",
    "Output: 0\n",
    "Explanation: D = {}\n",
    "\n",
    "Example 3:\n",
    "Input: [\"zyx\",\"wvu\",\"tsr\"]\n",
    "Output: 3\n",
    "Explanation: D = {0, 1, 2}\n",
    "\n",
    "Note:\n",
    "1 <= A.length <= 100\n",
    "1 <= A[i].length <= 1000"
   ]
  },
  {
   "cell_type": "code",
   "execution_count": 1,
   "metadata": {},
   "outputs": [],
   "source": [
    "class Solution:\n",
    "    def minDeletionSize(self, A): # ok\n",
    "        \"\"\"\n",
    "        :type A: List[str]\n",
    "        :rtype: int\n",
    "        \"\"\"\n",
    "        i_ =len(A)\n",
    "        j_ = len(A[0])\n",
    "        n = 0\n",
    "        for j in range(j_):\n",
    "            for i in range(i_-1):\n",
    "                if ord(A[i][j]) > ord(A[i+1][j]):\n",
    "                    n += 1\n",
    "                    break\n",
    "        return n"
   ]
  },
  {
   "cell_type": "code",
   "execution_count": 2,
   "metadata": {},
   "outputs": [
    {
     "data": {
      "text/plain": [
       "2"
      ]
     },
     "execution_count": 2,
     "metadata": {},
     "output_type": "execute_result"
    }
   ],
   "source": [
    "A = [\"rrjk\",\"furt\",\"guzm\"]\n",
    "ans = Solution()\n",
    "ans.minDeletionSize(A)"
   ]
  }
 ],
 "metadata": {
  "kernelspec": {
   "display_name": "Python 3",
   "language": "python",
   "name": "python3"
  },
  "language_info": {
   "codemirror_mode": {
    "name": "ipython",
    "version": 3
   },
   "file_extension": ".py",
   "mimetype": "text/x-python",
   "name": "python",
   "nbconvert_exporter": "python",
   "pygments_lexer": "ipython3",
   "version": "3.7.3"
  }
 },
 "nbformat": 4,
 "nbformat_minor": 2
}
