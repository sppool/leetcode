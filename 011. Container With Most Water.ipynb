{
 "cells": [
  {
   "cell_type": "markdown",
   "metadata": {},
   "source": [
    "### Container With Most Water"
   ]
  },
  {
   "cell_type": "raw",
   "metadata": {},
   "source": [
    "Given n non-negative integers a1, a2, ..., an , where each represents a point at coordinate (i, ai).\n",
    "n vertical lines are drawn such that the two endpoints of line i is at (i, ai) and (i, 0).\n",
    "Find two lines, which together with x-axis forms a container, such that the container contains the most water.\n",
    "\n",
    "Note: You may not slant the container and n is at least 2.\n",
    "\n",
    "Example:\n",
    "Input: [1,8,6,2,5,4,8,3,7]\n",
    "Output: 49"
   ]
  },
  {
   "cell_type": "markdown",
   "metadata": {},
   "source": [
    "https://s3-lc-upload.s3.amazonaws.com/uploads/2018/07/17/question_11.jpg\n",
    "![Image of Yaktocat](https://s3-lc-upload.s3.amazonaws.com/uploads/2018/07/17/question_11.jpg)"
   ]
  },
  {
   "cell_type": "code",
   "execution_count": 1,
   "metadata": {},
   "outputs": [],
   "source": [
    "class Solution:\n",
    "    def maxArea(self, height): # 雙指針 找最佳解 # 100%\n",
    "        \"\"\"\n",
    "        :type height: List[int]\n",
    "        :rtype: int\n",
    "        \"\"\"\n",
    "        st_ind = 0\n",
    "        en_ind = len(height) - 1\n",
    "        max_val = 0\n",
    "        while st_ind != en_ind:\n",
    "            w = en_ind - st_ind\n",
    "            if height[st_ind] < height[en_ind]:\n",
    "                h = height[st_ind]\n",
    "                st_ind += 1\n",
    "            else:\n",
    "                h = height[en_ind]\n",
    "                en_ind -= 1\n",
    "            if w * h > max_val:\n",
    "                max_val = w * h\n",
    "        return max_val          \n",
    "    \n",
    "    def maxArea2(self, height): # Over time 暴力法 計算所有可能!!\n",
    "        max_val = 0\n",
    "        n = len(height)\n",
    "        for st_ind in range(n-1):\n",
    "            for en_ind in range(st_ind+1, n):\n",
    "                if height[st_ind] < height[en_ind]:\n",
    "                    h = height[st_ind]\n",
    "                else:\n",
    "                    h = height[en_ind]\n",
    "                    \n",
    "                val = (en_ind-st_ind) * h\n",
    "                if val > max_val:\n",
    "                    max_val = val\n",
    "                else:\n",
    "                    pass\n",
    "        return max_val"
   ]
  },
  {
   "cell_type": "code",
   "execution_count": 2,
   "metadata": {},
   "outputs": [
    {
     "data": {
      "text/plain": [
       "71916"
      ]
     },
     "execution_count": 2,
     "metadata": {},
     "output_type": "execute_result"
    }
   ],
   "source": [
    "height = [28,342,418,485,719,670,878,752,662,994,654,504,929,660,424,855,922,744,600,229,728,33,371,863,561,772,271,178,455,449,752,662,994,654,504,929,660,424,855,922,744,600,752,662,994,654,504,929,660,424,855,922,744,600,752,662,994,654,504,929,660,424,855,922,744,600,752,662,994,654,504,929,660,424,855,922,744,600,752,662,994,654,504,929,660,424,855,922,744,600]\n",
    "ans = Solution()\n",
    "ans.maxArea(height)"
   ]
  },
  {
   "cell_type": "code",
   "execution_count": 3,
   "metadata": {},
   "outputs": [
    {
     "name": "stdout",
     "output_type": "stream",
     "text": [
      "14.3 µs ± 149 ns per loop (mean ± std. dev. of 7 runs, 100000 loops each)\n"
     ]
    }
   ],
   "source": [
    "%%timeit\n",
    "ans.maxArea(height)"
   ]
  },
  {
   "cell_type": "code",
   "execution_count": 4,
   "metadata": {},
   "outputs": [
    {
     "name": "stdout",
     "output_type": "stream",
     "text": [
      "555 µs ± 29.3 µs per loop (mean ± std. dev. of 7 runs, 1000 loops each)\n"
     ]
    }
   ],
   "source": [
    "%%timeit\n",
    "ans.maxArea2(height)"
   ]
  },
  {
   "cell_type": "code",
   "execution_count": null,
   "metadata": {},
   "outputs": [],
   "source": []
  }
 ],
 "metadata": {
  "kernelspec": {
   "display_name": "Python 3",
   "language": "python",
   "name": "python3"
  },
  "language_info": {
   "codemirror_mode": {
    "name": "ipython",
    "version": 3
   },
   "file_extension": ".py",
   "mimetype": "text/x-python",
   "name": "python",
   "nbconvert_exporter": "python",
   "pygments_lexer": "ipython3",
   "version": "3.7.3"
  }
 },
 "nbformat": 4,
 "nbformat_minor": 2
}
