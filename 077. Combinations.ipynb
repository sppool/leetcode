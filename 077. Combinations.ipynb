{
 "cells": [
  {
   "cell_type": "markdown",
   "metadata": {},
   "source": [
    "### Combinations"
   ]
  },
  {
   "cell_type": "raw",
   "metadata": {},
   "source": [
    "Given two integers n and k, return all possible combinations of k numbers out of 1 ... n.\n",
    "\n",
    "Example:\n",
    "Input: n = 4, k = 2\n",
    "Output:\n",
    "[ [2,4],\n",
    "  [3,4],\n",
    "  [2,3],\n",
    "  [1,2],\n",
    "  [1,3],\n",
    "  [1,4] ]"
   ]
  },
  {
   "cell_type": "code",
   "execution_count": 1,
   "metadata": {},
   "outputs": [],
   "source": [
    "class Solution:\n",
    "    def combine(self, n, k): # 21.02%\n",
    "        self.res = []\n",
    "        lst = [i for i in range(1, 1+n)]\n",
    "        self.g_next(k, [], lst)\n",
    "        return self.res\n",
    "        \n",
    "    def g_next(self, k, sub_lst, lst):\n",
    "        if  not k: # k = 0\n",
    "            self.res.append(sub_lst[:])\n",
    "            return\n",
    "        for ind, x in enumerate(lst):\n",
    "            if not sub_lst: # sub_lst = []\n",
    "                self.g_next(k-1, sub_lst+[x], lst[ind+1:]) # lst[ind+1:] 不重複的方法 選用的不再列入1, 3  不在選入 2\n",
    "            else: # x > sub_lst[-1]:\n",
    "                self.g_next(k-1, sub_lst+[x], lst[ind+1:])"
   ]
  },
  {
   "cell_type": "code",
   "execution_count": 2,
   "metadata": {},
   "outputs": [
    {
     "data": {
      "text/plain": [
       "[[1, 2], [1, 3], [1, 4], [2, 3], [2, 4], [3, 4]]"
      ]
     },
     "execution_count": 2,
     "metadata": {},
     "output_type": "execute_result"
    }
   ],
   "source": [
    "n = 4\n",
    "k = 2\n",
    "ans = Solution()\n",
    "ans.combine(n, k)"
   ]
  },
  {
   "cell_type": "code",
   "execution_count": 3,
   "metadata": {},
   "outputs": [
    {
     "name": "stdout",
     "output_type": "stream",
     "text": [
      "276 µs ± 11.2 µs per loop (mean ± std. dev. of 7 runs, 1000 loops each)\n"
     ]
    }
   ],
   "source": [
    "%%timeit\n",
    "ans.combine(10, 5)"
   ]
  }
 ],
 "metadata": {
  "kernelspec": {
   "display_name": "Python 3",
   "language": "python",
   "name": "python3"
  },
  "language_info": {
   "codemirror_mode": {
    "name": "ipython",
    "version": 3
   },
   "file_extension": ".py",
   "mimetype": "text/x-python",
   "name": "python",
   "nbconvert_exporter": "python",
   "pygments_lexer": "ipython3",
   "version": "3.7.3"
  }
 },
 "nbformat": 4,
 "nbformat_minor": 2
}
