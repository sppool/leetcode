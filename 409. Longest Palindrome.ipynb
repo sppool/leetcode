{
 "cells": [
  {
   "cell_type": "markdown",
   "metadata": {},
   "source": [
    "### Longest Palindrome"
   ]
  },
  {
   "cell_type": "raw",
   "metadata": {},
   "source": [
    "Given a string which consists of lowercase or uppercase letters, find the length of the longest palindromes that can be built with those letters.\n",
    "This is case sensitive, for example \"Aa\" is not considered a palindrome here.\n",
    "Note:\n",
    "Assume the length of given string will not exceed 1,010.\n",
    "\n",
    "Example:\n",
    "Input:\n",
    "\"abccccdd\"\n",
    "Output:\n",
    "7\n",
    "\n",
    "Explanation:\n",
    "One longest palindrome that can be built is \"dccaccd\", whose length is 7."
   ]
  },
  {
   "cell_type": "code",
   "execution_count": 1,
   "metadata": {},
   "outputs": [],
   "source": [
    "class Solution: # 99.45%\n",
    "    def longestPalindrome(self, s):\n",
    "        s_set = set(s)\n",
    "        dic = {}\n",
    "        n = 0\n",
    "        sig = 0\n",
    "        for x in s_set:\n",
    "            num = s.count(x)\n",
    "            if num % 2 == 0:\n",
    "                n += num\n",
    "            elif num % 2 == 1 and num > 2:\n",
    "                n += (num-1)\n",
    "                sig = 1\n",
    "            else:\n",
    "                sig = 1          \n",
    "        return n + sig        \n",
    "  \n",
    "    def longestPalindrome2(self, s):\n",
    "        dic = {}\n",
    "        for x in s:\n",
    "            if x in dic:\n",
    "                dic[x] += 1\n",
    "            else:\n",
    "                dic[x] = 1\n",
    "        n = 0\n",
    "        sig = 0\n",
    "        for x in dic.keys():\n",
    "            num = dic[x]\n",
    "            if num % 2 == 0:\n",
    "                n += num\n",
    "            elif num % 2 == 1 and num > 2:\n",
    "                n += (num-1)\n",
    "                sig = 1\n",
    "            else:\n",
    "                sig = 1\n",
    "        return n + sig"
   ]
  },
  {
   "cell_type": "code",
   "execution_count": 2,
   "metadata": {},
   "outputs": [
    {
     "data": {
      "text/plain": [
       "7"
      ]
     },
     "execution_count": 2,
     "metadata": {},
     "output_type": "execute_result"
    }
   ],
   "source": [
    "s = \"abccccdd\"\n",
    "ans = Solution()\n",
    "ans.longestPalindrome(s)"
   ]
  },
  {
   "cell_type": "code",
   "execution_count": 3,
   "metadata": {},
   "outputs": [],
   "source": [
    "s = 'aaaaaaabbbbbbccccccdddddddeeeeeeeeeeeffffffgggghhhiiiiijjjkkklllmmmmnnnnooooooooppppppppqqqqrrrrrrssssttttttuuuuuvvvvvwwwwwxxxxxyyyyyzzzzzAAAAAAABBBBBCCCDDDDDDDDDDDDDEEEEEEFFFFGGGHHHHHHHHHHHHIIIJJJJKKKKLLLMMMMMNNNNOOOOOOOOOOPPPPQQQQQRRSSSSTTTTTTTUUUUUUVVVVVVWWWWWWWWXXXXXXXYYYYYZZZZZ'"
   ]
  },
  {
   "cell_type": "code",
   "execution_count": 4,
   "metadata": {},
   "outputs": [
    {
     "name": "stdout",
     "output_type": "stream",
     "text": [
      "21 µs ± 485 ns per loop (mean ± std. dev. of 7 runs, 10000 loops each)\n"
     ]
    }
   ],
   "source": [
    "%%timeit\n",
    "ans.longestPalindrome(s)"
   ]
  },
  {
   "cell_type": "code",
   "execution_count": 5,
   "metadata": {},
   "outputs": [
    {
     "name": "stdout",
     "output_type": "stream",
     "text": [
      "27.7 µs ± 879 ns per loop (mean ± std. dev. of 7 runs, 10000 loops each)\n"
     ]
    }
   ],
   "source": [
    "%%timeit\n",
    "ans.longestPalindrome2(s)"
   ]
  }
 ],
 "metadata": {
  "kernelspec": {
   "display_name": "Python 3",
   "language": "python",
   "name": "python3"
  },
  "language_info": {
   "codemirror_mode": {
    "name": "ipython",
    "version": 3
   },
   "file_extension": ".py",
   "mimetype": "text/x-python",
   "name": "python",
   "nbconvert_exporter": "python",
   "pygments_lexer": "ipython3",
   "version": "3.7.3"
  }
 },
 "nbformat": 4,
 "nbformat_minor": 2
}
