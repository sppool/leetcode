{
 "cells": [
  {
   "cell_type": "raw",
   "metadata": {},
   "source": [
    "Given a non-empty array of integers, return the third maximum number in this array.\n",
    "If it does not exist, return the maximum number. The time complexity must be in O(n).\n",
    "Example 1:\n",
    "Input: [3, 2, 1]\n",
    "Output: 1\n",
    "Explanation: The third maximum is 1.\n",
    "\n",
    "Example 2:\n",
    "Input: [1, 2]\n",
    "Output: 2\n",
    "Explanation: The third maximum does not exist, so the maximum (2) is returned instead. 沒有 3rd 輸出 1st\n",
    "\n",
    "Example 3:\n",
    "Input: [2, 2, 3, 1]\n",
    "Output: 1\n",
    "Explanation: Note that the third maximum here means the third maximum distinct number.\n",
    "Both numbers with value 2 are both considered as second maximum."
   ]
  },
  {
   "cell_type": "code",
   "execution_count": 1,
   "metadata": {},
   "outputs": [],
   "source": [
    "class Solution:\n",
    "    def thirdMax(self, nums):\n",
    "        \"\"\"\n",
    "        :type nums: List[int]\n",
    "        :rtype: int\n",
    "        \"\"\"\n",
    "        nums.sort()\n",
    "        maximum = nums[-1]\n",
    "        n_maximum = 1\n",
    "        ind = len(nums)\n",
    "        \n",
    "        while n_maximum != 3:\n",
    "            ind -= 1\n",
    "            if ind < 0:\n",
    "                return nums[-1]\n",
    "            if nums[ind] < maximum:\n",
    "                maximum = nums[ind]\n",
    "                n_maximum += 1\n",
    "        return nums[ind]"
   ]
  },
  {
   "cell_type": "code",
   "execution_count": 2,
   "metadata": {},
   "outputs": [
    {
     "data": {
      "text/plain": [
       "1"
      ]
     },
     "execution_count": 2,
     "metadata": {},
     "output_type": "execute_result"
    }
   ],
   "source": [
    "nums = [3, 2, 1]\n",
    "ans = Solution()\n",
    "ans.thirdMax(nums)"
   ]
  }
 ],
 "metadata": {
  "kernelspec": {
   "display_name": "Python 3",
   "language": "python",
   "name": "python3"
  },
  "language_info": {
   "codemirror_mode": {
    "name": "ipython",
    "version": 3
   },
   "file_extension": ".py",
   "mimetype": "text/x-python",
   "name": "python",
   "nbconvert_exporter": "python",
   "pygments_lexer": "ipython3",
   "version": "3.7.3"
  }
 },
 "nbformat": 4,
 "nbformat_minor": 2
}
