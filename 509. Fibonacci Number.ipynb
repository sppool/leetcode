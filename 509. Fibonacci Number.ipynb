{
 "cells": [
  {
   "cell_type": "markdown",
   "metadata": {},
   "source": [
    "### Fibonacci Number"
   ]
  },
  {
   "cell_type": "raw",
   "metadata": {},
   "source": [
    "The Fibonacci numbers, commonly denoted F(n) form a sequence, called the Fibonacci sequence,\n",
    "such that each number is the sum of the two preceding ones, starting from 0 and 1. That is,\n",
    "F(0) = 0,   F(1) = 1\n",
    "F(N) = F(N - 1) + F(N - 2), for N > 1.\n",
    "Given N, calculate F(N).\n",
    "\n",
    "Example 1:\n",
    "Input: 2\n",
    "Output: 1\n",
    "Explanation: F(2) = F(1) + F(0) = 1 + 0 = 1.\n",
    "\n",
    "Example 2:\n",
    "Input: 3\n",
    "Output: 2\n",
    "Explanation: F(3) = F(2) + F(1) = 1 + 1 = 2.\n",
    "\n",
    "Example 3:\n",
    "Input: 4\n",
    "Output: 3\n",
    "Explanation: F(4) = F(3) + F(2) = 2 + 1 = 3.\n",
    "\n",
    "Note: 0 ≤ N ≤ 30."
   ]
  },
  {
   "cell_type": "code",
   "execution_count": 1,
   "metadata": {},
   "outputs": [],
   "source": [
    "class Solution: # 81.88%\n",
    "    def fib(self, N):\n",
    "        if N in [0, 1]: # F(0)=0 & F(1)=1\n",
    "            return N\n",
    "        else:\n",
    "            lst = [0, 1]\n",
    "            while len(lst) < N:\n",
    "                lst.append(lst[-1]+lst[-2])\n",
    "            return lst[-1]+lst[-2]\n",
    "        \n",
    "###########################################################################################################################################\n",
    "\n",
    "    def fib1(self, N): # 遞迴\n",
    "        if N in [0, 1]: # F(0)=0 & F(1)=1\n",
    "            return N\n",
    "        else:\n",
    "            return self.fib(N - 1) + self.fib(N - 2)\n",
    "                "
   ]
  },
  {
   "cell_type": "code",
   "execution_count": 2,
   "metadata": {},
   "outputs": [
    {
     "data": {
      "text/plain": [
       "832040"
      ]
     },
     "execution_count": 2,
     "metadata": {},
     "output_type": "execute_result"
    }
   ],
   "source": [
    "N = 30\n",
    "ans = Solution()\n",
    "ans.fib(N)"
   ]
  },
  {
   "cell_type": "code",
   "execution_count": 3,
   "metadata": {},
   "outputs": [
    {
     "name": "stdout",
     "output_type": "stream",
     "text": [
      "16 µs ± 342 ns per loop (mean ± std. dev. of 7 runs, 100000 loops each)\n"
     ]
    }
   ],
   "source": [
    "%%timeit\n",
    "ans.fib(100)"
   ]
  },
  {
   "cell_type": "code",
   "execution_count": 4,
   "metadata": {},
   "outputs": [
    {
     "name": "stdout",
     "output_type": "stream",
     "text": [
      "32.2 µs ± 773 ns per loop (mean ± std. dev. of 7 runs, 10000 loops each)\n"
     ]
    }
   ],
   "source": [
    "%%timeit\n",
    "ans.fib1(100)"
   ]
  }
 ],
 "metadata": {
  "kernelspec": {
   "display_name": "Python 3",
   "language": "python",
   "name": "python3"
  },
  "language_info": {
   "codemirror_mode": {
    "name": "ipython",
    "version": 3
   },
   "file_extension": ".py",
   "mimetype": "text/x-python",
   "name": "python",
   "nbconvert_exporter": "python",
   "pygments_lexer": "ipython3",
   "version": "3.7.3"
  }
 },
 "nbformat": 4,
 "nbformat_minor": 2
}
