{
 "cells": [
  {
   "cell_type": "markdown",
   "metadata": {},
   "source": [
    "### Escape The Ghosts"
   ]
  },
  {
   "cell_type": "raw",
   "metadata": {},
   "source": [
    "You are playing a simplified Pacman game. You start at the point (0, 0), and your destination is (target[0], target[1]). \n",
    "There are several ghosts on the map, the i-th ghost starts at (ghosts[i][0], ghosts[i][1]).\n",
    "Each turn, you and all ghosts simultaneously *may* move in one of 4 cardinal directions: north, east, west, or south, \n",
    "going from the previous point to a new point 1 unit of distance away.\n",
    "You escape if and only if you can reach the target before any ghost reaches you (for any given moves the ghosts may take.)  \n",
    "If you reach any square (including the target) at the same time as a ghost, it doesn't count as an escape.\n",
    "Return True if and only if it is possible to escape.\n",
    "Example 1:\n",
    "Input: \n",
    "ghosts = [[1, 0], [0, 3]]\n",
    "target = [0, 1]\n",
    "Output: true\n",
    "Explanation: \n",
    "You can directly reach the destination (0, 1) at time 1, while the ghosts located at (1, 0) or (0, 3) have no way to catch up with you.\n",
    "Example 2:\n",
    "Input: \n",
    "ghosts = [[1, 0]]\n",
    "target = [2, 0]\n",
    "Output: false\n",
    "Explanation: \n",
    "You need to reach the destination (2, 0), but the ghost at (1, 0) lies between you and the destination.\n",
    "Example 3:\n",
    "Input: \n",
    "ghosts = [[2, 0]]\n",
    "target = [1, 0]\n",
    "Output: false\n",
    "Explanation: \n",
    "The ghost can reach the target at the same time as you.\n",
    "\n",
    "Note:\n",
    "All points have coordinates with absolute value <= 10000.\n",
    "The number of ghosts will not exceed 100."
   ]
  },
  {
   "cell_type": "code",
   "execution_count": 1,
   "metadata": {},
   "outputs": [],
   "source": [
    "class Solution:\n",
    "    def escapeGhosts(self, ghosts, target): # pass 64% same way\n",
    "        \"\"\"\n",
    "        :type ghosts: List[List[int]]\n",
    "        :type target: List[int]\n",
    "        :rtype: bool\n",
    "        \"\"\"\n",
    "        d = sum([abs(t) for t in target]) # 吃豆人與終點的距離\n",
    "        g_d = []\n",
    "        for i in range(len(ghosts)): # 計算 鬼+s 要移動到終點的距離\n",
    "            g_d.append(sum([abs(ghosts[i][0] - target[0]), abs(ghosts[i][1] - target[1])]))\n",
    "        gd = min(g_d) # 最小的鬼就夠了\n",
    "        \n",
    "        return d < gd"
   ]
  },
  {
   "cell_type": "code",
   "execution_count": 2,
   "metadata": {},
   "outputs": [
    {
     "data": {
      "text/plain": [
       "True"
      ]
     },
     "execution_count": 2,
     "metadata": {},
     "output_type": "execute_result"
    }
   ],
   "source": [
    "ghosts = [[1, 0], [0, 3]]\n",
    "target = [0, 1]\n",
    "ans = Solution()\n",
    "ans.escapeGhosts(ghosts, target)"
   ]
  }
 ],
 "metadata": {
  "kernelspec": {
   "display_name": "Python 3",
   "language": "python",
   "name": "python3"
  },
  "language_info": {
   "codemirror_mode": {
    "name": "ipython",
    "version": 3
   },
   "file_extension": ".py",
   "mimetype": "text/x-python",
   "name": "python",
   "nbconvert_exporter": "python",
   "pygments_lexer": "ipython3",
   "version": "3.7.3"
  }
 },
 "nbformat": 4,
 "nbformat_minor": 2
}
