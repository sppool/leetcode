{
 "cells": [
  {
   "cell_type": "markdown",
   "metadata": {},
   "source": [
    "### Binary Number with Alternating Bits"
   ]
  },
  {
   "cell_type": "raw",
   "metadata": {},
   "source": [
    "Given a positive integer, check whether it has alternating bits: namely, if two adjacent bits will always have different values.\n",
    "Example 1:\n",
    "Input: 5\n",
    "Output: True\n",
    "Explanation:\n",
    "The binary representation of 5 is: 101\n",
    "\n",
    "Example 2:\n",
    "Input: 7\n",
    "Output: False\n",
    "Explanation:\n",
    "The binary representation of 7 is: 111.\n",
    "\n",
    "Example 3:\n",
    "Input: 11\n",
    "Output: False\n",
    "Explanation:\n",
    "The binary representation of 11 is: 1011.\n",
    "\n",
    "Example 4:\n",
    "Input: 10\n",
    "Output: True\n",
    "Explanation:\n",
    "The binary representation of 10 is: 1010."
   ]
  },
  {
   "cell_type": "code",
   "execution_count": 1,
   "metadata": {},
   "outputs": [],
   "source": [
    "class Solution:\n",
    "    def hasAlternatingBits(self, n):\n",
    "        \"\"\"\n",
    "        :type n: int\n",
    "        :rtype: bool\n",
    "        \"\"\"\n",
    "        s = bin(n)[2:]\n",
    "        for ind in range(len(s)-1):\n",
    "            if s[ind] == s[ind+1]:\n",
    "                return False\n",
    "        return True"
   ]
  },
  {
   "cell_type": "code",
   "execution_count": 2,
   "metadata": {},
   "outputs": [
    {
     "data": {
      "text/plain": [
       "False"
      ]
     },
     "execution_count": 2,
     "metadata": {},
     "output_type": "execute_result"
    }
   ],
   "source": [
    "n = 7\n",
    "ans = Solution()\n",
    "ans.hasAlternatingBits(n)"
   ]
  }
 ],
 "metadata": {
  "kernelspec": {
   "display_name": "Python 3",
   "language": "python",
   "name": "python3"
  },
  "language_info": {
   "codemirror_mode": {
    "name": "ipython",
    "version": 3
   },
   "file_extension": ".py",
   "mimetype": "text/x-python",
   "name": "python",
   "nbconvert_exporter": "python",
   "pygments_lexer": "ipython3",
   "version": "3.7.3"
  }
 },
 "nbformat": 4,
 "nbformat_minor": 2
}
