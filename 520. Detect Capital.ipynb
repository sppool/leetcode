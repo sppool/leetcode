{
 "cells": [
  {
   "cell_type": "markdown",
   "metadata": {},
   "source": [
    "### Detect Capital"
   ]
  },
  {
   "cell_type": "raw",
   "metadata": {},
   "source": [
    "Given a word, you need to judge whether the usage of capitals in it is right or not.\n",
    "We define the usage of capitals in a word to be right when one of the following cases holds:\n",
    "# 檢查使用是否正確\n",
    "All letters in this word are capitals, like \"USA\". # 皆大寫~\n",
    "All letters in this word are not capitals, like \"leetcode\". # 皆小寫~\n",
    "Only the first letter in this word is capital if it has more than one letter, like \"Google\". # 只有開頭是大寫~\n",
    "Otherwise, we define that this word doesn't use capitals in a right way.\n",
    "\n",
    "Example 1:\n",
    "Input: \"USA\"\n",
    "Output: True\n",
    "\n",
    "Example 2:\n",
    "Input: \"FlaG\"\n",
    "Output: False\n",
    "\n",
    "Note: The input will be a non-empty word consisting of uppercase and lowercase latin letters."
   ]
  },
  {
   "cell_type": "code",
   "execution_count": 1,
   "metadata": {},
   "outputs": [],
   "source": [
    "class Solution:\n",
    "    def detectCapitalUse(self, word): # 71.03%\n",
    "        \"\"\"\n",
    "        :type word: str\n",
    "        :rtype: bool\n",
    "        \"\"\"\n",
    "        if word.isupper(): # isupper( ), islower( ), 檢查是不是大小寫的函式!!\n",
    "            return True\n",
    "        if word.islower():\n",
    "            return True\n",
    "        if word[0].isupper() and word[1:].islower():\n",
    "            return True\n",
    "        return False"
   ]
  },
  {
   "cell_type": "code",
   "execution_count": 2,
   "metadata": {},
   "outputs": [
    {
     "data": {
      "text/plain": [
       "True"
      ]
     },
     "execution_count": 2,
     "metadata": {},
     "output_type": "execute_result"
    }
   ],
   "source": [
    "word = \"USA\"\n",
    "ans = Solution()\n",
    "ans.detectCapitalUse(word)"
   ]
  }
 ],
 "metadata": {
  "kernelspec": {
   "display_name": "Python 3",
   "language": "python",
   "name": "python3"
  },
  "language_info": {
   "codemirror_mode": {
    "name": "ipython",
    "version": 3
   },
   "file_extension": ".py",
   "mimetype": "text/x-python",
   "name": "python",
   "nbconvert_exporter": "python",
   "pygments_lexer": "ipython3",
   "version": "3.7.3"
  }
 },
 "nbformat": 4,
 "nbformat_minor": 2
}
