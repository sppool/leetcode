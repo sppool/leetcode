{
 "cells": [
  {
   "cell_type": "markdown",
   "metadata": {},
   "source": [
    "### Minimum Add to Make Parentheses Valid"
   ]
  },
  {
   "cell_type": "raw",
   "metadata": {},
   "source": [
    "Given a string S of '(' and ')' parentheses, we add the minimum number of parentheses ( '(' or ')', #要補上多少括號 可以讓S完整\n",
    "and in any positions ) so that the resulting parentheses string is valid.\n",
    "Formally, a parentheses string is valid if and only if:\n",
    "It is the empty string, or\n",
    "It can be written as AB (A concatenated with B), where A and B are valid strings, or\n",
    "It can be written as (A), where A is a valid string.\n",
    "Given a parentheses string, return the minimum number of parentheses we must add to make the resulting string valid.\n",
    "\n",
    "Example 1:\n",
    "Input: \"())\"\n",
    "Output: 1\n",
    "\n",
    "Example 2:\n",
    "Input: \"(((\"\n",
    "Output: 3\n",
    "\n",
    "Example 3:\n",
    "Input: \"()\"\n",
    "Output: 0\n",
    "\n",
    "Example 4:\n",
    "Input: \"()))((\"\n",
    "Output: 4\n",
    "\n",
    "Note:\n",
    "S.length <= 1000\n",
    "S only consists of '(' and ')' characters."
   ]
  },
  {
   "cell_type": "code",
   "execution_count": 1,
   "metadata": {},
   "outputs": [],
   "source": [
    "class Solution(object):\n",
    "    def minAddToMakeValid(self, S):\n",
    "        \"\"\"\n",
    "        :type S: str\n",
    "        :rtype: int\n",
    "        \"\"\"\n",
    "        while True:\n",
    "            new_S = '' # 順序複製一份 S, 抓到 '()' 踢出!!\n",
    "            n = len(S)\n",
    "            for x in S:\n",
    "                new_S += x\n",
    "                if new_S[-2:] == '()':\n",
    "                    new_S = new_S[:-2]\n",
    "            if S == new_S: # 兩者相等 跳出迴圈!!\n",
    "                break\n",
    "            else:\n",
    "                S = new_S\n",
    "        return len(S)\n",
    "            "
   ]
  },
  {
   "cell_type": "code",
   "execution_count": 2,
   "metadata": {},
   "outputs": [
    {
     "data": {
      "text/plain": [
       "1"
      ]
     },
     "execution_count": 2,
     "metadata": {},
     "output_type": "execute_result"
    }
   ],
   "source": [
    "S = \"())\"\n",
    "ans = Solution()\n",
    "ans.minAddToMakeValid(S)"
   ]
  }
 ],
 "metadata": {
  "kernelspec": {
   "display_name": "Python 3",
   "language": "python",
   "name": "python3"
  },
  "language_info": {
   "codemirror_mode": {
    "name": "ipython",
    "version": 3
   },
   "file_extension": ".py",
   "mimetype": "text/x-python",
   "name": "python",
   "nbconvert_exporter": "python",
   "pygments_lexer": "ipython3",
   "version": "3.7.3"
  }
 },
 "nbformat": 4,
 "nbformat_minor": 2
}
