{
 "cells": [
  {
   "cell_type": "markdown",
   "metadata": {},
   "source": [
    "移动零\n",
    "\n",
    "给定一个数组 nums，编写一个函数将所有 0 移动到数组的末尾，同时保持非零元素的相对顺序。\n",
    "\n",
    "示例:\n",
    "输入: [0,1,0,3,12]\n",
    "输出: [1,3,12,0,0]\n",
    "说明:\n",
    "\n",
    "1. 必须在原数组上操作，不能拷贝额外的数组。\n",
    "2. 尽量减少操作次数。"
   ]
  },
  {
   "cell_type": "code",
   "execution_count": 1,
   "metadata": {},
   "outputs": [],
   "source": [
    "class Solution:\n",
    "    def moveZeroes(self, nums):\n",
    "        l = len(nums)\n",
    "        n = 0\n",
    "        while n < l:\n",
    "            n += 1\n",
    "            if nums[-n] == 0:\n",
    "                del nums[-n]\n",
    "                nums.append(0)\n",
    "            else:\n",
    "                continue"
   ]
  },
  {
   "cell_type": "code",
   "execution_count": 2,
   "metadata": {},
   "outputs": [
    {
     "name": "stdout",
     "output_type": "stream",
     "text": [
      "[1, 3, 12, 0, 0]\n"
     ]
    }
   ],
   "source": [
    "nums = [0,1,0,3,12]\n",
    "ans = Solution()\n",
    "ans.moveZeroes(nums)\n",
    "print(nums)"
   ]
  },
  {
   "cell_type": "markdown",
   "metadata": {},
   "source": [
    "移除元素\n",
    "\n",
    "给定一个数组 nums 和一个值 val，你需要原地移除所有数值等于 val 的元素，返回移除后数组的新长度。\n",
    "不要使用额外的数组空间，你必须在原地修改输入数组并在使用 O(1) 额外空间的条件下完成。\n",
    "元素的顺序可以改变。你不需要考虑数组中超出新长度后面的元素。\n",
    "\n",
    "示例 1:\n",
    "给定 nums = [3,2,2,3], val = 3,\n",
    "函数应该返回新的长度 2, 并且 nums 中的前两个元素均为 2。\n",
    "你不需要考虑数组中超出新长度后面的元素。\n",
    "\n",
    "示例 2:\n",
    "给定 nums = [0,1,2,2,3,0,4,2], val = 2,\n",
    "函数应该返回新的长度 5, 并且 nums 中的前五个元素为 0, 1, 3, 0, 4。\n",
    "注意这五个元素可为任意顺序。\n",
    "你不需要考虑数组中超出新长度后面的元素。"
   ]
  },
  {
   "cell_type": "code",
   "execution_count": 3,
   "metadata": {},
   "outputs": [],
   "source": [
    "class Solution:\n",
    "    def removeElement(self, nums, val):\n",
    "        l = len(nums)\n",
    "        n = 0\n",
    "        while n < l:\n",
    "            if nums[n] == val:\n",
    "                del nums[n]\n",
    "                l -= 1\n",
    "            else:\n",
    "                n += 1\n",
    "                continue\n",
    "        return len(nums)"
   ]
  },
  {
   "cell_type": "code",
   "execution_count": 4,
   "metadata": {},
   "outputs": [
    {
     "name": "stdout",
     "output_type": "stream",
     "text": [
      "5\n",
      "[0, 1, 3, 0, 4]\n"
     ]
    }
   ],
   "source": [
    "nums = [0,1,2,2,3,0,4,2]\n",
    "val = 2\n",
    "ans = Solution()\n",
    "print(ans.removeElement(nums, val))\n",
    "print(nums)"
   ]
  },
  {
   "cell_type": "markdown",
   "metadata": {},
   "source": [
    "删除排序数组中的重复项\n",
    "\n",
    "给定一个排序数组，你需要在原地删除重复出现的元素，使得每个元素只出现一次，返回移除后数组的新长度。\n",
    "不要使用额外的数组空间，你必须在原地修改输入数组并在使用 O(1) 额外空间的条件下完成。\n",
    "\n",
    "示例 1:\n",
    "给定数组 nums = [1,1,2], \n",
    "函数应该返回新的长度 2, 并且原数组 nums 的前两个元素被修改为 1, 2。 \n",
    "你不需要考虑数组中超出新长度后面的元素。\n",
    "\n",
    "示例 2:\n",
    "给定 nums = [0,0,1,1,1,2,2,3,3,4],\n",
    "函数应该返回新的长度 5, 并且原数组 nums 的前五个元素被修改为 0, 1, 2, 3, 4。\n",
    "你不需要考虑数组中超出新长度后面的元素。"
   ]
  },
  {
   "cell_type": "code",
   "execution_count": 5,
   "metadata": {},
   "outputs": [],
   "source": [
    "class Solution:\n",
    "    def removeDuplicates(self, nums):\n",
    "        lst = []\n",
    "        l = len(nums)\n",
    "        n = 0\n",
    "        while n < l:\n",
    "            if nums[n] in lst:\n",
    "                del nums[n]\n",
    "                l -= 1\n",
    "            else:\n",
    "                lst.append(nums[n])\n",
    "                n += 1\n",
    "        return len(nums)\n",
    "        "
   ]
  },
  {
   "cell_type": "code",
   "execution_count": 6,
   "metadata": {},
   "outputs": [
    {
     "name": "stdout",
     "output_type": "stream",
     "text": [
      "5\n",
      "[0, 1, 2, 3, 4]\n"
     ]
    }
   ],
   "source": [
    "nums = [0,0,1,1,1,2,2,3,3,4]\n",
    "ans = Solution()\n",
    "print(ans.removeDuplicates(nums))\n",
    "print(nums)"
   ]
  },
  {
   "cell_type": "markdown",
   "metadata": {},
   "source": [
    "删除排序数组中的重复项2\n",
    "\n",
    "给定一个排序数组，你需要在原地删除重复出现的元素，使得每个元素最多出现两次，返回移除后数组的新长度。\n",
    "不要使用额外的数组空间，你必须在原地修改输入数组并在使用 O(1) 额外空间的条件下完成。\n",
    "\n",
    "示例 1:\n",
    "给定 nums = [1,1,1,2,2,3],\n",
    "函数应返回新长度 length = 5, 并且原数组的前五个元素被修改为 1, 1, 2, 2, 3 。\n",
    "你不需要考虑数组中超出新长度后面的元素。\n",
    "\n",
    "示例 2:\n",
    "给定 nums = [0,0,1,1,1,1,2,3,3],\n",
    "函数应返回新长度 length = 7, 并且原数组的前五个元素被修改为 0, 0, 1, 1, 2, 3, 3 。\n",
    "你不需要考虑数组中超出新长度后面的元素。"
   ]
  },
  {
   "cell_type": "code",
   "execution_count": 7,
   "metadata": {},
   "outputs": [],
   "source": [
    "class Solution:\n",
    "    def removeDuplicates(self, nums):\n",
    "        dic = {}\n",
    "        l = len(nums)\n",
    "        n = 0\n",
    "        while n < l:\n",
    "            if nums[n] in dic:\n",
    "                if dic[nums[n]] == 2:\n",
    "                    del nums[n]\n",
    "                    l -= 1\n",
    "                else:\n",
    "                    dic[nums[n]] += 1\n",
    "                    n += 1\n",
    "            else:\n",
    "                dic[nums[n]] = 1\n",
    "                n += 1\n",
    "        return len(nums)        \n",
    "        "
   ]
  },
  {
   "cell_type": "code",
   "execution_count": 8,
   "metadata": {},
   "outputs": [
    {
     "name": "stdout",
     "output_type": "stream",
     "text": [
      "7\n",
      "[0, 0, 1, 1, 2, 3, 3]\n"
     ]
    }
   ],
   "source": [
    "nums = [0,0,1,1,1,1,2,3,3]\n",
    "ans = Solution()\n",
    "print(ans.removeDuplicates(nums))\n",
    "print(nums)"
   ]
  },
  {
   "cell_type": "markdown",
   "metadata": {},
   "source": [
    "颜色分类\n",
    "\n",
    "给定一个包含红色、白色和蓝色，一共 n 个元素的数组，原地对它们进行排序，使得相同颜色的元素相邻，并按照红色、白色、蓝色顺序排列。\n",
    "此题中，我们使用整数 0、 1 和 2 分别表示红色、白色和蓝色。\n",
    "\n",
    "注意:\n",
    "不能使用代码库中的排序函数来解决这道题。\n",
    "\n",
    "示例:\n",
    "输入: [2,0,2,1,1,0]\n",
    "输出: [0,0,1,1,2,2]"
   ]
  },
  {
   "cell_type": "code",
   "execution_count": 9,
   "metadata": {},
   "outputs": [],
   "source": [
    "class Solution: # 三指針\n",
    "    def sortColors(self, nums):\n",
    "        l = len(nums)\n",
    "        i, i0, i1, i2 = 0, 0, 0, 0\n",
    "        while i < l:\n",
    "            if nums[i] == 0:\n",
    "                del nums[i]\n",
    "                nums.insert(i0, 0)\n",
    "                i0 += 1\n",
    "                i1 += 1\n",
    "                i2 += 1\n",
    "            elif nums[i] == 1:\n",
    "                del nums[i]\n",
    "                nums.insert(i1, 1)\n",
    "                i1 += 1\n",
    "                i2 += 1\n",
    "            elif nums[i] == 2:\n",
    "                del nums[i]\n",
    "                nums.insert(i2, 2)\n",
    "                i2 += 1\n",
    "                \n",
    "            i += 1"
   ]
  },
  {
   "cell_type": "code",
   "execution_count": 10,
   "metadata": {},
   "outputs": [
    {
     "data": {
      "text/plain": [
       "[0, 0, 1, 1, 2, 2]"
      ]
     },
     "execution_count": 10,
     "metadata": {},
     "output_type": "execute_result"
    }
   ],
   "source": [
    "nums = [2, 0, 2, 1, 1, 0]\n",
    "ans = Solution()\n",
    "ans.sortColors(nums)\n",
    "nums"
   ]
  },
  {
   "cell_type": "markdown",
   "metadata": {},
   "source": [
    "数组中的第K个最大元素\n",
    "\n",
    "在未排序的数组中找到第 k 个最大的元素。请注意，你需要找的是数组排序后的第 k 个最大的元素，而不是第 k 个不同的元素。\n",
    "\n",
    "示例 1:\n",
    "输入: [3,2,1,5,6,4] 和 k = 2\n",
    "输出: 5  \n",
    "\n",
    "示例 2:\n",
    "输入: [3,2,3,1,2,4,5,5,6] 和 k = 4\n",
    "输出: 4\n",
    "\n",
    "说明:你可以假设 k 总是有效的，且 1 ≤ k ≤ 数组的长度。"
   ]
  },
  {
   "cell_type": "code",
   "execution_count": 11,
   "metadata": {},
   "outputs": [],
   "source": [
    "class Solution:\n",
    "    def findKthLargest(self, nums, k):\n",
    "        nums.sort()\n",
    "        return nums[-k]"
   ]
  },
  {
   "cell_type": "code",
   "execution_count": 12,
   "metadata": {},
   "outputs": [
    {
     "data": {
      "text/plain": [
       "4"
      ]
     },
     "execution_count": 12,
     "metadata": {},
     "output_type": "execute_result"
    }
   ],
   "source": [
    "nums = [3, 2, 3, 1, 2, 4, 5, 5, 6]\n",
    "k = 4\n",
    "ans = Solution()\n",
    "ans.findKthLargest(nums, k)"
   ]
  }
 ],
 "metadata": {
  "kernelspec": {
   "display_name": "Python 3",
   "language": "python",
   "name": "python3"
  },
  "language_info": {
   "codemirror_mode": {
    "name": "ipython",
    "version": 3
   },
   "file_extension": ".py",
   "mimetype": "text/x-python",
   "name": "python",
   "nbconvert_exporter": "python",
   "pygments_lexer": "ipython3",
   "version": "3.7.3"
  }
 },
 "nbformat": 4,
 "nbformat_minor": 2
}
