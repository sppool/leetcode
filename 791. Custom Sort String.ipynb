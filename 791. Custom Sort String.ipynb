{
 "cells": [
  {
   "cell_type": "markdown",
   "metadata": {},
   "source": [
    "### Custom Sort String"
   ]
  },
  {
   "cell_type": "raw",
   "metadata": {},
   "source": [
    "S and T are strings composed of lowercase letters. In S, no letter occurs more than once. # S 每個字母都只會出現一次(順序)\n",
    "S was sorted in some custom order previously. We want to permute the characters of T so that they match the order that S \n",
    "was sorted. More specifically, if x occurs before y in S, then x should occur before y in the returned string.\n",
    "Return any permutation of T (as a string) that satisfies this property.\n",
    "Example :\n",
    "Input: \n",
    "S = \"cba\" # S 是'字母'排列順序!\n",
    "T = \"abcd\" # 這是需要排列的字串\n",
    "Output: \"cbad\"\n",
    "Explanation: \n",
    "\"a\", \"b\", \"c\" appear in S, so the order of \"a\", \"b\", \"c\" should be \"c\", \"b\", and \"a\". # 沒有指定排列的字母在甚麼位置都可以!! \n",
    "Since \"d\" does not appear in S, it can be at any position in T. \"dcba\", \"cdba\", \"cbda\" are also valid outputs.\n",
    " \n",
    "Note:\n",
    "1. S has length at most 26, and no character is repeated in S.\n",
    "2. T has length at most 200.\n",
    "3. S and T consist of lowercase letters only."
   ]
  },
  {
   "cell_type": "code",
   "execution_count": 1,
   "metadata": {},
   "outputs": [],
   "source": [
    "class Solution:\n",
    "    def customSortString(self, S, T): # 87.76%\n",
    "        \"\"\"\n",
    "        :type S: str\n",
    "        :type T: str\n",
    "        :rtype: str\n",
    "        \"\"\"\n",
    "        dic_n = {} # 整理 T 裡的元素和數量\n",
    "        for x in T:\n",
    "            if x not in dic_n:\n",
    "                dic_n[x] = 1\n",
    "            else:\n",
    "                dic_n[x] += 1\n",
    "        \n",
    "        res_lst  = list(set(dic_n) - set(S)) # 抓書多餘 T中 S沒有的元素\n",
    "        output = ''\n",
    "        for x in S: # 順序排列\n",
    "            if x in dic_n: # S的元素, 有些T裡沒有!!\n",
    "                output += x * dic_n[x]\n",
    "        \n",
    "        for x in res_lst: # 剩餘的排列\n",
    "            output += x * dic_n[x]\n",
    "        return output\n",
    "            "
   ]
  },
  {
   "cell_type": "code",
   "execution_count": 2,
   "metadata": {},
   "outputs": [
    {
     "data": {
      "text/plain": [
       "'cbad'"
      ]
     },
     "execution_count": 2,
     "metadata": {},
     "output_type": "execute_result"
    }
   ],
   "source": [
    "S = \"cba\"\n",
    "T = \"abcd\"\n",
    "ans = Solution()\n",
    "ans.customSortString(S, T)"
   ]
  }
 ],
 "metadata": {
  "kernelspec": {
   "display_name": "Python 3",
   "language": "python",
   "name": "python3"
  },
  "language_info": {
   "codemirror_mode": {
    "name": "ipython",
    "version": 3
   },
   "file_extension": ".py",
   "mimetype": "text/x-python",
   "name": "python",
   "nbconvert_exporter": "python",
   "pygments_lexer": "ipython3",
   "version": "3.7.3"
  }
 },
 "nbformat": 4,
 "nbformat_minor": 2
}
