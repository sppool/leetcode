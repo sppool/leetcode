{
 "cells": [
  {
   "cell_type": "markdown",
   "metadata": {},
   "source": [
    "### Complex Number Multiplication"
   ]
  },
  {
   "cell_type": "raw",
   "metadata": {},
   "source": [
    "Given two strings representing two complex numbers.\n",
    "You need to return a string representing their multiplication. Note i2 = -1 according to the definition.\n",
    "Example 1:\n",
    "Input: \"1+1i\", \"1+1i\"\n",
    "Output: \"0+2i\"\n",
    "Explanation: (1 + i) * (1 + i) = 1 + i2 + 2 * i = 2i, and you need convert it to the form of 0+2i.\n",
    "Example 2:\n",
    "Input: \"1+-1i\", \"1+-1i\"\n",
    "Output: \"0+-2i\"\n",
    "Explanation: (1 - i) * (1 - i) = 1 + i2 - 2 * i = -2i, and you need convert it to the form of 0+-2i.\n",
    "\n",
    "Note:\n",
    "1. The input strings will not have extra blank.\n",
    "2. The input strings will be given in the form of a+bi, where the integer a and b will both belong to the range of [-100, 100].\n",
    "3. And the output should be also in this form."
   ]
  },
  {
   "cell_type": "code",
   "execution_count": 1,
   "metadata": {},
   "outputs": [],
   "source": [
    "class Solution:\n",
    "    def complexNumberMultiply(self, a, b): # 100%\n",
    "        \"\"\"\n",
    "        :type a: str\n",
    "        :type b: str\n",
    "        :rtype: str\n",
    "        \"\"\"\n",
    "        def complex_R_I(s):\n",
    "            r = int(s[0:s.find('+')])\n",
    "            i = int(s[s.find('+')+1:s.find('i')])\n",
    "            return r, i\n",
    "        \n",
    "        r1, i1 = complex_R_I(a)\n",
    "        r2, i2 = complex_R_I(b)\n",
    "        \n",
    "        r = str((r1 * r2) - (i1 * i2))\n",
    "        i = str((r1 * i2) + (r2 * i1))\n",
    "        \n",
    "        return r + '+' + i+'i'"
   ]
  },
  {
   "cell_type": "code",
   "execution_count": 2,
   "metadata": {},
   "outputs": [
    {
     "data": {
      "text/plain": [
       "'0+2i'"
      ]
     },
     "execution_count": 2,
     "metadata": {},
     "output_type": "execute_result"
    }
   ],
   "source": [
    "a = \"1+1i\"\n",
    "b = \"1+1i\"\n",
    "ans = Solution()\n",
    "ans.complexNumberMultiply(a, b)"
   ]
  }
 ],
 "metadata": {
  "kernelspec": {
   "display_name": "Python 3",
   "language": "python",
   "name": "python3"
  },
  "language_info": {
   "codemirror_mode": {
    "name": "ipython",
    "version": 3
   },
   "file_extension": ".py",
   "mimetype": "text/x-python",
   "name": "python",
   "nbconvert_exporter": "python",
   "pygments_lexer": "ipython3",
   "version": "3.7.3"
  }
 },
 "nbformat": 4,
 "nbformat_minor": 2
}
