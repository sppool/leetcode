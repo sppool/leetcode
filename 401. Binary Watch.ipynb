{
 "cells": [
  {
   "cell_type": "markdown",
   "metadata": {},
   "source": [
    "### Binary Watch"
   ]
  },
  {
   "cell_type": "raw",
   "metadata": {},
   "source": [
    "A binary watch has 4 LEDs on the top which represent the hours (0-11), and the 6 LEDs on the bottom represent the minutes (0-59).\n",
    "Each LED represents a zero or one, with the least significant bit on the right. # 閃 n 個燈的所有時間可能!\n",
    "Given a non-negative integer n which represents the number of LEDs that are currently on,\n",
    "return all possible times the watch could represent.\n",
    "\n",
    "Example:\n",
    "Input: n = 1\n",
    "Return: [\"1:00\", \"2:00\", \"4:00\", \"8:00\", \"0:01\", \"0:02\", \"0:04\", \"0:08\", \"0:16\", \"0:32\"]\n",
    "\n",
    "Note:\n",
    "1. The order of output does not matter.\n",
    "2. The hour must not contain a leading zero, for example \"01:00\" is not valid, it should be \"1:00\".\n",
    "3. The minute must be consist of two digits and may contain a leading zero, for example \"10:2\" is not valid, it should be \"10:02\"."
   ]
  },
  {
   "cell_type": "markdown",
   "metadata": {},
   "source": [
    "https://upload.wikimedia.org/wikipedia/commons/8/8b/Binary_clock_samui_moon.jpg\n",
    "![Image of Yaktocat](https://upload.wikimedia.org/wikipedia/commons/8/8b/Binary_clock_samui_moon.jpg)\n",
    "#### For example, the above binary watch reads \"3:25\""
   ]
  },
  {
   "cell_type": "code",
   "execution_count": 1,
   "metadata": {},
   "outputs": [],
   "source": [
    "class Solution:\n",
    "    def readBinaryWatch(self, num): # 64.75%\n",
    "        \"\"\"\n",
    "        :type num: int\n",
    "        :rtype: List[str]\n",
    "        \"\"\"\n",
    "        \"\"\" # 生成字典\n",
    "        hour = [1, 2, 4, 8]\n",
    "        minunt = [1, 2, 4, 8, 16, 32]\n",
    "        hour_dic = self.get_point(hour, 12)\n",
    "        minunt_dic = self.get_point(minunt, 60)\n",
    "        \"\"\"\n",
    "        hour_dic = {0: [0], 1: [1, 2, 4, 8], 2: [3, 5, 6, 9, 10], 3: [7, 11]}\n",
    "        minunt_dic = {0: [0], \n",
    "                      1: [1, 2, 4, 8, 16, 32],\n",
    "                      2: [3, 5, 6, 9, 10, 12, 17, 18, 20, 24, 33, 34, 36, 40, 48],\n",
    "                      3: [7, 11, 13, 14, 19, 21, 22, 25, 26, 28, 35, 37, 38, 41, 42, 44, 49, 50, 52, 56],\n",
    "                      4: [15, 23, 27, 29, 30, 39, 43, 45, 46, 51, 53, 54, 57, 58],\n",
    "                      5: [31, 47, 55, 59]}\n",
    "        \n",
    "        output = []\n",
    "        for m_l in range(num + 1):\n",
    "            h_l = num - m_l\n",
    "            if m_l > 5 or h_l > 3:\n",
    "                continue\n",
    "            for h in hour_dic[h_l]:\n",
    "                for m in minunt_dic[m_l]:\n",
    "                    time = str(h) + ':' + str(m).zfill(2)\n",
    "                    output.append(time)\n",
    "        return output\n",
    "        \n",
    "    def get_point(self, light_lst, max_lim): # 生成字典\n",
    "        lst = []\n",
    "        for i in range(2**len(light_lst)):\n",
    "            lst.append(bin(i)[2:].zfill(len(light_lst)))\n",
    "        dic = {}\n",
    "        for ind, code in enumerate(lst):\n",
    "            n = 0\n",
    "            for x in code:\n",
    "                if int(x):\n",
    "                    n += 1\n",
    "            if n not in dic:\n",
    "                dic[n] = [ind]\n",
    "            else:\n",
    "                dic[n].append(ind)\n",
    "\n",
    "        point_dic = {}\n",
    "        for key, lst_ in dic.items():\n",
    "            point_lst = []\n",
    "            for i in lst_:\n",
    "                n = 0\n",
    "                for ind, b in enumerate(lst[i]):\n",
    "                    n += light_lst[ind] * int(b)\n",
    "                if n < max_lim:\n",
    "                    point_lst.append(n)\n",
    "            if point_lst != []:\n",
    "                point_lst.sort()\n",
    "                point_dic[key] = point_lst\n",
    "        return point_dic"
   ]
  },
  {
   "cell_type": "code",
   "execution_count": 2,
   "metadata": {},
   "outputs": [
    {
     "data": {
      "text/plain": [
       "['3:00',\n",
       " '5:00',\n",
       " '6:00',\n",
       " '9:00',\n",
       " '10:00',\n",
       " '1:01',\n",
       " '1:02',\n",
       " '1:04',\n",
       " '1:08',\n",
       " '1:16',\n",
       " '1:32',\n",
       " '2:01',\n",
       " '2:02',\n",
       " '2:04',\n",
       " '2:08',\n",
       " '2:16',\n",
       " '2:32',\n",
       " '4:01',\n",
       " '4:02',\n",
       " '4:04',\n",
       " '4:08',\n",
       " '4:16',\n",
       " '4:32',\n",
       " '8:01',\n",
       " '8:02',\n",
       " '8:04',\n",
       " '8:08',\n",
       " '8:16',\n",
       " '8:32',\n",
       " '0:03',\n",
       " '0:05',\n",
       " '0:06',\n",
       " '0:09',\n",
       " '0:10',\n",
       " '0:12',\n",
       " '0:17',\n",
       " '0:18',\n",
       " '0:20',\n",
       " '0:24',\n",
       " '0:33',\n",
       " '0:34',\n",
       " '0:36',\n",
       " '0:40',\n",
       " '0:48']"
      ]
     },
     "execution_count": 2,
     "metadata": {},
     "output_type": "execute_result"
    }
   ],
   "source": [
    "num = 2\n",
    "ans = Solution()\n",
    "ans.readBinaryWatch(num)"
   ]
  }
 ],
 "metadata": {
  "kernelspec": {
   "display_name": "Python 3",
   "language": "python",
   "name": "python3"
  },
  "language_info": {
   "codemirror_mode": {
    "name": "ipython",
    "version": 3
   },
   "file_extension": ".py",
   "mimetype": "text/x-python",
   "name": "python",
   "nbconvert_exporter": "python",
   "pygments_lexer": "ipython3",
   "version": "3.7.3"
  }
 },
 "nbformat": 4,
 "nbformat_minor": 2
}
