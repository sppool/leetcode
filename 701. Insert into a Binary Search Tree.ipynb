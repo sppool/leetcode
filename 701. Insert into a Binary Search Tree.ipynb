{
 "cells": [
  {
   "cell_type": "markdown",
   "metadata": {},
   "source": [
    "### Insert into a Binary Search Tree"
   ]
  },
  {
   "cell_type": "raw",
   "metadata": {},
   "source": [
    "Given the root node of a binary search tree (BST) and a value to be inserted into the tree, insert the value into the BST. Return the root node of the BST after the insertion. It is guaranteed that the new value does not exist in the original BST.\n",
    "Note that there may exist multiple valid ways for the insertion, as long as the tree remains a BST after insertion. You can return any of them.\n",
    "For example, \n",
    "Given the tree:\n",
    "        4\n",
    "       / \\\n",
    "      2   7\n",
    "     / \\\n",
    "    1   3\n",
    "And the value to insert: 5\n",
    "You can return this binary search tree:\n",
    "         4\n",
    "       /   \\\n",
    "      2     7\n",
    "     / \\   /\n",
    "    1   3 5\n",
    "This tree is also valid:\n",
    "         5\n",
    "       /   \\\n",
    "      2     7\n",
    "     / \\   \n",
    "    1   3\n",
    "         \\\n",
    "          4"
   ]
  },
  {
   "cell_type": "code",
   "execution_count": 1,
   "metadata": {},
   "outputs": [],
   "source": [
    "class TreeNode: # Binary Tree\n",
    "    def __init__ (self, x):\n",
    "        self.val = x\n",
    "        self.left = None\n",
    "        self.right = None\n",
    "        self.lst = []      \n",
    "    def insert(self, left=None, right=None):\n",
    "        if left:\n",
    "            self.left = TreeNode(left)\n",
    "        if right:\n",
    "            self.right = TreeNode(right)\n",
    "    def order(self, root, restart=1):\n",
    "        if restart:\n",
    "            self.lst = []\n",
    "        if root:\n",
    "            self.lst.append(root.val)\n",
    "            self.order(root.left, 0)\n",
    "            self.order(root.right, 0)\n",
    "        else: self.lst.append(None)\n",
    "\n",
    "class Solution: # 99.52%\n",
    "    def insertIntoBST(self, root, val):\n",
    "        self.order(root, val)\n",
    "        return root\n",
    "    def order(self, root, val):\n",
    "        if root.val > val:\n",
    "            if not root.left:\n",
    "                root.left = TreeNode(val)\n",
    "            else:\n",
    "                self.order(root.left, val)\n",
    "        else: # root.val < val\n",
    "            if not root.right:\n",
    "                root.right = TreeNode(val)\n",
    "            else:\n",
    "                self.order(root.right, val)"
   ]
  },
  {
   "cell_type": "code",
   "execution_count": 2,
   "metadata": {},
   "outputs": [
    {
     "data": {
      "text/plain": [
       "[4, 2, 1, None, None, 3, None, None, 7, None, None]"
      ]
     },
     "execution_count": 2,
     "metadata": {},
     "output_type": "execute_result"
    }
   ],
   "source": [
    "root = TreeNode(4)\n",
    "root.insert(2, 7)\n",
    "root.left.insert(1, 3)\n",
    "root.order(root)\n",
    "root.lst"
   ]
  },
  {
   "cell_type": "code",
   "execution_count": 3,
   "metadata": {},
   "outputs": [
    {
     "data": {
      "text/plain": [
       "[4, 2, 1, None, None, 3, None, None, 7, 5, None, None, None]"
      ]
     },
     "execution_count": 3,
     "metadata": {},
     "output_type": "execute_result"
    }
   ],
   "source": [
    "ans = Solution()\n",
    "root = ans.insertIntoBST(root, 5)\n",
    "root.order(root)\n",
    "root.lst"
   ]
  }
 ],
 "metadata": {
  "kernelspec": {
   "display_name": "Python 3",
   "language": "python",
   "name": "python3"
  },
  "language_info": {
   "codemirror_mode": {
    "name": "ipython",
    "version": 3
   },
   "file_extension": ".py",
   "mimetype": "text/x-python",
   "name": "python",
   "nbconvert_exporter": "python",
   "pygments_lexer": "ipython3",
   "version": "3.7.3"
  }
 },
 "nbformat": 4,
 "nbformat_minor": 2
}
