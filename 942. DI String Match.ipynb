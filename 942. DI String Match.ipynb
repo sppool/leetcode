{
 "cells": [
  {
   "cell_type": "markdown",
   "metadata": {},
   "source": [
    "### DI String Match"
   ]
  },
  {
   "cell_type": "raw",
   "metadata": {},
   "source": [
    "Given a string S that only contains \"I\" (increase) or \"D\" (decrease), let N = S.length.\n",
    "Return any permutation A of [0, 1, ..., N] such that for all i = 0, ..., N-1:\n",
    "If S[i] == \"I\", then A[i] < A[i+1]\n",
    "If S[i] == \"D\", then A[i] > A[i+1]\n",
    "\n",
    "Example 1:\n",
    "Input: \"IDID\"\n",
    "Output: [0,4,1,3,2]\n",
    "\n",
    "Example 2:\n",
    "Input: \"III\"\n",
    "Output: [0,1,2,3]\n",
    "\n",
    "Example 3:\n",
    "Input: \"DDI\"\n",
    "Output: [3,2,0,1]\n",
    "\n",
    "Note:\n",
    "1 <= S.length <= 10000\n",
    "S only contains characters \"I\" or \"D\"."
   ]
  },
  {
   "cell_type": "code",
   "execution_count": 1,
   "metadata": {},
   "outputs": [],
   "source": [
    "class Solution:\n",
    "    def diStringMatch(self, S):\n",
    "        \"\"\"\n",
    "        :type S: str\n",
    "        :rtype: List[int]\n",
    "        \"\"\"\n",
    "        minval = maxval = S.count('D')\n",
    "        output = [maxval]\n",
    "        for x in S:\n",
    "            if x == 'I':\n",
    "                maxval += 1\n",
    "                output.append(maxval)\n",
    "            else:\n",
    "                minval -= 1\n",
    "                output.append(minval)\n",
    "        return output"
   ]
  },
  {
   "cell_type": "code",
   "execution_count": 2,
   "metadata": {},
   "outputs": [
    {
     "data": {
      "text/plain": [
       "[2, 3, 1, 4, 0]"
      ]
     },
     "execution_count": 2,
     "metadata": {},
     "output_type": "execute_result"
    }
   ],
   "source": [
    "S = \"IDID\"\n",
    "ans = Solution()\n",
    "ans.diStringMatch(S)"
   ]
  }
 ],
 "metadata": {
  "kernelspec": {
   "display_name": "Python 3",
   "language": "python",
   "name": "python3"
  },
  "language_info": {
   "codemirror_mode": {
    "name": "ipython",
    "version": 3
   },
   "file_extension": ".py",
   "mimetype": "text/x-python",
   "name": "python",
   "nbconvert_exporter": "python",
   "pygments_lexer": "ipython3",
   "version": "3.7.3"
  }
 },
 "nbformat": 4,
 "nbformat_minor": 2
}
