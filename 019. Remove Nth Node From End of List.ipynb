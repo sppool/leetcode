{
 "cells": [
  {
   "cell_type": "markdown",
   "metadata": {},
   "source": [
    "### Remove Nth Node From End of List"
   ]
  },
  {
   "cell_type": "raw",
   "metadata": {},
   "source": [
    "Given a linked list, remove the n-th node from the end of list and return its head.\n",
    "Example:\n",
    "Given linked list: 1->2->3->4->5, and n = 2.\n",
    "After removing the second node from the end, the linked list becomes 1->2->3->5.\n",
    "Note: Given n will always be valid.\n",
    "Follow up: Could you do this in one pass?"
   ]
  },
  {
   "cell_type": "code",
   "execution_count": 1,
   "metadata": {},
   "outputs": [],
   "source": [
    "class ListNode: # 條件鏈表\n",
    "    def __init__(self, x):\n",
    "        self.val = x\n",
    "        self.next = None\n",
    "        \n",
    "    def list2node(lst): # 生成鏈表\n",
    "        res = ListNode(lst[0])\n",
    "        var = res\n",
    "        for x in lst[1:]:\n",
    "            var.next = ListNode(x)\n",
    "            var = var.next\n",
    "        return res\n",
    "    def node2list(l): # 顯使鏈表\n",
    "        lst = []\n",
    "        node = l\n",
    "        while node != None:\n",
    "            lst.append(node.val)\n",
    "            node = node.next\n",
    "        return lst\n",
    "\n",
    "class Solution:\n",
    "    def removeNthFromEnd(self, head, n): # 雙指針 slowback - slow - (n) - fast 93.06%\n",
    "        slow  = fast= head\n",
    "        slowback = None\n",
    "        t = 1\n",
    "        start = False\n",
    "        while fast != None:\n",
    "            fast = fast.next\n",
    "            if start:\n",
    "                slowback = slow\n",
    "                slow = slow.next  \n",
    "            elif t == n: \n",
    "                start = True\n",
    "            else: t += 1\n",
    "        if slowback == None:\n",
    "            if n == 1:\n",
    "                return None\n",
    "            head = head.next\n",
    "        elif n == 1:\n",
    "            slowback.next = None\n",
    "        else:  slowback.next = slow.next\n",
    "        \n",
    "        return head\n",
    "    \n",
    "    def removeNthFromEnd2(self, head, n): # 93.06%\n",
    "        ind = 0\n",
    "        dic = {}\n",
    "        var = head\n",
    "        while var != None:\n",
    "            dic[ind] = var\n",
    "            ind += 1\n",
    "            var = var.next\n",
    "        if len(dic) == 1:\n",
    "            return None\n",
    "        \n",
    "        n = len(dic) - n # n 定義是倒數第幾!\n",
    "        if n == 0:\n",
    "            head = dic[1]\n",
    "        elif n == len(dic) - 1:\n",
    "            dic[n-1].next = None\n",
    "        else:\n",
    "            dic[n-1].next = dic[n+1]\n",
    "        return head\n",
    "    \n",
    "    def node2list(self, l): # 作弊 提取出來 lst\n",
    "        lst = []\n",
    "        node = l\n",
    "        while node != None:\n",
    "            lst.append(node.val)\n",
    "            node = node.next\n",
    "        return lst      "
   ]
  },
  {
   "cell_type": "code",
   "execution_count": 2,
   "metadata": {},
   "outputs": [
    {
     "data": {
      "text/plain": [
       "[1, 2, 3, 5]"
      ]
     },
     "execution_count": 2,
     "metadata": {},
     "output_type": "execute_result"
    }
   ],
   "source": [
    "node = ListNode.list2node([1, 2, 3, 4, 5])\n",
    "n = 2\n",
    "ans = Solution()\n",
    "head = ans.removeNthFromEnd(node, n)\n",
    "ListNode.node2list(head)"
   ]
  },
  {
   "cell_type": "code",
   "execution_count": 3,
   "metadata": {},
   "outputs": [
    {
     "name": "stdout",
     "output_type": "stream",
     "text": [
      "2.45 µs ± 81.1 ns per loop (mean ± std. dev. of 7 runs, 100000 loops each)\n"
     ]
    }
   ],
   "source": [
    "%%timeit\n",
    "node = ListNode.list2node([1, 2, 3, 4, 5])\n",
    "ans.removeNthFromEnd(node, n)"
   ]
  },
  {
   "cell_type": "code",
   "execution_count": 4,
   "metadata": {},
   "outputs": [
    {
     "name": "stdout",
     "output_type": "stream",
     "text": [
      "2.51 µs ± 98 ns per loop (mean ± std. dev. of 7 runs, 100000 loops each)\n"
     ]
    }
   ],
   "source": [
    "%%timeit\n",
    "node = ListNode.list2node([1, 2, 3, 4, 5])\n",
    "ans.removeNthFromEnd(node, n)"
   ]
  }
 ],
 "metadata": {
  "kernelspec": {
   "display_name": "Python 3",
   "language": "python",
   "name": "python3"
  },
  "language_info": {
   "codemirror_mode": {
    "name": "ipython",
    "version": 3
   },
   "file_extension": ".py",
   "mimetype": "text/x-python",
   "name": "python",
   "nbconvert_exporter": "python",
   "pygments_lexer": "ipython3",
   "version": "3.7.3"
  }
 },
 "nbformat": 4,
 "nbformat_minor": 2
}
