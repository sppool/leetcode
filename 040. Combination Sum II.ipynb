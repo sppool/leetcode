{
 "cells": [
  {
   "cell_type": "markdown",
   "metadata": {},
   "source": [
    "### 40. Combination Sum II"
   ]
  },
  {
   "cell_type": "raw",
   "metadata": {},
   "source": [
    "Given a collection of candidate numbers (candidates) and a target number (target), \n",
    "find all unique combinations in candidates where the candidate numbers sums to target.\n",
    "Each number in candidates may only be used once in the combination.\n",
    "\n",
    "Note:\n",
    "1. All numbers (including target) will be positive integers.\n",
    "2. The solution set must not contain duplicate combinations.\n",
    "\n",
    "Example 1: # cadidates 可重複 39. 促重複\n",
    "Input: candidates = [10,1,2,7,6,1,5], target = 8,\n",
    "A solution set is:\n",
    "[[1, 7],\n",
    " [1, 2, 5],\n",
    " [2, 6],\n",
    " [1, 1, 6]]\n",
    "\n",
    "Example 2:\n",
    "Input: candidates = [2,5,2,1,2], target = 5,\n",
    "A solution set is:\n",
    "[[1,2,2],\n",
    " [5]]"
   ]
  },
  {
   "cell_type": "code",
   "execution_count": 1,
   "metadata": {},
   "outputs": [],
   "source": [
    "class Solution:\n",
    "    def combinationSum2(self, candidates, target): # 87.69%  這題有2\n",
    "        \"\"\"\n",
    "        :type candidates: List[int]\n",
    "        :type target: int\n",
    "        :rtype: List[List[int]]\n",
    "        \"\"\"\n",
    "        def dfs(num_sort, num_n, sublist, target, last): # last 取的 element 的 minmun value\n",
    "            if target == 0:\n",
    "                reslist.append(sublist[:]) # 用索引加入這個sublist當下的值 非這個變數  sublist 會持續改變\n",
    "                return\n",
    "            for num in num_sort:\n",
    "                if num < last:\n",
    "                    continue\n",
    "                if num > target:\n",
    "                    break\n",
    "                sublist.append(num)\n",
    "                dic = num_n.copy()\n",
    "                new_num_sort = num_sort.copy()\n",
    "                dic[num] -= 1\n",
    "                if dic[num] == 0:\n",
    "                    new_num_sort.remove(num)\n",
    "                dfs(new_num_sort, dic, sublist[:], target-num, num)\n",
    "                sublist.pop()\n",
    "\n",
    "        reslist = []\n",
    "        candidates.sort() # 排序 小到大\n",
    "        num_sort = []\n",
    "        num_n = {}\n",
    "        for x in candidates:\n",
    "            if x not in num_sort:\n",
    "                num_n[x] = 1\n",
    "                num_sort.append(x)\n",
    "            else:\n",
    "                num_n[x] += 1\n",
    "        dfs(num_sort, num_n, [], target, 0)\n",
    "        \n",
    "        return reslist   \n",
    "        \n",
    "################################################################################################################################\n",
    "\n",
    "    def combinationSum22(self, candidates, target): # pass 40.21% 抓了所有可能再刪除!! 略慢 \n",
    "        def dfs(candidates, sublist, target, last): # last 取的 element 的 minmun value\n",
    "            if target == 0:\n",
    "                reslist.append(sublist[:]) # 用索引複製一次\n",
    "                return\n",
    "            for num in candidates:\n",
    "                if num < last:\n",
    "                    continue\n",
    "                if num > target:\n",
    "                    break\n",
    "                sublist.append(num)\n",
    "                new_candidates = candidates[:]\n",
    "                new_candidates.remove(num)\n",
    "                dfs(new_candidates, sublist[:], target - num, num) #一值跑遞迴跑到 target = 0 or target < minmum element\n",
    "                sublist.pop() # 保持空列表 [] 下一個for迴圈才能放新的 n\n",
    "                \n",
    "        reslist = []\n",
    "        candidates.sort() # 排序 小到大\n",
    "        dfs(candidates, [], target, 0)\n",
    "        lst = []\n",
    "        for lst_ in reslist:\n",
    "            if lst_ not in lst:\n",
    "                lst.append(lst_)\n",
    "        return lst"
   ]
  },
  {
   "cell_type": "code",
   "execution_count": 2,
   "metadata": {},
   "outputs": [
    {
     "data": {
      "text/plain": [
       "[[1, 1, 6], [1, 2, 5], [1, 7], [2, 6]]"
      ]
     },
     "execution_count": 2,
     "metadata": {},
     "output_type": "execute_result"
    }
   ],
   "source": [
    "candidates = [10,1,2,7,6,1,5]\n",
    "target = 8\n",
    "ans = Solution()\n",
    "ans.combinationSum(candidates, target)"
   ]
  },
  {
   "cell_type": "code",
   "execution_count": 3,
   "metadata": {},
   "outputs": [
    {
     "name": "stdout",
     "output_type": "stream",
     "text": [
      "15.5 µs ± 1.17 µs per loop (mean ± std. dev. of 7 runs, 100000 loops each)\n"
     ]
    }
   ],
   "source": [
    "%%timeit\n",
    "ans.combinationSum(candidates, target)"
   ]
  },
  {
   "cell_type": "code",
   "execution_count": 4,
   "metadata": {},
   "outputs": [
    {
     "name": "stdout",
     "output_type": "stream",
     "text": [
      "17.2 µs ± 1.01 µs per loop (mean ± std. dev. of 7 runs, 100000 loops each)\n"
     ]
    }
   ],
   "source": [
    "%%timeit\n",
    "ans.combinationSum2(candidates, target)"
   ]
  }
 ],
 "metadata": {
  "kernelspec": {
   "display_name": "Python 3",
   "language": "python",
   "name": "python3"
  },
  "language_info": {
   "codemirror_mode": {
    "name": "ipython",
    "version": 3
   },
   "file_extension": ".py",
   "mimetype": "text/x-python",
   "name": "python",
   "nbconvert_exporter": "python",
   "pygments_lexer": "ipython3",
   "version": "3.7.3"
  }
 },
 "nbformat": 4,
 "nbformat_minor": 2
}
