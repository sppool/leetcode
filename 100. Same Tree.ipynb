{
 "cells": [
  {
   "cell_type": "markdown",
   "metadata": {},
   "source": [
    "### Same Tree"
   ]
  },
  {
   "cell_type": "raw",
   "metadata": {},
   "source": [
    "Given two binary trees, write a function to check if they are the same or not.\n",
    "Two binary trees are considered the same if they are structurally identical and the nodes have the same value.\n",
    "Example 1:\n",
    "Input:     1         1\n",
    "          / \\       / \\\n",
    "         2   3     2   3\n",
    "        [1,2,3],   [1,2,3]\n",
    "Output: true\n",
    "Example 2:\n",
    "Input:     1         1\n",
    "          /           \\\n",
    "         2             2\n",
    "        [1,2],     [1,null,2]\n",
    "Output: false\n",
    "Example 3:\n",
    "Input:     1         1\n",
    "          / \\       / \\\n",
    "         2   1     1   2\n",
    "\n",
    "        [1,2,1],   [1,1,2]\n",
    "Output: false"
   ]
  },
  {
   "cell_type": "code",
   "execution_count": 1,
   "metadata": {},
   "outputs": [],
   "source": [
    "class TreeNode: # Binary Tree\n",
    "    def __init__ (self, x):\n",
    "        self.val = x\n",
    "        self.left = None\n",
    "        self.right = None\n",
    "        self.lst = []      \n",
    "    def insert(self, left=None, right=None):\n",
    "        if left:\n",
    "            self.left = TreeNode(left)\n",
    "        if right:\n",
    "            self.right = TreeNode(right)\n",
    "    def order(self, root, restart=1):\n",
    "        if restart:\n",
    "            self.lst = []\n",
    "        if root:\n",
    "            self.lst.append(root.val)\n",
    "            self.order(root.left, 0)\n",
    "            self.order(root.right, 0)\n",
    "        else: self.lst.append(None)\n",
    "\n",
    "class Solution: # 85.89% \n",
    "    def isSameTree(self, p, q):\n",
    "        self.p_lst = []\n",
    "        self.q_lst = []\n",
    "        self.order(p, self.p_lst)\n",
    "        self.order(q, self.q_lst)\n",
    "        return self.p_lst == self.q_lst\n",
    "        \n",
    "    def order(self, root, lst):\n",
    "        if root:\n",
    "            lst.append(root.val)\n",
    "            self.order(root.left, lst)\n",
    "            self.order(root.right, lst)\n",
    "        else: lst.append(None)"
   ]
  },
  {
   "cell_type": "code",
   "execution_count": 2,
   "metadata": {},
   "outputs": [
    {
     "data": {
      "text/plain": [
       "True"
      ]
     },
     "execution_count": 2,
     "metadata": {},
     "output_type": "execute_result"
    }
   ],
   "source": [
    "p = TreeNode(4)\n",
    "p.insert(2, 7)\n",
    "p.left.insert(1, 3)\n",
    "q = TreeNode(4)\n",
    "q.insert(2, 7)\n",
    "q.left.insert(1, 3)\n",
    "ans = Solution()\n",
    "ans.isSameTree(p, q)"
   ]
  },
  {
   "cell_type": "code",
   "execution_count": 3,
   "metadata": {},
   "outputs": [
    {
     "data": {
      "text/plain": [
       "True"
      ]
     },
     "execution_count": 3,
     "metadata": {},
     "output_type": "execute_result"
    }
   ],
   "source": [
    "p.order(p)\n",
    "q.order(q)\n",
    "p.lst == q.lst"
   ]
  }
 ],
 "metadata": {
  "kernelspec": {
   "display_name": "Python 3",
   "language": "python",
   "name": "python3"
  },
  "language_info": {
   "codemirror_mode": {
    "name": "ipython",
    "version": 3
   },
   "file_extension": ".py",
   "mimetype": "text/x-python",
   "name": "python",
   "nbconvert_exporter": "python",
   "pygments_lexer": "ipython3",
   "version": "3.7.3"
  }
 },
 "nbformat": 4,
 "nbformat_minor": 2
}
