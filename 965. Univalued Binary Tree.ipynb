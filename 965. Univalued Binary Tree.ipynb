{
 "cells": [
  {
   "cell_type": "markdown",
   "metadata": {},
   "source": [
    "### Univalued Binary Tree"
   ]
  },
  {
   "cell_type": "raw",
   "metadata": {},
   "source": [
    "A binary tree is univalued if every node in the tree has the same value.\n",
    "Return true if and only if the given tree is univalued.\n",
    "Example 1:\n",
    "Input: [1,1,1,1,1,null,1]\n",
    "Output: true\n",
    "Example 2:\n",
    "Input: [2,2,2,5,2]\n",
    "Output: false\n",
    "Note:\n",
    "1. The number of nodes in the given tree will be in the range [1, 100].\n",
    "2. Each node's value will be an integer in the range [0, 99]."
   ]
  },
  {
   "cell_type": "markdown",
   "metadata": {},
   "source": [
    "Example 1:\n",
    "![Image of Yaktocat](https://assets.leetcode.com/uploads/2018/12/28/unival_bst_1.png)\n",
    "Example 2:\n",
    "![Image of Yaktocat](https://assets.leetcode.com/uploads/2018/12/28/unival_bst_2.png)"
   ]
  },
  {
   "cell_type": "code",
   "execution_count": 1,
   "metadata": {},
   "outputs": [],
   "source": [
    "class TreeNode: # Binary Tree\n",
    "    def __init__ (self, x):\n",
    "        self.val = x\n",
    "        self.left = None\n",
    "        self.right = None   \n",
    "    def insert(self, left=None, right=None):\n",
    "        if left:\n",
    "            self.left = TreeNode(left)\n",
    "        if right:\n",
    "            self.right = TreeNode(right)\n",
    "\n",
    "class Solution: # 99.77% \n",
    "    def isUnivalTree(self, root):\n",
    "        if root.left and root.right:\n",
    "            return root.val == root.left.val and root.val == root.right.val and self.isUnivalTree(root.left) and self.isUnivalTree(root.right)\n",
    "        elif root.left:\n",
    "            return root.val == root.left.val and self.isUnivalTree(root.left)\n",
    "        elif root.right:\n",
    "            return root.val == root.right.val and self.isUnivalTree(root.right)\n",
    "        else: return True\n",
    "        "
   ]
  },
  {
   "cell_type": "code",
   "execution_count": 2,
   "metadata": {},
   "outputs": [
    {
     "data": {
      "text/plain": [
       "True"
      ]
     },
     "execution_count": 2,
     "metadata": {},
     "output_type": "execute_result"
    }
   ],
   "source": [
    "root = TreeNode(1)\n",
    "root.insert(1, 1)\n",
    "root.left.insert(1, 1)\n",
    "root.right.insert(None, 1)\n",
    "ans = Solution()\n",
    "ans.isUnivalTree(root)"
   ]
  }
 ],
 "metadata": {
  "kernelspec": {
   "display_name": "Python 3",
   "language": "python",
   "name": "python3"
  },
  "language_info": {
   "codemirror_mode": {
    "name": "ipython",
    "version": 3
   },
   "file_extension": ".py",
   "mimetype": "text/x-python",
   "name": "python",
   "nbconvert_exporter": "python",
   "pygments_lexer": "ipython3",
   "version": "3.7.3"
  }
 },
 "nbformat": 4,
 "nbformat_minor": 2
}
