{
 "cells": [
  {
   "cell_type": "markdown",
   "metadata": {},
   "source": [
    "### Keyboard Row"
   ]
  },
  {
   "cell_type": "raw",
   "metadata": {},
   "source": [
    "Given a List of words, return the words that can be typed using letters of alphabet on only one row's of American keyboard like the image below.\n",
    "\n",
    "Example:\n",
    "Input: [\"Hello\", \"Alaska\", \"Dad\", \"Peace\"]\n",
    "Output: [\"Alaska\", \"Dad\"]\n",
    " \n",
    "Note:\n",
    "1. You may use one character in the keyboard more than once.\n",
    "2. You may assume the input string will only contain letters of alphabet."
   ]
  },
  {
   "cell_type": "markdown",
   "metadata": {},
   "source": [
    "https://assets.leetcode.com/uploads/2018/10/12/keyboard.png\n",
    "![Image of Yaktocat](https://assets.leetcode.com/uploads/2018/10/12/keyboard.png)"
   ]
  },
  {
   "cell_type": "code",
   "execution_count": 1,
   "metadata": {},
   "outputs": [],
   "source": [
    "class Solution:\n",
    "    def findWords(self, words):\n",
    "        \"\"\"\n",
    "        :type words: List[str]\n",
    "        :rtype: List[str]\n",
    "        \"\"\"\n",
    "        keyboard_row1_set = set('zxcvbnmZXCVBNM')\n",
    "        keyboard_row2_set = set('asdfghjklASDFGHJKL')\n",
    "        keyboard_row3_set = set('qwertyuiopQWERTYUIOP')\n",
    "        lst = []\n",
    "        for x in words:\n",
    "            if set(x) - keyboard_row1_set == set():\n",
    "                lst.append(x)\n",
    "            if set(x) - keyboard_row2_set == set():\n",
    "                lst.append(x)\n",
    "            if set(x) - keyboard_row3_set == set():\n",
    "                lst.append(x)\n",
    "        return lst"
   ]
  },
  {
   "cell_type": "code",
   "execution_count": 2,
   "metadata": {},
   "outputs": [
    {
     "data": {
      "text/plain": [
       "['Alaska', 'Dad']"
      ]
     },
     "execution_count": 2,
     "metadata": {},
     "output_type": "execute_result"
    }
   ],
   "source": [
    "words = [\"Hello\", \"Alaska\", \"Dad\", \"Peace\"]\n",
    "ans = Solution()\n",
    "ans.findWords(words)"
   ]
  }
 ],
 "metadata": {
  "kernelspec": {
   "display_name": "Python 3",
   "language": "python",
   "name": "python3"
  },
  "language_info": {
   "codemirror_mode": {
    "name": "ipython",
    "version": 3
   },
   "file_extension": ".py",
   "mimetype": "text/x-python",
   "name": "python",
   "nbconvert_exporter": "python",
   "pygments_lexer": "ipython3",
   "version": "3.7.3"
  }
 },
 "nbformat": 4,
 "nbformat_minor": 2
}
