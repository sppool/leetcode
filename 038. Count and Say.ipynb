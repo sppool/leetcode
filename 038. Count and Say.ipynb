{
 "cells": [
  {
   "cell_type": "markdown",
   "metadata": {},
   "source": [
    "### Count and Say"
   ]
  },
  {
   "cell_type": "raw",
   "metadata": {},
   "source": [
    "The count-and-say sequence is the sequence of integers with the first five terms as following:\n",
    "1.     1         1個1            ->  11\n",
    "2.     11        2個1            ->  21\n",
    "3.     21        1個2 1個1       ->  1211\n",
    "4.     1211      1個1 1個2 2個1  ->  111221\n",
    "5.     111221\n",
    "\n",
    "1 is read off as \"one 1\" or 11.\n",
    "11 is read off as \"two 1s\" or 21.\n",
    "21 is read off as \"one 2, then one 1\" or 1211.\n",
    "\n",
    "Given an integer n where 1 ≤ n ≤ 30, generate the nth term of the count-and-say sequence.\n",
    "Note: Each term of the sequence of integers will be represented as a string.\n",
    "\n",
    "Example 1:\n",
    "Input: 1\n",
    "Output: \"1\"\n",
    "\n",
    "Example 2:\n",
    "Input: 4\n",
    "Output: \"1211\""
   ]
  },
  {
   "cell_type": "code",
   "execution_count": 1,
   "metadata": {},
   "outputs": [],
   "source": [
    "class Solution:\n",
    "    def countAndSay(self, n):\n",
    "        \"\"\"\n",
    "        :type n: int\n",
    "        :rtype: str\n",
    "        \"\"\"\n",
    "        lst = ['1', '11', '21', '1211', '111221']\n",
    "        while len(lst) < n: # 生成到第 n 項!!\n",
    "            s = lst[-1] \n",
    "            num_lst = [s[0]] # 數字序列\n",
    "            count_lst =[] # 數字數量序列\n",
    "            i = 1\n",
    "            for x in s[1:]:\n",
    "                if x == num_lst[-1]:\n",
    "                    i += 1\n",
    "                else: # x != num_lst[-1] 數字患了\n",
    "                    num_lst.append(x)\n",
    "                    count_lst.append(str(i))\n",
    "                    i = 1\n",
    "            count_lst.append(str(i))\n",
    "            add_lst = ''\n",
    "            for i_ in range(len(num_lst)):\n",
    "                add_lst += count_lst[i_]\n",
    "                add_lst += num_lst[i_]\n",
    "            lst.append(add_lst)\n",
    "            \n",
    "        return lst[n-1]\n",
    "            "
   ]
  },
  {
   "cell_type": "code",
   "execution_count": 2,
   "metadata": {},
   "outputs": [
    {
     "data": {
      "text/plain": [
       "'311311222113111231131112132112311321322112111312211312111322212311322113212221'"
      ]
     },
     "execution_count": 2,
     "metadata": {},
     "output_type": "execute_result"
    }
   ],
   "source": [
    "n = 15\n",
    "ans = Solution()\n",
    "ans.countAndSay(n)"
   ]
  }
 ],
 "metadata": {
  "kernelspec": {
   "display_name": "Python 3",
   "language": "python",
   "name": "python3"
  },
  "language_info": {
   "codemirror_mode": {
    "name": "ipython",
    "version": 3
   },
   "file_extension": ".py",
   "mimetype": "text/x-python",
   "name": "python",
   "nbconvert_exporter": "python",
   "pygments_lexer": "ipython3",
   "version": "3.7.3"
  }
 },
 "nbformat": 4,
 "nbformat_minor": 2
}
