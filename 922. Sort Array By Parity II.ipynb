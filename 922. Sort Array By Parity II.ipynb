{
 "cells": [
  {
   "cell_type": "markdown",
   "metadata": {},
   "source": [
    "### Sort Array By Parity II"
   ]
  },
  {
   "cell_type": "raw",
   "metadata": {},
   "source": [
    "Given an array A of non-negative integers, half of the integers in A are odd, and half of the integers are even.\n",
    "Sort the array so that whenever A[i] is odd, i is odd; and whenever A[i] is even, i is even.\n",
    "You may return any answer array that satisfies this condition.\n",
    "\n",
    "Example 1:\n",
    "Input: [4,2,5,7]\n",
    "Output: [4,5,2,7]\n",
    "Explanation: [4,7,2,5], [2,5,4,7], [2,7,4,5] would also have been accepted.\n",
    " \n",
    "Note:\n",
    "2 <= A.length <= 20000\n",
    "A.length % 2 == 0\n",
    "0 <= A[i] <= 1000"
   ]
  },
  {
   "cell_type": "code",
   "execution_count": 1,
   "metadata": {},
   "outputs": [],
   "source": [
    "class Solution:\n",
    "    def sortArrayByParityII(self, A):\n",
    "        \"\"\"\n",
    "        :type A: List[int]\n",
    "        :rtype: List[int]\n",
    "        \"\"\"\n",
    "        odd = [] # 列出奇數\n",
    "        even = [] # 列出偶數\n",
    "        while A != []:\n",
    "            num = A.pop()\n",
    "            if num % 2 == 1:\n",
    "                odd.append(num)\n",
    "            else:\n",
    "                even.append(num)\n",
    "        lst = []\n",
    "        while odd != []: # 分別排進奇偶數\n",
    "            lst.append(even.pop())\n",
    "            lst.append(odd.pop())\n",
    "\n",
    "        return lst"
   ]
  },
  {
   "cell_type": "code",
   "execution_count": 2,
   "metadata": {},
   "outputs": [
    {
     "data": {
      "text/plain": [
       "[4, 5, 2, 7]"
      ]
     },
     "execution_count": 2,
     "metadata": {},
     "output_type": "execute_result"
    }
   ],
   "source": [
    "A = [4,2,5,7]\n",
    "ans = Solution()\n",
    "ans.sortArrayByParityII(A)"
   ]
  }
 ],
 "metadata": {
  "kernelspec": {
   "display_name": "Python 3",
   "language": "python",
   "name": "python3"
  },
  "language_info": {
   "codemirror_mode": {
    "name": "ipython",
    "version": 3
   },
   "file_extension": ".py",
   "mimetype": "text/x-python",
   "name": "python",
   "nbconvert_exporter": "python",
   "pygments_lexer": "ipython3",
   "version": "3.7.3"
  }
 },
 "nbformat": 4,
 "nbformat_minor": 2
}
