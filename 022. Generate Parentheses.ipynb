{
 "cells": [
  {
   "cell_type": "markdown",
   "metadata": {},
   "source": [
    "### Generate Parentheses"
   ]
  },
  {
   "cell_type": "raw",
   "metadata": {},
   "source": [
    "Given n pairs of parentheses, write a function to generate all combinations of well-formed parentheses.\n",
    "For example, given n = 3, a solution set is:\n",
    "[ \"((()))\",\n",
    "  \"(()())\",\n",
    "  \"(())()\",\n",
    "  \"()(())\",\n",
    "  \"()()()\" ]"
   ]
  },
  {
   "cell_type": "code",
   "execution_count": 1,
   "metadata": {},
   "outputs": [],
   "source": [
    "class Solution: # 61.14%\n",
    "    def generateParenthesis(self, n): # 86.77% 用數字計算比 list.count( ) 快很多!!\n",
    "        self.res = []\n",
    "        self.generate(n, n, '')\n",
    "        return self.res \n",
    "\n",
    "    def generate(self, left, right, string):\n",
    "        if not (left + right): # left = 0, right = 0 \n",
    "            self.res.append(string)\n",
    "            return             # 用 return 截斷  也可以用 elif 避免跑入多條件\n",
    "        if left == right:\n",
    "            self.generate(left-1, right, string+'(')\n",
    "            return\n",
    "        if left == 0:\n",
    "            self.generate(left, right-1, string+')')\n",
    "            return\n",
    "        if left < right:\n",
    "            self.generate(left-1, right, string+'(')\n",
    "            self.generate(left, right-1, string+')')\n",
    "            return\n",
    "        \n",
    "    def generateParenthesis2(self, n): # 61.14%\n",
    "        lst = ['(']\n",
    "        while len(lst[0]) != 2*n:\n",
    "            lst = self.plus(lst, n)\n",
    "        return lst\n",
    "        \n",
    "    def plus(self, lst, n):\n",
    "        res = []\n",
    "        for ls in lst:\n",
    "            if ls.count('(') > ls.count(')') and ls.count('(') < n:\n",
    "                res.append(ls + '(')\n",
    "                res.append(ls + ')')\n",
    "            elif ls.count('(') == ls.count(')'):\n",
    "                res.append(ls + '(')\n",
    "            else:\n",
    "                res.append(ls + ')')\n",
    "        return res"
   ]
  },
  {
   "cell_type": "code",
   "execution_count": 2,
   "metadata": {},
   "outputs": [
    {
     "data": {
      "text/plain": [
       "['((()))', '(()())', '(())()', '()(())', '()()()']"
      ]
     },
     "execution_count": 2,
     "metadata": {},
     "output_type": "execute_result"
    }
   ],
   "source": [
    "n = 3\n",
    "ans = Solution()\n",
    "ans.generateParenthesis(n)"
   ]
  },
  {
   "cell_type": "code",
   "execution_count": 3,
   "metadata": {},
   "outputs": [
    {
     "data": {
      "text/plain": [
       "['((()))', '(()())', '(())()', '()(())', '()()()']"
      ]
     },
     "execution_count": 3,
     "metadata": {},
     "output_type": "execute_result"
    }
   ],
   "source": [
    "ans.generateParenthesis2(n)"
   ]
  },
  {
   "cell_type": "code",
   "execution_count": 4,
   "metadata": {},
   "outputs": [
    {
     "name": "stdout",
     "output_type": "stream",
     "text": [
      "15.9 ms ± 121 µs per loop (mean ± std. dev. of 7 runs, 100 loops each)\n"
     ]
    }
   ],
   "source": [
    "%%timeit\n",
    "ans.generateParenthesis(10)"
   ]
  },
  {
   "cell_type": "code",
   "execution_count": 5,
   "metadata": {},
   "outputs": [
    {
     "name": "stdout",
     "output_type": "stream",
     "text": [
      "47.1 ms ± 695 µs per loop (mean ± std. dev. of 7 runs, 10 loops each)\n"
     ]
    }
   ],
   "source": [
    "%%timeit\n",
    "ans.generateParenthesis2(10)"
   ]
  }
 ],
 "metadata": {
  "kernelspec": {
   "display_name": "Python 3",
   "language": "python",
   "name": "python3"
  },
  "language_info": {
   "codemirror_mode": {
    "name": "ipython",
    "version": 3
   },
   "file_extension": ".py",
   "mimetype": "text/x-python",
   "name": "python",
   "nbconvert_exporter": "python",
   "pygments_lexer": "ipython3",
   "version": "3.7.3"
  }
 },
 "nbformat": 4,
 "nbformat_minor": 2
}
