{
 "cells": [
  {
   "cell_type": "markdown",
   "metadata": {},
   "source": [
    "### Largest Triangle Area"
   ]
  },
  {
   "cell_type": "raw",
   "metadata": {},
   "source": [
    "You have a list of points in the plane. Return the area of the largest triangle that can be formed by any 3 of the points.\n",
    "\n",
    "Example:\n",
    "Input: points = [[0,0],[0,1],[1,0],[0,2],[2,0]]\n",
    "Output: 2\n",
    "Explanation: \n",
    "The five points are show in the figure below. The red triangle is the largest.\n",
    "\n",
    "Notes:\n",
    "1. 3 <= points.length <= 50.\n",
    "2. No points will be duplicated.\n",
    "3. -50 <= points[i][j] <= 50.\n",
    "4. Answers within 10^-6 of the true value will be accepted as correct."
   ]
  },
  {
   "cell_type": "markdown",
   "metadata": {},
   "source": [
    "https://s3-lc-upload.s3.amazonaws.com/uploads/2018/04/04/1027.png\n",
    "![Image of Yaktocat](https://s3-lc-upload.s3.amazonaws.com/uploads/2018/04/04/1027.png)\n",
    "三角型面積求法:\n",
    "http://sites.ccvs.kh.edu.tw/fuchi/doc/26248"
   ]
  },
  {
   "cell_type": "code",
   "execution_count": 1,
   "metadata": {},
   "outputs": [],
   "source": [
    "class Solution:\n",
    "    def largestTriangleArea(self, points):\n",
    "        \"\"\"\n",
    "        :type points: List[List[int]]\n",
    "        :rtype: float\n",
    "        \"\"\"\n",
    "        n = len(points)\n",
    "        point_ind = []\n",
    "        for i in range(n):\n",
    "            for j in range(i + 1, n):\n",
    "                for k in range(j + 1, n):\n",
    "                    point_ind.append([i, j, k])\n",
    "        area_lst = []\n",
    "        for p in point_ind:\n",
    "            area_lst.append(self.area(points[p[0]], points[p[1]], points[p[2]]))\n",
    "        return max(area_lst)\n",
    "        \n",
    "        \n",
    "    def area(self, a, b, c): # 三個點(x, y)座標\n",
    "        area_ = 0.5 * abs(a[0]*b[1] + b[0]*c[1] + c[0]*a[1]\n",
    "                         -a[1]*b[0] - b[1]*c[0] - c[1]*a[0])\n",
    "        return area_"
   ]
  },
  {
   "cell_type": "code",
   "execution_count": 2,
   "metadata": {},
   "outputs": [
    {
     "data": {
      "text/plain": [
       "5.5"
      ]
     },
     "execution_count": 2,
     "metadata": {},
     "output_type": "execute_result"
    }
   ],
   "source": [
    "points = [[4,6],[6,5],[3,1]]\n",
    "ans = Solution()\n",
    "ans.largestTriangleArea(points)"
   ]
  }
 ],
 "metadata": {
  "kernelspec": {
   "display_name": "Python 3",
   "language": "python",
   "name": "python3"
  },
  "language_info": {
   "codemirror_mode": {
    "name": "ipython",
    "version": 3
   },
   "file_extension": ".py",
   "mimetype": "text/x-python",
   "name": "python",
   "nbconvert_exporter": "python",
   "pygments_lexer": "ipython3",
   "version": "3.7.3"
  }
 },
 "nbformat": 4,
 "nbformat_minor": 2
}
