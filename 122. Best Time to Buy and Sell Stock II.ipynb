{
 "cells": [
  {
   "cell_type": "markdown",
   "metadata": {},
   "source": [
    "### Best Time to Buy and Sell Stock II"
   ]
  },
  {
   "cell_type": "raw",
   "metadata": {},
   "source": [
    "Say you have an array for which the ith element is the price of a given stock on day i.\n",
    "Design an algorithm to find the maximum profit. You may complete as many transactions as you like\n",
    "(i.e., buy one and sell one share of the stock multiple times).\n",
    "Note: You may not engage in multiple transactions at the same time (i.e., you must sell the stock before you buy again).\n",
    "\n",
    "Example 1: # 能多 n 次交易 找到最佳利潤~\n",
    "Input: [7,1,5,3,6,4]\n",
    "Output: 7\n",
    "Explanation: Buy on day 2 (price = 1) and sell on day 3 (price = 5), profit = 5-1 = 4.\n",
    "             Then buy on day 4 (price = 3) and sell on day 5 (price = 6), profit = 6-3 = 3.\n",
    "Example 2:\n",
    "Input: [1,2,3,4,5]\n",
    "Output: 4\n",
    "Explanation: Buy on day 1 (price = 1) and sell on day 5 (price = 5), profit = 5-1 = 4.\n",
    "             Note that you cannot buy on day 1, buy on day 2 and sell them later, as you are\n",
    "             engaging multiple transactions at the same time. You must sell before buying again.\n",
    "Example 3:\n",
    "Input: [7,6,4,3,1]\n",
    "Output: 0\n",
    "Explanation: In this case, no transaction is done, i.e. max profit = 0."
   ]
  },
  {
   "cell_type": "code",
   "execution_count": 1,
   "metadata": {},
   "outputs": [],
   "source": [
    "class Solution:\n",
    "    def maxProfit(self, prices): # 62.97%\n",
    "        \"\"\"\n",
    "        :type prices: List[int]\n",
    "        :rtype: int\n",
    "        \"\"\"\n",
    "        if prices == []: # 沒資料的狀況\n",
    "            return 0\n",
    "        \n",
    "        profit = 0 \n",
    "        for ind in range(1, len(prices)):\n",
    "            profit += max(0, (prices[ind] - prices[ind-1])) # 抓到每次的差價 <0 的算 0, >0 加入profit\n",
    "        return profit        \n",
    "\n",
    "###############################################################\n",
    "\n",
    "    def maxProfit2(self, prices): # 45 %\n",
    "        if prices == []: # 沒資料的狀況\n",
    "            return 0\n",
    "        \n",
    "        yester = prices[0]\n",
    "        profit = 0\n",
    "        all_profit = 0\n",
    "        for p in prices[1:]:\n",
    "            if p > yester:\n",
    "                profit += (p-yester)\n",
    "            elif p < yester: # 往下就\n",
    "                all_profit += profit\n",
    "                profit = 0\n",
    "            yester = p \n",
    "            \n",
    "        all_profit += profit  \n",
    "        return all_profit\n",
    "                "
   ]
  },
  {
   "cell_type": "code",
   "execution_count": 2,
   "metadata": {},
   "outputs": [
    {
     "data": {
      "text/plain": [
       "14"
      ]
     },
     "execution_count": 2,
     "metadata": {},
     "output_type": "execute_result"
    }
   ],
   "source": [
    "prices = [7,1,5,3,6,4,5,7,1,5]\n",
    "ans = Solution()\n",
    "ans.maxProfit(prices)"
   ]
  }
 ],
 "metadata": {
  "kernelspec": {
   "display_name": "Python 3",
   "language": "python",
   "name": "python3"
  },
  "language_info": {
   "codemirror_mode": {
    "name": "ipython",
    "version": 3
   },
   "file_extension": ".py",
   "mimetype": "text/x-python",
   "name": "python",
   "nbconvert_exporter": "python",
   "pygments_lexer": "ipython3",
   "version": "3.7.3"
  }
 },
 "nbformat": 4,
 "nbformat_minor": 2
}
