{
 "cells": [
  {
   "cell_type": "markdown",
   "metadata": {},
   "source": [
    "### 1-bit and 2-bit Characters"
   ]
  },
  {
   "cell_type": "raw",
   "metadata": {},
   "source": [
    "We have two special characters. The first character can be represented by one bit 0. The second character\n",
    "can be represented by two bits (10 or 11).\n",
    "Now given a string represented by several bits. Return whether the last character must be a one-bit character or not.\n",
    "The given string will always end with a zero.\n",
    "Example 1:\n",
    "Input: \n",
    "bits = [1, 0, 0]\n",
    "Output: True\n",
    "Explanation: \n",
    "The only way to decode it is two-bit character and one-bit character. So the last character is one-bit character.\n",
    "Example 2:\n",
    "Input: \n",
    "bits = [1, 1, 1, 0]\n",
    "Output: False\n",
    "Explanation: \n",
    "The only way to decode it is two-bit character and two-bit character. So the last character is NOT one-bit character.\n",
    "\n",
    "Note:\n",
    "1. 1 <= len(bits) <= 1000.\n",
    "2. bits[i] is always 0 or 1."
   ]
  },
  {
   "cell_type": "code",
   "execution_count": 1,
   "metadata": {},
   "outputs": [],
   "source": [
    "class Solution:\n",
    "    def isOneBitCharacter(self, bits):\n",
    "        \"\"\"\n",
    "        :type bits: List[int]\n",
    "        :rtype: bool\n",
    "        \"\"\"\n",
    "        if bits == [0]:\n",
    "            return True\n",
    "        if bits[-1] == 1:\n",
    "            return False\n",
    "        else:\n",
    "            n = len(bits)\n",
    "            num = 0\n",
    "            while bits[n-2-num] == 1:\n",
    "                num += 1\n",
    "                if n-2-num < 0:\n",
    "                    break\n",
    "            if num % 2 == 1:\n",
    "                return False\n",
    "            else:\n",
    "                return True\n"
   ]
  },
  {
   "cell_type": "code",
   "execution_count": 2,
   "metadata": {},
   "outputs": [
    {
     "data": {
      "text/plain": [
       "False"
      ]
     },
     "execution_count": 2,
     "metadata": {},
     "output_type": "execute_result"
    }
   ],
   "source": [
    "bits = [1, 1, 1, 0]\n",
    "ans = Solution()\n",
    "ans.isOneBitCharacter(bits)"
   ]
  }
 ],
 "metadata": {
  "kernelspec": {
   "display_name": "Python 3",
   "language": "python",
   "name": "python3"
  },
  "language_info": {
   "codemirror_mode": {
    "name": "ipython",
    "version": 3
   },
   "file_extension": ".py",
   "mimetype": "text/x-python",
   "name": "python",
   "nbconvert_exporter": "python",
   "pygments_lexer": "ipython3",
   "version": "3.7.3"
  }
 },
 "nbformat": 4,
 "nbformat_minor": 2
}
