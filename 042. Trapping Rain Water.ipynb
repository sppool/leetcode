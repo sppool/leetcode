{
 "cells": [
  {
   "cell_type": "markdown",
   "metadata": {},
   "source": [
    "### Trapping Rain Water"
   ]
  },
  {
   "cell_type": "raw",
   "metadata": {},
   "source": [
    "Given n non-negative integers representing an elevation map where the width of each bar is 1,\n",
    "compute how much water it is able to trap after raining.\n",
    "The above elevation map is represented by array [0,1,0,2,1,0,1,3,2,1,2,1]. In this case,\n",
    "6 units of rain water (blue section) are being trapped. Thanks Marcos for contributing this image!\n",
    "\n",
    "Example:\n",
    "Input: [0,1,0,2,1,0,1,3,2,1,2,1]\n",
    "Output: 6"
   ]
  },
  {
   "cell_type": "markdown",
   "metadata": {},
   "source": [
    "https://assets.leetcode.com/uploads/2018/10/22/rainwatertrap.png\n",
    "![Image of Yaktocat](https://assets.leetcode.com/uploads/2018/10/22/rainwatertrap.png)"
   ]
  },
  {
   "cell_type": "code",
   "execution_count": 1,
   "metadata": {},
   "outputs": [],
   "source": [
    "class Solution:\n",
    "    def trap(self, height): # 99.49%\n",
    "        \"\"\"\n",
    "        :type height: List[int]\n",
    "        :rtype: int\n",
    "        \"\"\"\n",
    "        n = len(height)\n",
    "        all_val = 0\n",
    "        pool = 0\n",
    "        val = 0\n",
    "        h = 0\n",
    "        ii = 0\n",
    "        for i in range(n):\n",
    "            if height[i] >= h:\n",
    "                h = height[i]\n",
    "                val += pool\n",
    "                pool = 0\n",
    "                ii = i\n",
    "            else:\n",
    "                pool += (h - height[i])\n",
    "        all_val += val # 左邊過來到最後一個最高點的累積\n",
    "\n",
    "        inv_height = height[-1:-2-n+ii:-1]\n",
    "        pool = 0\n",
    "        val = 0\n",
    "        h = 0   \n",
    "        for i in inv_height:\n",
    "            if i >= h:\n",
    "                h = i\n",
    "                val += pool\n",
    "                pool = 0\n",
    "            else:\n",
    "                pool += (h - i)\n",
    "        all_val += val # 右邊邊過來到最後一個最高點的累積\n",
    "\n",
    "        return all_val"
   ]
  },
  {
   "cell_type": "code",
   "execution_count": 2,
   "metadata": {},
   "outputs": [
    {
     "data": {
      "text/plain": [
       "6"
      ]
     },
     "execution_count": 2,
     "metadata": {},
     "output_type": "execute_result"
    }
   ],
   "source": [
    "height = [0,1,0,2,1,0,1,3,2,1,2,1]\n",
    "ans = Solution()\n",
    "ans.trap(height)"
   ]
  }
 ],
 "metadata": {
  "kernelspec": {
   "display_name": "Python 3",
   "language": "python",
   "name": "python3"
  },
  "language_info": {
   "codemirror_mode": {
    "name": "ipython",
    "version": 3
   },
   "file_extension": ".py",
   "mimetype": "text/x-python",
   "name": "python",
   "nbconvert_exporter": "python",
   "pygments_lexer": "ipython3",
   "version": "3.7.3"
  }
 },
 "nbformat": 4,
 "nbformat_minor": 2
}
