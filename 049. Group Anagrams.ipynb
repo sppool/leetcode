{
 "cells": [
  {
   "cell_type": "markdown",
   "metadata": {},
   "source": [
    "### Group Anagrams"
   ]
  },
  {
   "cell_type": "raw",
   "metadata": {},
   "source": [
    "Given an array of strings, group anagrams together.\n",
    "Example:\n",
    "Input: [\"eat\", \"tea\", \"tan\", \"ate\", \"nat\", \"bat\"],\n",
    "Output:\n",
    "[ [\"ate\",\"eat\",\"tea\"],\n",
    "  [\"nat\",\"tan\"],\n",
    "  [\"bat\"] ]\n",
    "Note:\n",
    "1. All inputs will be in lowercase.\n",
    "2. The order of your output does not matter."
   ]
  },
  {
   "cell_type": "code",
   "execution_count": 1,
   "metadata": {},
   "outputs": [],
   "source": [
    "class Solution: # 90.55% \n",
    "    def groupAnagrams(self, strs):\n",
    "        dic = {}\n",
    "        res = []\n",
    "        ind = 0\n",
    "        for string in strs:\n",
    "            key = ''.join(sorted(string))\n",
    "            if key in dic:\n",
    "                res[dic[key]].append(string)\n",
    "            else:\n",
    "                dic[key] = ind\n",
    "                ind += 1\n",
    "                res.append([string])\n",
    "        return res\n",
    "    \n",
    "    def groupAnagrams2(self, strs): # 簡短寫法 略慢一點\n",
    "        dic={}\n",
    "        for s in strs:\n",
    "            key = ''.join(sorted(s))\n",
    "            dic[key]=dic.get(key,[])+[s]\n",
    "        return list(dic.values())\n",
    "    \n",
    "\n",
    "    def groupAnagrams3(self, strs): # 質數相乘法 用數字算比排串列快!!\n",
    "        res = {}\n",
    "        word_dic = {\"a\":2,\"b\":3,\"c\":5,\"d\":7,\"e\":11,\"f\":13,\"g\":17,\"h\":19,\"i\":23,\"j\":29,\"k\":31,\"l\":37,\"m\":101,\"n\":41,\"o\":43,\"p\":47,\"q\":53,\"r\":59,\"s\":61,\"t\":67,\"u\":71,\"v\":73,\"w\":79,\"x\":83,\"y\":89,\"z\":97}\n",
    "        for word in strs:\n",
    "            ji = 1\n",
    "            for s in word:\n",
    "                ji *= word_dic[s]\n",
    "            if ji in res:\n",
    "                res[ji].append(word)\n",
    "            else:\n",
    "                res[ji] = [word]\n",
    "        return list(res.values())"
   ]
  },
  {
   "cell_type": "code",
   "execution_count": 2,
   "metadata": {},
   "outputs": [
    {
     "data": {
      "text/plain": [
       "[['eat', 'tea', 'ate'], ['tan', 'nat'], ['bat']]"
      ]
     },
     "execution_count": 2,
     "metadata": {},
     "output_type": "execute_result"
    }
   ],
   "source": [
    "strs = [\"eat\", \"tea\", \"tan\", \"ate\", \"nat\", \"bat\"]\n",
    "ans = Solution()\n",
    "ans.groupAnagrams(strs)"
   ]
  },
  {
   "cell_type": "code",
   "execution_count": 3,
   "metadata": {},
   "outputs": [
    {
     "name": "stdout",
     "output_type": "stream",
     "text": [
      "3.08 µs ± 61.9 ns per loop (mean ± std. dev. of 7 runs, 100000 loops each)\n"
     ]
    }
   ],
   "source": [
    "%%timeit\n",
    "ans.groupAnagrams(strs)"
   ]
  },
  {
   "cell_type": "code",
   "execution_count": 4,
   "metadata": {},
   "outputs": [
    {
     "name": "stdout",
     "output_type": "stream",
     "text": [
      "3.45 µs ± 121 ns per loop (mean ± std. dev. of 7 runs, 100000 loops each)\n"
     ]
    }
   ],
   "source": [
    "%%timeit\n",
    "ans.groupAnagrams2(strs)"
   ]
  },
  {
   "cell_type": "code",
   "execution_count": 5,
   "metadata": {},
   "outputs": [
    {
     "name": "stdout",
     "output_type": "stream",
     "text": [
      "2.74 µs ± 87.1 ns per loop (mean ± std. dev. of 7 runs, 100000 loops each)\n"
     ]
    }
   ],
   "source": [
    "%%timeit\n",
    "ans.groupAnagrams3(strs)"
   ]
  }
 ],
 "metadata": {
  "kernelspec": {
   "display_name": "Python 3",
   "language": "python",
   "name": "python3"
  },
  "language_info": {
   "codemirror_mode": {
    "name": "ipython",
    "version": 3
   },
   "file_extension": ".py",
   "mimetype": "text/x-python",
   "name": "python",
   "nbconvert_exporter": "python",
   "pygments_lexer": "ipython3",
   "version": "3.7.3"
  }
 },
 "nbformat": 4,
 "nbformat_minor": 2
}
