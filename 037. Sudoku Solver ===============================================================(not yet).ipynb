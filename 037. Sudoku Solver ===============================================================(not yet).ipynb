{
 "cells": [
  {
   "cell_type": "markdown",
   "metadata": {},
   "source": [
    "### Sudoku Solver"
   ]
  },
  {
   "cell_type": "raw",
   "metadata": {},
   "source": [
    "Write a program to solve a Sudoku puzzle by filling the empty cells.\n",
    "A sudoku solution must satisfy all of the following rules:\n",
    "Each of the digits 1-9 must occur exactly once in each row.\n",
    "Each of the digits 1-9 must occur exactly once in each column.\n",
    "Each of the the digits 1-9 must occur exactly once in each of the 9 3x3 sub-boxes of the grid.\n",
    "Empty cells are indicated by the character '.'.\n",
    "\n",
    "Note:\n",
    "The given board contain only digits 1-9 and the character '.'.\n",
    "You may assume that the given Sudoku puzzle will have a single unique solution.\n",
    "The given board size is always 9x9."
   ]
  },
  {
   "cell_type": "markdown",
   "metadata": {},
   "source": [
    "https://upload.wikimedia.org/wikipedia/commons/thumb/f/ff/Sudoku-by-L2G-20050714.svg/250px-Sudoku-by-L2G-20050714.svg.png\n",
    "![Image of Yaktocat](https://upload.wikimedia.org/wikipedia/commons/thumb/f/ff/Sudoku-by-L2G-20050714.svg/250px-Sudoku-by-L2G-20050714.svg.png)\n",
    "A sudoku puzzle...\n",
    "\n",
    "https://upload.wikimedia.org/wikipedia/commons/thumb/3/31/Sudoku-by-L2G-20050714_solution.svg/250px-Sudoku-by-L2G-20050714_solution.svg.png\n",
    "![Image of Yaktocat](https://upload.wikimedia.org/wikipedia/commons/thumb/3/31/Sudoku-by-L2G-20050714_solution.svg/250px-Sudoku-by-L2G-20050714_solution.svg.png)\n",
    "...and its solution numbers marked in red."
   ]
  },
  {
   "cell_type": "code",
   "execution_count": 1,
   "metadata": {},
   "outputs": [],
   "source": [
    "class Solution:\n",
    "    def solveSudoku(self, board):\n",
    "        \"\"\"\n",
    "        :type board: List[List[str]]\n",
    "        :rtype: void Do not return anything, modify board in-place instead. # 不需回傳 只要將 board 改好\n",
    "        \"\"\"   \n",
    "        time = 0\n",
    "        times = 8\n",
    "        bool_ = True\n",
    "        \n",
    "        while bool_ and time < times : # 尚未確定的座標 = 0(完成)\n",
    "            time += 1\n",
    "            i_j_set_dict = self.get_i_j_set_dict(board) # \"座標\" 可能集合的 dict\n",
    "            unknown = set() # 創造出尚未確定的\"座標\"\n",
    "            for i in range(9):\n",
    "                for j in range(9):\n",
    "                    if len(i_j_set_dict[(i, j)]) == 1:\n",
    "                        pass\n",
    "                    else:\n",
    "                        unknown.add((i, j))\n",
    "\n",
    "            i_j_row_set_dict = self.get_i_j_row_set_dict(i_j_set_dict, unknown)          \n",
    "            for axis in list(unknown):\n",
    "                i, j = axis\n",
    "                if len(i_j_row_set_dict[(i, j)]) == 1:\n",
    "                    board[i][j] = list(i_j_row_set_dict[(i, j)]).pop()\n",
    "                    unknown.remove((i, j))\n",
    "\n",
    "            i_j_col_set_dict = self.get_i_j_col_set_dict(i_j_set_dict, unknown)\n",
    "            for axis in list(unknown):\n",
    "                i, j = axis\n",
    "                if len(i_j_col_set_dict[(i, j)]) == 1:\n",
    "                    board[i][j] = list(i_j_col_set_dict[(i, j)]).pop()\n",
    "                    unknown.remove((i, j))\n",
    "\n",
    "            i_j_3x3_set_dict = self.get_i_j_3x3_set_dict(i_j_set_dict, unknown)\n",
    "            for axis in list(unknown):\n",
    "                i, j = axis\n",
    "                if len(i_j_3x3_set_dict[(i, j)]) == 1:\n",
    "                    board[i][j] = list(i_j_3x3_set_dict[(i, j)]).pop()\n",
    "                    unknown.remove((i, j))\n",
    "                    \n",
    "            if len(unknown) == 0:\n",
    "                bool_ = False\n",
    "        if time == times:\n",
    "            print('Over Time')\n",
    "        else:\n",
    "            print('time:', time)\n",
    "        \n",
    "        return board\n",
    "    \n",
    "    \n",
    "    \n",
    "    def get_row_set(self, Sudo, i): # 取得 row 元素集合\n",
    "        num_set = set('123456789')\n",
    "        lst = []\n",
    "        for n in range(9):\n",
    "            if Sudo[i][n] in num_set:\n",
    "                lst.append(Sudo[i][n])\n",
    "        return set(lst)   \n",
    "    def get_col_set(self, Sudo, i): # 取得 col 元素集合\n",
    "        num_set = set('123456789')\n",
    "        lst = []\n",
    "        for n in range(9):\n",
    "            if Sudo[n][i] in num_set:\n",
    "                lst.append(Sudo[n][i])\n",
    "        return set(lst)\n",
    "    def get_3x3_set(self, Sudo, i, j): # 取得 3x3matrix 元素集合\n",
    "        i = (i//3) * 3\n",
    "        j = (j//3) * 3\n",
    "        num_set = set('123456789')\n",
    "        lst = []\n",
    "        for i_ in range(i, i+3):\n",
    "            for j_ in range(j, j+3):\n",
    "                if Sudo[i_][j_] in num_set:\n",
    "                    lst.append(Sudo[i_][j_])\n",
    "        return set(lst)\n",
    "    \n",
    "\n",
    "    def get_i_j_set(self, Sudo, i, j): # 取得 座標(i, j)的集合\n",
    "        num_set = set('123456789')\n",
    "        if Sudo[i][j] in num_set:\n",
    "            return {Sudo[i][j]}\n",
    "        else:\n",
    "            output_set = num_set - self.get_row_set(Sudo, i) - self.get_col_set(Sudo, j) - self.get_3x3_set(Sudo, i, j)\n",
    "        return output_set\n",
    "\n",
    "    def get_i_j_set_dict(self, Sudo): # \"座標\" 可能集合的 dict (直接 update Sudo board到極限)\n",
    "        i_j_set_dict = {}\n",
    "        bool_ = True\n",
    "        while bool_:\n",
    "            for i in range(9):\n",
    "                for j in range(9):\n",
    "                    i_j_set_dict[(i, j)] =  self.get_i_j_set(Sudo, i, j)\n",
    "            n = 0\n",
    "            for i in range(9):\n",
    "                for j in range(9):\n",
    "                    if len(i_j_set_dict[(i, j)]) == 1 and Sudo[i][j] == '.': # 補上 board 的唯一 set\n",
    "                        Sudo[i][j] = list(i_j_set_dict[(i, j)]).pop()\n",
    "                        n += 1\n",
    "            bool_ = n\n",
    "        return i_j_set_dict\n",
    "\n",
    "    def get_i_j_row_set(self, dic, i, j): # 利用 i_j_set_dict 找 row 中 單一的集合\n",
    "        cut_set = set()\n",
    "        for n in range(9):\n",
    "            if n != j:\n",
    "                cut_set = cut_set | dic[(i, n)]\n",
    "        return  dic[(i, j)] - cut_set\n",
    "    def get_i_j_col_set(self, dic, i, j): # 利用 i_j_set_dict 找 col 中 單一的集合\n",
    "        cut_set = set()\n",
    "        for n in range(9):\n",
    "            if n != i:\n",
    "                cut_set = cut_set | dic[(n, j)]\n",
    "        return  dic[(i, j)] - cut_set      \n",
    "    def get_i_j_3x3_set(self, dic, i, j): # 利用 i_j_set_dict 找 row 中 單一的集合\n",
    "        cut_set = set()\n",
    "        i_ = (i//3) * 3\n",
    "        j_ = (j//3) * 3\n",
    "        for ii in range(i_, i_+3):\n",
    "            for jj in range(j_, j_+3):\n",
    "                if i == ii and j ==jj:\n",
    "                    pass\n",
    "                else:\n",
    "                    cut_set = cut_set | dic[(ii, jj)]\n",
    "        return  dic[(i, j)] - cut_set           \n",
    "    def get_i_j_row_set_dict(self, dic, unknown):\n",
    "        i_j_row_set_dict = {}\n",
    "        for axis in list(unknown):\n",
    "            i, j = axis\n",
    "            i_j_row_set_dict[(i, j)] = self.get_i_j_row_set(dic, i, j)\n",
    "        return i_j_row_set_dict        \n",
    "    def get_i_j_col_set_dict(self, dic, unknown):\n",
    "        i_j_col_set_dict = {}\n",
    "        for axis in list(unknown):\n",
    "            i, j = axis\n",
    "            i_j_col_set_dict[(i, j)] = self.get_i_j_col_set(dic, i, j)\n",
    "        return i_j_col_set_dict   \n",
    "    def get_i_j_3x3_set_dict(self, dic, unknown):\n",
    "        i_j_3x3_set_dict = {}\n",
    "        for axis in list(unknown):\n",
    "            i, j = axis\n",
    "            i_j_3x3_set_dict[(i, j)] = self.get_i_j_3x3_set(dic, i, j)\n",
    "        return i_j_3x3_set_dict"
   ]
  },
  {
   "cell_type": "code",
   "execution_count": 5,
   "metadata": {},
   "outputs": [
    {
     "name": "stdout",
     "output_type": "stream",
     "text": [
      "time: 1\n"
     ]
    },
    {
     "data": {
      "text/plain": [
       "[['1', '9', '8', '2', '3', '4', '6', '5', '7'],\n",
       " ['6', '3', '4', '1', '5', '7', '8', '9', '2'],\n",
       " ['7', '5', '2', '9', '6', '8', '1', '3', '4'],\n",
       " ['4', '1', '6', '8', '9', '2', '3', '7', '5'],\n",
       " ['2', '7', '5', '6', '4', '3', '9', '8', '1'],\n",
       " ['9', '8', '3', '7', '1', '5', '2', '4', '6'],\n",
       " ['3', '6', '7', '5', '2', '9', '4', '1', '8'],\n",
       " ['5', '2', '9', '4', '8', '1', '7', '6', '3'],\n",
       " ['8', '4', '1', '3', '7', '6', '5', '2', '9']]"
      ]
     },
     "execution_count": 5,
     "metadata": {},
     "output_type": "execute_result"
    }
   ],
   "source": [
    "#board = [[\"5\",\"3\",\".\",\".\",\"7\",\".\",\".\",\".\",\".\"],[\"6\",\".\",\".\",\"1\",\"9\",\"5\",\".\",\".\",\".\"],[\".\",\"9\",\"8\",\".\",\".\",\".\",\".\",\"6\",\".\"],[\"8\",\".\",\".\",\".\",\"6\",\".\",\".\",\".\",\"3\"],[\"4\",\".\",\".\",\"8\",\".\",\"3\",\".\",\".\",\"1\"],[\"7\",\".\",\".\",\".\",\"2\",\".\",\".\",\".\",\"6\"],[\".\",\"6\",\".\",\".\",\".\",\".\",\"2\",\"8\",\".\"],[\".\",\".\",\".\",\"4\",\"1\",\"9\",\".\",\".\",\"5\"],[\".\",\".\",\".\",\".\",\"8\",\".\",\".\",\"7\",\"9\"]]\n",
    "ans = Solution()\n",
    "ans.solveSudoku(board)"
   ]
  },
  {
   "cell_type": "code",
   "execution_count": 3,
   "metadata": {},
   "outputs": [],
   "source": [
    "board = [list('5.6..7..1'), # TRY\n",
    "         list('.21.4....'),\n",
    "         list('..3..17.5'),\n",
    "         list('.54......'),\n",
    "         list('8...3...6'),\n",
    "         list('......17.'),\n",
    "         list('2.58..6..'),\n",
    "         list('....6.28.'),\n",
    "         list('6..4..5.3'),]"
   ]
  },
  {
   "cell_type": "code",
   "execution_count": null,
   "metadata": {},
   "outputs": [],
   "source": [
    "board = [list('..53.....'), # herdest\n",
    "         list('8......2.'),\n",
    "         list('.7..1.5..'),\n",
    "         list('4....53..'),\n",
    "         list('.1..7...6'),\n",
    "         list('..32...8.'),\n",
    "         list('.6.5....9'),\n",
    "         list('..4....3.'),\n",
    "         list('.....97..'),]"
   ]
  },
  {
   "cell_type": "code",
   "execution_count": 4,
   "metadata": {},
   "outputs": [],
   "source": [
    "board = [list('......65.'), # 1 time ok\n",
    "         list('...1.7..2'),\n",
    "         list('.5.9681.4'),\n",
    "         list('..6.9.3.5'),\n",
    "         list('.7.6.3.8.'),\n",
    "         list('9.3.1.2..'),\n",
    "         list('3.7529.1.'),\n",
    "         list('5..4.1...'),\n",
    "         list('.41......'),]"
   ]
  },
  {
   "cell_type": "code",
   "execution_count": null,
   "metadata": {},
   "outputs": [],
   "source": [
    "board = [list('6.412.39.'), # 1 time ok\n",
    "         list('.1..5.6.8'),\n",
    "         list('...6.8...'),\n",
    "         list('1..7..94.'),\n",
    "         list('..68.37..'),\n",
    "         list('.57..9..6'),\n",
    "         list('...4.1...'),\n",
    "         list('5.1.3..8.'),\n",
    "         list('.49.721.3'),]"
   ]
  },
  {
   "cell_type": "code",
   "execution_count": 8,
   "metadata": {},
   "outputs": [],
   "source": [
    "board = [list('79.1..8.5'), # ok\n",
    "         list('2..4...7.'),\n",
    "         list('..4.....2'),\n",
    "         list('.2.5...1.'),\n",
    "         list('31.8.6.94'),\n",
    "         list('.8...1.5.'),\n",
    "         list('5.....9..'),\n",
    "         list('.4...9..6'),\n",
    "         list('9.8..5.37'),]"
   ]
  },
  {
   "cell_type": "code",
   "execution_count": null,
   "metadata": {},
   "outputs": [],
   "source": [
    "board = [list('.4.21....'), # ok\n",
    "         list('8.7....9.'),\n",
    "         list('2..8..4.1'),\n",
    "         list('3....29.5'),\n",
    "         list('..57.86..'),\n",
    "         list('7.65....4'),\n",
    "         list('5.1..4..9'),\n",
    "         list('.6....7.8'),\n",
    "         list('....27.5.'),]"
   ]
  },
  {
   "cell_type": "code",
   "execution_count": null,
   "metadata": {},
   "outputs": [],
   "source": [
    "board = [list('....4..69'), # 4 ok\n",
    "         list('96..7..5.'),\n",
    "         list('.15..92..'),\n",
    "         list('....21..6'),\n",
    "         list('4.7...8.1'),\n",
    "         list('1..73....'),\n",
    "         list('..93..51.'),\n",
    "         list('.7..9..84'),\n",
    "         list('53..1....'),]"
   ]
  },
  {
   "cell_type": "code",
   "execution_count": null,
   "metadata": {},
   "outputs": [],
   "source": [
    "board = [list('.21.6.59.'), # ok\n",
    "         list('........2'),\n",
    "         list('4..2.5.63'),\n",
    "         list('3.76.....'),\n",
    "         list('.95...32.'),\n",
    "         list('.....37.1'),\n",
    "         list('93.4.2..7'),\n",
    "         list('5........'),\n",
    "         list('.12.9.63.'),]"
   ]
  },
  {
   "cell_type": "code",
   "execution_count": null,
   "metadata": {},
   "outputs": [],
   "source": [
    "board = [list(''),\n",
    "         list(''),\n",
    "         list(''),\n",
    "         list(''),\n",
    "         list(''),\n",
    "         list(''),\n",
    "         list(''),\n",
    "         list(''),\n",
    "         list(''),]"
   ]
  },
  {
   "cell_type": "code",
   "execution_count": 8,
   "metadata": {},
   "outputs": [],
   "source": [
    "board = [[\".\",\".\",\"9\",\"7\",\"4\",\"8\",\".\",\".\",\".\"],[\"7\",\".\",\".\",\".\",\".\",\".\",\".\",\".\",\".\"],[\".\",\"2\",\".\",\"1\",\".\",\"9\",\".\",\".\",\".\"],[\".\",\".\",\"7\",\".\",\".\",\".\",\"2\",\"4\",\".\"],[\".\",\"6\",\"4\",\".\",\"1\",\".\",\"5\",\"9\",\".\"],[\".\",\"9\",\"8\",\".\",\".\",\".\",\"3\",\".\",\".\"],[\".\",\".\",\".\",\"8\",\".\",\"3\",\".\",\"2\",\".\"],[\".\",\".\",\".\",\".\",\".\",\".\",\".\",\".\",\"6\"],[\".\",\".\",\".\",\"2\",\"7\",\"5\",\"9\",\".\",\".\"]]"
   ]
  },
  {
   "cell_type": "code",
   "execution_count": null,
   "metadata": {},
   "outputs": [],
   "source": []
  }
 ],
 "metadata": {
  "kernelspec": {
   "display_name": "Python 3",
   "language": "python",
   "name": "python3"
  },
  "language_info": {
   "codemirror_mode": {
    "name": "ipython",
    "version": 3
   },
   "file_extension": ".py",
   "mimetype": "text/x-python",
   "name": "python",
   "nbconvert_exporter": "python",
   "pygments_lexer": "ipython3",
   "version": "3.7.3"
  }
 },
 "nbformat": 4,
 "nbformat_minor": 2
}
