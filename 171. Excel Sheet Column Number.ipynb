{
 "cells": [
  {
   "cell_type": "markdown",
   "metadata": {},
   "source": [
    "### Excel Sheet Column Number"
   ]
  },
  {
   "cell_type": "raw",
   "metadata": {},
   "source": [
    "Given a column title as appear in an Excel sheet, return its corresponding column number.\n",
    "For example:\n",
    "    A -> 1\n",
    "    B -> 2\n",
    "    C -> 3\n",
    "    ...\n",
    "    Z -> 26\n",
    "    AA -> 27\n",
    "    AB -> 28 \n",
    "    ...\n",
    "Example 1:\n",
    "Input: \"A\"\n",
    "Output: 1\n",
    "\n",
    "Example 2:\n",
    "Input: \"AB\"\n",
    "Output: 28\n",
    "\n",
    "Example 3:\n",
    "Input: \"ZY\"\n",
    "Output: 701"
   ]
  },
  {
   "cell_type": "code",
   "execution_count": 1,
   "metadata": {},
   "outputs": [],
   "source": [
    "class Solution:\n",
    "    def titleToNumber(self, s): # 95.11%\n",
    "        \"\"\"\n",
    "        :type s: str\n",
    "        :rtype: int\n",
    "        \"\"\"\n",
    "        str_lst = 'ABCDEFGHIJKLMNOPQRSTUVWXYZ'\n",
    "        s_lst = list(s)[::-1] # 倒過來數\n",
    "        num = 0\n",
    "        ind = 0\n",
    "        for x in s_lst:\n",
    "            num += (str_lst.find(x) + 1) * 26**ind\n",
    "            ind += 1\n",
    "        return num"
   ]
  },
  {
   "cell_type": "code",
   "execution_count": 2,
   "metadata": {},
   "outputs": [
    {
     "data": {
      "text/plain": [
       "701"
      ]
     },
     "execution_count": 2,
     "metadata": {},
     "output_type": "execute_result"
    }
   ],
   "source": [
    "s = 'ZY'\n",
    "ans = Solution()\n",
    "ans.titleToNumber(s)"
   ]
  }
 ],
 "metadata": {
  "kernelspec": {
   "display_name": "Python 3",
   "language": "python",
   "name": "python3"
  },
  "language_info": {
   "codemirror_mode": {
    "name": "ipython",
    "version": 3
   },
   "file_extension": ".py",
   "mimetype": "text/x-python",
   "name": "python",
   "nbconvert_exporter": "python",
   "pygments_lexer": "ipython3",
   "version": "3.7.3"
  }
 },
 "nbformat": 4,
 "nbformat_minor": 2
}
