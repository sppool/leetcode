{
 "cells": [
  {
   "cell_type": "markdown",
   "metadata": {},
   "source": [
    "### Binary Tree Level Order Traversal II"
   ]
  },
  {
   "cell_type": "raw",
   "metadata": {},
   "source": [
    "Given a binary tree, return the bottom-up level order traversal of its nodes' values.\n",
    "(ie, from left to right, level by level from leaf to root).\n",
    "For example:\n",
    "Given binary tree [3,9,20,null,null,15,7],\n",
    "        3\n",
    "       / \\\n",
    "      9  20\n",
    "        /  \\\n",
    "       15   7\n",
    "return its bottom-up level order traversal as:\n",
    "[ [15,7],\n",
    "  [9,20],\n",
    "  [3] ]"
   ]
  },
  {
   "cell_type": "code",
   "execution_count": 1,
   "metadata": {},
   "outputs": [],
   "source": [
    "class TreeNode: # Binary Tree\n",
    "    def __init__ (self, x):\n",
    "        self.val = x\n",
    "        self.left = None\n",
    "        self.right = None\n",
    "        \n",
    "    def insert(self, left=None, right=None):\n",
    "        if left:\n",
    "            self.left = TreeNode(left)\n",
    "        if right:\n",
    "            self.right = TreeNode(right)\n",
    "\n",
    "class Solution: # 98.24% \n",
    "    def levelOrderBottom(self, root): # list fast dict a little\n",
    "        self.res = []\n",
    "        self.order(root, 0)\n",
    "        return self.res[::-1]\n",
    "    \n",
    "    def order(self, root, t):\n",
    "        if root: # not None\n",
    "            try: self.res[t].append(root.val)\n",
    "            except: self.res.append([root.val])\n",
    "            self.order(root.left, t+1)\n",
    "            self.order(root.right, t+1)\n",
    "            \n",
    "    def levelOrderBottom2(self, root):\n",
    "        self.dic = {}\n",
    "        self.order2(root, 0)\n",
    "        return list(self.dic.values())[::-1]\n",
    "    \n",
    "    def order2(self, root, t):\n",
    "        if root: # not None\n",
    "            try: self.dic[t].append(root.val)\n",
    "            except: self.dic[t] = [root.val]\n",
    "            self.order2(root.left, t+1)\n",
    "            self.order2(root.right, t+1)"
   ]
  },
  {
   "cell_type": "code",
   "execution_count": 2,
   "metadata": {},
   "outputs": [
    {
     "data": {
      "text/plain": [
       "[[15, 7], [9, 20], [3]]"
      ]
     },
     "execution_count": 2,
     "metadata": {},
     "output_type": "execute_result"
    }
   ],
   "source": [
    "root = TreeNode(3)\n",
    "root.insert(9, 20)\n",
    "root.right.insert(15, 7)\n",
    "ans = Solution()\n",
    "ans.levelOrderBottom(root)"
   ]
  },
  {
   "cell_type": "code",
   "execution_count": 3,
   "metadata": {},
   "outputs": [
    {
     "name": "stdout",
     "output_type": "stream",
     "text": [
      "2.7 µs ± 61.9 ns per loop (mean ± std. dev. of 7 runs, 100000 loops each)\n"
     ]
    }
   ],
   "source": [
    "%%timeit\n",
    "ans.levelOrderBottom(root)"
   ]
  },
  {
   "cell_type": "code",
   "execution_count": 4,
   "metadata": {},
   "outputs": [
    {
     "name": "stdout",
     "output_type": "stream",
     "text": [
      "2.89 µs ± 44.1 ns per loop (mean ± std. dev. of 7 runs, 100000 loops each)\n"
     ]
    }
   ],
   "source": [
    "%%timeit\n",
    "ans.levelOrderBottom2(root)"
   ]
  }
 ],
 "metadata": {
  "kernelspec": {
   "display_name": "Python 3",
   "language": "python",
   "name": "python3"
  },
  "language_info": {
   "codemirror_mode": {
    "name": "ipython",
    "version": 3
   },
   "file_extension": ".py",
   "mimetype": "text/x-python",
   "name": "python",
   "nbconvert_exporter": "python",
   "pygments_lexer": "ipython3",
   "version": "3.7.3"
  }
 },
 "nbformat": 4,
 "nbformat_minor": 2
}
