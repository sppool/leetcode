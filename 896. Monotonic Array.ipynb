{
 "cells": [
  {
   "cell_type": "markdown",
   "metadata": {},
   "source": [
    "### Monotonic Array"
   ]
  },
  {
   "cell_type": "raw",
   "metadata": {},
   "source": [
    "An array is monotonic if it is either monotone increasing or monotone decreasing.\n",
    "An array A is monotone increasing if for all i <= j, A[i] <= A[j].\n",
    "An array A is monotone decreasing if for all i <= j, A[i] >= A[j].\n",
    "Return true if and only if the given array A is monotonic.\n",
    "\n",
    "Example 1:\n",
    "Input: [1,2,2,3]\n",
    "Output: true\n",
    "Example 2:\n",
    "Input: [6,5,4,4]\n",
    "Output: true\n",
    "Example 3:\n",
    "Input: [1,3,2]\n",
    "Output: false\n",
    "Example 4:\n",
    "Input: [1,2,4,5]\n",
    "Output: true\n",
    "Example 5:\n",
    "Input: [1,1,1]\n",
    "Output: true\n",
    " \n",
    "Note:\n",
    "1 <= A.length <= 50000\n",
    "-100000 <= A[i] <= 100000"
   ]
  },
  {
   "cell_type": "code",
   "execution_count": 1,
   "metadata": {},
   "outputs": [],
   "source": [
    "class Solution:\n",
    "    def isMonotonic(self, A):\n",
    "        \"\"\"\n",
    "        :type A: List[int]\n",
    "        :rtype: bool\n",
    "        \"\"\"\n",
    "        return A == sorted(A, reverse=False) or A == sorted(A, reverse=True)\n",
    "        "
   ]
  },
  {
   "cell_type": "code",
   "execution_count": 2,
   "metadata": {},
   "outputs": [
    {
     "data": {
      "text/plain": [
       "True"
      ]
     },
     "execution_count": 2,
     "metadata": {},
     "output_type": "execute_result"
    }
   ],
   "source": [
    "A = [6,5,4,4]\n",
    "ans = Solution()\n",
    "ans.isMonotonic(A)"
   ]
  }
 ],
 "metadata": {
  "kernelspec": {
   "display_name": "Python 3",
   "language": "python",
   "name": "python3"
  },
  "language_info": {
   "codemirror_mode": {
    "name": "ipython",
    "version": 3
   },
   "file_extension": ".py",
   "mimetype": "text/x-python",
   "name": "python",
   "nbconvert_exporter": "python",
   "pygments_lexer": "ipython3",
   "version": "3.7.3"
  }
 },
 "nbformat": 4,
 "nbformat_minor": 2
}
