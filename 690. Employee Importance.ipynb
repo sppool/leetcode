{
 "cells": [
  {
   "cell_type": "markdown",
   "metadata": {},
   "source": [
    "### Employee Importance"
   ]
  },
  {
   "cell_type": "raw",
   "metadata": {},
   "source": [
    "You are given a data structure of employee information, which includes the employee's unique id, \n",
    "his importance value and his direct subordinates' id.\n",
    "For example, employee 1 is the leader of employee 2, and employee 2 is the leader of employee 3. \n",
    "They have importance value 15, 10 and 5, respectively. Then employee 1 has a data structure like [1, 15, [2]], \n",
    "and employee 2 has [2, 10, [3]], and employee 3 has [3, 5, []]. \n",
    "Note that although employee 3 is also a subordinate of employee 1, the relationship is not direct.\n",
    "Now given the employee information of a company,\n",
    "and an employee id, you need to return the total importance value of this employee and all his subordinates.\n",
    "Example 1:\n",
    "Input: [[1, 5, [2, 3]], [2, 3, []], [3, 3, []]], 1\n",
    "Output: 11\n",
    "Explanation:\n",
    "Employee 1 has importance value 5, and he has two direct subordinates: employee 2 and employee 3. \n",
    "They both have importance value 3. So the total importance value of employee 1 is 5 + 3 + 3 = 11.\n",
    "\n",
    "Note:\n",
    "One employee has at most one direct leader and may have several subordinates.\n",
    "The maximum number of employees won't exceed 2000."
   ]
  },
  {
   "cell_type": "code",
   "execution_count": 1,
   "metadata": {},
   "outputs": [],
   "source": [
    "\"\"\"\n",
    "# Employee info\n",
    "class Employee:\n",
    "    def __init__(self, id, importance, subordinates):\n",
    "        # It's the unique id of each node.\n",
    "        # unique id of this employee\n",
    "        self.id = id\n",
    "        # the importance value of this employee\n",
    "        self.importance = importance\n",
    "        # the id of direct subordinates\n",
    "        self.subordinates = subordinates\n",
    "\"\"\"\n",
    "class Solution:\n",
    "    def getImportance(self, employees, id):\n",
    "        #上傳需要用下列兩行\n",
    "        #impval_dic = {e.id: e.importance for e in employees} # id 的重要值 字典 \n",
    "        #sub_dic = {e.id: e.subordinates for e in employees} # id 的下屬 id 字典\n",
    "        impval_dic = {} # id 的重要值 字典\n",
    "        sub_dic = {} # id 的下屬 id 字典\n",
    "        ind = 0\n",
    "        n = len(employees)\n",
    "        while n != ind:\n",
    "            data = employees[ind] # 取資料!!\n",
    "            impval_dic[data[0]] = data[1]\n",
    "            sub_dic[data[0]] = data[2]\n",
    "            ind += 1\n",
    "        self.sublst = []\n",
    "        self.update_sublst(sub_dic, id)\n",
    "        val = impval_dic[id]\n",
    "        for id_n in self.sublst:\n",
    "            val += impval_dic[id_n] \n",
    "        return val\n",
    "            \n",
    "    def update_sublst(self, id_sub_dict, id_num): \n",
    "        if id_sub_dict[id_num] == []:\n",
    "            return\n",
    "        self.sublst += id_sub_dict[id_num]\n",
    "        for id_n in id_sub_dict[id_num]:\n",
    "            self.update_sublst(id_sub_dict, id_n)\n"
   ]
  },
  {
   "cell_type": "code",
   "execution_count": 2,
   "metadata": {},
   "outputs": [
    {
     "data": {
      "text/plain": [
       "11"
      ]
     },
     "execution_count": 2,
     "metadata": {},
     "output_type": "execute_result"
    }
   ],
   "source": [
    "employees = [[1, 5, [2, 3]], [2, 3, []], [3, 3, []]]\n",
    "id_ = 1 \n",
    "ans = Solution()\n",
    "ans.getImportance(employees, id_)"
   ]
  }
 ],
 "metadata": {
  "kernelspec": {
   "display_name": "Python 3",
   "language": "python",
   "name": "python3"
  },
  "language_info": {
   "codemirror_mode": {
    "name": "ipython",
    "version": 3
   },
   "file_extension": ".py",
   "mimetype": "text/x-python",
   "name": "python",
   "nbconvert_exporter": "python",
   "pygments_lexer": "ipython3",
   "version": "3.7.3"
  }
 },
 "nbformat": 4,
 "nbformat_minor": 2
}
