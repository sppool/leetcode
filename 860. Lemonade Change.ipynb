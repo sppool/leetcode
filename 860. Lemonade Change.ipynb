{
 "cells": [
  {
   "cell_type": "markdown",
   "metadata": {},
   "source": [
    "### Lemonade Change"
   ]
  },
  {
   "cell_type": "raw",
   "metadata": {},
   "source": [
    "At a lemonade stand, each lemonade costs $5. \n",
    "Customers are standing in a queue to buy from you, and order one at a time (in the order specified by bills).\n",
    "Each customer will only buy one lemonade and pay with either a $5, $10, or $20 bill.\n",
    "You must provide the correct change to each customer, so that the net transaction is that the customer pays $5.\n",
    "Note that you don't have any change in hand at first.\n",
    "Return true if and only if you can provide every customer with correct change.\n",
    "\n",
    "Example 1:\n",
    "Input: [5,5,5,10,20]\n",
    "Output: true\n",
    "Explanation: \n",
    "From the first 3 customers, we collect three $5 bills in order.\n",
    "From the fourth customer, we collect a $10 bill and give back a $5.\n",
    "From the fifth customer, we give a $10 bill and a $5 bill.\n",
    "Since all customers got correct change, we output true.\n",
    "Example 2:\n",
    "Input: [5,5,10]\n",
    "Output: true\n",
    "Example 3:\n",
    "Input: [10,10]\n",
    "Output: false\n",
    "Example 4:\n",
    "Input: [5,5,10,10,20]\n",
    "Output: false\n",
    "Explanation: \n",
    "From the first two customers in order, we collect two $5 bills.\n",
    "For the next two customers in order, we collect a $10 bill and give back a $5 bill.\n",
    "For the last customer, we can't give change of $15 back because we only have two $10 bills.\n",
    "Since not every customer received correct change, the answer is false.\n",
    "\n",
    "Note:\n",
    "1. 0 <= bills.length <= 10000\n",
    "2. bills[i] will be either 5, 10, or 20.\n"
   ]
  },
  {
   "cell_type": "code",
   "execution_count": 1,
   "metadata": {},
   "outputs": [],
   "source": [
    "class Solution:\n",
    "    def lemonadeChange(self, bills):\n",
    "        \"\"\"\n",
    "        :type bills: List[int]\n",
    "        :rtype: bool\n",
    "        \"\"\"\n",
    "        self.change_dic = {5:0, 10:0, 20:0}\n",
    "        for x in bills:\n",
    "            self.change(x)\n",
    "            if self.change_dic[5] < 0: # $5 < 0 \n",
    "                return False\n",
    "        return True\n",
    "        \n",
    "    def change(self, in_): # update Change_Dict\n",
    "        self.change_dic[in_] += 1\n",
    "        c = in_ - 5\n",
    "        if c == 0:\n",
    "            pass\n",
    "        if c == 5:\n",
    "            self.change_dic[5] -= 1\n",
    "        if c == 10:\n",
    "            if self.change_dic[10] == 0:\n",
    "                self.change_dic[5] -= 2\n",
    "            else:\n",
    "                elf.change_dic[10] -= 1\n",
    "        if c == 15:\n",
    "            if self.change_dic[10] == 0:\n",
    "                self.change_dic[5] -= 3\n",
    "            else:\n",
    "                self.change_dic[10] -= 1\n",
    "                self.change_dic[5] -= 1\n",
    "        "
   ]
  },
  {
   "cell_type": "code",
   "execution_count": 2,
   "metadata": {},
   "outputs": [
    {
     "data": {
      "text/plain": [
       "True"
      ]
     },
     "execution_count": 2,
     "metadata": {},
     "output_type": "execute_result"
    }
   ],
   "source": [
    "bills = [5,5,5,10,20]\n",
    "ans = Solution()\n",
    "ans.lemonadeChange(bills)"
   ]
  }
 ],
 "metadata": {
  "kernelspec": {
   "display_name": "Python 3",
   "language": "python",
   "name": "python3"
  },
  "language_info": {
   "codemirror_mode": {
    "name": "ipython",
    "version": 3
   },
   "file_extension": ".py",
   "mimetype": "text/x-python",
   "name": "python",
   "nbconvert_exporter": "python",
   "pygments_lexer": "ipython3",
   "version": "3.7.3"
  }
 },
 "nbformat": 4,
 "nbformat_minor": 2
}
