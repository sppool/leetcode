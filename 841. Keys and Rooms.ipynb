{
 "cells": [
  {
   "cell_type": "markdown",
   "metadata": {},
   "source": [
    "### Keys and Rooms"
   ]
  },
  {
   "cell_type": "raw",
   "metadata": {},
   "source": [
    "There are N rooms and you start in room 0.  Each room has a distinct number in 0, 1, 2, ..., N-1, \n",
    "and each room may have some keys to access the next room. \n",
    "Formally, each room i has a list of keys rooms[i],\n",
    "and each key rooms[i][j] is an integer in [0, 1, ..., N-1] where N = rooms.length.  \n",
    "A key rooms[i][j] = v opens the room with number v. Initially, all the rooms start locked (except for room 0). \n",
    "You can walk back and forth between rooms freely. Return true if and only if you can enter every room.\n",
    "Example 1:\n",
    "Input: [[1],[2],[3],[]]\n",
    "Output: true\n",
    "Explanation:  \n",
    "We start in room 0, and pick up key 1.\n",
    "We then go to room 1, and pick up key 2.\n",
    "We then go to room 2, and pick up key 3.\n",
    "We then go to room 3.  Since we were able to go to every room, we return true.\n",
    "Example 2:\n",
    "Input: [[1,3],[3,0,1],[2],[0]]\n",
    "Output: false\n",
    "Explanation: We can't enter the room with number 2.\n",
    "\n",
    "Note:\n",
    "1. 1 <= rooms.length <= 1000\n",
    "2. 0 <= rooms[i].length <= 1000\n",
    "3. The number of keys in all rooms combined is at most 3000."
   ]
  },
  {
   "cell_type": "code",
   "execution_count": 1,
   "metadata": {},
   "outputs": [],
   "source": [
    "class Solution:\n",
    "    def canVisitAllRooms(self, rooms): # 33.28%\n",
    "        \"\"\"\n",
    "        :type rooms: List[List[int]]\n",
    "        :rtype: bool\n",
    "        \"\"\"\n",
    "        def get_key(room_num):\n",
    "            self.key_set = self.key_set | set(rooms[room_num])\n",
    "        \n",
    "        self.key_set = set(rooms[0])\n",
    "        self.room_set = {0}\n",
    "        while True:\n",
    "            n = len(self.room_set)\n",
    "            for num in list(self.key_set - self.room_set):\n",
    "                self.room_set.add(num)\n",
    "                get_key(num)\n",
    "            if n == len(self.room_set):\n",
    "                break\n",
    "        return len(rooms) == n\n",
    "    "
   ]
  },
  {
   "cell_type": "code",
   "execution_count": 2,
   "metadata": {},
   "outputs": [
    {
     "data": {
      "text/plain": [
       "True"
      ]
     },
     "execution_count": 2,
     "metadata": {},
     "output_type": "execute_result"
    }
   ],
   "source": [
    "rooms = [[1],[2],[3],[]]\n",
    "ans = Solution()\n",
    "ans.canVisitAllRooms(rooms)"
   ]
  }
 ],
 "metadata": {
  "kernelspec": {
   "display_name": "Python 3",
   "language": "python",
   "name": "python3"
  },
  "language_info": {
   "codemirror_mode": {
    "name": "ipython",
    "version": 3
   },
   "file_extension": ".py",
   "mimetype": "text/x-python",
   "name": "python",
   "nbconvert_exporter": "python",
   "pygments_lexer": "ipython3",
   "version": "3.7.3"
  }
 },
 "nbformat": 4,
 "nbformat_minor": 2
}
