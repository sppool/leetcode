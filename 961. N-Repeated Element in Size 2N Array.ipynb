{
 "cells": [
  {
   "cell_type": "markdown",
   "metadata": {},
   "source": [
    "### N-Repeated Element in Size 2N Array"
   ]
  },
  {
   "cell_type": "raw",
   "metadata": {},
   "source": [
    "In a array A of size 2N, there are N+1 unique elements, and exactly one of these elements is repeated N times.\n",
    "Return the element repeated N times.\n",
    "\n",
    "Example 1:\n",
    "Input: [1,2,3,3]\n",
    "Output: 3\n",
    "\n",
    "Example 2:\n",
    "Input: [2,1,2,5,3,2]\n",
    "Output: 2\n",
    "\n",
    "Example 3:\n",
    "Input: [5,1,5,2,5,3,5,4]\n",
    "Output: 5\n",
    "\n",
    "Note:\n",
    "4 <= A.length <= 10000\n",
    "0 <= A[i] < 10000\n",
    "A.length is even"
   ]
  },
  {
   "cell_type": "code",
   "execution_count": 1,
   "metadata": {},
   "outputs": [],
   "source": [
    "class Solution: # 99.66%\n",
    "    def repeatedNTimes(self, A):\n",
    "        lst = []\n",
    "        for n in A:\n",
    "            if n not in lst:\n",
    "                lst.append(n)\n",
    "            else:\n",
    "                return n"
   ]
  },
  {
   "cell_type": "code",
   "execution_count": 2,
   "metadata": {},
   "outputs": [
    {
     "data": {
      "text/plain": [
       "5"
      ]
     },
     "execution_count": 2,
     "metadata": {},
     "output_type": "execute_result"
    }
   ],
   "source": [
    "A = [5,1,5,2,5,3,5,4]\n",
    "ans = Solution()\n",
    "ans.repeatedNTimes(A)"
   ]
  }
 ],
 "metadata": {
  "kernelspec": {
   "display_name": "Python 3",
   "language": "python",
   "name": "python3"
  },
  "language_info": {
   "codemirror_mode": {
    "name": "ipython",
    "version": 3
   },
   "file_extension": ".py",
   "mimetype": "text/x-python",
   "name": "python",
   "nbconvert_exporter": "python",
   "pygments_lexer": "ipython3",
   "version": "3.7.3"
  }
 },
 "nbformat": 4,
 "nbformat_minor": 2
}
