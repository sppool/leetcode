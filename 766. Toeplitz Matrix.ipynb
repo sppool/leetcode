{
 "cells": [
  {
   "cell_type": "markdown",
   "metadata": {},
   "source": [
    "### Toeplitz Matrix"
   ]
  },
  {
   "cell_type": "raw",
   "metadata": {},
   "source": [
    "A matrix is Toeplitz if every diagonal from top-left to bottom-right has the same element.\n",
    "Now given an M x N matrix, return True if and only if the matrix is Toeplitz.\n",
    "Example 1:\n",
    "Input:\n",
    "matrix = [[1,2,3,4],  ＼＼＼＼ 對角線上相等!!\n",
    "          [5,1,2,3],  ＼＼＼＼\n",
    "          [9,5,1,2]]  ＼＼＼＼ \n",
    "Output: True\n",
    "Explanation:\n",
    "In the above grid, the diagonals are:\n",
    "\"[9]\", \"[5, 5]\", \"[1, 1, 1]\", \"[2, 2, 2]\", \"[3, 3]\", \"[4]\".\n",
    "In each diagonal all elements are the same, so the answer is True.\n",
    "Example 2:\n",
    "Input:\n",
    "matrix = [[1,2],\n",
    "          [2,2]]\n",
    "Output: False\n",
    "Explanation:\n",
    "The diagonal \"[1, 2]\" has different elements.\n",
    "\n",
    "Note:\n",
    "1. matrix will be a 2D array of integers.\n",
    "2. matrix will have a number of rows and columns in range [1, 20].\n",
    "3. matrix[i][j] will be integers in range [0, 99].\n",
    "\n",
    "Follow up:\n",
    "What if the matrix is stored on disk, and the memory is limited such that you can only load at most one row of the matrix into the memory at once?\n",
    "What if the matrix is so large that you can only load up a partial row into the memory at once?"
   ]
  },
  {
   "cell_type": "code",
   "execution_count": 1,
   "metadata": {},
   "outputs": [],
   "source": [
    "class Solution:\n",
    "    def isToeplitzMatrix(self, matrix):\n",
    "        \"\"\"\n",
    "        :type matrix: List[List[int]]\n",
    "        :rtype: bool\n",
    "        \"\"\"\n",
    "        dic = {}\n",
    "        for r, row in enumerate(matrix):\n",
    "            for c, val in enumerate(row):\n",
    "                if r-c not in dic:\n",
    "                    dic[r-c] = val\n",
    "                elif dic[r-c] == val:\n",
    "                    continue\n",
    "                else:\n",
    "                    return False\n",
    "        return True\n",
    "# enumerate(lst) (ind, lst[ind])..."
   ]
  },
  {
   "cell_type": "code",
   "execution_count": 2,
   "metadata": {},
   "outputs": [
    {
     "data": {
      "text/plain": [
       "True"
      ]
     },
     "execution_count": 2,
     "metadata": {},
     "output_type": "execute_result"
    }
   ],
   "source": [
    "matrix = [[1,2,3,4],\n",
    "          [5,1,2,3],\n",
    "          [9,5,1,2]]\n",
    "ans = Solution()\n",
    "ans.isToeplitzMatrix(matrix)"
   ]
  }
 ],
 "metadata": {
  "kernelspec": {
   "display_name": "Python 3",
   "language": "python",
   "name": "python3"
  },
  "language_info": {
   "codemirror_mode": {
    "name": "ipython",
    "version": 3
   },
   "file_extension": ".py",
   "mimetype": "text/x-python",
   "name": "python",
   "nbconvert_exporter": "python",
   "pygments_lexer": "ipython3",
   "version": "3.7.3"
  }
 },
 "nbformat": 4,
 "nbformat_minor": 2
}
