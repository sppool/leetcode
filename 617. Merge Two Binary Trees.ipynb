{
 "cells": [
  {
   "cell_type": "markdown",
   "metadata": {},
   "source": [
    "### Merge Two Binary Trees"
   ]
  },
  {
   "cell_type": "raw",
   "metadata": {},
   "source": [
    "Given two binary trees and imagine that when you put one of them to cover the other, some nodes of the two trees are overlapped while the others are not.\n",
    "You need to merge them into a new binary tree. The merge rule is that if two nodes overlap, then sum node values up as the new value of the merged node. Otherwise, the NOT null node will be used as the node of new tree.\n",
    "Example 1:\n",
    "Input:  Tree 1                    Tree 2                  \n",
    "          1                         2                             \n",
    "         / \\                       / \\                            \n",
    "        3   2                     1   3                        \n",
    "       /                           \\   \\                      \n",
    "      5                             4   7                  \n",
    "Output: Merged tree:\n",
    "             3\n",
    "            / \\\n",
    "           4   5\n",
    "          / \\   \\ \n",
    "         5   4   7\n",
    "     \n",
    "Note: The merging process must start from the root nodes of both trees."
   ]
  },
  {
   "cell_type": "code",
   "execution_count": 7,
   "metadata": {},
   "outputs": [],
   "source": [
    "class TreeNode: # Binary Tree\n",
    "    def __init__ (self, x):\n",
    "        self.val = x\n",
    "        self.left = None\n",
    "        self.right = None\n",
    "        self.lst = []      \n",
    "    def insert(self, left=None, right=None):\n",
    "        if left:\n",
    "            self.left = TreeNode(left)\n",
    "        if right:\n",
    "            self.right = TreeNode(right)\n",
    "    def order(self, root, restart=1):\n",
    "        if restart:\n",
    "            self.lst = []\n",
    "        if root:\n",
    "            self.lst.append(root.val)\n",
    "            self.order(root.left, 0)\n",
    "            self.order(root.right, 0)\n",
    "        else:\n",
    "            self.lst.append(None)\n",
    "            \n",
    "class Solution: # 94.41%\n",
    "    def mergeTrees(self, t1, t2):\n",
    "        if (t1 == None):\n",
    "            return t2\n",
    "        if(t2 == None):\n",
    "            return t1\n",
    "        t1.val += t2.val\n",
    "        t1.left = self.mergeTrees(t1.left, t2.left)\n",
    "        t1.right = self.mergeTrees(t1.right, t2.right)\n",
    "        return t1\n",
    "    \n",
    "    def mergeTrees2(self, t1, t2): # 笨笨法\n",
    "        if not t1: return t2\n",
    "        if not t2: return t1\n",
    "        mt = TreeNode(t1.val + t2.val)\n",
    "        self.order(t1, t2, mt)\n",
    "        return mt\n",
    "    \n",
    "    def order(self, t1, t2, mt):\n",
    "        if not t1.left and not t2.left: pass\n",
    "        else:\n",
    "            if not t1.left: t1.left = TreeNode(0)\n",
    "            if not t2.left: t2.left = TreeNode(0)\n",
    "            mt.left = TreeNode(t1.left.val + t2.left.val)\n",
    "            self.order(t1.left, t2.left, mt.left)\n",
    "        if not t1.right and not t2.right: pass\n",
    "        else:\n",
    "            if not t1.right: t1.right = TreeNode(0)\n",
    "            if not t2.right: t2.right = TreeNode(0)\n",
    "            mt.right = TreeNode(t1.right.val + t2.right.val)\n",
    "            self.order(t1.right, t2.right, mt.right)"
   ]
  },
  {
   "cell_type": "code",
   "execution_count": 8,
   "metadata": {},
   "outputs": [],
   "source": [
    "t1 = TreeNode(1)\n",
    "t1.insert(3, 2)\n",
    "t1.left.insert(5)\n",
    "t2 = TreeNode(2)\n",
    "t2.insert(1, 3)\n",
    "t2.left.insert(right=4)\n",
    "t2.right.insert(right=7)"
   ]
  },
  {
   "cell_type": "code",
   "execution_count": 11,
   "metadata": {},
   "outputs": [],
   "source": [
    "ans = Solution()\n",
    "merge_tree = ans.mergeTrees(t1, t2)"
   ]
  },
  {
   "cell_type": "code",
   "execution_count": 13,
   "metadata": {},
   "outputs": [
    {
     "name": "stdout",
     "output_type": "stream",
     "text": [
      "25.9 µs ± 10.3 µs per loop (mean ± std. dev. of 7 runs, 100000 loops each)\n"
     ]
    }
   ],
   "source": [
    "%%timeit\n",
    "ans.mergeTrees(t1, t2)"
   ]
  },
  {
   "cell_type": "code",
   "execution_count": 14,
   "metadata": {},
   "outputs": [
    {
     "name": "stdout",
     "output_type": "stream",
     "text": [
      "45.8 µs ± 1.23 µs per loop (mean ± std. dev. of 7 runs, 10000 loops each)\n"
     ]
    }
   ],
   "source": [
    "%%timeit\n",
    "ans.mergeTrees2(t1, t2)"
   ]
  }
 ],
 "metadata": {
  "kernelspec": {
   "display_name": "Python 3",
   "language": "python",
   "name": "python3"
  },
  "language_info": {
   "codemirror_mode": {
    "name": "ipython",
    "version": 3
   },
   "file_extension": ".py",
   "mimetype": "text/x-python",
   "name": "python",
   "nbconvert_exporter": "python",
   "pygments_lexer": "ipython3",
   "version": "3.7.3"
  }
 },
 "nbformat": 4,
 "nbformat_minor": 2
}
