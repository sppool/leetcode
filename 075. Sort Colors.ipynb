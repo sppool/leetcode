{
 "cells": [
  {
   "cell_type": "markdown",
   "metadata": {},
   "source": [
    "### Sort Colors"
   ]
  },
  {
   "cell_type": "raw",
   "metadata": {},
   "source": [
    "Given an array with n objects colored red, white or blue, sort them in-place so that objects of the same color are adjacent, with the colors in the order red, white and blue.\n",
    "Here, we will use the integers 0, 1, and 2 to represent the color red, white, and blue respectively.\n",
    "Note: You are not suppose to use the library's sort function for this problem.\n",
    "\n",
    "Example:\n",
    "Input: [2,0,2,1,1,0]\n",
    "Output: [0,0,1,1,2,2]\n",
    "\n",
    "Follow up:\n",
    "1. A rather straight forward solution is a two-pass algorithm using counting sort.\n",
    "First, iterate the array counting number of 0's, 1's, and 2's, then overwrite array with total number of 0's, then 1's and followed by 2's.\n",
    "2. Could you come up with a one-pass algorithm using only constant space?"
   ]
  },
  {
   "cell_type": "code",
   "execution_count": 1,
   "metadata": {},
   "outputs": [],
   "source": [
    "class Solution: # 三指針 98.50% \n",
    "    def sortColors(self, nums):\n",
    "        l = len(nums)\n",
    "        i, i0, i1, i2 = 0, 0, 0, 0\n",
    "        while i < l:\n",
    "            if nums[i] == 0:\n",
    "                del nums[i]\n",
    "                nums.insert(i0, 0)\n",
    "                i0 += 1\n",
    "                i1 += 1\n",
    "                i2 += 1\n",
    "            elif nums[i] == 1:\n",
    "                del nums[i]\n",
    "                nums.insert(i1, 1)\n",
    "                i1 += 1\n",
    "                i2 += 1\n",
    "            elif nums[i] == 2:\n",
    "                del nums[i]\n",
    "                nums.insert(i2, 2)\n",
    "                i2 += 1\n",
    "                \n",
    "            i += 1"
   ]
  },
  {
   "cell_type": "code",
   "execution_count": 2,
   "metadata": {},
   "outputs": [
    {
     "data": {
      "text/plain": [
       "[0, 0, 1, 1, 2, 2]"
      ]
     },
     "execution_count": 2,
     "metadata": {},
     "output_type": "execute_result"
    }
   ],
   "source": [
    "nums = [2, 0, 2, 1, 1, 0]\n",
    "ans = Solution()\n",
    "ans.sortColors(nums)\n",
    "nums"
   ]
  }
 ],
 "metadata": {
  "kernelspec": {
   "display_name": "Python 3",
   "language": "python",
   "name": "python3"
  },
  "language_info": {
   "codemirror_mode": {
    "name": "ipython",
    "version": 3
   },
   "file_extension": ".py",
   "mimetype": "text/x-python",
   "name": "python",
   "nbconvert_exporter": "python",
   "pygments_lexer": "ipython3",
   "version": "3.7.3"
  }
 },
 "nbformat": 4,
 "nbformat_minor": 2
}
