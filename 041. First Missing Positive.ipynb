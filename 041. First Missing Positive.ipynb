{
 "cells": [
  {
   "cell_type": "markdown",
   "metadata": {},
   "source": [
    "### First Missing Positive"
   ]
  },
  {
   "cell_type": "raw",
   "metadata": {},
   "source": [
    "Given an unsorted integer array, find the smallest missing positive integer.\n",
    "Example 1:\n",
    "Input: [1,2,0]\n",
    "Output: 3\n",
    "    \n",
    "Example 2:\n",
    "Input: [3,4,-1,1]\n",
    "Output: 2\n",
    "    \n",
    "Example 3:\n",
    "Input: [7,8,9,11,12]\n",
    "Output: 1\n",
    "Note:\n",
    "\n",
    "Your algorithm should run in O(n) time and uses constant extra space."
   ]
  },
  {
   "cell_type": "code",
   "execution_count": 1,
   "metadata": {},
   "outputs": [],
   "source": [
    "class Solution:\n",
    "    def firstMissingPositive(self, nums): # 100%\n",
    "        \"\"\"\n",
    "        :type nums: List[int]\n",
    "        :rtype: int\n",
    "        \"\"\" \n",
    "        set_num = set(nums) # 用集合比對 可以快速解決\n",
    "        set_pos = set(range(1, len(nums)+2))\n",
    "        lst = list(set_pos - set_num)\n",
    "        lst.sort() # 排序\n",
    "        \n",
    "        return lst[0]\n",
    "    \n",
    "    def firstMissingPositive2(self, nums): # 100%\n",
    "        if nums == []:\n",
    "            return 1\n",
    "        nums = list(set(nums))\n",
    "        nums.sort()\n",
    "        l = len(nums)\n",
    "        for i in range(l):\n",
    "            if nums[i] > 0:\n",
    "                break\n",
    "            else: continue\n",
    "        if nums[i] < 0:\n",
    "            return 1\n",
    "        for j in [n+1 for n in range(l-i)]:\n",
    "            if j < nums[i+j-1]:\n",
    "                return j\n",
    "        return nums[-1] + 1"
   ]
  },
  {
   "cell_type": "code",
   "execution_count": 2,
   "metadata": {},
   "outputs": [
    {
     "data": {
      "text/plain": [
       "3"
      ]
     },
     "execution_count": 2,
     "metadata": {},
     "output_type": "execute_result"
    }
   ],
   "source": [
    "nums = [1, 2, 0]\n",
    "ans = Solution()\n",
    "ans.firstMissingPositive(nums)"
   ]
  },
  {
   "cell_type": "code",
   "execution_count": 3,
   "metadata": {},
   "outputs": [
    {
     "data": {
      "text/plain": [
       "2"
      ]
     },
     "execution_count": 3,
     "metadata": {},
     "output_type": "execute_result"
    }
   ],
   "source": [
    "nums = [3, 4, -1, 1]\n",
    "ans.firstMissingPositive(nums)"
   ]
  },
  {
   "cell_type": "code",
   "execution_count": 4,
   "metadata": {},
   "outputs": [
    {
     "data": {
      "text/plain": [
       "1"
      ]
     },
     "execution_count": 4,
     "metadata": {},
     "output_type": "execute_result"
    }
   ],
   "source": [
    "nums = [7, 8, 9, 11, 12]\n",
    "ans.firstMissingPositive(nums)"
   ]
  },
  {
   "cell_type": "code",
   "execution_count": 5,
   "metadata": {},
   "outputs": [
    {
     "name": "stdout",
     "output_type": "stream",
     "text": [
      "1.22 µs ± 64.1 ns per loop (mean ± std. dev. of 7 runs, 1000000 loops each)\n"
     ]
    }
   ],
   "source": [
    "%%timeit\n",
    "ans.firstMissingPositive(nums)"
   ]
  },
  {
   "cell_type": "code",
   "execution_count": 6,
   "metadata": {},
   "outputs": [
    {
     "name": "stdout",
     "output_type": "stream",
     "text": [
      "1.48 µs ± 96.9 ns per loop (mean ± std. dev. of 7 runs, 1000000 loops each)\n"
     ]
    }
   ],
   "source": [
    "%%timeit\n",
    "ans.firstMissingPositive2(nums)"
   ]
  }
 ],
 "metadata": {
  "kernelspec": {
   "display_name": "Python 3",
   "language": "python",
   "name": "python3"
  },
  "language_info": {
   "codemirror_mode": {
    "name": "ipython",
    "version": 3
   },
   "file_extension": ".py",
   "mimetype": "text/x-python",
   "name": "python",
   "nbconvert_exporter": "python",
   "pygments_lexer": "ipython3",
   "version": "3.7.3"
  }
 },
 "nbformat": 4,
 "nbformat_minor": 2
}
