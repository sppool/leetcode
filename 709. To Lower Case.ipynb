{
 "cells": [
  {
   "cell_type": "markdown",
   "metadata": {},
   "source": [
    "### To Lower Case"
   ]
  },
  {
   "cell_type": "raw",
   "metadata": {},
   "source": [
    "Implement function ToLowerCase() that has a string parameter str, and returns the same string in lowercase.\n",
    "Example 1:\n",
    "Input: \"Hello\"\n",
    "Output: \"hello\"\n",
    "    \n",
    "Example 2:\n",
    "Input: \"here\"\n",
    "Output: \"here\"\n",
    "    \n",
    "Example 3:\n",
    "Input: \"LOVELY\"\n",
    "Output: \"lovely\""
   ]
  },
  {
   "cell_type": "code",
   "execution_count": 1,
   "metadata": {},
   "outputs": [],
   "source": [
    "class Solution(object):\n",
    "    def toLowerCase(self, str_):\n",
    "        \"\"\"\n",
    "        :type str: str\n",
    "        :rtype: str\n",
    "        \"\"\"\n",
    "        n = ord('a') - ord('A')\n",
    "        str_new = ''\n",
    "        for x in str_:\n",
    "            if 'A' <= x <= 'Z':\n",
    "                str_new += chr(ord(x) + n)\n",
    "            else:\n",
    "                str_new += x\n",
    "        return str_new\n",
    "\n",
    "    def toLowerCase1(self, str_):\n",
    "        return str_.lower()"
   ]
  },
  {
   "cell_type": "code",
   "execution_count": 2,
   "metadata": {},
   "outputs": [
    {
     "data": {
      "text/plain": [
       "'hello'"
      ]
     },
     "execution_count": 2,
     "metadata": {},
     "output_type": "execute_result"
    }
   ],
   "source": [
    "str_ = \"Hello\"\n",
    "ans = Solution()\n",
    "ans.toLowerCase(str_)"
   ]
  }
 ],
 "metadata": {
  "kernelspec": {
   "display_name": "Python 3",
   "language": "python",
   "name": "python3"
  },
  "language_info": {
   "codemirror_mode": {
    "name": "ipython",
    "version": 3
   },
   "file_extension": ".py",
   "mimetype": "text/x-python",
   "name": "python",
   "nbconvert_exporter": "python",
   "pygments_lexer": "ipython3",
   "version": "3.7.3"
  }
 },
 "nbformat": 4,
 "nbformat_minor": 2
}
