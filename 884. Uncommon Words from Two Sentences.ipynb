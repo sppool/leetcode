{
 "cells": [
  {
   "cell_type": "markdown",
   "metadata": {},
   "source": [
    "### Uncommon Words from Two Sentences"
   ]
  },
  {
   "cell_type": "raw",
   "metadata": {},
   "source": [
    "We are given two sentences A and B.\n",
    "(A sentence is a string of space separated words.  Each word consists only of lowercase letters.)\n",
    "A word is uncommon if it appears exactly once in one of the sentences, and does not appear in the other sentence.\n",
    "Return a list of all uncommon words. \n",
    "You may return the list in any order.\n",
    "\n",
    "Example 1:\n",
    "Input: A = \"this apple is sweet\", B = \"this apple is sour\"\n",
    "Output: [\"sweet\",\"sour\"]\n",
    "Example 2:\n",
    "Input: A = \"apple apple\", B = \"banana\"\n",
    "Output: [\"banana\"]\n",
    "\n",
    "Note:\n",
    "1. 0 <= A.length <= 200\n",
    "2. 0 <= B.length <= 200\n",
    "3. A and B both contain only spaces and lowercase letters."
   ]
  },
  {
   "cell_type": "code",
   "execution_count": 1,
   "metadata": {},
   "outputs": [],
   "source": [
    "class Solution:\n",
    "    def uncommonFromSentences(self, A, B):\n",
    "        \"\"\"\n",
    "        :type A: str\n",
    "        :type B: str\n",
    "        :rtype: List[str]\n",
    "        \"\"\"\n",
    "        output = []\n",
    "        all_lst = A.split(' ') + B.split(' ')\n",
    "        for word in set(all_lst):\n",
    "            if all_lst.count(word) == 1:\n",
    "                output.append(word)\n",
    "        return output\n",
    "        "
   ]
  },
  {
   "cell_type": "code",
   "execution_count": 2,
   "metadata": {},
   "outputs": [
    {
     "data": {
      "text/plain": [
       "['sweet', 'sour']"
      ]
     },
     "execution_count": 2,
     "metadata": {},
     "output_type": "execute_result"
    }
   ],
   "source": [
    "A = \"this apple is sweet\"\n",
    "B = \"this apple is sour\"\n",
    "ans = Solution()\n",
    "ans.uncommonFromSentences(A, B)"
   ]
  }
 ],
 "metadata": {
  "kernelspec": {
   "display_name": "Python 3",
   "language": "python",
   "name": "python3"
  },
  "language_info": {
   "codemirror_mode": {
    "name": "ipython",
    "version": 3
   },
   "file_extension": ".py",
   "mimetype": "text/x-python",
   "name": "python",
   "nbconvert_exporter": "python",
   "pygments_lexer": "ipython3",
   "version": "3.7.3"
  }
 },
 "nbformat": 4,
 "nbformat_minor": 2
}
