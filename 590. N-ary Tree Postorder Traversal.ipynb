{
 "cells": [
  {
   "cell_type": "markdown",
   "metadata": {},
   "source": [
    "### N-ary Tree Postorder Traversal"
   ]
  },
  {
   "cell_type": "raw",
   "metadata": {},
   "source": [
    "Given an n-ary tree, return the postorder traversal of its nodes' values.\n",
    "For example, given a 3-ary tree:\n",
    "Return its postorder traversal as: [5,6,3,2,4,1].\n",
    "Note: Recursive solution is trivial, could you do it iteratively?"
   ]
  },
  {
   "cell_type": "markdown",
   "metadata": {},
   "source": [
    "![Image of Yaktocat](https://assets.leetcode.com/uploads/2018/10/12/narytreeexample.png)"
   ]
  },
  {
   "cell_type": "code",
   "execution_count": 1,
   "metadata": {},
   "outputs": [],
   "source": [
    "class Node:\n",
    "    def __init__(self, val, children=None):\n",
    "        self.val = val\n",
    "        self.children = children # type(children) list(node1, node2...)  \n",
    "\n",
    "class Solution: # 100.00%\n",
    "    def postorder(self, root):\n",
    "        if not root: return [] # root = None 初始\n",
    "        self.res = []\n",
    "        self.order(root)\n",
    "        return self.res\n",
    "    def order(self, root):\n",
    "        if not root.children: pass\n",
    "        else:\n",
    "            for node in root.children:\n",
    "                self.order(node)\n",
    "        self.res.append(root.val)"
   ]
  },
  {
   "cell_type": "code",
   "execution_count": 2,
   "metadata": {},
   "outputs": [
    {
     "data": {
      "text/plain": [
       "[5, 6, 3, 2, 4, 1]"
      ]
     },
     "execution_count": 2,
     "metadata": {},
     "output_type": "execute_result"
    }
   ],
   "source": [
    "root = Node(1, [Node(3, [Node(5), Node(6)]), Node(2), Node(4)])\n",
    "ans = Solution()\n",
    "ans.postorder(root)"
   ]
  }
 ],
 "metadata": {
  "kernelspec": {
   "display_name": "Python 3",
   "language": "python",
   "name": "python3"
  },
  "language_info": {
   "codemirror_mode": {
    "name": "ipython",
    "version": 3
   },
   "file_extension": ".py",
   "mimetype": "text/x-python",
   "name": "python",
   "nbconvert_exporter": "python",
   "pygments_lexer": "ipython3",
   "version": "3.7.3"
  }
 },
 "nbformat": 4,
 "nbformat_minor": 2
}
