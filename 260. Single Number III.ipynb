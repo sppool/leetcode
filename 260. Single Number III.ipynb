{
 "cells": [
  {
   "cell_type": "markdown",
   "metadata": {},
   "source": [
    "### Single Number III"
   ]
  },
  {
   "cell_type": "raw",
   "metadata": {},
   "source": [
    "Given an array of numbers nums, in which exactly two elements appear only once and all the other elements appear exactly twice. \n",
    "Find the two elements that appear only once.\n",
    "Example:\n",
    "Input:  [1,2,1,3,2,5]\n",
    "Output: [3,5]\n",
    "\n",
    "Note:\n",
    "1. The order of the result is not important. So in the above example, [5, 3] is also correct.\n",
    "2. Your algorithm should run in linear runtime complexity. Could you implement it using only constant space complexity?"
   ]
  },
  {
   "cell_type": "code",
   "execution_count": 1,
   "metadata": {},
   "outputs": [],
   "source": [
    "class Solution:\n",
    "    def singleNumber(self, nums): # 99.80%\n",
    "        \"\"\"\n",
    "        :type nums: List[int]\n",
    "        :rtype: List[int]\n",
    "        \"\"\"\n",
    "        dic = {} # key:num, val:出現次數  字典法\n",
    "        for num in nums:\n",
    "            if num in dic:\n",
    "                dic[num] += 1\n",
    "            else:\n",
    "                dic[num] = 1\n",
    "        lst = []\n",
    "        for num, n in dic.items(): # n: 出現次數\n",
    "            if n == 1:\n",
    "                lst.append(num)\n",
    "        return lst  "
   ]
  },
  {
   "cell_type": "code",
   "execution_count": 2,
   "metadata": {},
   "outputs": [
    {
     "data": {
      "text/plain": [
       "[3, 5]"
      ]
     },
     "execution_count": 2,
     "metadata": {},
     "output_type": "execute_result"
    }
   ],
   "source": [
    "nums = [1,2,1,3,2,5]\n",
    "ans = Solution()\n",
    "ans.singleNumber(nums)"
   ]
  }
 ],
 "metadata": {
  "kernelspec": {
   "display_name": "Python 3",
   "language": "python",
   "name": "python3"
  },
  "language_info": {
   "codemirror_mode": {
    "name": "ipython",
    "version": 3
   },
   "file_extension": ".py",
   "mimetype": "text/x-python",
   "name": "python",
   "nbconvert_exporter": "python",
   "pygments_lexer": "ipython3",
   "version": "3.7.3"
  }
 },
 "nbformat": 4,
 "nbformat_minor": 2
}
