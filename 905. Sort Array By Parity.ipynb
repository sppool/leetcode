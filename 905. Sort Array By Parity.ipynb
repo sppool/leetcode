{
 "cells": [
  {
   "cell_type": "markdown",
   "metadata": {},
   "source": [
    "### Sort Array By Parity"
   ]
  },
  {
   "cell_type": "raw",
   "metadata": {},
   "source": [
    "Given an array A of non-negative integers, return an array consisting of all the even elements of A,\n",
    "followed by all the odd elements of A.\n",
    "You may return any answer array that satisfies this condition.\n",
    "\n",
    "Example 1:\n",
    "Input: [3,1,2,4]\n",
    "Output: [2,4,3,1]\n",
    "The outputs [4,2,3,1], [2,4,1,3], and [4,2,1,3] would also be accepted.\n",
    " \n",
    "Note:\n",
    "1 <= A.length <= 5000\n",
    "0 <= A[i] <= 5000"
   ]
  },
  {
   "cell_type": "code",
   "execution_count": 1,
   "metadata": {},
   "outputs": [],
   "source": [
    "class Solution:\n",
    "    def sortArrayByParity(self, A):\n",
    "        \"\"\"\n",
    "        :type A: List[int]\n",
    "        :rtype: List[int]\n",
    "        \"\"\"\n",
    "        i = 0\n",
    "        for time in range(len(A)):\n",
    "            if A[i] % 2 == 1:\n",
    "                num =  A[i]\n",
    "                A.pop(i)\n",
    "                A.append(num)\n",
    "            else:\n",
    "                i += 1\n",
    "                \n",
    "        return A"
   ]
  },
  {
   "cell_type": "code",
   "execution_count": 2,
   "metadata": {},
   "outputs": [
    {
     "data": {
      "text/plain": [
       "[290,\n",
       " 2984,\n",
       " 2212,\n",
       " 874,\n",
       " 2358,\n",
       " 2846,\n",
       " 1786,\n",
       " 1254,\n",
       " 62,\n",
       " 3708,\n",
       " 228,\n",
       " 1404,\n",
       " 1200,\n",
       " 4766,\n",
       " 1796,\n",
       " 3106,\n",
       " 3578,\n",
       " 1940,\n",
       " 2072,\n",
       " 3254,\n",
       " 1672,\n",
       " 2072,\n",
       " 3363,\n",
       " 4833,\n",
       " 3381,\n",
       " 4227,\n",
       " 1711,\n",
       " 1253,\n",
       " 2049,\n",
       " 2543,\n",
       " 1557,\n",
       " 4189,\n",
       " 2803,\n",
       " 1679,\n",
       " 1761,\n",
       " 1439,\n",
       " 4735,\n",
       " 3169,\n",
       " 7,\n",
       " 961,\n",
       " 1197,\n",
       " 3187,\n",
       " 1893,\n",
       " 4377,\n",
       " 2841,\n",
       " 2011,\n",
       " 3509,\n",
       " 2091,\n",
       " 3311,\n",
       " 233]"
      ]
     },
     "execution_count": 2,
     "metadata": {},
     "output_type": "execute_result"
    }
   ],
   "source": [
    "A = [3363,4833,290,3381,4227,1711,1253,2984,2212,874,2358,2049,2846,2543,1557,1786,4189,1254,2803,62,3708,1679,228,1404,1200,4766,1761,1439,1796,4735,3169,3106,3578,1940,2072,3254,7,961,1672,1197,3187,1893,4377,2841,2072,2011,3509,2091,3311,233]\n",
    "ans = Solution()\n",
    "ans.sortArrayByParity(A)"
   ]
  }
 ],
 "metadata": {
  "kernelspec": {
   "display_name": "Python 3",
   "language": "python",
   "name": "python3"
  },
  "language_info": {
   "codemirror_mode": {
    "name": "ipython",
    "version": 3
   },
   "file_extension": ".py",
   "mimetype": "text/x-python",
   "name": "python",
   "nbconvert_exporter": "python",
   "pygments_lexer": "ipython3",
   "version": "3.7.3"
  }
 },
 "nbformat": 4,
 "nbformat_minor": 2
}
