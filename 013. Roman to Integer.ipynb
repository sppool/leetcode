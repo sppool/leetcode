{
 "cells": [
  {
   "cell_type": "markdown",
   "metadata": {},
   "source": [
    "### Roman to Integer"
   ]
  },
  {
   "cell_type": "raw",
   "metadata": {},
   "source": [
    "Roman numerals are represented by seven different symbols: I, V, X, L, C, D and M.\n",
    "Symbol       Value\n",
    "I             1\n",
    "V             5\n",
    "X             10\n",
    "L             50\n",
    "C             100\n",
    "D             500\n",
    "M             1000\n",
    "For example, two is written as II in Roman numeral, just two one's added together.\n",
    "Twelve is written as, XII, which is simply X + II. The number twenty seven is written as XXVII, which is XX + V + II.\n",
    "\n",
    "Roman numerals are usually written largest to smallest from left to right. However,\n",
    "the numeral for four is not IIII. Instead, the number four is written as IV. Because the one is before the five\n",
    "we subtract it making four. The same principle applies to the number nine, which is written as IX. There are six\n",
    "instances where subtraction is used:\n",
    "1. I can be placed before V (5) and X (10) to make 4 and 9. \n",
    "2. X can be placed before L (50) and C (100) to make 40 and 90. \n",
    "3. C can be placed before D (500) and M (1000) to make 400 and 900.\n",
    "Given a roman numeral, convert it to an integer. Input is guaranteed to be within the range from 1 to 3999.\n",
    "\n",
    "Example 1:\n",
    "Input: \"III\"\n",
    "Output: 3\n",
    "    \n",
    "Example 2:\n",
    "Input: \"IV\"\n",
    "Output: 4\n",
    "    \n",
    "Example 3:\n",
    "Input: \"IX\"\n",
    "Output: 9\n",
    "    \n",
    "Example 4:\n",
    "Input: \"LVIII\"\n",
    "Output: 58\n",
    "Explanation: L = 50, V= 5, III = 3.\n",
    "    \n",
    "Example 5:\n",
    "Input: \"MCMXCIV\"\n",
    "Output: 1994\n",
    "Explanation: M = 1000, CM = 900, XC = 90 and IV = 4."
   ]
  },
  {
   "cell_type": "code",
   "execution_count": 1,
   "metadata": {},
   "outputs": [],
   "source": [
    "class Solution:\n",
    "    def romanToInt(self, s): #34.79%\n",
    "        \"\"\"\n",
    "        :type s: str\n",
    "        :rtype: int\n",
    "        \"\"\"\n",
    "        dic = {'I':1,\n",
    "               'V':5,\n",
    "               'X':10,\n",
    "               'L':50,\n",
    "               'C':100,\n",
    "               'D':500,\n",
    "               'M':1000}\n",
    "        lst = []\n",
    "        for i_ in s: # 數字小的排在數字大的旁邊就是負(-)\n",
    "            lst.append(dic[i_])\n",
    "        lst2 = []\n",
    "        for i_ in range(len(lst)-1):\n",
    "            if lst[i_] >= lst[i_+1]:\n",
    "                lst2.append(1)\n",
    "            else:\n",
    "                lst2.append(-1)\n",
    "        lst2.append(1)\n",
    "        ans = 0\n",
    "        for i_ in range(len(lst)):\n",
    "            ans += (lst[i_] * lst2[i_])\n",
    "        return ans"
   ]
  },
  {
   "cell_type": "code",
   "execution_count": 2,
   "metadata": {},
   "outputs": [
    {
     "data": {
      "text/plain": [
       "1994"
      ]
     },
     "execution_count": 2,
     "metadata": {},
     "output_type": "execute_result"
    }
   ],
   "source": [
    "s = \"MCMXCIV\"\n",
    "ans = Solution()\n",
    "ans.romanToInt(s)"
   ]
  },
  {
   "cell_type": "code",
   "execution_count": 3,
   "metadata": {},
   "outputs": [
    {
     "data": {
      "text/plain": [
       "3"
      ]
     },
     "execution_count": 3,
     "metadata": {},
     "output_type": "execute_result"
    }
   ],
   "source": [
    "# Example 1:\n",
    "s = \"III\"\n",
    "ans.romanToInt(s)"
   ]
  },
  {
   "cell_type": "code",
   "execution_count": 4,
   "metadata": {},
   "outputs": [
    {
     "data": {
      "text/plain": [
       "4"
      ]
     },
     "execution_count": 4,
     "metadata": {},
     "output_type": "execute_result"
    }
   ],
   "source": [
    "# Example 2:\n",
    "s = \"IV\"\n",
    "ans.romanToInt(s)"
   ]
  },
  {
   "cell_type": "code",
   "execution_count": 5,
   "metadata": {},
   "outputs": [
    {
     "data": {
      "text/plain": [
       "9"
      ]
     },
     "execution_count": 5,
     "metadata": {},
     "output_type": "execute_result"
    }
   ],
   "source": [
    "# Example 3:\n",
    "s = \"IX\"\n",
    "ans.romanToInt(s)"
   ]
  },
  {
   "cell_type": "code",
   "execution_count": 6,
   "metadata": {},
   "outputs": [
    {
     "data": {
      "text/plain": [
       "58"
      ]
     },
     "execution_count": 6,
     "metadata": {},
     "output_type": "execute_result"
    }
   ],
   "source": [
    "# Example 4:\n",
    "s = \"LVIII\"\n",
    "ans.romanToInt(s)\n",
    "   "
   ]
  },
  {
   "cell_type": "code",
   "execution_count": 7,
   "metadata": {},
   "outputs": [
    {
     "data": {
      "text/plain": [
       "1994"
      ]
     },
     "execution_count": 7,
     "metadata": {},
     "output_type": "execute_result"
    }
   ],
   "source": [
    "# Example 5:\n",
    "s = \"MCMXCIV\"\n",
    "ans.romanToInt(s)"
   ]
  }
 ],
 "metadata": {
  "kernelspec": {
   "display_name": "Python 3",
   "language": "python",
   "name": "python3"
  },
  "language_info": {
   "codemirror_mode": {
    "name": "ipython",
    "version": 3
   },
   "file_extension": ".py",
   "mimetype": "text/x-python",
   "name": "python",
   "nbconvert_exporter": "python",
   "pygments_lexer": "ipython3",
   "version": "3.7.3"
  }
 },
 "nbformat": 4,
 "nbformat_minor": 2
}
