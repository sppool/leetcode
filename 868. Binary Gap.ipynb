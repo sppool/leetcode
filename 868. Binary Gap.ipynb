{
 "cells": [
  {
   "cell_type": "markdown",
   "metadata": {},
   "source": [
    "### Binary Gap"
   ]
  },
  {
   "cell_type": "raw",
   "metadata": {},
   "source": [
    "Given a positive integer N, find and return the longest distance between two consecutive 1's in the binary representation of N.\n",
    "If there aren't two consecutive 1's, return 0.\n",
    "Example 1:\n",
    "Input: 22\n",
    "Output: 2\n",
    "Explanation: \n",
    "22 in binary is 0b10110.\n",
    "In the binary representation of 22, there are three ones, and two consecutive pairs of 1's.\n",
    "The first consecutive pair of 1's have distance 2.\n",
    "The second consecutive pair of 1's have distance 1.\n",
    "The answer is the largest of these two distances, which is 2.\n",
    "Example 2:\n",
    "Input: 5\n",
    "Output: 2\n",
    "Explanation: \n",
    "5 in binary is 0b101.\n",
    "Example 3:\n",
    "Input: 6\n",
    "Output: 1\n",
    "Explanation: \n",
    "6 in binary is 0b110.\n",
    "Example 4:\n",
    "Input: 8\n",
    "Output: 0\n",
    "Explanation: \n",
    "8 in binary is 0b1000.\n",
    "There aren't any consecutive pairs of 1's in the binary representation of 8, so we return 0. \n",
    "\n",
    "Note:\n",
    "1. 1 <= N <= 10^9"
   ]
  },
  {
   "cell_type": "code",
   "execution_count": 1,
   "metadata": {},
   "outputs": [],
   "source": [
    "class Solution:\n",
    "    def binaryGap(self, N):\n",
    "        \"\"\"\n",
    "        :type N: int\n",
    "        :rtype: int\n",
    "        \"\"\"\n",
    "        s = bin(N)[2:]\n",
    "        if s.count('1') <= 1:\n",
    "            return 0\n",
    "        lst = []\n",
    "        for ind, val in enumerate(s):\n",
    "            if val == '1':\n",
    "                lst.append(ind)\n",
    "        n = len(lst)\n",
    "        distance_lst =[]\n",
    "        for i in range(n-1):\n",
    "            distance_lst.append(lst[i+1]-lst[i])\n",
    "        return max(distance_lst)"
   ]
  },
  {
   "cell_type": "code",
   "execution_count": 2,
   "metadata": {},
   "outputs": [
    {
     "data": {
      "text/plain": [
       "2"
      ]
     },
     "execution_count": 2,
     "metadata": {},
     "output_type": "execute_result"
    }
   ],
   "source": [
    "N = 22\n",
    "ans = Solution()\n",
    "ans.binaryGap(N)"
   ]
  }
 ],
 "metadata": {
  "kernelspec": {
   "display_name": "Python 3",
   "language": "python",
   "name": "python3"
  },
  "language_info": {
   "codemirror_mode": {
    "name": "ipython",
    "version": 3
   },
   "file_extension": ".py",
   "mimetype": "text/x-python",
   "name": "python",
   "nbconvert_exporter": "python",
   "pygments_lexer": "ipython3",
   "version": "3.7.3"
  }
 },
 "nbformat": 4,
 "nbformat_minor": 2
}
